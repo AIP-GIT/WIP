{
  "nbformat": 4,
  "nbformat_minor": 0,
  "metadata": {
    "colab": {
      "name": "numpy1.ipynb",
      "provenance": [],
      "collapsed_sections": []
    },
    "kernelspec": {
      "name": "python3",
      "display_name": "Python 3"
    }
  },
  "cells": [
    {
      "cell_type": "markdown",
      "metadata": {
        "id": "_Z10Nr_Qc-cB"
      },
      "source": [
        "**np.lexsort**"
      ]
    },
    {
      "cell_type": "code",
      "metadata": {
        "id": "xPqKp7QnbYwo"
      },
      "source": [
        "Perform an indirect stable sort using a sequence of keys."
      ],
      "execution_count": null,
      "outputs": []
    },
    {
      "cell_type": "code",
      "metadata": {
        "colab": {
          "base_uri": "https://localhost:8080/"
        },
        "id": "ViQhn4GWbFEQ",
        "outputId": "4c987319-ca9c-4985-dff6-f8d88bd0a83a"
      },
      "source": [
        "import numpy as np\r\n",
        "surnames =    ('pathan','sayyed', 'pathan')    #Sort names: first by surname, then by name.\r\n",
        "first_names = ('bushra','neha', 'sana')\r\n",
        "a = np.lexsort((first_names, surnames))\r\n",
        "a"
      ],
      "execution_count": 1,
      "outputs": [
        {
          "output_type": "execute_result",
          "data": {
            "text/plain": [
              "array([0, 2, 1])"
            ]
          },
          "metadata": {
            "tags": []
          },
          "execution_count": 1
        }
      ]
    },
    {
      "cell_type": "code",
      "metadata": {
        "colab": {
          "base_uri": "https://localhost:8080/"
        },
        "id": "Dd8YmoVLe7Cb",
        "outputId": "c8309c34-aaff-4de4-872d-85a083d66cd2"
      },
      "source": [
        "[surnames[i] + \", \" + first_names[i] for i in a ]"
      ],
      "execution_count": null,
      "outputs": [
        {
          "output_type": "execute_result",
          "data": {
            "text/plain": [
              "['pathan, bushra', 'pathan, sana', 'sayyed, neha']"
            ]
          },
          "metadata": {
            "tags": []
          },
          "execution_count": 11
        }
      ]
    },
    {
      "cell_type": "markdown",
      "metadata": {
        "id": "0zwcI-uRf3cD"
      },
      "source": [
        "Given multiple sorting keys, which can be interpreted as columns in a spreadsheet, lexsort returns an array of integer indices that describes the sort order by multiple columns. \r\n"
      ]
    },
    {
      "cell_type": "code",
      "metadata": {
        "colab": {
          "base_uri": "https://localhost:8080/"
        },
        "id": "5ORzyT0vfgNE",
        "outputId": "71a52b03-4343-4f8c-e5ae-b5c55412e9c0"
      },
      "source": [
        "a = [1,5,1,4,3,4,4]           # First column\r\n",
        "b = [9,4,0,4,0,2,1]           # Second column\r\n",
        "ind = np.lexsort((b,a)) \r\n",
        "ind                           # Sort by a, then by b\r\n"
      ],
      "execution_count": null,
      "outputs": [
        {
          "output_type": "execute_result",
          "data": {
            "text/plain": [
              "array([2, 0, 4, 6, 5, 3, 1])"
            ]
          },
          "metadata": {
            "tags": []
          },
          "execution_count": 14
        }
      ]
    },
    {
      "cell_type": "code",
      "metadata": {
        "colab": {
          "base_uri": "https://localhost:8080/"
        },
        "id": "JRY0VcZEiON3",
        "outputId": "fbf626b1-a26e-496e-ba5f-b97fe0de36ac"
      },
      "source": [
        "[(a[i],b[i]) for i in ind]"
      ],
      "execution_count": null,
      "outputs": [
        {
          "output_type": "execute_result",
          "data": {
            "text/plain": [
              "[(1, 0), (1, 9), (3, 0), (4, 1), (4, 2), (4, 4), (5, 4)]"
            ]
          },
          "metadata": {
            "tags": []
          },
          "execution_count": 15
        }
      ]
    },
    {
      "cell_type": "markdown",
      "metadata": {
        "id": "qfYzZQa_cweu"
      },
      "source": [
        "sorting is first according to the elements of a. Secondary sorting is according to the elements of b.\r\n",
        "\r\n",
        "\r\n"
      ]
    },
    {
      "cell_type": "markdown",
      "metadata": {
        "id": "Ld_8IlavlHHY"
      },
      "source": [
        "**Structured arrays are sorted lexically by argsort.**"
      ]
    },
    {
      "cell_type": "code",
      "metadata": {
        "colab": {
          "base_uri": "https://localhost:8080/"
        },
        "id": "jdDmMhW-jTZr",
        "outputId": "3ec1a282-23e9-4b5e-97c5-4398bf0fc4ec"
      },
      "source": [
        "[(a[i],b[i]) for i in np.argsort(a)]     #normal argsort"
      ],
      "execution_count": null,
      "outputs": [
        {
          "output_type": "execute_result",
          "data": {
            "text/plain": [
              "[(1, 9), (1, 0), (3, 0), (4, 4), (4, 2), (4, 1), (5, 4)]"
            ]
          },
          "metadata": {
            "tags": []
          },
          "execution_count": 16
        }
      ]
    },
    {
      "cell_type": "code",
      "metadata": {
        "colab": {
          "base_uri": "https://localhost:8080/"
        },
        "id": "swpRvBxqbfjl",
        "outputId": "cf3a9d19-5b5a-41ed-90c0-89762986e434"
      },
      "source": [
        "a = np.array([(1,9), (5,4), (1,0), (4,4), (3,0), (4,2), (4,1)],dtype=np.dtype([('x', int), ('y', int)]))\r\n",
        "np.argsort(a)                               # or np.argsort(a, order=('x', 'y'))"
      ],
      "execution_count": null,
      "outputs": [
        {
          "output_type": "execute_result",
          "data": {
            "text/plain": [
              "array([2, 0, 4, 6, 5, 3, 1])"
            ]
          },
          "metadata": {
            "tags": []
          },
          "execution_count": 21
        }
      ]
    },
    {
      "cell_type": "markdown",
      "metadata": {
        "id": "azziYWDplapL"
      },
      "source": [
        "**np.searchsorted**"
      ]
    },
    {
      "cell_type": "markdown",
      "metadata": {
        "id": "wQoFC8tGn6ST"
      },
      "source": [
        "Find indices where elements should be inserted to maintain order.\r\n",
        "\r\n",
        "Find the indices into a sorted array a such that, if the corresponding elements in v were inserted before the indices, the order of a would be preserved."
      ]
    },
    {
      "cell_type": "code",
      "metadata": {
        "colab": {
          "base_uri": "https://localhost:8080/"
        },
        "id": "ddH3uGz3mbm8",
        "outputId": "a5432258-a0ab-492c-fda4-9466d7ca975e"
      },
      "source": [
        "np.searchsorted([1,2,3,4,5], 4)"
      ],
      "execution_count": null,
      "outputs": [
        {
          "output_type": "execute_result",
          "data": {
            "text/plain": [
              "3"
            ]
          },
          "metadata": {
            "tags": []
          },
          "execution_count": 31
        }
      ]
    },
    {
      "cell_type": "code",
      "metadata": {
        "colab": {
          "base_uri": "https://localhost:8080/"
        },
        "id": "Eoyc8sdxmbvO",
        "outputId": "7bc7bab9-df7a-4152-bffd-cccb831c2456"
      },
      "source": [
        "np.searchsorted([1,2,3,4,5], 2, side='right')"
      ],
      "execution_count": null,
      "outputs": [
        {
          "output_type": "execute_result",
          "data": {
            "text/plain": [
              "2"
            ]
          },
          "metadata": {
            "tags": []
          },
          "execution_count": 33
        }
      ]
    },
    {
      "cell_type": "code",
      "metadata": {
        "colab": {
          "base_uri": "https://localhost:8080/"
        },
        "id": "pM7TzcDLmcCS",
        "outputId": "8e5e60d2-909d-4cee-ba56-d62057208dc4"
      },
      "source": [
        "np.searchsorted([1,2,3,4,5], [-10, 10, 2, 3])"
      ],
      "execution_count": null,
      "outputs": [
        {
          "output_type": "execute_result",
          "data": {
            "text/plain": [
              "array([0, 5, 1, 2])"
            ]
          },
          "metadata": {
            "tags": []
          },
          "execution_count": 35
        }
      ]
    },
    {
      "cell_type": "markdown",
      "metadata": {
        "id": "8s81C_rzptFm"
      },
      "source": [
        "**np.partition**"
      ]
    },
    {
      "cell_type": "code",
      "metadata": {
        "colab": {
          "base_uri": "https://localhost:8080/"
        },
        "id": "fqkqRtOspNT4",
        "outputId": "5ec38199-7e51-4321-c0ca-9b44c4d1a00c"
      },
      "source": [
        "a = np.array([3, 4, 2, 1])\r\n",
        "np.partition(a, 3)\r\n"
      ],
      "execution_count": null,
      "outputs": [
        {
          "output_type": "execute_result",
          "data": {
            "text/plain": [
              "array([2, 1, 3, 4])"
            ]
          },
          "metadata": {
            "tags": []
          },
          "execution_count": 38
        }
      ]
    },
    {
      "cell_type": "markdown",
      "metadata": {
        "id": "b8qdhnZvqT2z"
      },
      "source": [
        "Creates a copy of the array with its elements rearranged in such a way that the value of the element in k-th position is in the position it would be in a sorted array."
      ]
    },
    {
      "cell_type": "code",
      "metadata": {
        "colab": {
          "base_uri": "https://localhost:8080/"
        },
        "id": "oKXMNqMYpOAs",
        "outputId": "6321f472-7e1f-4dd9-f79b-b998ea14e7bb"
      },
      "source": [
        "np.partition(a, (1, 3))"
      ],
      "execution_count": null,
      "outputs": [
        {
          "output_type": "execute_result",
          "data": {
            "text/plain": [
              "array([1, 2, 3, 4])"
            ]
          },
          "metadata": {
            "tags": []
          },
          "execution_count": 39
        }
      ]
    },
    {
      "cell_type": "markdown",
      "metadata": {
        "id": "WJkm1vbyqXja"
      },
      "source": [
        "All elements smaller than the k-th element are moved before this element and all equal or greater are moved behind it. The ordering of the elements in the two partitions is undefined."
      ]
    },
    {
      "cell_type": "markdown",
      "metadata": {
        "id": "MTvcJiqsqedt"
      },
      "source": [
        "**np.concatenate**"
      ]
    },
    {
      "cell_type": "markdown",
      "metadata": {
        "id": "a5szX6uTsLgN"
      },
      "source": [
        "Join a sequence of arrays along an existing axis."
      ]
    },
    {
      "cell_type": "code",
      "metadata": {
        "colab": {
          "base_uri": "https://localhost:8080/"
        },
        "id": "KcGzhAverfnc",
        "outputId": "0b428316-725e-4a1a-a875-4b803c8fb0b9"
      },
      "source": [
        "a = np.array([[1, 2], [3, 4]])\r\n",
        "b = np.array([[5, 6]])\r\n",
        "np.concatenate((a, b), axis=0)"
      ],
      "execution_count": null,
      "outputs": [
        {
          "output_type": "execute_result",
          "data": {
            "text/plain": [
              "array([[1, 2],\n",
              "       [3, 4],\n",
              "       [5, 6]])"
            ]
          },
          "metadata": {
            "tags": []
          },
          "execution_count": 40
        }
      ]
    },
    {
      "cell_type": "code",
      "metadata": {
        "colab": {
          "base_uri": "https://localhost:8080/"
        },
        "id": "Dt_w052orpgs",
        "outputId": "8f00791f-e0b9-459d-e729-528a4fd014c0"
      },
      "source": [
        "np.concatenate((a, b.T), axis=1)"
      ],
      "execution_count": null,
      "outputs": [
        {
          "output_type": "execute_result",
          "data": {
            "text/plain": [
              "array([[1, 2, 5],\n",
              "       [3, 4, 6]])"
            ]
          },
          "metadata": {
            "tags": []
          },
          "execution_count": 43
        }
      ]
    },
    {
      "cell_type": "code",
      "metadata": {
        "colab": {
          "base_uri": "https://localhost:8080/"
        },
        "id": "tSzy46BetKaW",
        "outputId": "1c324eb5-af0e-4128-b87c-b68e3704b18a"
      },
      "source": [
        "np.concatenate((a, b), axis=None)"
      ],
      "execution_count": null,
      "outputs": [
        {
          "output_type": "execute_result",
          "data": {
            "text/plain": [
              "array([1, 2, 3, 4, 5, 6])"
            ]
          },
          "metadata": {
            "tags": []
          },
          "execution_count": 44
        }
      ]
    },
    {
      "cell_type": "markdown",
      "metadata": {
        "id": "gAZPhTYgtNmw"
      },
      "source": [
        "**np.ndarray.ndim**"
      ]
    },
    {
      "cell_type": "markdown",
      "metadata": {
        "id": "oR3oUjqbuDCy"
      },
      "source": [
        "Number of array dimensions."
      ]
    },
    {
      "cell_type": "code",
      "metadata": {
        "colab": {
          "base_uri": "https://localhost:8080/"
        },
        "id": "diZgS1GFtef1",
        "outputId": "9bdef71e-1335-41cf-a438-51b15fb1d1dd"
      },
      "source": [
        "x = np.array([1, 2, 3])\r\n",
        "x.ndim"
      ],
      "execution_count": null,
      "outputs": [
        {
          "output_type": "execute_result",
          "data": {
            "text/plain": [
              "1"
            ]
          },
          "metadata": {
            "tags": []
          },
          "execution_count": 45
        }
      ]
    },
    {
      "cell_type": "code",
      "metadata": {
        "colab": {
          "base_uri": "https://localhost:8080/"
        },
        "id": "J5CoC6DwuIFe",
        "outputId": "61296dae-f96d-4ee9-f9ce-3d2f4216a90f"
      },
      "source": [
        "y = np.zeros((2, 3, 4))\r\n",
        "y.ndim"
      ],
      "execution_count": null,
      "outputs": [
        {
          "output_type": "execute_result",
          "data": {
            "text/plain": [
              "3"
            ]
          },
          "metadata": {
            "tags": []
          },
          "execution_count": 53
        }
      ]
    },
    {
      "cell_type": "markdown",
      "metadata": {
        "id": "eVqSFjp-uhX9"
      },
      "source": [
        "**np.ndarray.size**"
      ]
    },
    {
      "cell_type": "markdown",
      "metadata": {
        "id": "uHVT5xR-wwFn"
      },
      "source": [
        "Number of elements in the array."
      ]
    },
    {
      "cell_type": "markdown",
      "metadata": {
        "id": "5vACNMMoxZH6"
      },
      "source": [
        "Equal to np.prod(a.shape), i.e., the product of the array’s dimensions."
      ]
    },
    {
      "cell_type": "code",
      "metadata": {
        "colab": {
          "base_uri": "https://localhost:8080/"
        },
        "id": "NQUacVkavfTg",
        "outputId": "da833a33-755d-4cc5-e19d-5becdc90d6eb"
      },
      "source": [
        "x = np.zeros((3, 5, 2), dtype=np.complex128)\r\n",
        "x.size"
      ],
      "execution_count": null,
      "outputs": [
        {
          "output_type": "execute_result",
          "data": {
            "text/plain": [
              "30"
            ]
          },
          "metadata": {
            "tags": []
          },
          "execution_count": 48
        }
      ]
    },
    {
      "cell_type": "code",
      "metadata": {
        "colab": {
          "base_uri": "https://localhost:8080/"
        },
        "id": "GO7iT4a-wnqI",
        "outputId": "ff308741-0425-4fb4-9693-4296a3987022"
      },
      "source": [
        "np.prod(x.shape)    #np.prod(a.shape), which returns an instance of np.int"
      ],
      "execution_count": null,
      "outputs": [
        {
          "output_type": "execute_result",
          "data": {
            "text/plain": [
              "30"
            ]
          },
          "metadata": {
            "tags": []
          },
          "execution_count": 49
        }
      ]
    },
    {
      "cell_type": "markdown",
      "metadata": {
        "id": "pAoI21n8xggj"
      },
      "source": [
        "**np.ndarray.shape**"
      ]
    },
    {
      "cell_type": "markdown",
      "metadata": {
        "id": "BUkye1Iex7na"
      },
      "source": [
        "Tuple of array dimensions."
      ]
    },
    {
      "cell_type": "code",
      "metadata": {
        "colab": {
          "base_uri": "https://localhost:8080/"
        },
        "id": "iLivgWtwxpUm",
        "outputId": "217647bc-caee-40d3-933d-a0a235a7bb2d"
      },
      "source": [
        "x = np.array([1, 2, 3, 4])\r\n",
        "x.shape"
      ],
      "execution_count": null,
      "outputs": [
        {
          "output_type": "execute_result",
          "data": {
            "text/plain": [
              "(4,)"
            ]
          },
          "metadata": {
            "tags": []
          },
          "execution_count": 50
        }
      ]
    },
    {
      "cell_type": "code",
      "metadata": {
        "colab": {
          "base_uri": "https://localhost:8080/"
        },
        "id": "qmXAwEYRyGlm",
        "outputId": "d81c624a-0e9e-4f04-bf57-16683a7b5f40"
      },
      "source": [
        "y = np.zeros((2, 3, 4))\r\n",
        "y.shape"
      ],
      "execution_count": null,
      "outputs": [
        {
          "output_type": "execute_result",
          "data": {
            "text/plain": [
              "(2, 3, 4)"
            ]
          },
          "metadata": {
            "tags": []
          },
          "execution_count": 51
        }
      ]
    },
    {
      "cell_type": "code",
      "metadata": {
        "colab": {
          "base_uri": "https://localhost:8080/"
        },
        "id": "_8umKb9SyMmV",
        "outputId": "e25e4eff-ab96-4dbc-9356-a8c7665ce574"
      },
      "source": [
        "y.shape = (3, 8)\r\n",
        "y"
      ],
      "execution_count": null,
      "outputs": [
        {
          "output_type": "execute_result",
          "data": {
            "text/plain": [
              "array([[0., 0., 0., 0., 0., 0., 0., 0.],\n",
              "       [0., 0., 0., 0., 0., 0., 0., 0.],\n",
              "       [0., 0., 0., 0., 0., 0., 0., 0.]])"
            ]
          },
          "metadata": {
            "tags": []
          },
          "execution_count": 52
        }
      ]
    },
    {
      "cell_type": "code",
      "metadata": {
        "colab": {
          "base_uri": "https://localhost:8080/"
        },
        "id": "WxO-CFVfpOgO",
        "outputId": "9d8afde7-5c15-480b-8b01-78ea99a9a0f9"
      },
      "source": [
        "a = np.random.randint(0,10,size=(3,2))   #random\r\n",
        "a"
      ],
      "execution_count": null,
      "outputs": [
        {
          "output_type": "execute_result",
          "data": {
            "text/plain": [
              "array([[8, 3],\n",
              "       [5, 0],\n",
              "       [3, 4]])"
            ]
          },
          "metadata": {
            "tags": []
          },
          "execution_count": 3
        }
      ]
    },
    {
      "cell_type": "markdown",
      "metadata": {
        "id": "iumZKAgbpN37"
      },
      "source": [
        "Generate a 3 * 2 array of ints between 0 and 9, inclusive:"
      ]
    },
    {
      "cell_type": "code",
      "metadata": {
        "colab": {
          "base_uri": "https://localhost:8080/"
        },
        "id": "uCIAYt6CqVMa",
        "outputId": "ed02b20a-e9b9-4faa-f508-c450e1493078"
      },
      "source": [
        "a[a>5]"
      ],
      "execution_count": null,
      "outputs": [
        {
          "output_type": "execute_result",
          "data": {
            "text/plain": [
              "array([8])"
            ]
          },
          "metadata": {
            "tags": []
          },
          "execution_count": 6
        }
      ]
    },
    {
      "cell_type": "code",
      "metadata": {
        "colab": {
          "base_uri": "https://localhost:8080/"
        },
        "id": "vFO_F9Plqx-s",
        "outputId": "d792d402-83fe-4417-9da6-06446f201fae"
      },
      "source": [
        "a>5"
      ],
      "execution_count": null,
      "outputs": [
        {
          "output_type": "execute_result",
          "data": {
            "text/plain": [
              "array([[ True, False],\n",
              "       [False, False],\n",
              "       [False, False]])"
            ]
          },
          "metadata": {
            "tags": []
          },
          "execution_count": 7
        }
      ]
    },
    {
      "cell_type": "markdown",
      "metadata": {
        "id": "iSylgnaTriaS"
      },
      "source": [
        "if the value is greater than 5 then it gives true instead value, other it gives false in above array."
      ]
    },
    {
      "cell_type": "code",
      "metadata": {
        "colab": {
          "base_uri": "https://localhost:8080/"
        },
        "id": "x-JjrMZbrcNr",
        "outputId": "a3d3d953-e75e-4916-f90b-32ebcbb6f4e7"
      },
      "source": [
        "a[(a>5) & (a%2==0)]"
      ],
      "execution_count": null,
      "outputs": [
        {
          "output_type": "execute_result",
          "data": {
            "text/plain": [
              "array([8])"
            ]
          },
          "metadata": {
            "tags": []
          },
          "execution_count": 8
        }
      ]
    },
    {
      "cell_type": "code",
      "metadata": {
        "colab": {
          "base_uri": "https://localhost:8080/"
        },
        "id": "C5G4RGw3sEHA",
        "outputId": "30fce7ae-4018-4c2c-bff1-1458bf5ae97e"
      },
      "source": [
        "a[(a<5) | (a%2==0)]"
      ],
      "execution_count": null,
      "outputs": [
        {
          "output_type": "execute_result",
          "data": {
            "text/plain": [
              "array([8, 3, 0, 3, 4])"
            ]
          },
          "metadata": {
            "tags": []
          },
          "execution_count": 9
        }
      ]
    },
    {
      "cell_type": "code",
      "metadata": {
        "colab": {
          "base_uri": "https://localhost:8080/"
        },
        "id": "gesb529ksi0n",
        "outputId": "82323cfc-dc30-4f69-d29f-762e80bc21af"
      },
      "source": [
        "arr = np.arange(1,13)    #arrnge the element from 1 to 12 in 3*4 array\r\n",
        "arr = arr.reshape(3,4)   #generate 3*4 array\r\n",
        "arr"
      ],
      "execution_count": null,
      "outputs": [
        {
          "output_type": "execute_result",
          "data": {
            "text/plain": [
              "array([[ 1,  2,  3,  4],\n",
              "       [ 5,  6,  7,  8],\n",
              "       [ 9, 10, 11, 12]])"
            ]
          },
          "metadata": {
            "tags": []
          },
          "execution_count": 10
        }
      ]
    },
    {
      "cell_type": "code",
      "metadata": {
        "colab": {
          "base_uri": "https://localhost:8080/"
        },
        "id": "qSKm-MqCtGsC",
        "outputId": "6a48a2de-95e4-4648-bc77-2ac83e98a512"
      },
      "source": [
        "b = np.nonzero(a<5)      #this gives row index and column index\r\n",
        "b"
      ],
      "execution_count": null,
      "outputs": [
        {
          "output_type": "execute_result",
          "data": {
            "text/plain": [
              "(array([0, 1, 2, 2]), array([1, 1, 0, 1]))"
            ]
          },
          "metadata": {
            "tags": []
          },
          "execution_count": 11
        }
      ]
    },
    {
      "cell_type": "code",
      "metadata": {
        "colab": {
          "base_uri": "https://localhost:8080/"
        },
        "id": "WbzePnJBtLte",
        "outputId": "01c70e51-e803-4db0-d1ae-a9fc2327e8d6"
      },
      "source": [
        "list(zip(b[0],b[1]))     #list of co-ordinates"
      ],
      "execution_count": null,
      "outputs": [
        {
          "output_type": "execute_result",
          "data": {
            "text/plain": [
              "[(0, 1), (1, 1), (2, 0), (2, 1)]"
            ]
          },
          "metadata": {
            "tags": []
          },
          "execution_count": 12
        }
      ]
    },
    {
      "cell_type": "code",
      "metadata": {
        "colab": {
          "base_uri": "https://localhost:8080/"
        },
        "id": "wh3e2zh1t-Cm",
        "outputId": "c5ea1954-fdc0-4bd2-fe5a-9b68787155ce"
      },
      "source": [
        "a[b]                      #nonzero can be also used to directly fetch the elements"
      ],
      "execution_count": null,
      "outputs": [
        {
          "output_type": "execute_result",
          "data": {
            "text/plain": [
              "array([3, 0, 3, 4])"
            ]
          },
          "metadata": {
            "tags": []
          },
          "execution_count": 13
        }
      ]
    },
    {
      "cell_type": "markdown",
      "metadata": {
        "id": "JDbl9KWVuzQV"
      },
      "source": [
        "**slicing**"
      ]
    },
    {
      "cell_type": "markdown",
      "metadata": {
        "id": "zG3lTwRSvgZo"
      },
      "source": [
        "Slicing in python means taking elements from one given index to another given index."
      ]
    },
    {
      "cell_type": "code",
      "metadata": {
        "colab": {
          "base_uri": "https://localhost:8080/"
        },
        "id": "tXm4-Imru8gF",
        "outputId": "602dd58c-a6b0-4a25-f0e0-8a1b4db4e10b"
      },
      "source": [
        "arr = np.array([1, 2, 3, 4, 5, 6, 7]) \r\n",
        "(arr[1:5])                       #[start:end]."
      ],
      "execution_count": null,
      "outputs": [
        {
          "output_type": "stream",
          "text": [
            "[2 3 4 5]\n"
          ],
          "name": "stdout"
        }
      ]
    },
    {
      "cell_type": "markdown",
      "metadata": {
        "id": "HIrJF_2swLR5"
      },
      "source": [
        "Slice elements from index 1 to index 5 from the above array"
      ]
    },
    {
      "cell_type": "code",
      "metadata": {
        "id": "21hMFhWswAWg"
      },
      "source": [
        "arr = np.array([1, 2, 3, 4, 5, 6, 7])\r\n",
        "(arr[4:])"
      ],
      "execution_count": null,
      "outputs": []
    },
    {
      "cell_type": "markdown",
      "metadata": {
        "id": "IYUL8rtOwW1y"
      },
      "source": [
        "Slice elements from index 4 to the end of the array."
      ]
    },
    {
      "cell_type": "code",
      "metadata": {
        "colab": {
          "base_uri": "https://localhost:8080/"
        },
        "id": "V4AHJ-jSwipo",
        "outputId": "8dbfe16b-1805-4363-da41-7ecc4ac06a3b"
      },
      "source": [
        "arr = np.array([1, 2, 3, 4, 5, 6, 7])\r\n",
        "(arr[:4])"
      ],
      "execution_count": null,
      "outputs": [
        {
          "output_type": "stream",
          "text": [
            "[1 2 3 4]\n"
          ],
          "name": "stdout"
        }
      ]
    },
    {
      "cell_type": "markdown",
      "metadata": {
        "id": "I1vrK50xwx8r"
      },
      "source": [
        "Slice elements from the beginning to index 4 (not included"
      ]
    },
    {
      "cell_type": "markdown",
      "metadata": {
        "id": "dWRLhNPnxFOF"
      },
      "source": [
        "**Negative Slicing**"
      ]
    },
    {
      "cell_type": "code",
      "metadata": {
        "colab": {
          "base_uri": "https://localhost:8080/"
        },
        "id": "eR26nJ1LxMuN",
        "outputId": "b2e780ec-c672-4ceb-f0ad-f58412484896"
      },
      "source": [
        "arr = np.array([1, 2, 3, 4, 5, 6, 7])\r\n",
        "(arr[-3:-1])"
      ],
      "execution_count": null,
      "outputs": [
        {
          "output_type": "stream",
          "text": [
            "[5 6]\n"
          ],
          "name": "stdout"
        }
      ]
    },
    {
      "cell_type": "markdown",
      "metadata": {
        "id": "KSl-8lebxdga"
      },
      "source": [
        "Slice from the index 3 from the end to index 1 from the end."
      ]
    },
    {
      "cell_type": "code",
      "metadata": {
        "colab": {
          "base_uri": "https://localhost:8080/"
        },
        "id": "G_SEIwV-xjnL",
        "outputId": "b840678a-d212-4014-8c2e-2917981b265b"
      },
      "source": [
        "arr = np.array([1, 2, 3, 4, 5, 6, 7])      #Return every other element from index 1 to index 5.\r\n",
        "(arr[1:5:2])                          #[start:end:step]."
      ],
      "execution_count": null,
      "outputs": [
        {
          "output_type": "stream",
          "text": [
            "[2 4]\n"
          ],
          "name": "stdout"
        }
      ]
    },
    {
      "cell_type": "code",
      "metadata": {
        "colab": {
          "base_uri": "https://localhost:8080/"
        },
        "id": "ZBaLhG81x21K",
        "outputId": "72bf1db6-4139-488d-87b6-a1c1baa5f01c"
      },
      "source": [
        "arr = np.array([1, 2, 3, 4, 5, 6, 7])       #Return every other element from the entire array.\r\n",
        "(arr[::2])"
      ],
      "execution_count": null,
      "outputs": [
        {
          "output_type": "stream",
          "text": [
            "[1 3 5 7]\n"
          ],
          "name": "stdout"
        }
      ]
    },
    {
      "cell_type": "code",
      "metadata": {
        "colab": {
          "base_uri": "https://localhost:8080/"
        },
        "id": "7Xa1xAc4yxfp",
        "outputId": "0a4036e7-93b7-455d-9591-617481d6281b"
      },
      "source": [
        "arr = np.array([1, 2, 3, 4, 5, 6, 7])       #Return every other element from the entire array.\r\n",
        "(arr[::2])                               \r\n"
      ],
      "execution_count": null,
      "outputs": [
        {
          "output_type": "execute_result",
          "data": {
            "text/plain": [
              "array([1, 3, 5, 7])"
            ]
          },
          "metadata": {
            "tags": []
          },
          "execution_count": 20
        }
      ]
    },
    {
      "cell_type": "markdown",
      "metadata": {
        "id": "-omUCRk-zVjV"
      },
      "source": [
        "**Slicing 2-D Arrays**"
      ]
    },
    {
      "cell_type": "code",
      "metadata": {
        "colab": {
          "base_uri": "https://localhost:8080/"
        },
        "id": "cj3dSSuWzTYH",
        "outputId": "dbb267fd-d445-460e-8cbc-cec63bc85e8b"
      },
      "source": [
        "arr = np.array([[1, 2, 3, 4, 5], [6, 7, 8, 9, 10]])\r\n",
        "(arr[1, 1:4])                                #From the second element, slice elements from index 1 to index 4 (not included)\r\n"
      ],
      "execution_count": null,
      "outputs": [
        {
          "output_type": "execute_result",
          "data": {
            "text/plain": [
              "array([7, 8, 9])"
            ]
          },
          "metadata": {
            "tags": []
          },
          "execution_count": 21
        }
      ]
    },
    {
      "cell_type": "markdown",
      "metadata": {
        "id": "gQErvEuJzz_m"
      },
      "source": [
        "Note: Remember that second element has index 1."
      ]
    },
    {
      "cell_type": "code",
      "metadata": {
        "colab": {
          "base_uri": "https://localhost:8080/"
        },
        "id": "7yqiaqe5z4sr",
        "outputId": "7c68619d-c476-466b-9b5b-44e3ed97c036"
      },
      "source": [
        "arr = np.array([[1, 2, 3, 4, 5], [6, 7, 8, 9, 10]])\r\n",
        "(arr[0:2, 2])                                #From both elements, return index 2:"
      ],
      "execution_count": null,
      "outputs": [
        {
          "output_type": "execute_result",
          "data": {
            "text/plain": [
              "array([3, 8])"
            ]
          },
          "metadata": {
            "tags": []
          },
          "execution_count": 22
        }
      ]
    },
    {
      "cell_type": "markdown",
      "metadata": {
        "id": "MEEC_-yrdrJ6"
      },
      "source": [
        "**indexing**"
      ]
    },
    {
      "cell_type": "markdown",
      "metadata": {
        "id": "89kNnQsdelZY"
      },
      "source": [
        "Array indexing is the same as accessing an array element.\r\n",
        "\r\n",
        "You can access an array element by referring to its index number.\r\n",
        "\r\n",
        "The indexes in NumPy arrays start with 0, meaning that the first element has index 0, and the second has index 1 etc."
      ]
    },
    {
      "cell_type": "code",
      "metadata": {
        "colab": {
          "base_uri": "https://localhost:8080/"
        },
        "id": "K0vkQ941dz05",
        "outputId": "cdb81cb4-251b-4fc1-fd78-bb65601e9691"
      },
      "source": [
        "arr = np.array([1, 2, 3, 4])\r\n",
        "(arr[0])                    #Get the first element from the following array."
      ],
      "execution_count": 2,
      "outputs": [
        {
          "output_type": "execute_result",
          "data": {
            "text/plain": [
              "1"
            ]
          },
          "metadata": {
            "tags": []
          },
          "execution_count": 2
        }
      ]
    },
    {
      "cell_type": "code",
      "metadata": {
        "colab": {
          "base_uri": "https://localhost:8080/"
        },
        "id": "IUOn8ocpelBv",
        "outputId": "0d88f473-d99a-4b42-b9d3-67f26257ddec"
      },
      "source": [
        "arr = np.array([1, 2, 3, 4])\r\n",
        "(arr[2] + arr[3])           #Get third and fourth elements from the following array and add them."
      ],
      "execution_count": 3,
      "outputs": [
        {
          "output_type": "execute_result",
          "data": {
            "text/plain": [
              "7"
            ]
          },
          "metadata": {
            "tags": []
          },
          "execution_count": 3
        }
      ]
    },
    {
      "cell_type": "code",
      "metadata": {
        "colab": {
          "base_uri": "https://localhost:8080/"
        },
        "id": "7uQmx_iufY5c",
        "outputId": "a39df41c-4fd3-4d61-a9d0-83f83f8930f0"
      },
      "source": [
        "arr = np.array([[1,2,3,4,5], [6,7,8,9,10]])  \r\n",
        "(arr[0, 1])                 #Access the 2nd element on 1st dim"
      ],
      "execution_count": 5,
      "outputs": [
        {
          "output_type": "execute_result",
          "data": {
            "text/plain": [
              "2"
            ]
          },
          "metadata": {
            "tags": []
          },
          "execution_count": 5
        }
      ]
    },
    {
      "cell_type": "code",
      "metadata": {
        "colab": {
          "base_uri": "https://localhost:8080/"
        },
        "id": "epX5H6QSftK3",
        "outputId": "b490c6e9-619d-4c8a-bc89-e27b6dc60d9a"
      },
      "source": [
        "arr = np.array([[1,2,3,4,5], [6,7,8,9,10]])\r\n",
        "(arr[1, 4])                 #Access the 5th element on 2nd dim"
      ],
      "execution_count": 10,
      "outputs": [
        {
          "output_type": "execute_result",
          "data": {
            "text/plain": [
              "10"
            ]
          },
          "metadata": {
            "tags": []
          },
          "execution_count": 10
        }
      ]
    },
    {
      "cell_type": "code",
      "metadata": {
        "colab": {
          "base_uri": "https://localhost:8080/"
        },
        "id": "42uKdC9LgYN0",
        "outputId": "eb1ae2a6-701a-46b5-ccb6-fc52e49ad947"
      },
      "source": [
        "arr = np.array([[1,2,3,4,5], [6,7,8,9,10]])\r\n",
        "( arr[1, -1])                #Print the last element from the 2nd dim"
      ],
      "execution_count": 11,
      "outputs": [
        {
          "output_type": "execute_result",
          "data": {
            "text/plain": [
              "10"
            ]
          },
          "metadata": {
            "tags": []
          },
          "execution_count": 11
        }
      ]
    },
    {
      "cell_type": "markdown",
      "metadata": {
        "id": "4tJ3TZMdgrYL"
      },
      "source": [
        "**np.vstack()**"
      ]
    },
    {
      "cell_type": "markdown",
      "metadata": {
        "id": "RdFn__gig0vs"
      },
      "source": [
        "Stack arrays in sequence vertically (row wise)."
      ]
    },
    {
      "cell_type": "code",
      "metadata": {
        "colab": {
          "base_uri": "https://localhost:8080/"
        },
        "id": "yLYcLPX5he_Y",
        "outputId": "e73e9398-29ad-46c0-e26a-755de8f54150"
      },
      "source": [
        "a = np.array([1, 2, 3])\r\n",
        "b = np.array([2, 3, 4])\r\n",
        "np.vstack((a,b))"
      ],
      "execution_count": 12,
      "outputs": [
        {
          "output_type": "execute_result",
          "data": {
            "text/plain": [
              "array([[1, 2, 3],\n",
              "       [2, 3, 4]])"
            ]
          },
          "metadata": {
            "tags": []
          },
          "execution_count": 12
        }
      ]
    },
    {
      "cell_type": "code",
      "metadata": {
        "colab": {
          "base_uri": "https://localhost:8080/"
        },
        "id": "NaPAJC9BhrtF",
        "outputId": "930a0fd6-9933-4568-e79e-e4e2b950551b"
      },
      "source": [
        "a = np.array([[1], [2], [3]])\r\n",
        "b = np.array([[2], [3], [4]])\r\n",
        "np.vstack((a,b))"
      ],
      "execution_count": 13,
      "outputs": [
        {
          "output_type": "execute_result",
          "data": {
            "text/plain": [
              "array([[1],\n",
              "       [2],\n",
              "       [3],\n",
              "       [2],\n",
              "       [3],\n",
              "       [4]])"
            ]
          },
          "metadata": {
            "tags": []
          },
          "execution_count": 13
        }
      ]
    },
    {
      "cell_type": "markdown",
      "metadata": {
        "id": "BJatX6zAh4pV"
      },
      "source": [
        "**np.hstack()**"
      ]
    },
    {
      "cell_type": "markdown",
      "metadata": {
        "id": "A2dkjA9KiHCs"
      },
      "source": [
        "Stack arrays in sequence horizontally (column wise)."
      ]
    },
    {
      "cell_type": "code",
      "metadata": {
        "colab": {
          "base_uri": "https://localhost:8080/"
        },
        "id": "fc72o8kziGZX",
        "outputId": "e423f796-3dad-488b-a344-53dcd6f7b55b"
      },
      "source": [
        "a = np.array((1,2,3))\r\n",
        "b = np.array((2,3,4))\r\n",
        "np.hstack((a,b))"
      ],
      "execution_count": 14,
      "outputs": [
        {
          "output_type": "execute_result",
          "data": {
            "text/plain": [
              "array([1, 2, 3, 2, 3, 4])"
            ]
          },
          "metadata": {
            "tags": []
          },
          "execution_count": 14
        }
      ]
    },
    {
      "cell_type": "code",
      "metadata": {
        "colab": {
          "base_uri": "https://localhost:8080/"
        },
        "id": "bjokPaCGicxv",
        "outputId": "76a6e177-c748-40bd-fe69-65f30fe9ec21"
      },
      "source": [
        "a = np.array([[1],[2],[3]])\r\n",
        "b = np.array([[2],[3],[4]])\r\n",
        "np.hstack((a,b))"
      ],
      "execution_count": 15,
      "outputs": [
        {
          "output_type": "execute_result",
          "data": {
            "text/plain": [
              "array([[1, 2],\n",
              "       [2, 3],\n",
              "       [3, 4]])"
            ]
          },
          "metadata": {
            "tags": []
          },
          "execution_count": 15
        }
      ]
    },
    {
      "cell_type": "markdown",
      "metadata": {
        "id": "fyWnV3EWimex"
      },
      "source": [
        "**np.hsplit()**"
      ]
    },
    {
      "cell_type": "markdown",
      "metadata": {
        "id": "IjH74cmfiqIi"
      },
      "source": [
        "Split an array into multiple sub-arrays horizontally (column-wise)."
      ]
    },
    {
      "cell_type": "code",
      "metadata": {
        "colab": {
          "base_uri": "https://localhost:8080/"
        },
        "id": "h7srtnOViqhJ",
        "outputId": "21182426-6a30-478d-b2b0-51cc55175f0b"
      },
      "source": [
        "x = np.arange(16.0).reshape(4, 4)\r\n",
        "x"
      ],
      "execution_count": 16,
      "outputs": [
        {
          "output_type": "execute_result",
          "data": {
            "text/plain": [
              "array([[ 0.,  1.,  2.,  3.],\n",
              "       [ 4.,  5.,  6.,  7.],\n",
              "       [ 8.,  9., 10., 11.],\n",
              "       [12., 13., 14., 15.]])"
            ]
          },
          "metadata": {
            "tags": []
          },
          "execution_count": 16
        }
      ]
    },
    {
      "cell_type": "code",
      "metadata": {
        "colab": {
          "base_uri": "https://localhost:8080/"
        },
        "id": "SSKJldHvi-I-",
        "outputId": "95be37c1-b158-4a22-fb86-a624bc3ccf5e"
      },
      "source": [
        "np.hsplit(x, 2)"
      ],
      "execution_count": 17,
      "outputs": [
        {
          "output_type": "execute_result",
          "data": {
            "text/plain": [
              "[array([[ 0.,  1.],\n",
              "        [ 4.,  5.],\n",
              "        [ 8.,  9.],\n",
              "        [12., 13.]]), array([[ 2.,  3.],\n",
              "        [ 6.,  7.],\n",
              "        [10., 11.],\n",
              "        [14., 15.]])]"
            ]
          },
          "metadata": {
            "tags": []
          },
          "execution_count": 17
        }
      ]
    },
    {
      "cell_type": "code",
      "metadata": {
        "colab": {
          "base_uri": "https://localhost:8080/"
        },
        "id": "6pDyH_pTi-TZ",
        "outputId": "61cdc187-2aa6-429a-9d0c-422a663130c4"
      },
      "source": [
        "np.hsplit(x, np.array([3, 6]))"
      ],
      "execution_count": 18,
      "outputs": [
        {
          "output_type": "execute_result",
          "data": {
            "text/plain": [
              "[array([[ 0.,  1.,  2.],\n",
              "        [ 4.,  5.,  6.],\n",
              "        [ 8.,  9., 10.],\n",
              "        [12., 13., 14.]]), array([[ 3.],\n",
              "        [ 7.],\n",
              "        [11.],\n",
              "        [15.]]), array([], shape=(4, 0), dtype=float64)]"
            ]
          },
          "metadata": {
            "tags": []
          },
          "execution_count": 18
        }
      ]
    },
    {
      "cell_type": "code",
      "metadata": {
        "colab": {
          "base_uri": "https://localhost:8080/"
        },
        "id": "6sM1k-LhiqoE",
        "outputId": "2b562a31-3dc0-4989-ae02-303e080b0daa"
      },
      "source": [
        "x = np.arange(8.0).reshape(2, 2, 2)\r\n",
        "x"
      ],
      "execution_count": 19,
      "outputs": [
        {
          "output_type": "execute_result",
          "data": {
            "text/plain": [
              "array([[[0., 1.],\n",
              "        [2., 3.]],\n",
              "\n",
              "       [[4., 5.],\n",
              "        [6., 7.]]])"
            ]
          },
          "metadata": {
            "tags": []
          },
          "execution_count": 19
        }
      ]
    },
    {
      "cell_type": "code",
      "metadata": {
        "colab": {
          "base_uri": "https://localhost:8080/"
        },
        "id": "Kn8lcwk3jQAG",
        "outputId": "42ec703c-e4c9-4ae4-9fd0-340f206d0316"
      },
      "source": [
        "np.hsplit(x, 2)   #With a higher dimensional array the split is still along the second axis."
      ],
      "execution_count": 20,
      "outputs": [
        {
          "output_type": "execute_result",
          "data": {
            "text/plain": [
              "[array([[[0., 1.]],\n",
              " \n",
              "        [[4., 5.]]]), array([[[2., 3.]],\n",
              " \n",
              "        [[6., 7.]]])]"
            ]
          },
          "metadata": {
            "tags": []
          },
          "execution_count": 20
        }
      ]
    },
    {
      "cell_type": "markdown",
      "metadata": {
        "id": "AlWFhvlLjkj4"
      },
      "source": [
        "**.view()**"
      ]
    },
    {
      "cell_type": "markdown",
      "metadata": {
        "id": "v70RNKc1jok5"
      },
      "source": [
        "numpy.ndarray.view() helps to get a new view of array with the same data."
      ]
    },
    {
      "cell_type": "code",
      "metadata": {
        "id": "uTNsmzzijpbO"
      },
      "source": [
        "x = np.array([(1, 2)], dtype=[('a', np.int8), ('b', np.int8)])  "
      ],
      "execution_count": 23,
      "outputs": []
    },
    {
      "cell_type": "code",
      "metadata": {
        "colab": {
          "base_uri": "https://localhost:8080/"
        },
        "id": "dt1YNNAujpfI",
        "outputId": "cf4b7378-c128-49d6-d028-920869f38492"
      },
      "source": [
        "y = x.view(dtype=np.int16, type=np.matrix)   #Viewing array data using a different type and dtyp\r\n",
        "y"
      ],
      "execution_count": 24,
      "outputs": [
        {
          "output_type": "execute_result",
          "data": {
            "text/plain": [
              "matrix([[513]], dtype=int16)"
            ]
          },
          "metadata": {
            "tags": []
          },
          "execution_count": 24
        }
      ]
    },
    {
      "cell_type": "code",
      "metadata": {
        "colab": {
          "base_uri": "https://localhost:8080/"
        },
        "id": "qkpTqtGMjpkF",
        "outputId": "1ff54094-b459-401f-8b47-f06a8c325f58"
      },
      "source": [
        "x = np.array([(1, 2),(3,4)], dtype=[('a', np.int8), ('b', np.int8)])\r\n",
        "xv = x.view(dtype=np.int8).reshape(-1,2)   #Creating a view on a structured array so it can be used in calculations\r\n",
        "xv"
      ],
      "execution_count": 25,
      "outputs": [
        {
          "output_type": "execute_result",
          "data": {
            "text/plain": [
              "array([[1, 2],\n",
              "       [3, 4]], dtype=int8)"
            ]
          },
          "metadata": {
            "tags": []
          },
          "execution_count": 25
        }
      ]
    },
    {
      "cell_type": "code",
      "metadata": {
        "colab": {
          "base_uri": "https://localhost:8080/"
        },
        "id": "6Pyz2loPjpqG",
        "outputId": "47d43d41-81e1-4425-ec06-c81bf593175b"
      },
      "source": [
        "xv.mean(0)"
      ],
      "execution_count": 26,
      "outputs": [
        {
          "output_type": "execute_result",
          "data": {
            "text/plain": [
              "array([2., 3.])"
            ]
          },
          "metadata": {
            "tags": []
          },
          "execution_count": 26
        }
      ]
    },
    {
      "cell_type": "code",
      "metadata": {
        "colab": {
          "base_uri": "https://localhost:8080/"
        },
        "id": "3vz5EmrPk7HI",
        "outputId": "c3d60292-2352-4a69-e061-1ae49eca25c5"
      },
      "source": [
        "xv[0,1] = 20     #Making changes to the view changes the underlying array\r\n",
        "x"
      ],
      "execution_count": 27,
      "outputs": [
        {
          "output_type": "execute_result",
          "data": {
            "text/plain": [
              "array([(1, 20), (3,  4)], dtype=[('a', 'i1'), ('b', 'i1')])"
            ]
          },
          "metadata": {
            "tags": []
          },
          "execution_count": 27
        }
      ]
    },
    {
      "cell_type": "code",
      "metadata": {
        "colab": {
          "base_uri": "https://localhost:8080/"
        },
        "id": "j7FfF-XAlE9P",
        "outputId": "93423434-76b7-48bf-8097-ff2c9855bdc3"
      },
      "source": [
        "z = x.view(np.recarray)       #Using a view to convert an array to a recarray.\r\n",
        "z.a"
      ],
      "execution_count": 28,
      "outputs": [
        {
          "output_type": "execute_result",
          "data": {
            "text/plain": [
              "array([1, 3], dtype=int8)"
            ]
          },
          "metadata": {
            "tags": []
          },
          "execution_count": 28
        }
      ]
    },
    {
      "cell_type": "code",
      "metadata": {
        "colab": {
          "base_uri": "https://localhost:8080/"
        },
        "id": "JPiR-a5xlFPv",
        "outputId": "21f0212f-74b2-412f-9017-9aa2eb099945"
      },
      "source": [
        "x[0] = (9, 10)  #view share data.\r\n",
        "z[0]"
      ],
      "execution_count": 29,
      "outputs": [
        {
          "output_type": "execute_result",
          "data": {
            "text/plain": [
              "(9, 10)"
            ]
          },
          "metadata": {
            "tags": []
          },
          "execution_count": 29
        }
      ]
    },
    {
      "cell_type": "markdown",
      "metadata": {
        "id": "dUNV2ez-lnUQ"
      },
      "source": [
        "**copy()**"
      ]
    },
    {
      "cell_type": "markdown",
      "metadata": {
        "id": "UinF4kaBlnc_"
      },
      "source": [
        "Return an array copy of the given object."
      ]
    },
    {
      "cell_type": "code",
      "metadata": {
        "id": "8UimYYZFlFbD"
      },
      "source": [
        "x = np.array([1, 2, 3])\r\n",
        "y = x          #Create an array x, with a reference y and a copy z."
      ],
      "execution_count": 32,
      "outputs": []
    },
    {
      "cell_type": "code",
      "metadata": {
        "colab": {
          "base_uri": "https://localhost:8080/"
        },
        "id": "wIFcnnflmJKG",
        "outputId": "1666e25f-d5fe-4c28-891c-07bf6a3c2534"
      },
      "source": [
        "x[0] = 10\r\n",
        "x[0] == y[0]         # when we modify x, y changes, but not z\r\n"
      ],
      "execution_count": 36,
      "outputs": [
        {
          "output_type": "execute_result",
          "data": {
            "text/plain": [
              "True"
            ]
          },
          "metadata": {
            "tags": []
          },
          "execution_count": 36
        }
      ]
    },
    {
      "cell_type": "code",
      "metadata": {
        "colab": {
          "base_uri": "https://localhost:8080/"
        },
        "id": "ZUDGN5bcmJSr",
        "outputId": "e7a2e0f5-cb8a-4f8a-8d6c-046179402f52"
      },
      "source": [
        "x[0] == z[0]"
      ],
      "execution_count": 35,
      "outputs": [
        {
          "output_type": "stream",
          "text": [
            "/usr/local/lib/python3.7/dist-packages/ipykernel_launcher.py:1: FutureWarning: elementwise == comparison failed and returning scalar instead; this will raise an error or perform elementwise comparison in the future.\n",
            "  \"\"\"Entry point for launching an IPython kernel.\n"
          ],
          "name": "stderr"
        },
        {
          "output_type": "execute_result",
          "data": {
            "text/plain": [
              "False"
            ]
          },
          "metadata": {
            "tags": []
          },
          "execution_count": 35
        }
      ]
    },
    {
      "cell_type": "code",
      "metadata": {
        "colab": {
          "base_uri": "https://localhost:8080/"
        },
        "id": "kLvRf5rpm3Jk",
        "outputId": "c9b5a11f-f2af-416c-fe56-3f3d81ed4f1f"
      },
      "source": [
        "a = np.array([1, 'm', [2, 3, 4]], dtype=object)\r\n",
        "b = np.copy(a)\r\n",
        "b[2][0] = 10\r\n",
        "a"
      ],
      "execution_count": 37,
      "outputs": [
        {
          "output_type": "execute_result",
          "data": {
            "text/plain": [
              "array([1, 'm', list([10, 3, 4])], dtype=object)"
            ]
          },
          "metadata": {
            "tags": []
          },
          "execution_count": 37
        }
      ]
    },
    {
      "cell_type": "markdown",
      "metadata": {
        "id": "XYo30FdXm_jX"
      },
      "source": [
        "np.copy is a shallow copy and will not copy object elements within arrays.\r\n",
        "\r\n",
        " The new array will contain the same object which may lead to surprises if that object can be modified (is mutable):"
      ]
    },
    {
      "cell_type": "code",
      "metadata": {
        "id": "AK4oHzxlnHqv"
      },
      "source": [
        " import copy\r\n",
        "a = np.array([1, 'm', [2, 3, 4]], dtype=object)\r\n",
        "c = copy.deepcopy(a)\r\n",
        "c[2][0] = 10                                                  "
      ],
      "execution_count": 38,
      "outputs": []
    },
    {
      "cell_type": "code",
      "metadata": {
        "colab": {
          "base_uri": "https://localhost:8080/"
        },
        "id": "Tc7-utBinkvw",
        "outputId": "9ea2b232-e395-4cdc-d00b-599fdc4b08cc"
      },
      "source": [
        "a"
      ],
      "execution_count": 39,
      "outputs": [
        {
          "output_type": "execute_result",
          "data": {
            "text/plain": [
              "array([1, 'm', list([2, 3, 4])], dtype=object)"
            ]
          },
          "metadata": {
            "tags": []
          },
          "execution_count": 39
        }
      ]
    },
    {
      "cell_type": "markdown",
      "metadata": {
        "id": "8UMbEV-IndMz"
      },
      "source": [
        " ensure all elements within an object array are copied, use copy.deepcopy:"
      ]
    },
    {
      "cell_type": "code",
      "metadata": {
        "colab": {
          "base_uri": "https://localhost:8080/"
        },
        "id": "4vUxXcyin7__",
        "outputId": "8cddccb2-9faf-4055-e8ff-9d30c736df7a"
      },
      "source": [
        "arr = np.array([[1, 1], [2, 2]])\r\n",
        "arr"
      ],
      "execution_count": 40,
      "outputs": [
        {
          "output_type": "execute_result",
          "data": {
            "text/plain": [
              "array([[1, 1],\n",
              "       [2, 2]])"
            ]
          },
          "metadata": {
            "tags": []
          },
          "execution_count": 40
        }
      ]
    },
    {
      "cell_type": "code",
      "metadata": {
        "colab": {
          "base_uri": "https://localhost:8080/"
        },
        "id": "mbWnvJ6toCzr",
        "outputId": "94b73830-83ee-4968-acfe-5d662fb4b5d2"
      },
      "source": [
        "arr.sum()"
      ],
      "execution_count": 41,
      "outputs": [
        {
          "output_type": "execute_result",
          "data": {
            "text/plain": [
              "6"
            ]
          },
          "metadata": {
            "tags": []
          },
          "execution_count": 41
        }
      ]
    },
    {
      "cell_type": "code",
      "metadata": {
        "colab": {
          "base_uri": "https://localhost:8080/"
        },
        "id": "Ins4miTfoLic",
        "outputId": "49ebb352-4681-43b8-e4b4-8d6cb9d03965"
      },
      "source": [
        "arr.sum(axis=0)"
      ],
      "execution_count": 42,
      "outputs": [
        {
          "output_type": "execute_result",
          "data": {
            "text/plain": [
              "array([3, 3])"
            ]
          },
          "metadata": {
            "tags": []
          },
          "execution_count": 42
        }
      ]
    },
    {
      "cell_type": "markdown",
      "metadata": {
        "id": "AV6O-MRioTuh"
      },
      "source": [
        "This function returns the sum of array elements over the specified axis."
      ]
    },
    {
      "cell_type": "code",
      "metadata": {
        "colab": {
          "base_uri": "https://localhost:8080/"
        },
        "id": "y3f8_PO3oWgv",
        "outputId": "9204557e-9d50-43bc-8cba-a5baf5b08b7a"
      },
      "source": [
        "arr.sum(axis=1)  #it gives the sum of the rows."
      ],
      "execution_count": 43,
      "outputs": [
        {
          "output_type": "execute_result",
          "data": {
            "text/plain": [
              "array([2, 4])"
            ]
          },
          "metadata": {
            "tags": []
          },
          "execution_count": 43
        }
      ]
    },
    {
      "cell_type": "markdown",
      "metadata": {
        "id": "KDDa7m__pQQd"
      },
      "source": [
        "**np.unique**"
      ]
    },
    {
      "cell_type": "markdown",
      "metadata": {
        "id": "XYp6iNKypabh"
      },
      "source": [
        "Find the unique elements of an array.\r\n",
        "\r\n",
        "Returns the sorted unique elements of an array. There are three optional outputs in addition to the unique elements."
      ]
    },
    {
      "cell_type": "code",
      "metadata": {
        "colab": {
          "base_uri": "https://localhost:8080/"
        },
        "id": "XNw8RaqUpnHV",
        "outputId": "cb0df3ea-5828-4fe7-d88f-95aeafc82282"
      },
      "source": [
        "np.unique([1, 1, 2, 2, 3, 3])"
      ],
      "execution_count": 44,
      "outputs": [
        {
          "output_type": "execute_result",
          "data": {
            "text/plain": [
              "array([1, 2, 3])"
            ]
          },
          "metadata": {
            "tags": []
          },
          "execution_count": 44
        }
      ]
    },
    {
      "cell_type": "code",
      "metadata": {
        "colab": {
          "base_uri": "https://localhost:8080/"
        },
        "id": "-4Y1HDC1pnXF",
        "outputId": "eaf07f4e-9c67-47e5-aa17-6f50cdf9e190"
      },
      "source": [
        "a = np.array([[1, 1], [2, 3]])\r\n",
        "np.unique(a)"
      ],
      "execution_count": 45,
      "outputs": [
        {
          "output_type": "execute_result",
          "data": {
            "text/plain": [
              "array([1, 2, 3])"
            ]
          },
          "metadata": {
            "tags": []
          },
          "execution_count": 45
        }
      ]
    },
    {
      "cell_type": "code",
      "metadata": {
        "colab": {
          "base_uri": "https://localhost:8080/"
        },
        "id": "s0aL5aRPpvrD",
        "outputId": "186c1ee3-1939-409f-fc2d-29d87cb53455"
      },
      "source": [
        "a_2d = np.array([[1, 2, 3, 4], [5, 6, 7, 8], [9, 10, 11, 12], [1, 2, 3, 4]])\r\n",
        "np.unique(a_2d, axis=0)      #Return the unique rows of a 2D array"
      ],
      "execution_count": 46,
      "outputs": [
        {
          "output_type": "execute_result",
          "data": {
            "text/plain": [
              "array([[ 1,  2,  3,  4],\n",
              "       [ 5,  6,  7,  8],\n",
              "       [ 9, 10, 11, 12]])"
            ]
          },
          "metadata": {
            "tags": []
          },
          "execution_count": 46
        }
      ]
    },
    {
      "cell_type": "code",
      "metadata": {
        "colab": {
          "base_uri": "https://localhost:8080/"
        },
        "id": "dcduGcsoqMvD",
        "outputId": "30b204aa-c0a4-42c3-ae4f-e3ad5fec8da1"
      },
      "source": [
        "a_2d = np.array([[1, 2, 3, 1], [5, 6, 7, 5], [9, 10, 11, 9], [1, 2, 3, 1]])\r\n",
        "a_2d = np.unique(a_2d, axis=0)    # Removes duplicate rows\r\n",
        "a_2d"
      ],
      "execution_count": 47,
      "outputs": [
        {
          "output_type": "execute_result",
          "data": {
            "text/plain": [
              "array([[ 1,  2,  3,  1],\n",
              "       [ 5,  6,  7,  5],\n",
              "       [ 9, 10, 11,  9]])"
            ]
          },
          "metadata": {
            "tags": []
          },
          "execution_count": 47
        }
      ]
    },
    {
      "cell_type": "code",
      "metadata": {
        "colab": {
          "base_uri": "https://localhost:8080/"
        },
        "id": "wI1QOthQqM0S",
        "outputId": "5bbec261-6340-4f59-b6b3-8a01037eaa51"
      },
      "source": [
        "a_2d = np.unique(a_2d, axis=1) # Removes duplicate columns\r\n",
        "a_2d"
      ],
      "execution_count": 48,
      "outputs": [
        {
          "output_type": "execute_result",
          "data": {
            "text/plain": [
              "array([[ 1,  2,  3],\n",
              "       [ 5,  6,  7],\n",
              "       [ 9, 10, 11]])"
            ]
          },
          "metadata": {
            "tags": []
          },
          "execution_count": 48
        }
      ]
    },
    {
      "cell_type": "code",
      "metadata": {
        "colab": {
          "base_uri": "https://localhost:8080/"
        },
        "id": "qz6eT5EeqpZc",
        "outputId": "505ac64d-15d8-4738-cf11-cfd3eface882"
      },
      "source": [
        "a_2d = np.array([[1, 2, 3, 4], [5, 6, 7, 8], [9, 10, 11, 12], [1, 2, 3, 4]])\r\n",
        "unique_rows, indices, occurrence_count = np.unique(\r\n",
        "                                            a_2d, axis=0, return_counts=True, return_index=True)\r\n",
        "(unique_rows)\r\n",
        "\r\n",
        "(indices)                 # returns indices of unique rows\r\n",
        "(occurrence_count)         # returns count of rows"
      ],
      "execution_count": 49,
      "outputs": [
        {
          "output_type": "execute_result",
          "data": {
            "text/plain": [
              "array([2, 1, 1])"
            ]
          },
          "metadata": {
            "tags": []
          },
          "execution_count": 49
        }
      ]
    },
    {
      "cell_type": "markdown",
      "metadata": {
        "id": "siBPRjlDq8qs"
      },
      "source": [
        "**np.flip**"
      ]
    },
    {
      "cell_type": "markdown",
      "metadata": {
        "id": "UAeAoq2Yq_5r"
      },
      "source": [
        "Reverse the order of elements in an array along the given axis.\r\n",
        "\r\n",
        "The shape of the array is preserved, but the elements are reordered."
      ]
    },
    {
      "cell_type": "code",
      "metadata": {
        "colab": {
          "base_uri": "https://localhost:8080/"
        },
        "id": "qIXecPk4rOb5",
        "outputId": "fa9fc392-cd64-447c-abbf-b79a39ee8c44"
      },
      "source": [
        "A = np.arange(8).reshape((2,2,2))\r\n",
        "A"
      ],
      "execution_count": 50,
      "outputs": [
        {
          "output_type": "execute_result",
          "data": {
            "text/plain": [
              "array([[[0, 1],\n",
              "        [2, 3]],\n",
              "\n",
              "       [[4, 5],\n",
              "        [6, 7]]])"
            ]
          },
          "metadata": {
            "tags": []
          },
          "execution_count": 50
        }
      ]
    },
    {
      "cell_type": "code",
      "metadata": {
        "colab": {
          "base_uri": "https://localhost:8080/"
        },
        "id": "NoxYBuNNrAQe",
        "outputId": "44d1d1b2-c0dc-4aed-f93f-da4ce47f9507"
      },
      "source": [
        "np.flip(A, 0)"
      ],
      "execution_count": 51,
      "outputs": [
        {
          "output_type": "execute_result",
          "data": {
            "text/plain": [
              "array([[[4, 5],\n",
              "        [6, 7]],\n",
              "\n",
              "       [[0, 1],\n",
              "        [2, 3]]])"
            ]
          },
          "metadata": {
            "tags": []
          },
          "execution_count": 51
        }
      ]
    },
    {
      "cell_type": "code",
      "metadata": {
        "colab": {
          "base_uri": "https://localhost:8080/"
        },
        "id": "gkD4RQhfrhMp",
        "outputId": "33b44bf8-9b5a-4b96-9a25-95de7dbed85f"
      },
      "source": [
        "np.flip(A, 1)"
      ],
      "execution_count": 52,
      "outputs": [
        {
          "output_type": "execute_result",
          "data": {
            "text/plain": [
              "array([[[2, 3],\n",
              "        [0, 1]],\n",
              "\n",
              "       [[6, 7],\n",
              "        [4, 5]]])"
            ]
          },
          "metadata": {
            "tags": []
          },
          "execution_count": 52
        }
      ]
    },
    {
      "cell_type": "code",
      "metadata": {
        "colab": {
          "base_uri": "https://localhost:8080/"
        },
        "id": "8Ysx1Ho3rkaj",
        "outputId": "c6484036-269a-4ff7-c7d7-ee8782c92cb5"
      },
      "source": [
        "np.flip(A)"
      ],
      "execution_count": 53,
      "outputs": [
        {
          "output_type": "execute_result",
          "data": {
            "text/plain": [
              "array([[[7, 6],\n",
              "        [5, 4]],\n",
              "\n",
              "       [[3, 2],\n",
              "        [1, 0]]])"
            ]
          },
          "metadata": {
            "tags": []
          },
          "execution_count": 53
        }
      ]
    },
    {
      "cell_type": "code",
      "metadata": {
        "colab": {
          "base_uri": "https://localhost:8080/"
        },
        "id": "gVb2g-AVrsOy",
        "outputId": "6e9c3584-bc9f-446f-89c6-bbfdf4a64f85"
      },
      "source": [
        "np.flip(A, (0, 2))"
      ],
      "execution_count": 54,
      "outputs": [
        {
          "output_type": "execute_result",
          "data": {
            "text/plain": [
              "array([[[5, 4],\n",
              "        [7, 6]],\n",
              "\n",
              "       [[1, 0],\n",
              "        [3, 2]]])"
            ]
          },
          "metadata": {
            "tags": []
          },
          "execution_count": 54
        }
      ]
    },
    {
      "cell_type": "code",
      "metadata": {
        "colab": {
          "base_uri": "https://localhost:8080/"
        },
        "id": "XWnXYngQrzlD",
        "outputId": "123cec72-1427-462a-c557-1477267f62a6"
      },
      "source": [
        "A = np.random.randn(3,4,5)\r\n",
        "np.all(np.flip(A,2) == A[:,:,::-1,...])"
      ],
      "execution_count": 55,
      "outputs": [
        {
          "output_type": "execute_result",
          "data": {
            "text/plain": [
              "True"
            ]
          },
          "metadata": {
            "tags": []
          },
          "execution_count": 55
        }
      ]
    },
    {
      "cell_type": "markdown",
      "metadata": {
        "id": "VAquwgM0r6l4"
      },
      "source": [
        "**flatten()**"
      ]
    },
    {
      "cell_type": "markdown",
      "metadata": {
        "id": "aNn599HfsILd"
      },
      "source": [
        "Return a copy of the array collapsed into one dimension.\r\n"
      ]
    },
    {
      "cell_type": "code",
      "metadata": {
        "colab": {
          "base_uri": "https://localhost:8080/"
        },
        "id": "IlBcDODOr99S",
        "outputId": "ca9693d4-444c-476e-d632-7fdfac7f2612"
      },
      "source": [
        "a = np.array([[1,2], [3,4]])\r\n",
        "a.flatten()"
      ],
      "execution_count": 56,
      "outputs": [
        {
          "output_type": "execute_result",
          "data": {
            "text/plain": [
              "array([1, 2, 3, 4])"
            ]
          },
          "metadata": {
            "tags": []
          },
          "execution_count": 56
        }
      ]
    },
    {
      "cell_type": "code",
      "metadata": {
        "colab": {
          "base_uri": "https://localhost:8080/"
        },
        "id": "ueGXNaKCr-YL",
        "outputId": "dfbc1bb5-b041-4807-9e36-d856ea791fc5"
      },
      "source": [
        "a.flatten('F')  # copied columnwise"
      ],
      "execution_count": 57,
      "outputs": [
        {
          "output_type": "execute_result",
          "data": {
            "text/plain": [
              "array([1, 3, 2, 4])"
            ]
          },
          "metadata": {
            "tags": []
          },
          "execution_count": 57
        }
      ]
    },
    {
      "cell_type": "markdown",
      "metadata": {
        "id": "0wRRwGpOtAwL"
      },
      "source": [
        "**ravel()**"
      ]
    },
    {
      "cell_type": "markdown",
      "metadata": {
        "id": "W-NpBLeus8CP"
      },
      "source": [
        "Return a contiguous flattened array."
      ]
    },
    {
      "cell_type": "code",
      "metadata": {
        "colab": {
          "base_uri": "https://localhost:8080/"
        },
        "id": "FBivJsg0tQwV",
        "outputId": "2b91bbfb-a5e3-40e5-be50-867e4b7e4a62"
      },
      "source": [
        "x = np.array([[1, 2, 3], [4, 5, 6]])  #It is equivalent to reshape(-1, order=order).\r\n",
        "np.ravel(x)"
      ],
      "execution_count": 61,
      "outputs": [
        {
          "output_type": "execute_result",
          "data": {
            "text/plain": [
              "array([1, 2, 3, 4, 5, 6])"
            ]
          },
          "metadata": {
            "tags": []
          },
          "execution_count": 61
        }
      ]
    },
    {
      "cell_type": "code",
      "metadata": {
        "colab": {
          "base_uri": "https://localhost:8080/"
        },
        "id": "kB5JguouuXHh",
        "outputId": "5aa77d4a-dd2f-4c95-e5ac-539834569d87"
      },
      "source": [
        "x.reshape(-1)\r\n"
      ],
      "execution_count": 62,
      "outputs": [
        {
          "output_type": "execute_result",
          "data": {
            "text/plain": [
              "array([1, 2, 3, 4, 5, 6])"
            ]
          },
          "metadata": {
            "tags": []
          },
          "execution_count": 62
        }
      ]
    },
    {
      "cell_type": "code",
      "metadata": {
        "colab": {
          "base_uri": "https://localhost:8080/"
        },
        "id": "juL9iXqDtu5S",
        "outputId": "07d47177-2013-48ea-f367-dbb460ddb5f8"
      },
      "source": [
        "np.ravel(x, order='F')"
      ],
      "execution_count": 63,
      "outputs": [
        {
          "output_type": "execute_result",
          "data": {
            "text/plain": [
              "array([1, 4, 2, 5, 3, 6])"
            ]
          },
          "metadata": {
            "tags": []
          },
          "execution_count": 63
        }
      ]
    },
    {
      "cell_type": "code",
      "metadata": {
        "colab": {
          "base_uri": "https://localhost:8080/"
        },
        "id": "z55YObKut2Jx",
        "outputId": "fe4d89c8-f12a-459d-e653-db94c7668633"
      },
      "source": [
        "np.ravel(x.T)"
      ],
      "execution_count": 64,
      "outputs": [
        {
          "output_type": "execute_result",
          "data": {
            "text/plain": [
              "array([1, 4, 2, 5, 3, 6])"
            ]
          },
          "metadata": {
            "tags": []
          },
          "execution_count": 64
        }
      ]
    },
    {
      "cell_type": "code",
      "metadata": {
        "id": "WqbPqr3pvCMu"
      },
      "source": [
        "np.ravel(x.T, order='A')"
      ],
      "execution_count": null,
      "outputs": []
    },
    {
      "cell_type": "markdown",
      "metadata": {
        "id": "MoKQt42du5ET"
      },
      "source": [
        "When order is ‘A’, it will preserve the array’s ‘C’ or ‘F’ ordering."
      ]
    }
  ]
}