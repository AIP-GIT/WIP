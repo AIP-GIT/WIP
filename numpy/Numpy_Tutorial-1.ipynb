{
 "cells": [
  {
   "cell_type": "code",
   "execution_count": 2,
   "id": "authorized-binding",
   "metadata": {},
   "outputs": [],
   "source": [
    "%config Completer.use_jedi = False"
   ]
  },
  {
   "cell_type": "code",
   "execution_count": 3,
   "id": "determined-geology",
   "metadata": {},
   "outputs": [],
   "source": [
    "import numpy as np"
   ]
  },
  {
   "cell_type": "code",
   "execution_count": 4,
   "id": "active-waterproof",
   "metadata": {},
   "outputs": [
    {
     "name": "stdout",
     "output_type": "stream",
     "text": [
      "[ 0  2  4  6  8 10]\n"
     ]
    }
   ],
   "source": [
    "# similar to range in python\n",
    "# numpy.arange([start, ]stop, [step, ], dtype=None) \n",
    "a = np.arange(0,12,2)\n",
    "print(a)"
   ]
  },
  {
   "cell_type": "code",
   "execution_count": 5,
   "id": "civil-communist",
   "metadata": {},
   "outputs": [
    {
     "data": {
      "text/plain": [
       "(6,)"
      ]
     },
     "execution_count": 5,
     "metadata": {},
     "output_type": "execute_result"
    }
   ],
   "source": [
    "# gives a tuple of number of elements in each axis\n",
    "a.shape"
   ]
  },
  {
   "cell_type": "markdown",
   "id": "interested-eugene",
   "metadata": {},
   "source": [
    "### Adding a new axis"
   ]
  },
  {
   "cell_type": "code",
   "execution_count": 6,
   "id": "naval-black",
   "metadata": {},
   "outputs": [
    {
     "data": {
      "text/plain": [
       "(1, 6)"
      ]
     },
     "execution_count": 6,
     "metadata": {},
     "output_type": "execute_result"
    }
   ],
   "source": [
    "temp = a[np.newaxis,:]\n",
    "temp.shape"
   ]
  },
  {
   "cell_type": "code",
   "execution_count": 6,
   "id": "recent-activity",
   "metadata": {},
   "outputs": [
    {
     "data": {
      "text/plain": [
       "(1, 6)"
      ]
     },
     "execution_count": 6,
     "metadata": {},
     "output_type": "execute_result"
    }
   ],
   "source": [
    "a.reshape(1,-1).shape"
   ]
  },
  {
   "cell_type": "code",
   "execution_count": 7,
   "id": "strategic-worst",
   "metadata": {},
   "outputs": [
    {
     "data": {
      "text/plain": [
       "(6, 1)"
      ]
     },
     "execution_count": 7,
     "metadata": {},
     "output_type": "execute_result"
    }
   ],
   "source": [
    "a[:,np.newaxis].shape"
   ]
  },
  {
   "cell_type": "code",
   "execution_count": 8,
   "id": "sustainable-throat",
   "metadata": {},
   "outputs": [
    {
     "data": {
      "text/plain": [
       "(6, 1)"
      ]
     },
     "execution_count": 8,
     "metadata": {},
     "output_type": "execute_result"
    }
   ],
   "source": [
    "a.reshape(-1,1).shape"
   ]
  },
  {
   "cell_type": "code",
   "execution_count": 51,
   "id": "elegant-strengthening",
   "metadata": {},
   "outputs": [
    {
     "data": {
      "text/plain": [
       "(6, 1)"
      ]
     },
     "execution_count": 51,
     "metadata": {},
     "output_type": "execute_result"
    }
   ],
   "source": [
    "np.expand_dims(a,axis=1).shape"
   ]
  },
  {
   "cell_type": "code",
   "execution_count": 52,
   "id": "fatty-phrase",
   "metadata": {},
   "outputs": [
    {
     "data": {
      "text/plain": [
       "(1, 6)"
      ]
     },
     "execution_count": 52,
     "metadata": {},
     "output_type": "execute_result"
    }
   ],
   "source": [
    "np.expand_dims(a,axis=0).shape"
   ]
  },
  {
   "cell_type": "code",
   "execution_count": 7,
   "id": "continental-behavior",
   "metadata": {},
   "outputs": [
    {
     "data": {
      "text/plain": [
       "(1, 6)"
      ]
     },
     "execution_count": 7,
     "metadata": {},
     "output_type": "execute_result"
    }
   ],
   "source": [
    "a[None,:].shape"
   ]
  },
  {
   "cell_type": "code",
   "execution_count": 8,
   "id": "understanding-barrier",
   "metadata": {},
   "outputs": [
    {
     "data": {
      "text/plain": [
       "(6, 1)"
      ]
     },
     "execution_count": 8,
     "metadata": {},
     "output_type": "execute_result"
    }
   ],
   "source": [
    "a[:,None].shape"
   ]
  },
  {
   "cell_type": "markdown",
   "id": "sexual-stream",
   "metadata": {},
   "source": [
    "### numpy functions to create arrays"
   ]
  },
  {
   "cell_type": "code",
   "execution_count": 9,
   "id": "cubic-redhead",
   "metadata": {},
   "outputs": [
    {
     "data": {
      "text/plain": [
       "array([[0., 0.],\n",
       "       [0., 0.]])"
      ]
     },
     "execution_count": 9,
     "metadata": {},
     "output_type": "execute_result"
    }
   ],
   "source": [
    "np.zeros((2,2))"
   ]
  },
  {
   "cell_type": "code",
   "execution_count": 10,
   "id": "waiting-neighbor",
   "metadata": {},
   "outputs": [
    {
     "data": {
      "text/plain": [
       "array([[1., 1.],\n",
       "       [1., 1.],\n",
       "       [1., 1.],\n",
       "       [1., 1.]])"
      ]
     },
     "execution_count": 10,
     "metadata": {},
     "output_type": "execute_result"
    }
   ],
   "source": [
    "np.ones(shape=(4,2))"
   ]
  },
  {
   "cell_type": "code",
   "execution_count": 11,
   "id": "artistic-wireless",
   "metadata": {},
   "outputs": [
    {
     "data": {
      "text/plain": [
       "array([[[ 2.41440681e-310,  2.34140334e-258,  2.21649092e-313,\n",
       "          6.18196790e-309],\n",
       "        [-2.08005242e-046,  5.20374872e-259,  1.53229019e-231,\n",
       "          1.53543648e-231],\n",
       "        [ 1.73315714e-260,  2.18354929e-289,  2.18254133e-289,\n",
       "          5.38726887e-299]],\n",
       "\n",
       "       [[ 9.41267931e-280,  3.19271975e-241,  7.43703987e-251,\n",
       "          4.67044207e-193],\n",
       "        [ 2.97742215e-212,  5.88411975e-222,  7.44044338e-251,\n",
       "          7.44044312e-251],\n",
       "        [ 4.67258231e-193,  1.37251949e-231,  4.67472275e-193,\n",
       "          4.67686319e-193]]])"
      ]
     },
     "execution_count": 11,
     "metadata": {},
     "output_type": "execute_result"
    }
   ],
   "source": [
    "np.empty(shape=(2,3,4)) #This isfaster than np.zeros"
   ]
  },
  {
   "cell_type": "markdown",
   "id": "understood-andrew",
   "metadata": {},
   "source": [
    "### Creating arrays"
   ]
  },
  {
   "cell_type": "code",
   "execution_count": 18,
   "id": "suspended-sterling",
   "metadata": {},
   "outputs": [
    {
     "data": {
      "text/plain": [
       "array([  1.        ,   6.21052632,  11.42105263,  16.63157895,\n",
       "        21.84210526,  27.05263158,  32.26315789,  37.47368421,\n",
       "        42.68421053,  47.89473684,  53.10526316,  58.31578947,\n",
       "        63.52631579,  68.73684211,  73.94736842,  79.15789474,\n",
       "        84.36842105,  89.57894737,  94.78947368, 100.        ])"
      ]
     },
     "execution_count": 18,
     "metadata": {},
     "output_type": "execute_result"
    }
   ],
   "source": [
    "np.linspace(1,100,20)"
   ]
  },
  {
   "cell_type": "code",
   "execution_count": 22,
   "id": "progressive-lincoln",
   "metadata": {},
   "outputs": [
    {
     "data": {
      "text/plain": [
       "array([[[0.42597685],\n",
       "        [0.37818109]],\n",
       "\n",
       "       [[0.90820233],\n",
       "        [0.63159878]],\n",
       "\n",
       "       [[0.04142703],\n",
       "        [0.3885689 ]]])"
      ]
     },
     "execution_count": 22,
     "metadata": {},
     "output_type": "execute_result"
    }
   ],
   "source": [
    "np.random.rand(3,2,1) # random array with shape (3,2,1)"
   ]
  },
  {
   "cell_type": "code",
   "execution_count": 9,
   "id": "hungry-boundary",
   "metadata": {},
   "outputs": [
    {
     "data": {
      "text/plain": [
       "array([[3, 0],\n",
       "       [3, 1],\n",
       "       [3, 4]])"
      ]
     },
     "execution_count": 9,
     "metadata": {},
     "output_type": "execute_result"
    }
   ],
   "source": [
    "np.random.randint(low=0,high=5,size=(3,2)) "
   ]
  },
  {
   "cell_type": "code",
   "execution_count": 35,
   "id": "least-somewhere",
   "metadata": {},
   "outputs": [
    {
     "data": {
      "text/plain": [
       "array([[[ 0.07158827,  0.00594014],\n",
       "        [-0.4593867 ,  0.52635941]],\n",
       "\n",
       "       [[ 0.32097379,  1.02098771],\n",
       "        [ 0.85041277, -0.33071488]],\n",
       "\n",
       "       [[-0.06820504,  1.0533379 ],\n",
       "        [-1.36162735,  0.1811919 ]]])"
      ]
     },
     "execution_count": 35,
     "metadata": {},
     "output_type": "execute_result"
    }
   ],
   "source": [
    "np.random.randn(3,2,2) #random normal distribution"
   ]
  },
  {
   "cell_type": "markdown",
   "id": "interracial-conversation",
   "metadata": {},
   "source": [
    "### Sorting"
   ]
  },
  {
   "cell_type": "code",
   "execution_count": 17,
   "id": "willing-ireland",
   "metadata": {},
   "outputs": [
    {
     "data": {
      "text/plain": [
       "array([3, 0, 0, 1, 2, 4])"
      ]
     },
     "execution_count": 17,
     "metadata": {},
     "output_type": "execute_result"
    }
   ],
   "source": [
    "arr = np.random.randint(0,5,size=(6,))\n",
    "arr"
   ]
  },
  {
   "cell_type": "code",
   "execution_count": 18,
   "id": "premier-catalyst",
   "metadata": {},
   "outputs": [
    {
     "data": {
      "text/plain": [
       "array([0, 0, 1, 2, 3, 4])"
      ]
     },
     "execution_count": 18,
     "metadata": {},
     "output_type": "execute_result"
    }
   ],
   "source": [
    "np.sort(arr) # not inplace sorting"
   ]
  },
  {
   "cell_type": "code",
   "execution_count": 16,
   "id": "extensive-excuse",
   "metadata": {},
   "outputs": [
    {
     "data": {
      "text/plain": [
       "array([4, 0, 1, 4, 0])"
      ]
     },
     "execution_count": 16,
     "metadata": {},
     "output_type": "execute_result"
    }
   ],
   "source": [
    "arr"
   ]
  },
  {
   "cell_type": "code",
   "execution_count": 47,
   "id": "approved-month",
   "metadata": {},
   "outputs": [],
   "source": [
    "arr.sort() # inplace sorting"
   ]
  },
  {
   "cell_type": "code",
   "execution_count": 13,
   "id": "falling-zambia",
   "metadata": {},
   "outputs": [
    {
     "data": {
      "text/plain": [
       "array([1, 2, 2, 4, 4])"
      ]
     },
     "execution_count": 13,
     "metadata": {},
     "output_type": "execute_result"
    }
   ],
   "source": [
    "arr"
   ]
  },
  {
   "cell_type": "code",
   "execution_count": 21,
   "id": "detailed-petroleum",
   "metadata": {},
   "outputs": [
    {
     "data": {
      "text/plain": [
       "array([[3, 0],\n",
       "       [0, 1],\n",
       "       [2, 4]])"
      ]
     },
     "execution_count": 21,
     "metadata": {},
     "output_type": "execute_result"
    }
   ],
   "source": [
    "temp = arr.reshape(3,2)\n",
    "temp"
   ]
  },
  {
   "cell_type": "code",
   "execution_count": 37,
   "id": "selective-closure",
   "metadata": {},
   "outputs": [
    {
     "data": {
      "text/plain": [
       "array([[0, 3],\n",
       "       [0, 1],\n",
       "       [2, 4]])"
      ]
     },
     "execution_count": 37,
     "metadata": {},
     "output_type": "execute_result"
    }
   ],
   "source": [
    "np.sort(temp,axis=1)"
   ]
  },
  {
   "cell_type": "code",
   "execution_count": 38,
   "id": "virtual-color",
   "metadata": {},
   "outputs": [
    {
     "data": {
      "text/plain": [
       "array([[1, 0],\n",
       "       [0, 1],\n",
       "       [0, 1]], dtype=int64)"
      ]
     },
     "execution_count": 38,
     "metadata": {},
     "output_type": "execute_result"
    }
   ],
   "source": [
    "# Indirect sorting using argsort\n",
    "ind = np.argsort(temp,axis=1) # Returns the indices that would sort the array\n",
    "ind"
   ]
  },
  {
   "cell_type": "code",
   "execution_count": 42,
   "id": "secure-delaware",
   "metadata": {},
   "outputs": [
    {
     "data": {
      "text/plain": [
       "array([[0, 0],\n",
       "       [3, 1],\n",
       "       [3, 1]])"
      ]
     },
     "execution_count": 42,
     "metadata": {},
     "output_type": "execute_result"
    }
   ],
   "source": [
    "np.take_along_axis(temp,ind,axis=0)"
   ]
  },
  {
   "cell_type": "code",
   "execution_count": 43,
   "id": "temporal-washington",
   "metadata": {},
   "outputs": [],
   "source": [
    "# sorting with keys"
   ]
  },
  {
   "cell_type": "code",
   "execution_count": null,
   "id": "progressive-company",
   "metadata": {},
   "outputs": [],
   "source": [
    "# lexsort, which is an indirect stable sort on multiple keys,"
   ]
  },
  {
   "cell_type": "code",
   "execution_count": 49,
   "id": "early-lighter",
   "metadata": {},
   "outputs": [],
   "source": [
    "#     searchsorted, which will find elements in a sorted array, and\n",
    "\n",
    "#     partition, which is a partial sort."
   ]
  },
  {
   "cell_type": "markdown",
   "id": "collect-secret",
   "metadata": {},
   "source": [
    "### stacking arrays"
   ]
  },
  {
   "cell_type": "code",
   "execution_count": 44,
   "id": "several-samuel",
   "metadata": {},
   "outputs": [
    {
     "data": {
      "text/plain": [
       "array([[1, 2],\n",
       "       [3, 4],\n",
       "       [5, 6]])"
      ]
     },
     "execution_count": 44,
     "metadata": {},
     "output_type": "execute_result"
    }
   ],
   "source": [
    "a = np.array([[1, 2], [3, 4]]) \n",
    "b = np.array([[5, 6]])\n",
    "np.concatenate((a, b), axis=0)"
   ]
  },
  {
   "cell_type": "code",
   "execution_count": 88,
   "id": "shaped-celebrity",
   "metadata": {},
   "outputs": [
    {
     "data": {
      "text/plain": [
       "array([[1, 2],\n",
       "       [3, 4],\n",
       "       [5, 6]])"
      ]
     },
     "execution_count": 88,
     "metadata": {},
     "output_type": "execute_result"
    }
   ],
   "source": [
    "# similar to vstack\n",
    "a = np.array([[1, 2], [3, 4]]) \n",
    "b = np.array([[5, 6]])\n",
    "np.vstack((a,b))"
   ]
  },
  {
   "cell_type": "code",
   "execution_count": 89,
   "id": "several-flood",
   "metadata": {},
   "outputs": [
    {
     "data": {
      "text/plain": [
       "array([[1, 2],\n",
       "       [3, 4],\n",
       "       [5, 6]])"
      ]
     },
     "execution_count": 89,
     "metadata": {},
     "output_type": "execute_result"
    }
   ],
   "source": [
    "# Similar to row_stack\n",
    "np.row_stack((a,b))"
   ]
  },
  {
   "cell_type": "code",
   "execution_count": 91,
   "id": "still-beach",
   "metadata": {},
   "outputs": [
    {
     "data": {
      "text/plain": [
       "array([[1, 2],\n",
       "       [3, 4],\n",
       "       [5, 6]])"
      ]
     },
     "execution_count": 91,
     "metadata": {},
     "output_type": "execute_result"
    }
   ],
   "source": [
    "# Similar to np.r_\n",
    "np.r_[a,b]"
   ]
  },
  {
   "cell_type": "code",
   "execution_count": 92,
   "id": "buried-inspiration",
   "metadata": {},
   "outputs": [
    {
     "data": {
      "text/plain": [
       "array([[1, 2, 5, 6],\n",
       "       [3, 4, 1, 2]])"
      ]
     },
     "execution_count": 92,
     "metadata": {},
     "output_type": "execute_result"
    }
   ],
   "source": [
    "a = np.array([[1, 2], [3, 4]])\n",
    "b = np.array([[5, 6],[1,2]])\n",
    "np.concatenate((a, b), axis=1)"
   ]
  },
  {
   "cell_type": "code",
   "execution_count": 93,
   "id": "posted-numbers",
   "metadata": {},
   "outputs": [
    {
     "data": {
      "text/plain": [
       "array([[1, 2, 5, 6],\n",
       "       [3, 4, 1, 2]])"
      ]
     },
     "execution_count": 93,
     "metadata": {},
     "output_type": "execute_result"
    }
   ],
   "source": [
    "# Similar to hstack\n",
    "a = np.array([[1, 2], [3, 4]])\n",
    "b = np.array([[5, 6],[1,2]])\n",
    "np.hstack((a,b))"
   ]
  },
  {
   "cell_type": "code",
   "execution_count": 94,
   "id": "proud-eight",
   "metadata": {},
   "outputs": [
    {
     "data": {
      "text/plain": [
       "array([[1, 2, 5, 6],\n",
       "       [3, 4, 1, 2]])"
      ]
     },
     "execution_count": 94,
     "metadata": {},
     "output_type": "execute_result"
    }
   ],
   "source": [
    "# Similar to column_stack\n",
    "np.column_stack((a,b))"
   ]
  },
  {
   "cell_type": "code",
   "execution_count": 95,
   "id": "palestinian-ottawa",
   "metadata": {},
   "outputs": [
    {
     "data": {
      "text/plain": [
       "array([[1, 2, 5, 6],\n",
       "       [3, 4, 1, 2]])"
      ]
     },
     "execution_count": 95,
     "metadata": {},
     "output_type": "execute_result"
    }
   ],
   "source": [
    "# Similar to np.c_\n",
    "np.c_[a,b]"
   ]
  },
  {
   "cell_type": "code",
   "execution_count": 47,
   "id": "dried-discipline",
   "metadata": {},
   "outputs": [
    {
     "data": {
      "text/plain": [
       "array([1, 2, 3, 4, 5, 6, 1, 2])"
      ]
     },
     "execution_count": 47,
     "metadata": {},
     "output_type": "execute_result"
    }
   ],
   "source": [
    "np.concatenate((a, b), axis=None)"
   ]
  },
  {
   "cell_type": "code",
   "execution_count": null,
   "id": "abroad-titanium",
   "metadata": {},
   "outputs": [],
   "source": []
  },
  {
   "cell_type": "code",
   "execution_count": 53,
   "id": "particular-membrane",
   "metadata": {},
   "outputs": [],
   "source": [
    "# np.ndarray.ndim\n",
    "# np.ndarray.size\n",
    "# np.ndarray.shape"
   ]
  },
  {
   "cell_type": "code",
   "execution_count": 13,
   "id": "silent-white",
   "metadata": {},
   "outputs": [
    {
     "data": {
      "text/plain": [
       "array([[7, 0],\n",
       "       [7, 4],\n",
       "       [7, 7]])"
      ]
     },
     "execution_count": 13,
     "metadata": {},
     "output_type": "execute_result"
    }
   ],
   "source": [
    "a = np.random.randint(0,10,size=(3,2))\n",
    "a"
   ]
  },
  {
   "cell_type": "code",
   "execution_count": 14,
   "id": "delayed-joint",
   "metadata": {},
   "outputs": [
    {
     "data": {
      "text/plain": [
       "array([[ True, False],\n",
       "       [ True, False],\n",
       "       [ True,  True]])"
      ]
     },
     "execution_count": 14,
     "metadata": {},
     "output_type": "execute_result"
    }
   ],
   "source": [
    "a>5"
   ]
  },
  {
   "cell_type": "code",
   "execution_count": 57,
   "id": "canadian-newark",
   "metadata": {},
   "outputs": [
    {
     "data": {
      "text/plain": [
       "array([9, 8, 9])"
      ]
     },
     "execution_count": 57,
     "metadata": {},
     "output_type": "execute_result"
    }
   ],
   "source": [
    "a[a>5]"
   ]
  },
  {
   "cell_type": "code",
   "execution_count": 60,
   "id": "supported-mining",
   "metadata": {},
   "outputs": [
    {
     "data": {
      "text/plain": [
       "array([[ True, False],\n",
       "       [False, False],\n",
       "       [ True,  True]])"
      ]
     },
     "execution_count": 60,
     "metadata": {},
     "output_type": "execute_result"
    }
   ],
   "source": [
    "a>5"
   ]
  },
  {
   "cell_type": "code",
   "execution_count": 58,
   "id": "addressed-horror",
   "metadata": {},
   "outputs": [
    {
     "data": {
      "text/plain": [
       "array([8])"
      ]
     },
     "execution_count": 58,
     "metadata": {},
     "output_type": "execute_result"
    }
   ],
   "source": [
    "a[(a>5) & (a%2==0)]"
   ]
  },
  {
   "cell_type": "code",
   "execution_count": 59,
   "id": "temporal-diving",
   "metadata": {},
   "outputs": [
    {
     "data": {
      "text/plain": [
       "array([1, 2, 3, 8])"
      ]
     },
     "execution_count": 59,
     "metadata": {},
     "output_type": "execute_result"
    }
   ],
   "source": [
    "a[(a<5) | (a%2==0)]"
   ]
  },
  {
   "cell_type": "code",
   "execution_count": 66,
   "id": "signal-bouquet",
   "metadata": {},
   "outputs": [
    {
     "data": {
      "text/plain": [
       "array([[ 1,  2,  3,  4],\n",
       "       [ 5,  6,  7,  8],\n",
       "       [ 9, 10, 11, 12]])"
      ]
     },
     "execution_count": 66,
     "metadata": {},
     "output_type": "execute_result"
    }
   ],
   "source": [
    "arr = np.arange(1,13)\n",
    "arr = arr.reshape(3,4)\n",
    "arr"
   ]
  },
  {
   "cell_type": "code",
   "execution_count": 68,
   "id": "supported-headquarters",
   "metadata": {},
   "outputs": [
    {
     "data": {
      "text/plain": [
       "(array([0, 1, 1], dtype=int64), array([1, 0, 1], dtype=int64))"
      ]
     },
     "execution_count": 68,
     "metadata": {},
     "output_type": "execute_result"
    }
   ],
   "source": [
    "b = np.nonzero(a<5) #this gives row index and column index\n",
    "b"
   ]
  },
  {
   "cell_type": "code",
   "execution_count": 71,
   "id": "automated-composition",
   "metadata": {},
   "outputs": [
    {
     "data": {
      "text/plain": [
       "[(0, 1), (1, 0), (1, 1)]"
      ]
     },
     "execution_count": 71,
     "metadata": {},
     "output_type": "execute_result"
    }
   ],
   "source": [
    "list(zip(b[0],b[1])) #list of co-ordinates"
   ]
  },
  {
   "cell_type": "code",
   "execution_count": 72,
   "id": "noticed-concentrate",
   "metadata": {},
   "outputs": [
    {
     "data": {
      "text/plain": [
       "array([1, 2, 3])"
      ]
     },
     "execution_count": 72,
     "metadata": {},
     "output_type": "execute_result"
    }
   ],
   "source": [
    "a[b] #nonzero can be also used to directly fetch the elements"
   ]
  },
  {
   "cell_type": "markdown",
   "id": "conventional-performer",
   "metadata": {},
   "source": [
    "### slicing "
   ]
  },
  {
   "cell_type": "code",
   "execution_count": 49,
   "id": "contrary-radio",
   "metadata": {},
   "outputs": [
    {
     "data": {
      "text/plain": [
       "array([[ 0,  1,  2],\n",
       "       [ 3,  4,  5],\n",
       "       [ 6,  7,  8],\n",
       "       [ 9, 10, 11]])"
      ]
     },
     "execution_count": 49,
     "metadata": {},
     "output_type": "execute_result"
    }
   ],
   "source": [
    "arr = np.arange(12).reshape(4,3)\n",
    "arr"
   ]
  },
  {
   "cell_type": "code",
   "execution_count": 50,
   "id": "ruled-locator",
   "metadata": {},
   "outputs": [
    {
     "data": {
      "text/plain": [
       "array([[4, 5],\n",
       "       [7, 8]])"
      ]
     },
     "execution_count": 50,
     "metadata": {},
     "output_type": "execute_result"
    }
   ],
   "source": [
    "arr[1:3,1:]"
   ]
  },
  {
   "cell_type": "code",
   "execution_count": 54,
   "id": "unexpected-mambo",
   "metadata": {},
   "outputs": [
    {
     "data": {
      "text/plain": [
       "array([4, 5])"
      ]
     },
     "execution_count": 54,
     "metadata": {},
     "output_type": "execute_result"
    }
   ],
   "source": [
    "arr[1,1:3]"
   ]
  },
  {
   "cell_type": "code",
   "execution_count": 55,
   "id": "major-polish",
   "metadata": {},
   "outputs": [
    {
     "data": {
      "text/plain": [
       "array([4, 7])"
      ]
     },
     "execution_count": 55,
     "metadata": {},
     "output_type": "execute_result"
    }
   ],
   "source": [
    "arr[1:3,1]"
   ]
  },
  {
   "cell_type": "code",
   "execution_count": 73,
   "id": "rural-frequency",
   "metadata": {},
   "outputs": [],
   "source": [
    "# indexing\n",
    "# np.hsplit()\n",
    "# .view()\n",
    "# copy() vs deepcopy()"
   ]
  },
  {
   "cell_type": "markdown",
   "id": "legitimate-carry",
   "metadata": {},
   "source": [
    "### unique"
   ]
  },
  {
   "cell_type": "code",
   "execution_count": null,
   "id": "looking-punishment",
   "metadata": {},
   "outputs": [],
   "source": [
    "# np.unique\n",
    "# unique_values, indices_list = np.unique(a, return_index=True)\n",
    "# unique_values, occurrence_count = np.unique(a, return_counts=True)"
   ]
  },
  {
   "cell_type": "code",
   "execution_count": 59,
   "id": "thirty-encoding",
   "metadata": {},
   "outputs": [
    {
     "data": {
      "text/plain": [
       "array([[ 1,  2,  3,  4],\n",
       "       [ 5,  6,  7,  8],\n",
       "       [ 9, 10, 11, 12]])"
      ]
     },
     "execution_count": 59,
     "metadata": {},
     "output_type": "execute_result"
    }
   ],
   "source": [
    "a_2d = np.array([[1, 2, 3, 4], [5, 6, 7, 8], [9, 10, 11, 12], [1, 2, 3, 4]])\n",
    "np.unique(a_2d, axis=0) # Removes duplicate rows\n",
    "    "
   ]
  },
  {
   "cell_type": "code",
   "execution_count": 60,
   "id": "passive-toddler",
   "metadata": {},
   "outputs": [
    {
     "data": {
      "text/plain": [
       "array([[ 1,  2,  3,  1],\n",
       "       [ 5,  6,  7,  5],\n",
       "       [ 9, 10, 11,  9]])"
      ]
     },
     "execution_count": 60,
     "metadata": {},
     "output_type": "execute_result"
    }
   ],
   "source": [
    "a_2d = np.array([[1, 2, 3, 1], [5, 6, 7, 5], [9, 10, 11, 9], [1, 2, 3, 1]])\n",
    "a_2d = np.unique(a_2d, axis=0) # Removes duplicate rows\n",
    "a_2d"
   ]
  },
  {
   "cell_type": "code",
   "execution_count": 61,
   "id": "above-wrestling",
   "metadata": {},
   "outputs": [
    {
     "data": {
      "text/plain": [
       "array([[ 1,  2,  3],\n",
       "       [ 5,  6,  7],\n",
       "       [ 9, 10, 11]])"
      ]
     },
     "execution_count": 61,
     "metadata": {},
     "output_type": "execute_result"
    }
   ],
   "source": [
    "a_2d = np.unique(a_2d, axis=1) # Removes duplicate columns\n",
    "a_2d"
   ]
  },
  {
   "cell_type": "code",
   "execution_count": 88,
   "id": "increasing-verse",
   "metadata": {},
   "outputs": [
    {
     "name": "stdout",
     "output_type": "stream",
     "text": [
      "[[ 1  2  3  4]\n",
      " [ 5  6  7  8]\n",
      " [ 9 10 11 12]]\n",
      "[0 1 2]\n",
      "[2 1 1]\n"
     ]
    }
   ],
   "source": [
    "a_2d = np.array([[1, 2, 3, 4], [5, 6, 7, 8], [9, 10, 11, 12], [1, 2, 3, 4]])\n",
    "unique_rows, indices, occurrence_count = np.unique(\n",
    "                                            a_2d, axis=0, return_counts=True, return_index=True)\n",
    "print(unique_rows)\n",
    "\n",
    "print(indices) # returns indices of unique rows\n",
    "print(occurrence_count) # returns count of rows"
   ]
  },
  {
   "cell_type": "markdown",
   "id": "overhead-parts",
   "metadata": {},
   "source": [
    "### np.flip / reverse an array"
   ]
  },
  {
   "cell_type": "markdown",
   "id": "surgical-marijuana",
   "metadata": {},
   "source": [
    "### Flatten an array"
   ]
  },
  {
   "cell_type": "code",
   "execution_count": null,
   "id": "mineral-palace",
   "metadata": {},
   "outputs": [],
   "source": [
    "# flatten() # data is copied\n",
    "# ravel() # This is view of the original"
   ]
  },
  {
   "cell_type": "code",
   "execution_count": 62,
   "id": "official-presence",
   "metadata": {},
   "outputs": [
    {
     "data": {
      "text/plain": [
       "array([1, 2, 3, 4])"
      ]
     },
     "execution_count": 62,
     "metadata": {},
     "output_type": "execute_result"
    }
   ],
   "source": [
    "a = np.array([[1,2], [3,4]])\n",
    "a.flatten()"
   ]
  },
  {
   "cell_type": "code",
   "execution_count": 63,
   "id": "surface-click",
   "metadata": {},
   "outputs": [
    {
     "data": {
      "text/plain": [
       "array([1, 3, 2, 4])"
      ]
     },
     "execution_count": 63,
     "metadata": {},
     "output_type": "execute_result"
    }
   ],
   "source": [
    "a.flatten('F')  # copied columnwise"
   ]
  },
  {
   "cell_type": "code",
   "execution_count": 65,
   "id": "manufactured-vocabulary",
   "metadata": {},
   "outputs": [
    {
     "data": {
      "text/plain": [
       "array([1, 2, 3, 4])"
      ]
     },
     "execution_count": 65,
     "metadata": {},
     "output_type": "execute_result"
    }
   ],
   "source": [
    "a = np.array([[1,2], [3,4]])\n",
    "np.ravel(a)"
   ]
  },
  {
   "cell_type": "code",
   "execution_count": 67,
   "id": "expressed-separate",
   "metadata": {},
   "outputs": [
    {
     "data": {
      "text/plain": [
       "array([1, 3, 2, 4])"
      ]
     },
     "execution_count": 67,
     "metadata": {},
     "output_type": "execute_result"
    }
   ],
   "source": [
    "a = np.array([[1,2], [3,4]])\n",
    "np.ravel(a,order='F')"
   ]
  },
  {
   "cell_type": "markdown",
   "id": "massive-ability",
   "metadata": {},
   "source": [
    "### Important Functions"
   ]
  },
  {
   "cell_type": "code",
   "execution_count": null,
   "id": "indonesian-maintenance",
   "metadata": {
    "code_folding": []
   },
   "outputs": [],
   "source": [
    "# all, any, apply_along_axis, argmax, argmin, argsort, average, bincount, ceil, clip, conj, \n",
    "# corrcoef, cov, cross, cumprod, cumsum, diff, dot, floor, inner, invert, lexsort, max, \n",
    "# maximum, mean, median, min, minimum, nonzero, outer, prod, re, round, sort, std, sum, trace, \n",
    "# transpose, var, vdot, vectorize, where"
   ]
  },
  {
   "cell_type": "code",
   "execution_count": 68,
   "id": "defensive-scott",
   "metadata": {},
   "outputs": [
    {
     "data": {
      "text/plain": [
       "False"
      ]
     },
     "execution_count": 68,
     "metadata": {},
     "output_type": "execute_result"
    }
   ],
   "source": [
    "c = [[True, False], [True, True]]\n",
    "arr = np.all(c)\n",
    "arr"
   ]
  },
  {
   "cell_type": "code",
   "execution_count": 70,
   "id": "fitted-middle",
   "metadata": {},
   "outputs": [
    {
     "data": {
      "text/plain": [
       "True"
      ]
     },
     "execution_count": 70,
     "metadata": {},
     "output_type": "execute_result"
    }
   ],
   "source": [
    "c = [[1, 1], [1, 1]]\n",
    "arr = np.all(c)\n",
    "arr"
   ]
  },
  {
   "cell_type": "code",
   "execution_count": 71,
   "id": "tracked-shoulder",
   "metadata": {},
   "outputs": [
    {
     "data": {
      "text/plain": [
       "True"
      ]
     },
     "execution_count": 71,
     "metadata": {},
     "output_type": "execute_result"
    }
   ],
   "source": [
    "c = [[True, False], [True, True]]\n",
    "arr = np.any(c)\n",
    "arr"
   ]
  },
  {
   "cell_type": "code",
   "execution_count": 73,
   "id": "architectural-wells",
   "metadata": {},
   "outputs": [
    {
     "data": {
      "text/plain": [
       "False"
      ]
     },
     "execution_count": 73,
     "metadata": {},
     "output_type": "execute_result"
    }
   ],
   "source": [
    "c = [[0, 0], [0, 0]]\n",
    "arr = np.any(c)\n",
    "arr"
   ]
  },
  {
   "cell_type": "code",
   "execution_count": 76,
   "id": "advisory-financing",
   "metadata": {},
   "outputs": [
    {
     "data": {
      "text/plain": [
       "array([11, 11, 14])"
      ]
     },
     "execution_count": 76,
     "metadata": {},
     "output_type": "execute_result"
    }
   ],
   "source": [
    "def func(a):\n",
    "    return (a[0]+ a[-1])   \n",
    "arr = np.array([[2,4,6],    \n",
    "              [1,3,5],     \n",
    "              [9,7,8]])    \n",
    "np.apply_along_axis(func,axis=0,arr=arr) # Sum first and last element column wise"
   ]
  },
  {
   "cell_type": "code",
   "execution_count": 77,
   "id": "complimentary-anatomy",
   "metadata": {},
   "outputs": [
    {
     "data": {
      "text/plain": [
       "array([ 8,  6, 17])"
      ]
     },
     "execution_count": 77,
     "metadata": {},
     "output_type": "execute_result"
    }
   ],
   "source": [
    "def func(a):\n",
    "    return (a[0]+ a[-1])   \n",
    "arr = np.array([[2,4,6],    \n",
    "              [1,3,5],     \n",
    "              [9,7,8]])    \n",
    "np.apply_along_axis(func,axis=1,arr=arr) # Sum first and last element row wise"
   ]
  },
  {
   "cell_type": "code",
   "execution_count": 94,
   "id": "joint-richards",
   "metadata": {},
   "outputs": [
    {
     "data": {
      "text/plain": [
       "array([[0, 1, 2, 3],\n",
       "       [1, 2, 3, 4],\n",
       "       [2, 3, 4, 5],\n",
       "       [3, 4, 5, 6],\n",
       "       [4, 5, 6, 7]])"
      ]
     },
     "execution_count": 94,
     "metadata": {},
     "output_type": "execute_result"
    }
   ],
   "source": [
    "def func(row,col):\n",
    "    return (row+col)\n",
    "\n",
    "np.fromfunction(func,(5,4),dtype=int)"
   ]
  },
  {
   "cell_type": "code",
   "execution_count": null,
   "id": "spatial-squad",
   "metadata": {},
   "outputs": [],
   "source": [
    "# argmax/argmin -Return indices of the maximum values along the given axis.\n"
   ]
  },
  {
   "cell_type": "code",
   "execution_count": 83,
   "id": "balanced-ceramic",
   "metadata": {},
   "outputs": [
    {
     "data": {
      "text/plain": [
       "array([0, 0, 1, 0, 3, 0, 1, 1], dtype=int64)"
      ]
     },
     "execution_count": 83,
     "metadata": {},
     "output_type": "execute_result"
    }
   ],
   "source": [
    "'''\n",
    "This will create an array of size max(arr)+1\n",
    "It will give the count of elemnets at respective index\n",
    "This will only work for +ve values\n",
    "'''\n",
    "np.bincount([4,6,7,4,2,4])"
   ]
  },
  {
   "cell_type": "code",
   "execution_count": 85,
   "id": "fluid-pennsylvania",
   "metadata": {},
   "outputs": [
    {
     "data": {
      "text/plain": [
       "array([2, 2, 2, 3, 4, 5, 6, 7, 7, 7])"
      ]
     },
     "execution_count": 85,
     "metadata": {},
     "output_type": "execute_result"
    }
   ],
   "source": [
    "'''\n",
    "Any element <= a_min will be clipped\n",
    "Any element >= a_max will be clipped\n",
    "'''\n",
    "arr = np.arange(10)\n",
    "np.clip(arr,a_min=2,a_max=7)"
   ]
  },
  {
   "cell_type": "code",
   "execution_count": 95,
   "id": "assured-finish",
   "metadata": {},
   "outputs": [],
   "source": [
    "# The dots (...) represent as many colons as needed to produce a complete indexing tuple. \n",
    "# For example, if x is an array with 5 axes, then\n",
    "\n",
    "#     x[1,2,...] is equivalent to x[1,2,:,:,:],\n",
    "\n",
    "#     x[...,3] to x[:,:,:,:,3] and\n",
    "\n",
    "#     x[4,...,5,:] to x[4,:,:,5,:].\n"
   ]
  },
  {
   "cell_type": "code",
   "execution_count": 96,
   "id": "unauthorized-wealth",
   "metadata": {},
   "outputs": [],
   "source": [
    "# Indexing, Indexing (reference), newaxis, ndenumerate, indices\n"
   ]
  },
  {
   "cell_type": "markdown",
   "id": "governing-allowance",
   "metadata": {},
   "source": [
    "### reshape / resize"
   ]
  },
  {
   "cell_type": "code",
   "execution_count": 99,
   "id": "french-teacher",
   "metadata": {},
   "outputs": [
    {
     "data": {
      "text/plain": [
       "array([[0.55874008, 0.67293368],\n",
       "       [0.9141838 , 0.62341736],\n",
       "       [0.21266514, 0.5824323 ]])"
      ]
     },
     "execution_count": 99,
     "metadata": {},
     "output_type": "execute_result"
    }
   ],
   "source": [
    "a = np.random.rand(2,3)\n",
    "a.reshape(3,2) #not inplace"
   ]
  },
  {
   "cell_type": "code",
   "execution_count": 102,
   "id": "modern-january",
   "metadata": {},
   "outputs": [
    {
     "data": {
      "text/plain": [
       "array([[0.46739584, 0.88212774],\n",
       "       [0.58113407, 0.53649547],\n",
       "       [0.50867788, 0.32805752]])"
      ]
     },
     "execution_count": 102,
     "metadata": {},
     "output_type": "execute_result"
    }
   ],
   "source": [
    "a = np.random.rand(2,3)\n",
    "a.resize(3,2) # inplace operation\n",
    "a"
   ]
  },
  {
   "cell_type": "code",
   "execution_count": null,
   "id": "fallen-second",
   "metadata": {},
   "outputs": [],
   "source": [
    "# Array Creation\n",
    "\n",
    "#     arange, array, copy, empty, empty_like, eye, fromfile, fromfunction, identity, \n",
    "# linspace, logspace, mgrid, ogrid, ones, ones_like, r_, zeros, zeros_like\n",
    "# Conversions\n",
    "\n",
    "#     ndarray.astype, atleast_1d, atleast_2d, atleast_3d, mat\n",
    "# Manipulations\n",
    "\n",
    "#     array_split, column_stack, concatenate, diagonal, dsplit, dstack, hsplit, hstack, ndarray.item, \n",
    "# newaxis, ravel, repeat, reshape, resize, squeeze, swapaxes, take, transpose, vsplit, vstack\n",
    "\n",
    "# Questions\n",
    "\n",
    "#     all, any, nonzero, where\n",
    "# Ordering\n",
    "\n",
    "#     argmax, argmin, argsort, max, min, ptp, searchsorted, sort\n",
    "# Operations\n",
    "\n",
    "#     choose, compress, cumprod, cumsum, inner, ndarray.fill, imag, prod, put, putmask, real, sum\n",
    "    \n",
    "# Basic Statistics\n",
    "\n",
    "#     cov, mean, std, var\n",
    "# Basic Linear Algebra\n",
    "\n",
    "#     cross, dot, outer, linalg.svd, vdot\n"
   ]
  },
  {
   "cell_type": "code",
   "execution_count": null,
   "id": "million-personality",
   "metadata": {},
   "outputs": [],
   "source": [
    "# np.ix_()"
   ]
  },
  {
   "cell_type": "code",
   "execution_count": 104,
   "id": "second-locator",
   "metadata": {},
   "outputs": [],
   "source": [
    "# numpy ufunc"
   ]
  },
  {
   "cell_type": "code",
   "execution_count": null,
   "id": "fleet-athens",
   "metadata": {},
   "outputs": [],
   "source": []
  },
  {
   "cell_type": "code",
   "execution_count": 74,
   "id": "fabulous-antigua",
   "metadata": {},
   "outputs": [
    {
     "data": {
      "text/plain": [
       "array([[1, 1],\n",
       "       [2, 2]])"
      ]
     },
     "execution_count": 74,
     "metadata": {},
     "output_type": "execute_result"
    }
   ],
   "source": [
    "arr = np.array([[1, 1], [2, 2]])\n",
    "arr\n",
    "\n",
    "arr.sum()\n",
    "\n",
    "arr.sum(axis=0)\n",
    "\n",
    "arr.sum(axis=1)"
   ]
  }
 ],
 "metadata": {
  "kernelspec": {
   "display_name": "Python 3",
   "language": "python",
   "name": "python3"
  },
  "language_info": {
   "codemirror_mode": {
    "name": "ipython",
    "version": 3
   },
   "file_extension": ".py",
   "mimetype": "text/x-python",
   "name": "python",
   "nbconvert_exporter": "python",
   "pygments_lexer": "ipython3",
   "version": "3.7.0"
  }
 },
 "nbformat": 4,
 "nbformat_minor": 5
}
