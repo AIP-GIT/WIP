{
  "nbformat": 4,
  "nbformat_minor": 0,
  "metadata": {
    "colab": {
      "name": "Num2.ipynb",
      "provenance": [],
      "collapsed_sections": []
    },
    "kernelspec": {
      "name": "python3",
      "display_name": "Python 3"
    }
  },
  "cells": [
    {
      "cell_type": "markdown",
      "metadata": {
        "id": "pyBp7NYvYX2b"
      },
      "source": [
        "repeat, squeeze, swapaxes, take, \r\n",
        "# nonzero, where, ptp,\r\n",
        "# choose, compress, cumprod, cumsum, inner, ndarray.fill, imag, prod, put, putmask, real,\r\n"
      ]
    },
    {
      "cell_type": "markdown",
      "metadata": {
        "id": "YvG-reh3ZpZF"
      },
      "source": [
        "# *#repeat*- syn:numpy.repeat(arr, repetitions, axis = None)"
      ]
    },
    {
      "cell_type": "code",
      "metadata": {
        "colab": {
          "base_uri": "https://localhost:8080/"
        },
        "id": "BD2y1qqRYdC8",
        "outputId": "7c8adb74-21cd-46d2-b6d0-0614ad088cbb"
      },
      "source": [
        "import numpy as np\r\n",
        "\r\n",
        "np.repeat(3, 4)"
      ],
      "execution_count": null,
      "outputs": [
        {
          "output_type": "execute_result",
          "data": {
            "text/plain": [
              "array([3, 3, 3, 3])"
            ]
          },
          "metadata": {
            "tags": []
          },
          "execution_count": 3
        }
      ]
    },
    {
      "cell_type": "code",
      "metadata": {
        "colab": {
          "base_uri": "https://localhost:8080/"
        },
        "id": "lQU3D03BqXrs",
        "outputId": "1c5a529a-75ec-4525-9b15-81195af03b4d"
      },
      "source": [
        "x = np.array([[1,2],[3,4]])\r\n",
        "np.repeat(x, 2)"
      ],
      "execution_count": null,
      "outputs": [
        {
          "output_type": "execute_result",
          "data": {
            "text/plain": [
              "array([1, 1, 2, 2, 3, 3, 4, 4])"
            ]
          },
          "metadata": {
            "tags": []
          },
          "execution_count": 4
        }
      ]
    },
    {
      "cell_type": "code",
      "metadata": {
        "colab": {
          "base_uri": "https://localhost:8080/"
        },
        "id": "3EH60MXkqgjs",
        "outputId": "631b5024-8bb2-42f0-89b3-6ef09da7c164"
      },
      "source": [
        "np.repeat(x, 3, axis=1)"
      ],
      "execution_count": null,
      "outputs": [
        {
          "output_type": "execute_result",
          "data": {
            "text/plain": [
              "array([[1, 1, 1, 2, 2, 2],\n",
              "       [3, 3, 3, 4, 4, 4]])"
            ]
          },
          "metadata": {
            "tags": []
          },
          "execution_count": 5
        }
      ]
    },
    {
      "cell_type": "code",
      "metadata": {
        "colab": {
          "base_uri": "https://localhost:8080/"
        },
        "id": "YKfYIz3SqttK",
        "outputId": "34787701-2bbc-4b35-92fa-31c18fb058da"
      },
      "source": [
        "np.repeat(x, [1, 2], axis=0)"
      ],
      "execution_count": null,
      "outputs": [
        {
          "output_type": "execute_result",
          "data": {
            "text/plain": [
              "array([[1, 2],\n",
              "       [3, 4],\n",
              "       [3, 4]])"
            ]
          },
          "metadata": {
            "tags": []
          },
          "execution_count": 6
        }
      ]
    },
    {
      "cell_type": "markdown",
      "metadata": {
        "id": "Kss3qtc6re63"
      },
      "source": [
        "## #Squeeze -syn:numpy.squeeze(a, axis=None)"
      ]
    },
    {
      "cell_type": "code",
      "metadata": {
        "id": "VYGNimYPr58B"
      },
      "source": [
        "Remove axes of length one from a."
      ],
      "execution_count": null,
      "outputs": []
    },
    {
      "cell_type": "code",
      "metadata": {
        "colab": {
          "base_uri": "https://localhost:8080/"
        },
        "id": "R3Iv7AVRsDtn",
        "outputId": "aa74fa74-16bd-45b0-8509-0094a95f0f60"
      },
      "source": [
        "import numpy as np\r\n",
        "x = np.array([[[0], [1], [2]]])\r\n",
        "x.shape"
      ],
      "execution_count": null,
      "outputs": [
        {
          "output_type": "execute_result",
          "data": {
            "text/plain": [
              "(1, 3, 1)"
            ]
          },
          "metadata": {
            "tags": []
          },
          "execution_count": 8
        }
      ]
    },
    {
      "cell_type": "code",
      "metadata": {
        "colab": {
          "base_uri": "https://localhost:8080/"
        },
        "id": "cpk4GjCzsKD_",
        "outputId": "6442ca5b-e964-4b10-8264-6c6892a574e5"
      },
      "source": [
        "np.squeeze(x).shape\r\n",
        "(3,)"
      ],
      "execution_count": null,
      "outputs": [
        {
          "output_type": "execute_result",
          "data": {
            "text/plain": [
              "(3,)"
            ]
          },
          "metadata": {
            "tags": []
          },
          "execution_count": 9
        }
      ]
    },
    {
      "cell_type": "code",
      "metadata": {
        "colab": {
          "base_uri": "https://localhost:8080/"
        },
        "id": "U3_8nWeNsRfF",
        "outputId": "99455043-51ea-481e-edb3-4d047281d673"
      },
      "source": [
        "np.squeeze(x, axis=0).shape\r\n"
      ],
      "execution_count": null,
      "outputs": [
        {
          "output_type": "execute_result",
          "data": {
            "text/plain": [
              "(3, 1)"
            ]
          },
          "metadata": {
            "tags": []
          },
          "execution_count": 11
        }
      ]
    },
    {
      "cell_type": "code",
      "metadata": {
        "colab": {
          "base_uri": "https://localhost:8080/",
          "height": 316
        },
        "id": "v-ifrTWJsYPJ",
        "outputId": "206497c5-7260-4c13-deb5-123a17235cef"
      },
      "source": [
        "np.squeeze(x, axis=1).shape"
      ],
      "execution_count": null,
      "outputs": [
        {
          "output_type": "error",
          "ename": "ValueError",
          "evalue": "ignored",
          "traceback": [
            "\u001b[0;31m---------------------------------------------------------------------------\u001b[0m",
            "\u001b[0;31mValueError\u001b[0m                                Traceback (most recent call last)",
            "\u001b[0;32m<ipython-input-12-182a4f2e2f87>\u001b[0m in \u001b[0;36m<module>\u001b[0;34m()\u001b[0m\n\u001b[0;32m----> 1\u001b[0;31m \u001b[0mnp\u001b[0m\u001b[0;34m.\u001b[0m\u001b[0msqueeze\u001b[0m\u001b[0;34m(\u001b[0m\u001b[0mx\u001b[0m\u001b[0;34m,\u001b[0m \u001b[0maxis\u001b[0m\u001b[0;34m=\u001b[0m\u001b[0;36m1\u001b[0m\u001b[0;34m)\u001b[0m\u001b[0;34m.\u001b[0m\u001b[0mshape\u001b[0m\u001b[0;34m\u001b[0m\u001b[0;34m\u001b[0m\u001b[0m\n\u001b[0m",
            "\u001b[0;32m<__array_function__ internals>\u001b[0m in \u001b[0;36msqueeze\u001b[0;34m(*args, **kwargs)\u001b[0m\n",
            "\u001b[0;32m/usr/local/lib/python3.7/dist-packages/numpy/core/fromnumeric.py\u001b[0m in \u001b[0;36msqueeze\u001b[0;34m(a, axis)\u001b[0m\n\u001b[1;32m   1493\u001b[0m         \u001b[0;32mreturn\u001b[0m \u001b[0msqueeze\u001b[0m\u001b[0;34m(\u001b[0m\u001b[0;34m)\u001b[0m\u001b[0;34m\u001b[0m\u001b[0;34m\u001b[0m\u001b[0m\n\u001b[1;32m   1494\u001b[0m     \u001b[0;32melse\u001b[0m\u001b[0;34m:\u001b[0m\u001b[0;34m\u001b[0m\u001b[0;34m\u001b[0m\u001b[0m\n\u001b[0;32m-> 1495\u001b[0;31m         \u001b[0;32mreturn\u001b[0m \u001b[0msqueeze\u001b[0m\u001b[0;34m(\u001b[0m\u001b[0maxis\u001b[0m\u001b[0;34m=\u001b[0m\u001b[0maxis\u001b[0m\u001b[0;34m)\u001b[0m\u001b[0;34m\u001b[0m\u001b[0;34m\u001b[0m\u001b[0m\n\u001b[0m\u001b[1;32m   1496\u001b[0m \u001b[0;34m\u001b[0m\u001b[0m\n\u001b[1;32m   1497\u001b[0m \u001b[0;34m\u001b[0m\u001b[0m\n",
            "\u001b[0;31mValueError\u001b[0m: cannot select an axis to squeeze out which has size not equal to one"
          ]
        }
      ]
    },
    {
      "cell_type": "code",
      "metadata": {
        "colab": {
          "base_uri": "https://localhost:8080/"
        },
        "id": "iRfA_iSItK00",
        "outputId": "b770f5d0-f840-4104-a005-5e5bcd846252"
      },
      "source": [
        "np.squeeze(x, axis=2).shape\r\n"
      ],
      "execution_count": null,
      "outputs": [
        {
          "output_type": "execute_result",
          "data": {
            "text/plain": [
              "(1, 3)"
            ]
          },
          "metadata": {
            "tags": []
          },
          "execution_count": 14
        }
      ]
    },
    {
      "cell_type": "code",
      "metadata": {
        "colab": {
          "base_uri": "https://localhost:8080/"
        },
        "id": "mF6R3J9ztYtI",
        "outputId": "e6796280-c1f6-4599-bd61-955df6204132"
      },
      "source": [
        "x = np.array([[1234]])\r\n",
        "x.shape"
      ],
      "execution_count": null,
      "outputs": [
        {
          "output_type": "execute_result",
          "data": {
            "text/plain": [
              "(1, 1)"
            ]
          },
          "metadata": {
            "tags": []
          },
          "execution_count": 15
        }
      ]
    },
    {
      "cell_type": "code",
      "metadata": {
        "colab": {
          "base_uri": "https://localhost:8080/"
        },
        "id": "V5E_M9HVtszJ",
        "outputId": "8a78a49b-e1f4-47b8-a504-572f6288543e"
      },
      "source": [
        "np.squeeze(x)"
      ],
      "execution_count": null,
      "outputs": [
        {
          "output_type": "execute_result",
          "data": {
            "text/plain": [
              "array(1234)"
            ]
          },
          "metadata": {
            "tags": []
          },
          "execution_count": 17
        }
      ]
    },
    {
      "cell_type": "code",
      "metadata": {
        "colab": {
          "base_uri": "https://localhost:8080/"
        },
        "id": "qh88GyXutzbt",
        "outputId": "7babdb49-6b5a-42cc-d2ca-e3f317b66a9d"
      },
      "source": [
        "np.squeeze(x).shape"
      ],
      "execution_count": null,
      "outputs": [
        {
          "output_type": "execute_result",
          "data": {
            "text/plain": [
              "()"
            ]
          },
          "metadata": {
            "tags": []
          },
          "execution_count": 20
        }
      ]
    },
    {
      "cell_type": "code",
      "metadata": {
        "colab": {
          "base_uri": "https://localhost:8080/"
        },
        "id": "ilroNYD0t6P2",
        "outputId": "48944024-e83a-4553-9da2-b4bdd97edf9f"
      },
      "source": [
        "np.squeeze(x)[()]"
      ],
      "execution_count": null,
      "outputs": [
        {
          "output_type": "execute_result",
          "data": {
            "text/plain": [
              "1234"
            ]
          },
          "metadata": {
            "tags": []
          },
          "execution_count": 19
        }
      ]
    },
    {
      "cell_type": "markdown",
      "metadata": {
        "id": "H_U7dhRmuVRd"
      },
      "source": [
        "#ptp-The numpy. ptp() function returns the range (maximum-minimum) of values along an axis."
      ]
    },
    {
      "cell_type": "markdown",
      "metadata": {
        "id": "zwZiNMRDvfVB"
      },
      "source": [
        " preserves the data type of the array. This means the return value for an input of signed integers with n bits (e.g. np.int8, np.int16, etc)"
      ]
    },
    {
      "cell_type": "code",
      "metadata": {
        "id": "L5SXJq08uCpn"
      },
      "source": [
        "import numpy as np\r\n",
        "\r\n",
        "x = np.array([[4, 9, 2, 10],\r\n",
        "              [6, 9, 7, 12]])"
      ],
      "execution_count": null,
      "outputs": []
    },
    {
      "cell_type": "code",
      "metadata": {
        "colab": {
          "base_uri": "https://localhost:8080/"
        },
        "id": "LpA9llDn69Kl",
        "outputId": "224d3fce-81fd-4cf3-fddc-6d90e97296ee"
      },
      "source": [
        "np.ptp(x, axis=1)#daut"
      ],
      "execution_count": null,
      "outputs": [
        {
          "output_type": "execute_result",
          "data": {
            "text/plain": [
              "array([8, 6])"
            ]
          },
          "metadata": {
            "tags": []
          },
          "execution_count": 23
        }
      ]
    },
    {
      "cell_type": "code",
      "metadata": {
        "colab": {
          "base_uri": "https://localhost:8080/"
        },
        "id": "yKMUWehd7LBQ",
        "outputId": "aed5644f-60e2-4a32-aa8b-1de7de2f4968"
      },
      "source": [
        "np.ptp(x, axis=0)#daut"
      ],
      "execution_count": null,
      "outputs": [
        {
          "output_type": "execute_result",
          "data": {
            "text/plain": [
              "array([2, 0, 5, 2])"
            ]
          },
          "metadata": {
            "tags": []
          },
          "execution_count": 24
        }
      ]
    },
    {
      "cell_type": "code",
      "metadata": {
        "colab": {
          "base_uri": "https://localhost:8080/"
        },
        "id": "smxrektv7eSl",
        "outputId": "41bc59ce-0412-4974-b910-f82746dbb9ff"
      },
      "source": [
        "np.ptp(x)#daut"
      ],
      "execution_count": null,
      "outputs": [
        {
          "output_type": "execute_result",
          "data": {
            "text/plain": [
              "10"
            ]
          },
          "metadata": {
            "tags": []
          },
          "execution_count": 25
        }
      ]
    },
    {
      "cell_type": "code",
      "metadata": {
        "id": "IUO2JTI87i9y"
      },
      "source": [
        "import numpy as np  #d\r\n",
        "y = np.array([[1, 127],\r\n",
        "              [0, 127],\r\n",
        "              [-1, 127],\r\n",
        "              [-2, 127]], dtype=np.int8)"
      ],
      "execution_count": null,
      "outputs": []
    },
    {
      "cell_type": "code",
      "metadata": {
        "colab": {
          "base_uri": "https://localhost:8080/"
        },
        "id": "-g2Kxn0khBGu",
        "outputId": "ed4a734d-195f-4c6f-ea0d-5670ed985c05"
      },
      "source": [
        "np.ptp(y, axis=1)#This example shows that a negative value can be returned when the input is an array of signed integers."
      ],
      "execution_count": null,
      "outputs": [
        {
          "output_type": "execute_result",
          "data": {
            "text/plain": [
              "array([ 126,  127, -128, -127], dtype=int8)"
            ]
          },
          "metadata": {
            "tags": []
          },
          "execution_count": 4
        }
      ]
    },
    {
      "cell_type": "code",
      "metadata": {
        "colab": {
          "base_uri": "https://localhost:8080/"
        },
        "id": "mMZV4vqchVgQ",
        "outputId": "35e33e20-8256-42fd-91cd-626a010cfe33"
      },
      "source": [
        "np.ptp(y, axis=1).view(np.uint8)"
      ],
      "execution_count": null,
      "outputs": [
        {
          "output_type": "execute_result",
          "data": {
            "text/plain": [
              "array([126, 127, 128, 129], dtype=uint8)"
            ]
          },
          "metadata": {
            "tags": []
          },
          "execution_count": 5
        }
      ]
    },
    {
      "cell_type": "markdown",
      "metadata": {
        "id": "5maKM3t_hu9f"
      },
      "source": [
        "#Choose\r\n",
        " syn:numpy.choose(a, choices, out=None, mode='raise')[source]\r\n",
        " \r\n",
        " With the help of Numpy numpy.choose() method, we can select the elements from an multidimensional array by passing a parameter as an array which contain the index of row number to be selected. Output array having the same size as passed in the parameter."
      ]
    },
    {
      "cell_type": "code",
      "metadata": {
        "id": "I-4acc-7hmUd"
      },
      "source": [
        "import numpy as np\r\n"
      ],
      "execution_count": null,
      "outputs": []
    },
    {
      "cell_type": "code",
      "metadata": {
        "colab": {
          "base_uri": "https://localhost:8080/"
        },
        "id": "x9MWmCsL6JJk",
        "outputId": "7487cc32-2d10-4640-f482-f3d351687380"
      },
      "source": [
        "np.random.choice(5, 3)#np.random.choice(5, 3)"
      ],
      "execution_count": null,
      "outputs": [
        {
          "output_type": "execute_result",
          "data": {
            "text/plain": [
              "array([3, 2, 3])"
            ]
          },
          "metadata": {
            "tags": []
          },
          "execution_count": 4
        }
      ]
    },
    {
      "cell_type": "code",
      "metadata": {
        "colab": {
          "base_uri": "https://localhost:8080/"
        },
        "id": "7qQxVGiT6g3l",
        "outputId": "ac01eca9-226d-4f1c-8921-09dd4271f2c3"
      },
      "source": [
        "a = [[1, 0, 1], [0, 1, 0], [1, 0, 1]]#d\r\n",
        "choices = [-10, 10]\r\n",
        "np.choose(a, choices)"
      ],
      "execution_count": null,
      "outputs": [
        {
          "output_type": "execute_result",
          "data": {
            "text/plain": [
              "array([[ 10, -10,  10],\n",
              "       [-10,  10, -10],\n",
              "       [ 10, -10,  10]])"
            ]
          },
          "metadata": {
            "tags": []
          },
          "execution_count": 5
        }
      ]
    },
    {
      "cell_type": "code",
      "metadata": {
        "colab": {
          "base_uri": "https://localhost:8080/"
        },
        "id": "ySQ8zojqKNYt",
        "outputId": "d66ade58-860d-42c3-91b9-8c9d7a038ab4"
      },
      "source": [
        "a = np.array([0, 1]).reshape((2,1,1))#d\r\n",
        "c1 = np.array([1, 2, 3]).reshape((1,3,1))\r\n",
        "c2 = np.array([-1, -2, -3, -4, -5]).reshape((1,1,5))\r\n",
        "np.choose(a, (c1, c2)) # result is 2x3x5, res[0,:,:]=c1, res[1,:,:]=c2\r\n"
      ],
      "execution_count": null,
      "outputs": [
        {
          "output_type": "execute_result",
          "data": {
            "text/plain": [
              "array([[[ 1,  1,  1,  1,  1],\n",
              "        [ 2,  2,  2,  2,  2],\n",
              "        [ 3,  3,  3,  3,  3]],\n",
              "\n",
              "       [[-1, -2, -3, -4, -5],\n",
              "        [-1, -2, -3, -4, -5],\n",
              "        [-1, -2, -3, -4, -5]]])"
            ]
          },
          "metadata": {
            "tags": []
          },
          "execution_count": 7
        }
      ]
    },
    {
      "cell_type": "markdown",
      "metadata": {
        "id": "IlqUM1CmLHxy"
      },
      "source": [
        "#numpy.compress(condition, a, axis=None, out=None)\r\n",
        "Return selected slices of an array along given axis."
      ]
    },
    {
      "cell_type": "code",
      "metadata": {
        "colab": {
          "base_uri": "https://localhost:8080/"
        },
        "id": "XOze58NGKgwI",
        "outputId": "366439e4-1bd0-4080-e066-34be48fc09bd"
      },
      "source": [
        "a = np.array([[1, 2], [3, 4], [5, 6]])\r\n",
        "a"
      ],
      "execution_count": null,
      "outputs": [
        {
          "output_type": "execute_result",
          "data": {
            "text/plain": [
              "array([[1, 2],\n",
              "       [3, 4],\n",
              "       [5, 6]])"
            ]
          },
          "metadata": {
            "tags": []
          },
          "execution_count": 8
        }
      ]
    },
    {
      "cell_type": "code",
      "metadata": {
        "colab": {
          "base_uri": "https://localhost:8080/"
        },
        "id": "EkqXEg9MLV-z",
        "outputId": "a27cb490-393f-4814-83a2-5d0b44d30f79"
      },
      "source": [
        "np.compress([0, 1], a, axis=0)"
      ],
      "execution_count": null,
      "outputs": [
        {
          "output_type": "execute_result",
          "data": {
            "text/plain": [
              "array([[3, 4]])"
            ]
          },
          "metadata": {
            "tags": []
          },
          "execution_count": 9
        }
      ]
    },
    {
      "cell_type": "code",
      "metadata": {
        "colab": {
          "base_uri": "https://localhost:8080/"
        },
        "id": "VZrdOKZFLapH",
        "outputId": "eefb6144-b4c2-4884-f324-7113ad8c976b"
      },
      "source": [
        "np.compress([False, True, True], a, axis=0)"
      ],
      "execution_count": null,
      "outputs": [
        {
          "output_type": "execute_result",
          "data": {
            "text/plain": [
              "array([[3, 4],\n",
              "       [5, 6]])"
            ]
          },
          "metadata": {
            "tags": []
          },
          "execution_count": 10
        }
      ]
    },
    {
      "cell_type": "code",
      "metadata": {
        "colab": {
          "base_uri": "https://localhost:8080/"
        },
        "id": "cJ7Y6vuqLkMH",
        "outputId": "6817155e-2d20-4f54-f7c0-c27fe4e26f96"
      },
      "source": [
        "np.compress([False, True], a, axis=1)"
      ],
      "execution_count": null,
      "outputs": [
        {
          "output_type": "execute_result",
          "data": {
            "text/plain": [
              "array([[2],\n",
              "       [4],\n",
              "       [6]])"
            ]
          },
          "metadata": {
            "tags": []
          },
          "execution_count": 11
        }
      ]
    },
    {
      "cell_type": "markdown",
      "metadata": {
        "id": "hwJEsZh5U_7F"
      },
      "source": [
        "#numpy cumpod\r\n",
        "numpy.cumprod(a, axis=None, dtype=None, out=None)\r\n"
      ]
    },
    {
      "cell_type": "code",
      "metadata": {
        "colab": {
          "base_uri": "https://localhost:8080/"
        },
        "id": "G1Z24kevU-9j",
        "outputId": "376f04dc-1659-407c-a967-6a2f553c3a7b"
      },
      "source": [
        "a = np.array([1,2,3])\r\n",
        "np.cumprod(a) "
      ],
      "execution_count": 12,
      "outputs": [
        {
          "output_type": "execute_result",
          "data": {
            "text/plain": [
              "array([1, 2, 6])"
            ]
          },
          "metadata": {
            "tags": []
          },
          "execution_count": 12
        }
      ]
    },
    {
      "cell_type": "code",
      "metadata": {
        "id": "1_9qD_oXLskq",
        "colab": {
          "base_uri": "https://localhost:8080/"
        },
        "outputId": "68dbd4ae-59dc-4225-c1d7-895c0658da93"
      },
      "source": [
        "np.cumprod(a, axis=0)"
      ],
      "execution_count": 13,
      "outputs": [
        {
          "output_type": "execute_result",
          "data": {
            "text/plain": [
              "array([1, 2, 6])"
            ]
          },
          "metadata": {
            "tags": []
          },
          "execution_count": 13
        }
      ]
    },
    {
      "cell_type": "markdown",
      "metadata": {
        "id": "IFAjC-7QWwPd"
      },
      "source": [
        "#numpy.cumsum\r\n",
        "numpy.cumsum(a, axis=None, dtype=None, out=None)"
      ]
    },
    {
      "cell_type": "code",
      "metadata": {
        "colab": {
          "base_uri": "https://localhost:8080/"
        },
        "id": "EEoVfP1_V06P",
        "outputId": "3f727c93-a177-4d28-cbfa-217559978d9e"
      },
      "source": [
        "import numpy as np\r\n",
        "a = np.array([[1,2,3], [4,5,6]])\r\n",
        "a"
      ],
      "execution_count": 17,
      "outputs": [
        {
          "output_type": "execute_result",
          "data": {
            "text/plain": [
              "array([[1, 2, 3],\n",
              "       [4, 5, 6]])"
            ]
          },
          "metadata": {
            "tags": []
          },
          "execution_count": 17
        }
      ]
    },
    {
      "cell_type": "code",
      "metadata": {
        "colab": {
          "base_uri": "https://localhost:8080/"
        },
        "id": "tkbxz8pIXPAg",
        "outputId": "917953ad-1365-4b5c-ac52-ef1b5d4652ea"
      },
      "source": [
        "np.cumsum(a)"
      ],
      "execution_count": 18,
      "outputs": [
        {
          "output_type": "execute_result",
          "data": {
            "text/plain": [
              "array([ 1,  3,  6, 10, 15, 21])"
            ]
          },
          "metadata": {
            "tags": []
          },
          "execution_count": 18
        }
      ]
    },
    {
      "cell_type": "code",
      "metadata": {
        "colab": {
          "base_uri": "https://localhost:8080/"
        },
        "id": "rDmKzFNaXdAF",
        "outputId": "bcc68a00-605f-47c2-b14d-113201511c32"
      },
      "source": [
        "np.cumsum(a, dtype=float)     # specifies type of output value(s)"
      ],
      "execution_count": 19,
      "outputs": [
        {
          "output_type": "execute_result",
          "data": {
            "text/plain": [
              "array([ 1.,  3.,  6., 10., 15., 21.])"
            ]
          },
          "metadata": {
            "tags": []
          },
          "execution_count": 19
        }
      ]
    },
    {
      "cell_type": "code",
      "metadata": {
        "colab": {
          "base_uri": "https://localhost:8080/"
        },
        "id": "dzlTUS_OXlea",
        "outputId": "adf3eb89-c6a6-4d62-aca9-a0634691703d"
      },
      "source": [
        "np.cumsum(a,axis=0)"
      ],
      "execution_count": 20,
      "outputs": [
        {
          "output_type": "execute_result",
          "data": {
            "text/plain": [
              "array([[1, 2, 3],\n",
              "       [5, 7, 9]])"
            ]
          },
          "metadata": {
            "tags": []
          },
          "execution_count": 20
        }
      ]
    },
    {
      "cell_type": "code",
      "metadata": {
        "colab": {
          "base_uri": "https://localhost:8080/"
        },
        "id": "9JaoUSxSXsCJ",
        "outputId": "ba0b7fb4-2e3d-4bdb-9a39-d23fc26841d4"
      },
      "source": [
        "np.cumsum(a,axis=1)"
      ],
      "execution_count": 21,
      "outputs": [
        {
          "output_type": "execute_result",
          "data": {
            "text/plain": [
              "array([[ 1,  3,  6],\n",
              "       [ 4,  9, 15]])"
            ]
          },
          "metadata": {
            "tags": []
          },
          "execution_count": 21
        }
      ]
    },
    {
      "cell_type": "markdown",
      "metadata": {
        "id": "jwITMCqCYnRj"
      },
      "source": [
        "#numpy.inner\r\n",
        "numpy.inner(a, b)\r\n",
        "Inner product of two arrays."
      ]
    },
    {
      "cell_type": "code",
      "metadata": {
        "id": "lWNfIgpqXzWo"
      },
      "source": [
        "a = np.array([1,2,3])\r\n",
        "b = np.array([0,1,0])"
      ],
      "execution_count": 22,
      "outputs": []
    },
    {
      "cell_type": "code",
      "metadata": {
        "colab": {
          "base_uri": "https://localhost:8080/"
        },
        "id": "7hXC9n-oZCc2",
        "outputId": "e87de301-150c-48ab-b2f9-34b24a58fc49"
      },
      "source": [
        "a = np.arange(24).reshape((2,3,4))#multidimensional array\r\n",
        "b = np.arange(4)\r\n",
        "np.inner(a, b)"
      ],
      "execution_count": 23,
      "outputs": [
        {
          "output_type": "execute_result",
          "data": {
            "text/plain": [
              "array([[ 14,  38,  62],\n",
              "       [ 86, 110, 134]])"
            ]
          },
          "metadata": {
            "tags": []
          },
          "execution_count": 23
        }
      ]
    },
    {
      "cell_type": "code",
      "metadata": {
        "colab": {
          "base_uri": "https://localhost:8080/"
        },
        "id": "BIV0fMTtZU7w",
        "outputId": "ac9a856c-4df6-4944-a695-0d09f18bc714"
      },
      "source": [
        "np.inner(np.eye(2), 7)#An example where b is a scalar:"
      ],
      "execution_count": 24,
      "outputs": [
        {
          "output_type": "execute_result",
          "data": {
            "text/plain": [
              "array([[7., 0.],\n",
              "       [0., 7.]])"
            ]
          },
          "metadata": {
            "tags": []
          },
          "execution_count": 24
        }
      ]
    },
    {
      "cell_type": "markdown",
      "metadata": {
        "id": "CMxnLld_aBAN"
      },
      "source": [
        "#numpy.ndarray.fill\r\n",
        "\r\n",
        "ndarray.fill(value)\r\n",
        "Fill the array with a scalar value."
      ]
    },
    {
      "cell_type": "code",
      "metadata": {
        "id": "MGLUHtqgZh2y"
      },
      "source": [
        "import numpy as np\r\n"
      ],
      "execution_count": 28,
      "outputs": []
    },
    {
      "cell_type": "code",
      "metadata": {
        "colab": {
          "base_uri": "https://localhost:8080/"
        },
        "id": "Inb4-Tq8aMyI",
        "outputId": "d22bfe1e-c3d4-4c91-c671-2f7349497c40"
      },
      "source": [
        "a = np.array([1, 2])\r\n",
        "a.fill(0)\r\n",
        "a"
      ],
      "execution_count": 31,
      "outputs": [
        {
          "output_type": "execute_result",
          "data": {
            "text/plain": [
              "array([0, 0])"
            ]
          },
          "metadata": {
            "tags": []
          },
          "execution_count": 31
        }
      ]
    },
    {
      "cell_type": "code",
      "metadata": {
        "colab": {
          "base_uri": "https://localhost:8080/"
        },
        "id": "edukeMKpaXi5",
        "outputId": "9bc8a07e-816d-4a37-bc4b-5c299fcb51fd"
      },
      "source": [
        "a = np.empty(2)\r\n",
        "a.fill(1)\r\n",
        "a"
      ],
      "execution_count": 32,
      "outputs": [
        {
          "output_type": "execute_result",
          "data": {
            "text/plain": [
              "array([1., 1.])"
            ]
          },
          "metadata": {
            "tags": []
          },
          "execution_count": 32
        }
      ]
    },
    {
      "cell_type": "markdown",
      "metadata": {
        "id": "_ftVF0_obNio"
      },
      "source": [
        "#numpy.imag\r\n",
        "syn:numpy.imag(val)"
      ]
    },
    {
      "cell_type": "code",
      "metadata": {
        "colab": {
          "base_uri": "https://localhost:8080/"
        },
        "id": "ybJesHFlagky",
        "outputId": "5020a258-4b7b-41d6-c93c-cc94208a9ea5"
      },
      "source": [
        "a = np.array([1+2j, 3+4j, 5+6j])\r\n",
        "a.imag"
      ],
      "execution_count": 33,
      "outputs": [
        {
          "output_type": "execute_result",
          "data": {
            "text/plain": [
              "array([2., 4., 6.])"
            ]
          },
          "metadata": {
            "tags": []
          },
          "execution_count": 33
        }
      ]
    },
    {
      "cell_type": "code",
      "metadata": {
        "colab": {
          "base_uri": "https://localhost:8080/"
        },
        "id": "9DH5kvWVbV1-",
        "outputId": "a258918f-4468-4c02-f9db-b6e6731c9d73"
      },
      "source": [
        "a.imag = np.array([8, 10, 12])\r\n",
        "a"
      ],
      "execution_count": 34,
      "outputs": [
        {
          "output_type": "execute_result",
          "data": {
            "text/plain": [
              "array([1. +8.j, 3.+10.j, 5.+12.j])"
            ]
          },
          "metadata": {
            "tags": []
          },
          "execution_count": 34
        }
      ]
    },
    {
      "cell_type": "markdown",
      "metadata": {
        "id": "2V1pe43zcfAE"
      },
      "source": [
        "Numpy.prod\r\n"
      ]
    },
    {
      "cell_type": "code",
      "metadata": {
        "colab": {
          "base_uri": "https://localhost:8080/"
        },
        "id": "IsTZfZWVceBj",
        "outputId": "e7f8a3f7-b9e8-4cea-d851-2104090217ee"
      },
      "source": [
        "\r\n",
        "np.prod([1.,2.])#By default, calculate the product of all elements:"
      ],
      "execution_count": 38,
      "outputs": [
        {
          "output_type": "execute_result",
          "data": {
            "text/plain": [
              "2.0"
            ]
          },
          "metadata": {
            "tags": []
          },
          "execution_count": 38
        }
      ]
    },
    {
      "cell_type": "code",
      "metadata": {
        "colab": {
          "base_uri": "https://localhost:8080/"
        },
        "id": "vmSwPNyUbdEi",
        "outputId": "19db27d7-27f0-449f-8d6d-aa207ff2081f"
      },
      "source": [
        "np.prod([[1.,2.],[3.,4.]])#Even when the input array is two-dimensional:"
      ],
      "execution_count": 39,
      "outputs": [
        {
          "output_type": "execute_result",
          "data": {
            "text/plain": [
              "24.0"
            ]
          },
          "metadata": {
            "tags": []
          },
          "execution_count": 39
        }
      ]
    },
    {
      "cell_type": "code",
      "metadata": {
        "colab": {
          "base_uri": "https://localhost:8080/"
        },
        "id": "K-i1_8Osc1Mo",
        "outputId": "47a8b23f-9724-481c-aa72-79c66708e086"
      },
      "source": [
        "np.prod([[1.,2.],[3.,4.]], axis=1)# specify the axis over which to multiply:"
      ],
      "execution_count": 40,
      "outputs": [
        {
          "output_type": "execute_result",
          "data": {
            "text/plain": [
              "array([ 2., 12.])"
            ]
          },
          "metadata": {
            "tags": []
          },
          "execution_count": 40
        }
      ]
    },
    {
      "cell_type": "code",
      "metadata": {
        "colab": {
          "base_uri": "https://localhost:8080/"
        },
        "id": "L04BP7dYc_gO",
        "outputId": "ecb9c0c4-2554-4ba2-f3e1-bb7724f01501"
      },
      "source": [
        "np.prod([1., np.nan, 3.], where=[True, False, True])"
      ],
      "execution_count": 41,
      "outputs": [
        {
          "output_type": "execute_result",
          "data": {
            "text/plain": [
              "3.0"
            ]
          },
          "metadata": {
            "tags": []
          },
          "execution_count": 41
        }
      ]
    },
    {
      "cell_type": "code",
      "metadata": {
        "colab": {
          "base_uri": "https://localhost:8080/"
        },
        "id": "I-1GYJRvdPCJ",
        "outputId": "4ae6e4f8-82df-42dc-aa83-0cac779dd83a"
      },
      "source": [
        "x = np.array([1, 2, 3], dtype=np.uint8)\r\n",
        "np.prod(x).dtype == np.uint"
      ],
      "execution_count": 42,
      "outputs": [
        {
          "output_type": "execute_result",
          "data": {
            "text/plain": [
              "True"
            ]
          },
          "metadata": {
            "tags": []
          },
          "execution_count": 42
        }
      ]
    },
    {
      "cell_type": "code",
      "metadata": {
        "id": "rumMxm-gdSAF"
      },
      "source": [
        "np.prod([1, 2], initial=5"
      ],
      "execution_count": null,
      "outputs": []
    },
    {
      "cell_type": "markdown",
      "metadata": {
        "id": "xAU3-P-KrodR"
      },
      "source": [
        "#numpy.put\r\n",
        "syn:numpy.put(a, ind, v, mode='raise')\r\n",
        "#Replaces specified elements of an array with given values."
      ]
    },
    {
      "cell_type": "code",
      "metadata": {
        "colab": {
          "base_uri": "https://localhost:8080/"
        },
        "id": "0l3hCSI5dZyz",
        "outputId": "6eccdc12-ed88-413a-fcdf-b15d2c4248ae"
      },
      "source": [
        "a = np.arange(5)\r\n",
        "np.put(a, [0, 2], [-44, -55])\r\n",
        "a"
      ],
      "execution_count": 43,
      "outputs": [
        {
          "output_type": "execute_result",
          "data": {
            "text/plain": [
              "array([-44,   1, -55,   3,   4])"
            ]
          },
          "metadata": {
            "tags": []
          },
          "execution_count": 43
        }
      ]
    },
    {
      "cell_type": "code",
      "metadata": {
        "colab": {
          "base_uri": "https://localhost:8080/"
        },
        "id": "wqnt5sKAsCnS",
        "outputId": "e40bcfd5-7d2d-46bc-9ff3-f60034953ab4"
      },
      "source": [
        "a = np.arange(5)\r\n",
        "np.put(a, 22, -5, mode='clip')\r\n",
        "a"
      ],
      "execution_count": 44,
      "outputs": [
        {
          "output_type": "execute_result",
          "data": {
            "text/plain": [
              "array([ 0,  1,  2,  3, -5])"
            ]
          },
          "metadata": {
            "tags": []
          },
          "execution_count": 44
        }
      ]
    },
    {
      "cell_type": "markdown",
      "metadata": {
        "id": "1-1n1wBoshHM"
      },
      "source": [
        "#numpy.putmask\r\n",
        "syn:numpy.putmask(a, mask, values)\r\n",
        "#Changes elements of an array based on conditional and input values."
      ]
    },
    {
      "cell_type": "code",
      "metadata": {
        "colab": {
          "base_uri": "https://localhost:8080/"
        },
        "id": "JfL245ZxsHuY",
        "outputId": "6fac8c7c-6b53-4ce0-c6b0-a087f8b4b0d7"
      },
      "source": [
        "x = np.arange(6).reshape(2, 3)\r\n",
        "np.putmask(x, x>2, x**2)\r\n",
        "x"
      ],
      "execution_count": 45,
      "outputs": [
        {
          "output_type": "execute_result",
          "data": {
            "text/plain": [
              "array([[ 0,  1,  2],\n",
              "       [ 9, 16, 25]])"
            ]
          },
          "metadata": {
            "tags": []
          },
          "execution_count": 45
        }
      ]
    },
    {
      "cell_type": "code",
      "metadata": {
        "colab": {
          "base_uri": "https://localhost:8080/"
        },
        "id": "KFUuqNAfszYi",
        "outputId": "9decfbca-1c2e-4752-eb20-7d82ca420b03"
      },
      "source": [
        "x = np.arange(5)#If values is smaller than a it is repeated:\r\n",
        "np.putmask(x, x>1, [-33, -44])\r\n",
        "x"
      ],
      "execution_count": 46,
      "outputs": [
        {
          "output_type": "execute_result",
          "data": {
            "text/plain": [
              "array([  0,   1, -33, -44, -33])"
            ]
          },
          "metadata": {
            "tags": []
          },
          "execution_count": 46
        }
      ]
    },
    {
      "cell_type": "markdown",
      "metadata": {
        "id": "Qz5J3vy3tZC_"
      },
      "source": [
        "#numpy.real\r\n",
        "numpy.real(val)#\r\n",
        "Return the real part of the complex argument."
      ]
    },
    {
      "cell_type": "code",
      "metadata": {
        "colab": {
          "base_uri": "https://localhost:8080/"
        },
        "id": "ZdDEavyutAr7",
        "outputId": "df673cad-163b-42e1-aaa7-5fd1bed59858"
      },
      "source": [
        "a = np.array([1+2j, 3+4j, 5+6j])# gives original values\r\n",
        "a.real"
      ],
      "execution_count": 47,
      "outputs": [
        {
          "output_type": "execute_result",
          "data": {
            "text/plain": [
              "array([1., 3., 5.])"
            ]
          },
          "metadata": {
            "tags": []
          },
          "execution_count": 47
        }
      ]
    },
    {
      "cell_type": "code",
      "metadata": {
        "colab": {
          "base_uri": "https://localhost:8080/"
        },
        "id": "swe-Q9NqtmgL",
        "outputId": "1ee5cad4-6ba3-46f0-9891-7f0c7c5b87ab"
      },
      "source": [
        "a.real = 9\r\n",
        "a"
      ],
      "execution_count": 48,
      "outputs": [
        {
          "output_type": "execute_result",
          "data": {
            "text/plain": [
              "array([9.+2.j, 9.+4.j, 9.+6.j])"
            ]
          },
          "metadata": {
            "tags": []
          },
          "execution_count": 48
        }
      ]
    },
    {
      "cell_type": "code",
      "metadata": {
        "colab": {
          "base_uri": "https://localhost:8080/"
        },
        "id": "QgPXXoDXtsSD",
        "outputId": "4b03e229-b444-4c66-e3a8-a54d17ed7974"
      },
      "source": [
        "a.real = np.array([9, 8, 7])#gives complexvalues\r\n",
        "a"
      ],
      "execution_count": 49,
      "outputs": [
        {
          "output_type": "execute_result",
          "data": {
            "text/plain": [
              "array([9.+2.j, 8.+4.j, 7.+6.j])"
            ]
          },
          "metadata": {
            "tags": []
          },
          "execution_count": 49
        }
      ]
    },
    {
      "cell_type": "code",
      "metadata": {
        "colab": {
          "base_uri": "https://localhost:8080/"
        },
        "id": "Vz2FnFbAty4J",
        "outputId": "17607cc7-d4b3-4ca0-ed4b-f19f91108198"
      },
      "source": [
        "np.real(1 + 1j)\r\n"
      ],
      "execution_count": 50,
      "outputs": [
        {
          "output_type": "execute_result",
          "data": {
            "text/plain": [
              "1.0"
            ]
          },
          "metadata": {
            "tags": []
          },
          "execution_count": 50
        }
      ]
    },
    {
      "cell_type": "code",
      "metadata": {
        "id": "ZkkcyH_8t21W"
      },
      "source": [
        ""
      ],
      "execution_count": null,
      "outputs": []
    }
  ]
}