{
  "nbformat": 4,
  "nbformat_minor": 0,
  "metadata": {
    "colab": {
      "name": "numpy3.ipynb",
      "provenance": []
    },
    "kernelspec": {
      "name": "python3",
      "display_name": "Python 3"
    }
  },
  "cells": [
    {
      "cell_type": "code",
      "metadata": {
        "id": "1chObaO14XZL"
      },
      "source": [
        "# fromfile, # Remaining numppy functions for exploration\r\n",
        "# fromfile, fromfunction, identity, linspace, logspace, mgrid, ogrid, ones_like, zeros_like"
      ],
      "execution_count": null,
      "outputs": []
    },
    {
      "cell_type": "code",
      "metadata": {
        "id": "JO1Br_wj4buP"
      },
      "source": [
        "import numpy as np"
      ],
      "execution_count": 5,
      "outputs": []
    },
    {
      "cell_type": "markdown",
      "metadata": {
        "id": "tNCJTPCY4h7F"
      },
      "source": [
        "**fromfile**"
      ]
    },
    {
      "cell_type": "code",
      "metadata": {
        "id": "bqFdNGug4pzM"
      },
      "source": [
        "Construct an array from data in a text or binary file.\r\n",
        "\r\n",
        "A highly efficient way of reading binary data with a known data-type, as well as parsing simply formatted text files.\r\n",
        " Data written using the tofile method can be read using this function.\r\n",
        " numpy.fromfile(file, dtype=float, count=-1, sep='', offset=0, *, like=None)¶"
      ],
      "execution_count": null,
      "outputs": []
    },
    {
      "cell_type": "code",
      "metadata": {
        "colab": {
          "base_uri": "https://localhost:8080/"
        },
        "id": "0jJ-W1TF5F-7",
        "outputId": "a9b1000e-1c88-40f0-94a8-170691540037"
      },
      "source": [
        "dt = np.dtype([('time', [('min', np.int64), ('sec', np.int64)]),\r\n",
        "               ('temp', float)])  #Construct an ndarray:\r\n",
        "x = np.zeros((1,), dtype=dt)\r\n",
        "x['time']['min'] = 10; x['temp'] = 98.25\r\n",
        "x "
      ],
      "execution_count": 7,
      "outputs": [
        {
          "output_type": "execute_result",
          "data": {
            "text/plain": [
              "array([((10, 0), 98.25)],\n",
              "      dtype=[('time', [('min', '<i8'), ('sec', '<i8')]), ('temp', '<f8')])"
            ]
          },
          "metadata": {
            "tags": []
          },
          "execution_count": 7
        }
      ]
    },
    {
      "cell_type": "code",
      "metadata": {
        "id": "iRJBonwX6shL",
        "colab": {
          "base_uri": "https://localhost:8080/"
        },
        "outputId": "c044aada-0aa5-4df7-9a4a-e23afb88d1c3"
      },
      "source": [
        "dt = np.dtype([('time', [('min',np.int64), ('sec',np.int64)]),\r\n",
        "                    ('temp',float)])\r\n",
        "x=np.zeros((1,), dtype=dt)\r\n",
        "x['time']['min']=20; x['temp']=23.75\r\n",
        "x\r\n",
        "\r\n",
        "            "
      ],
      "execution_count": 13,
      "outputs": [
        {
          "output_type": "execute_result",
          "data": {
            "text/plain": [
              "array([((20, 0), 23.75)],\n",
              "      dtype=[('time', [('min', '<i8'), ('sec', '<i8')]), ('temp', '<f8')])"
            ]
          },
          "metadata": {
            "tags": []
          },
          "execution_count": 13
        }
      ]
    },
    {
      "cell_type": "code",
      "metadata": {
        "id": "pxpCFBg-5qW9"
      },
      "source": [
        "import tempfile\r\n",
        "fname = tempfile.mkstemp()[1]   #Save the raw data to disk:\r\n",
        "x.tofile(fname)"
      ],
      "execution_count": 14,
      "outputs": []
    },
    {
      "cell_type": "code",
      "metadata": {
        "colab": {
          "base_uri": "https://localhost:8080/"
        },
        "id": "YANwHScx54Jb",
        "outputId": "0a3fc727-fd83-4234-9b18-4b2959cd784d"
      },
      "source": [
        "np.fromfile(fname, dtype=dt)  #Read the raw data from disk:\r\n"
      ],
      "execution_count": 15,
      "outputs": [
        {
          "output_type": "execute_result",
          "data": {
            "text/plain": [
              "array([((20, 0), 23.75)],\n",
              "      dtype=[('time', [('min', '<i8'), ('sec', '<i8')]), ('temp', '<f8')])"
            ]
          },
          "metadata": {
            "tags": []
          },
          "execution_count": 15
        }
      ]
    },
    {
      "cell_type": "code",
      "metadata": {
        "id": "mkgKkFaI6KEX",
        "colab": {
          "base_uri": "https://localhost:8080/"
        },
        "outputId": "5c967400-5d28-49b9-ec10-45eeba069dd1"
      },
      "source": [
        "np.save(fname, x)        #The recommended way to store and load data:\r\n",
        "np.load(fname + '.npy')"
      ],
      "execution_count": 16,
      "outputs": [
        {
          "output_type": "execute_result",
          "data": {
            "text/plain": [
              "array([((20, 0), 23.75)],\n",
              "      dtype=[('time', [('min', '<i8'), ('sec', '<i8')]), ('temp', '<f8')])"
            ]
          },
          "metadata": {
            "tags": []
          },
          "execution_count": 16
        }
      ]
    },
    {
      "cell_type": "markdown",
      "metadata": {
        "id": "K3cVCq-FTbI-"
      },
      "source": [
        "**numpy.fromfunction**"
      ]
    },
    {
      "cell_type": "code",
      "metadata": {
        "id": "0FoAUDkoTgHJ"
      },
      "source": [
        "Construct an array by executing a function over each coordinate.\r\n",
        "\r\n",
        "The resulting array therefore has a value fn(x, y, z) at coordinate (x, y, z).\r\n"
      ],
      "execution_count": null,
      "outputs": []
    },
    {
      "cell_type": "code",
      "metadata": {
        "colab": {
          "base_uri": "https://localhost:8080/"
        },
        "id": "Bp6fvRwfTnyA",
        "outputId": "cd75b95f-2ed8-49cf-ce6b-c2c91849e974"
      },
      "source": [
        "np.fromfunction(lambda i, j: i == j, (3, 3), dtype=int)"
      ],
      "execution_count": 17,
      "outputs": [
        {
          "output_type": "execute_result",
          "data": {
            "text/plain": [
              "array([[ True, False, False],\n",
              "       [False,  True, False],\n",
              "       [False, False,  True]])"
            ]
          },
          "metadata": {
            "tags": []
          },
          "execution_count": 17
        }
      ]
    },
    {
      "cell_type": "code",
      "metadata": {
        "colab": {
          "base_uri": "https://localhost:8080/"
        },
        "id": "vQ50ZePoT4hY",
        "outputId": "5464c9e4-adcc-49fc-e281-4e42443dd943"
      },
      "source": [
        "np.fromfunction(lambda i, j: i + j, (3, 3), dtype=int)"
      ],
      "execution_count": 18,
      "outputs": [
        {
          "output_type": "execute_result",
          "data": {
            "text/plain": [
              "array([[0, 1, 2],\n",
              "       [1, 2, 3],\n",
              "       [2, 3, 4]])"
            ]
          },
          "metadata": {
            "tags": []
          },
          "execution_count": 18
        }
      ]
    },
    {
      "cell_type": "code",
      "metadata": {
        "colab": {
          "base_uri": "https://localhost:8080/"
        },
        "id": "_Txy06wMUGjp",
        "outputId": "4232f064-7521-459d-b7b1-c1cf20fd6fe5"
      },
      "source": [
        "np.fromfunction(lambda i, j: i - j, (3, 3), dtype=int)"
      ],
      "execution_count": 19,
      "outputs": [
        {
          "output_type": "execute_result",
          "data": {
            "text/plain": [
              "array([[ 0, -1, -2],\n",
              "       [ 1,  0, -1],\n",
              "       [ 2,  1,  0]])"
            ]
          },
          "metadata": {
            "tags": []
          },
          "execution_count": 19
        }
      ]
    },
    {
      "cell_type": "markdown",
      "metadata": {
        "id": "6t3synC2U0un"
      },
      "source": [
        "**identity**"
      ]
    },
    {
      "cell_type": "markdown",
      "metadata": {
        "id": "ObJgOIrKVPHD"
      },
      "source": [
        " Return a identity matrix i.e. a square matrix with ones on the main diagonal.\r\n",
        " "
      ]
    },
    {
      "cell_type": "code",
      "metadata": {
        "colab": {
          "base_uri": "https://localhost:8080/"
        },
        "id": "8at8sGGkVd9p",
        "outputId": "4c7aa3e4-4829-47e7-865f-c611acac3a52"
      },
      "source": [
        "np.identity(3)"
      ],
      "execution_count": 20,
      "outputs": [
        {
          "output_type": "execute_result",
          "data": {
            "text/plain": [
              "array([[1., 0., 0.],\n",
              "       [0., 1., 0.],\n",
              "       [0., 0., 1.]])"
            ]
          },
          "metadata": {
            "tags": []
          },
          "execution_count": 20
        }
      ]
    }
  ]
}