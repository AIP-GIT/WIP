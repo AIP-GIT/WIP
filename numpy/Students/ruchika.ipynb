{
  "nbformat": 4,
  "nbformat_minor": 0,
  "metadata": {
    "colab": {
      "name": "ruchika.ipynb",
      "provenance": [],
      "collapsed_sections": []
    },
    "kernelspec": {
      "name": "python3",
      "display_name": "Python 3"
    }
  },
  "cells": [
    {
      "cell_type": "code",
      "metadata": {
        "id": "k0hbDPg5M04Q"
      },
      "source": [
        "import numpy as np"
      ],
      "execution_count": 3,
      "outputs": []
    },
    {
      "cell_type": "markdown",
      "metadata": {
        "id": "RRVo1OJrPvXN"
      },
      "source": [
        "this is use to import numpy library into your Python script"
      ]
    },
    {
      "cell_type": "code",
      "metadata": {
        "colab": {
          "base_uri": "https://localhost:8080/"
        },
        "id": "cICgDIIWNCsB",
        "outputId": "535a7cf4-c8f9-4ee6-9b39-df89a8397540"
      },
      "source": [
        "x = np.arange(0,20,5) # similar to range\r\n",
        "print(x)"
      ],
      "execution_count": 2,
      "outputs": [
        {
          "output_type": "stream",
          "text": [
            "[ 0  5 10 15]\n"
          ],
          "name": "stdout"
        }
      ]
    },
    {
      "cell_type": "code",
      "metadata": {
        "colab": {
          "base_uri": "https://localhost:8080/"
        },
        "id": "R6w7d0y1Qlp4",
        "outputId": "2b4b2ad5-cb4f-473d-a284-113a71944d36"
      },
      "source": [
        "np.arange(-5,5)"
      ],
      "execution_count": 3,
      "outputs": [
        {
          "output_type": "execute_result",
          "data": {
            "text/plain": [
              "array([-5, -4, -3, -2, -1,  0,  1,  2,  3,  4])"
            ]
          },
          "metadata": {
            "tags": []
          },
          "execution_count": 3
        }
      ]
    },
    {
      "cell_type": "markdown",
      "metadata": {
        "id": "T8Zn9MyRQbCZ"
      },
      "source": [
        "arange([start,] stop[, step,][, dtype]) : Returns an array with evenly spaced elements as per the interval. "
      ]
    },
    {
      "cell_type": "code",
      "metadata": {
        "colab": {
          "base_uri": "https://localhost:8080/"
        },
        "id": "Y3402cFVRdO2",
        "outputId": "1ad27127-5824-44b6-8158-1dd2dbfe81b1"
      },
      "source": [
        "ar = np.array([[1, 2, 3, 4], [5, 6, 7, 8]])\r\n",
        "\r\n",
        "print(ar.shape)"
      ],
      "execution_count": 4,
      "outputs": [
        {
          "output_type": "stream",
          "text": [
            "(2, 4)\n"
          ],
          "name": "stdout"
        }
      ]
    },
    {
      "cell_type": "markdown",
      "metadata": {
        "id": "vPTO8Y6wSpiJ"
      },
      "source": [
        "NumPy arrays have an attribute called shape that returns a tuple with each index having the number of corresponding elements."
      ]
    },
    {
      "cell_type": "markdown",
      "metadata": {
        "id": "_BNp74N9S0UD"
      },
      "source": [
        "\r\n",
        "***Adding a new axis***"
      ]
    },
    {
      "cell_type": "code",
      "metadata": {
        "colab": {
          "base_uri": "https://localhost:8080/"
        },
        "id": "9Gv61ctdSr-4",
        "outputId": "171d970b-2a17-4051-be76-d74e47e018eb"
      },
      "source": [
        "ar[np.newaxis,:].shape"
      ],
      "execution_count": 5,
      "outputs": [
        {
          "output_type": "execute_result",
          "data": {
            "text/plain": [
              "(1, 2, 4)"
            ]
          },
          "metadata": {
            "tags": []
          },
          "execution_count": 5
        }
      ]
    },
    {
      "cell_type": "markdown",
      "metadata": {
        "id": "rRI6mpQfUFtx"
      },
      "source": [
        "Numpy Newaxis is an object that is included in the array to expand the dimension of the given array. "
      ]
    },
    {
      "cell_type": "code",
      "metadata": {
        "colab": {
          "base_uri": "https://localhost:8080/"
        },
        "id": "aIkP49zTUHev",
        "outputId": "43a59b37-baf8-4a79-e288-bf78a7c258ea"
      },
      "source": [
        "x.reshape(1,-1).shape"
      ],
      "execution_count": 6,
      "outputs": [
        {
          "output_type": "execute_result",
          "data": {
            "text/plain": [
              "(1, 4)"
            ]
          },
          "metadata": {
            "tags": []
          },
          "execution_count": 6
        }
      ]
    },
    {
      "cell_type": "markdown",
      "metadata": {
        "id": "wuJchlQYUgHI"
      },
      "source": [
        "\r\n",
        "-1 work same as ':' and 1 representing the one dimension adding in row"
      ]
    },
    {
      "cell_type": "code",
      "metadata": {
        "colab": {
          "base_uri": "https://localhost:8080/"
        },
        "id": "ciwZ8GZDUn7A",
        "outputId": "39c9a489-c91e-498d-cb64-076e0cebd596"
      },
      "source": [
        "x[:,np.newaxis].shape"
      ],
      "execution_count": 7,
      "outputs": [
        {
          "output_type": "execute_result",
          "data": {
            "text/plain": [
              "(4, 1)"
            ]
          },
          "metadata": {
            "tags": []
          },
          "execution_count": 7
        }
      ]
    },
    {
      "cell_type": "markdown",
      "metadata": {
        "id": "uOPsMfP4GbEQ"
      },
      "source": [
        "this method use to add one dimension at the coloumn."
      ]
    },
    {
      "cell_type": "code",
      "metadata": {
        "colab": {
          "base_uri": "https://localhost:8080/"
        },
        "id": "TZQ1nKxlHhnt",
        "outputId": "799b4e51-2c0a-443b-f94c-4cc0a76ae3b9"
      },
      "source": [
        "x.reshape(-1,1).shape"
      ],
      "execution_count": 8,
      "outputs": [
        {
          "output_type": "execute_result",
          "data": {
            "text/plain": [
              "(4, 1)"
            ]
          },
          "metadata": {
            "tags": []
          },
          "execution_count": 8
        }
      ]
    },
    {
      "cell_type": "markdown",
      "metadata": {
        "id": "E1Fq9ZjLN_DA"
      },
      "source": [
        "np.reshape: It is used to reshape the array to the desired layout."
      ]
    },
    {
      "cell_type": "code",
      "metadata": {
        "colab": {
          "base_uri": "https://localhost:8080/"
        },
        "id": "fshOn0uuQafy",
        "outputId": "30433797-2aa8-41f7-b6b7-1da33a6ac548"
      },
      "source": [
        "np.expand_dims(x,axis=1).shape"
      ],
      "execution_count": 9,
      "outputs": [
        {
          "output_type": "execute_result",
          "data": {
            "text/plain": [
              "(4, 1)"
            ]
          },
          "metadata": {
            "tags": []
          },
          "execution_count": 9
        }
      ]
    },
    {
      "cell_type": "code",
      "metadata": {
        "colab": {
          "base_uri": "https://localhost:8080/"
        },
        "id": "cJ4IZQ5lRa5O",
        "outputId": "4ba03baf-ef29-48be-f51d-2d72dc220e13"
      },
      "source": [
        "np.expand_dims(x,axis=0).shape"
      ],
      "execution_count": 10,
      "outputs": [
        {
          "output_type": "execute_result",
          "data": {
            "text/plain": [
              "(1, 4)"
            ]
          },
          "metadata": {
            "tags": []
          },
          "execution_count": 10
        }
      ]
    },
    {
      "cell_type": "markdown",
      "metadata": {
        "id": "ytvgTb2vRpSs"
      },
      "source": [
        "Python Numpy expand_dims() method expands the array by inserting a new axis at the specified position."
      ]
    },
    {
      "cell_type": "markdown",
      "metadata": {
        "id": "Ak9yl6hCUbGu"
      },
      "source": [
        "\r\n",
        "***np functions to create arrays***"
      ]
    },
    {
      "cell_type": "code",
      "metadata": {
        "colab": {
          "base_uri": "https://localhost:8080/"
        },
        "id": "yA1XcCD0TvLf",
        "outputId": "b165564e-5e5c-4734-939c-b2fd57e1bf8c"
      },
      "source": [
        "np.zeros(4)"
      ],
      "execution_count": 11,
      "outputs": [
        {
          "output_type": "execute_result",
          "data": {
            "text/plain": [
              "array([0., 0., 0., 0.])"
            ]
          },
          "metadata": {
            "tags": []
          },
          "execution_count": 11
        }
      ]
    },
    {
      "cell_type": "markdown",
      "metadata": {
        "id": "47yHXHUBXJeq"
      },
      "source": [
        "The Numpy zeros() method in Python creates a new array of the specified shape and type, with all of its elements initialized to 0."
      ]
    },
    {
      "cell_type": "code",
      "metadata": {
        "colab": {
          "base_uri": "https://localhost:8080/"
        },
        "id": "fTM5KPMtXLfG",
        "outputId": "b0b750ec-b8a1-4997-8903-954e067632fe"
      },
      "source": [
        "np.zeros((3, 3))"
      ],
      "execution_count": 12,
      "outputs": [
        {
          "output_type": "execute_result",
          "data": {
            "text/plain": [
              "array([[0., 0., 0.],\n",
              "       [0., 0., 0.],\n",
              "       [0., 0., 0.]])"
            ]
          },
          "metadata": {
            "tags": []
          },
          "execution_count": 12
        }
      ]
    },
    {
      "cell_type": "code",
      "metadata": {
        "colab": {
          "base_uri": "https://localhost:8080/"
        },
        "id": "s7nWwZI3XajA",
        "outputId": "f92962c0-eb51-44e9-d4af-420e4204f3db"
      },
      "source": [
        "np.ones(shape=(4,4))"
      ],
      "execution_count": 13,
      "outputs": [
        {
          "output_type": "execute_result",
          "data": {
            "text/plain": [
              "array([[1., 1., 1., 1.],\n",
              "       [1., 1., 1., 1.],\n",
              "       [1., 1., 1., 1.],\n",
              "       [1., 1., 1., 1.]])"
            ]
          },
          "metadata": {
            "tags": []
          },
          "execution_count": 13
        }
      ]
    },
    {
      "cell_type": "markdown",
      "metadata": {
        "id": "0Naz6mikYUE7"
      },
      "source": [
        "This is very similar to Numpy Zero. Here Numpy zeros function returns a numpy array of only ones with specified shape and data type"
      ]
    },
    {
      "cell_type": "code",
      "metadata": {
        "colab": {
          "base_uri": "https://localhost:8080/"
        },
        "id": "8mD7WgP_f5F-",
        "outputId": "51d745db-32df-4154-9920-f734a620641f"
      },
      "source": [
        "np.empty(shape=(2,3,4))"
      ],
      "execution_count": 14,
      "outputs": [
        {
          "output_type": "execute_result",
          "data": {
            "text/plain": [
              "array([[[0., 0., 0., 0.],\n",
              "        [0., 0., 0., 0.],\n",
              "        [0., 0., 0., 0.]],\n",
              "\n",
              "       [[0., 0., 0., 0.],\n",
              "        [0., 0., 0., 0.],\n",
              "        [0., 0., 0., 0.]]])"
            ]
          },
          "metadata": {
            "tags": []
          },
          "execution_count": 14
        }
      ]
    },
    {
      "cell_type": "markdown",
      "metadata": {
        "id": "DKR1JkLJgJaW"
      },
      "source": [
        "The empty() method of Python numpy class returns a new array of the specified shape and type, without initializing the entries."
      ]
    },
    {
      "cell_type": "markdown",
      "metadata": {
        "id": "wwk7dVuSgkgz"
      },
      "source": [
        "***Creating arrays***"
      ]
    },
    {
      "cell_type": "code",
      "metadata": {
        "colab": {
          "base_uri": "https://localhost:8080/"
        },
        "id": "UhB4FkUlgegF",
        "outputId": "54c04602-68a1-4530-bee8-9f0211a07458"
      },
      "source": [
        "np.linspace(1,100,20)"
      ],
      "execution_count": 15,
      "outputs": [
        {
          "output_type": "execute_result",
          "data": {
            "text/plain": [
              "array([  1.        ,   6.21052632,  11.42105263,  16.63157895,\n",
              "        21.84210526,  27.05263158,  32.26315789,  37.47368421,\n",
              "        42.68421053,  47.89473684,  53.10526316,  58.31578947,\n",
              "        63.52631579,  68.73684211,  73.94736842,  79.15789474,\n",
              "        84.36842105,  89.57894737,  94.78947368, 100.        ])"
            ]
          },
          "metadata": {
            "tags": []
          },
          "execution_count": 15
        }
      ]
    },
    {
      "cell_type": "markdown",
      "metadata": {
        "id": "PDiYA6fJhQY4"
      },
      "source": [
        "The numpy.linspace() function returns number spaces evenly w.r.t interval. Similar to numpy.arange() function but instead of step it uses sample number."
      ]
    },
    {
      "cell_type": "code",
      "metadata": {
        "colab": {
          "base_uri": "https://localhost:8080/"
        },
        "id": "zNLJpm7_hR3w",
        "outputId": "48a7a237-1b51-4de8-abee-be305648c174"
      },
      "source": [
        "np.random.rand(3,2,1)"
      ],
      "execution_count": 16,
      "outputs": [
        {
          "output_type": "execute_result",
          "data": {
            "text/plain": [
              "array([[[0.30118215],\n",
              "        [0.98658746]],\n",
              "\n",
              "       [[0.99305518],\n",
              "        [0.60967247]],\n",
              "\n",
              "       [[0.99557202],\n",
              "        [0.62575068]]])"
            ]
          },
          "metadata": {
            "tags": []
          },
          "execution_count": 16
        }
      ]
    },
    {
      "cell_type": "markdown",
      "metadata": {
        "id": "XMX5IZXDhbZ-"
      },
      "source": [
        "The rand() function work like random() but it accept shape and return ndarray which contain random values between 0.0 to 1.0."
      ]
    },
    {
      "cell_type": "code",
      "metadata": {
        "colab": {
          "base_uri": "https://localhost:8080/"
        },
        "id": "DKfe3x5Uivki",
        "outputId": "fedc3f83-ef9d-48fd-d946-d660bd5205d3"
      },
      "source": [
        "np.random.randint(0,5,size=(3,3))"
      ],
      "execution_count": 18,
      "outputs": [
        {
          "output_type": "execute_result",
          "data": {
            "text/plain": [
              "array([[4, 3, 0],\n",
              "       [3, 0, 4],\n",
              "       [4, 1, 0]])"
            ]
          },
          "metadata": {
            "tags": []
          },
          "execution_count": 18
        }
      ]
    },
    {
      "cell_type": "markdown",
      "metadata": {
        "id": "TyqhQ4xJjNPv"
      },
      "source": [
        "The random integer function generates single random integer number from given range and if the shape will give then return ndarray."
      ]
    },
    {
      "cell_type": "code",
      "metadata": {
        "colab": {
          "base_uri": "https://localhost:8080/"
        },
        "id": "TzT-q3LYjX7Q",
        "outputId": "2e7ecb44-d6c8-4b34-9146-6d28177abe63"
      },
      "source": [
        "np.random.randn(3,3,2)"
      ],
      "execution_count": 20,
      "outputs": [
        {
          "output_type": "execute_result",
          "data": {
            "text/plain": [
              "array([[[-0.5978703 , -0.92864689],\n",
              "        [-0.84722885, -0.73693495],\n",
              "        [-0.88872079,  0.85617008]],\n",
              "\n",
              "       [[-1.16928277, -0.55011328],\n",
              "        [-1.57313898, -1.24585026],\n",
              "        [-0.94605051,  0.10543662]],\n",
              "\n",
              "       [[-0.19178065, -0.31803811],\n",
              "        [ 1.45875692,  1.55817857],\n",
              "        [-2.02584252,  1.49678171]]])"
            ]
          },
          "metadata": {
            "tags": []
          },
          "execution_count": 20
        }
      ]
    },
    {
      "cell_type": "markdown",
      "metadata": {
        "id": "rcpJjj7zjtQJ"
      },
      "source": [
        "The randn() function work like rand() function but it reurn samples of  standerd normalise distribution value."
      ]
    },
    {
      "cell_type": "code",
      "metadata": {
        "colab": {
          "base_uri": "https://localhost:8080/"
        },
        "id": "_eX4I-Hmj7OX",
        "outputId": "db100105-2f1c-4154-ee45-1e7fc0c045ee"
      },
      "source": [
        "arr = np.random.randint(0,5,size=(5,))\r\n",
        "arr"
      ],
      "execution_count": 25,
      "outputs": [
        {
          "output_type": "execute_result",
          "data": {
            "text/plain": [
              "array([2, 0, 2, 0, 2])"
            ]
          },
          "metadata": {
            "tags": []
          },
          "execution_count": 25
        }
      ]
    },
    {
      "cell_type": "markdown",
      "metadata": {
        "id": "PLFBonphm5hV"
      },
      "source": [
        "numpy.random.randint() is one of the function for doing random sampling in numpy. It returns an array of specified shape and fills it with random integers from low (inclusive) to high (exclusive), i.e. in the interval [low, high)."
      ]
    },
    {
      "cell_type": "code",
      "metadata": {
        "colab": {
          "base_uri": "https://localhost:8080/"
        },
        "id": "0u6Z4yqBnH32",
        "outputId": "60782c14-0213-43d6-e5b5-de1bc87c45d5"
      },
      "source": [
        "np.sort(x)"
      ],
      "execution_count": 26,
      "outputs": [
        {
          "output_type": "execute_result",
          "data": {
            "text/plain": [
              "array([2, 3, 3, 4, 4])"
            ]
          },
          "metadata": {
            "tags": []
          },
          "execution_count": 26
        }
      ]
    },
    {
      "cell_type": "markdown",
      "metadata": {
        "id": "dsSbheBDnlwe"
      },
      "source": [
        "Syntax :numpy.sort(a, axis=-1, kind=None, order=None)\r\n",
        "\r\n",
        " Return a sorted copy of an array.\r\n",
        "\r\n"
      ]
    },
    {
      "cell_type": "code",
      "metadata": {
        "colab": {
          "base_uri": "https://localhost:8080/"
        },
        "id": "ms_kG2sPoFMs",
        "outputId": "3663ae5b-051b-484d-87b7-ffd720e772c4"
      },
      "source": [
        "x"
      ],
      "execution_count": 27,
      "outputs": [
        {
          "output_type": "execute_result",
          "data": {
            "text/plain": [
              "array([2, 4, 3, 4, 3])"
            ]
          },
          "metadata": {
            "tags": []
          },
          "execution_count": 27
        }
      ]
    },
    {
      "cell_type": "code",
      "metadata": {
        "id": "x3S83MdVoYBZ"
      },
      "source": [
        "x.sort()"
      ],
      "execution_count": 29,
      "outputs": []
    },
    {
      "cell_type": "code",
      "metadata": {
        "colab": {
          "base_uri": "https://localhost:8080/"
        },
        "id": "iiOl71Seoe01",
        "outputId": "8deff886-f814-4823-b217-0f029831ebbc"
      },
      "source": [
        "x"
      ],
      "execution_count": 30,
      "outputs": [
        {
          "output_type": "execute_result",
          "data": {
            "text/plain": [
              "array([2, 3, 3, 4, 4])"
            ]
          },
          "metadata": {
            "tags": []
          },
          "execution_count": 30
        }
      ]
    },
    {
      "cell_type": "code",
      "metadata": {
        "colab": {
          "base_uri": "https://localhost:8080/"
        },
        "id": "DwGq0vIhormn",
        "outputId": "44333d40-a738-4c73-849e-3b2d3bd712aa"
      },
      "source": [
        "y = np.array([3, 1, 2])\r\n",
        "np.argsort(y)"
      ],
      "execution_count": 31,
      "outputs": [
        {
          "output_type": "execute_result",
          "data": {
            "text/plain": [
              "array([1, 2, 0])"
            ]
          },
          "metadata": {
            "tags": []
          },
          "execution_count": 31
        }
      ]
    },
    {
      "cell_type": "markdown",
      "metadata": {
        "id": "NdMkgV97pe3U"
      },
      "source": [
        "numpy.argsort(a, axis=-1, kind=None, order=None)\r\n",
        "\r\n",
        "Returns the indices that would sort an array.\r\n",
        "\r\n",
        "Perform an indirect sort along the given axis using the algorithm specified by the kind keyword. It returns an array of indices of the same shape as a that index data along the given axis in sorted order.\r\n",
        "\r\n"
      ]
    },
    {
      "cell_type": "code",
      "metadata": {
        "colab": {
          "base_uri": "https://localhost:8080/"
        },
        "id": "keRLMMovtN_r",
        "outputId": "ca3e4b23-5892-4e58-add7-ca453dcee260"
      },
      "source": [
        "surnames =    ('Hertz',    'Galilei', 'Hertz')\r\n",
        "first_names = ('Heinrich', 'Galileo', 'Gustav')\r\n",
        "ind = np.lexsort((first_names, surnames))\r\n",
        "ind\r\n",
        "[surnames[i] + \", \" + first_names[i] for i in ind]"
      ],
      "execution_count": 35,
      "outputs": [
        {
          "output_type": "execute_result",
          "data": {
            "text/plain": [
              "['Galilei, Galileo', 'Hertz, Gustav', 'Hertz, Heinrich']"
            ]
          },
          "metadata": {
            "tags": []
          },
          "execution_count": 35
        }
      ]
    },
    {
      "cell_type": "markdown",
      "metadata": {
        "id": "tOxXH58-tZwW"
      },
      "source": [
        "function performs an indirect sort using a sequence of keys. The keys can be seen as a column in a spreadsheet. The function returns an array of indices, using which the sorted data can be obtained."
      ]
    },
    {
      "cell_type": "code",
      "metadata": {
        "colab": {
          "base_uri": "https://localhost:8080/"
        },
        "id": "irGIZYPkteV_",
        "outputId": "ee03f2f5-1c6d-44a0-fe64-ea6424b2148f"
      },
      "source": [
        "arr = np.array([6, 7, 8, 9])\r\n",
        "\r\n",
        "x = np.searchsorted(arr, 9)\r\n",
        "\r\n",
        "print(x)"
      ],
      "execution_count": 37,
      "outputs": [
        {
          "output_type": "stream",
          "text": [
            "3\n"
          ],
          "name": "stdout"
        }
      ]
    },
    {
      "cell_type": "markdown",
      "metadata": {
        "id": "9O2QeMmewn_Z"
      },
      "source": [
        "There is a method called searchsorted() which performs a binary search in the array, and returns the index where the specified value would be inserted to maintain the search order."
      ]
    },
    {
      "cell_type": "code",
      "metadata": {
        "colab": {
          "base_uri": "https://localhost:8080/"
        },
        "id": "ezO-ZwGvwvzp",
        "outputId": "eca8c296-c6e3-48b1-a925-81b99bd6ce77"
      },
      "source": [
        "a = np.array([3, 3, 2, 10, 6, 8, 4, 2, 1])\r\n",
        "np.partition(a, 3)"
      ],
      "execution_count": 40,
      "outputs": [
        {
          "output_type": "execute_result",
          "data": {
            "text/plain": [
              "array([ 2,  1,  2,  3,  3,  8,  4, 10,  6])"
            ]
          },
          "metadata": {
            "tags": []
          },
          "execution_count": 40
        }
      ]
    },
    {
      "cell_type": "markdown",
      "metadata": {
        "id": "69Q6H0whyMUe"
      },
      "source": [
        "**partitions** : Creates a copy of the array with its elements rearranged in such a way that the value of the element in k-th position is in the position it would be in a sorted array. All elements smaller than the k-th element are moved before this element and all equal or greater are moved behind it. The ordering of the elements in the two partitions is undefined."
      ]
    },
    {
      "cell_type": "code",
      "metadata": {
        "colab": {
          "base_uri": "https://localhost:8080/"
        },
        "id": "2rtbRQCHy5uq",
        "outputId": "15a9a043-6cb4-4a03-80cb-295af0ab2fa2"
      },
      "source": [
        "a = np.array([[1, 2], [3, 4]])\r\n",
        "b = np.array([[5, 6]])\r\n",
        "np.concatenate((a, b), axis=0)"
      ],
      "execution_count": 41,
      "outputs": [
        {
          "output_type": "execute_result",
          "data": {
            "text/plain": [
              "array([[1, 2],\n",
              "       [3, 4],\n",
              "       [5, 6]])"
            ]
          },
          "metadata": {
            "tags": []
          },
          "execution_count": 41
        }
      ]
    },
    {
      "cell_type": "markdown",
      "metadata": {
        "id": "Dd3tF9Itzh0O"
      },
      "source": [
        "numpy.concatenate((a1, a2, ...), axis=0, out=None, dtype=None, casting=\"same_kind\")\r\n",
        "Join a sequence of arrays along an existing axis."
      ]
    },
    {
      "cell_type": "code",
      "metadata": {
        "colab": {
          "base_uri": "https://localhost:8080/"
        },
        "id": "2rtjAKG6zs_g",
        "outputId": "4bc9ef3a-5115-4e00-a854-7f57000a2ae8"
      },
      "source": [
        "x = np.array([[1, 2, 3], [3, 4, 5]])\r\n",
        "x.ndim"
      ],
      "execution_count": 43,
      "outputs": [
        {
          "output_type": "execute_result",
          "data": {
            "text/plain": [
              "2"
            ]
          },
          "metadata": {
            "tags": []
          },
          "execution_count": 43
        }
      ]
    },
    {
      "cell_type": "markdown",
      "metadata": {
        "id": "lBJ4JVnp0YVo"
      },
      "source": [
        "ndarray.ndim is use to find the Number of array dimensions."
      ]
    },
    {
      "cell_type": "code",
      "metadata": {
        "colab": {
          "base_uri": "https://localhost:8080/"
        },
        "id": "9L6UzfNu0syC",
        "outputId": "f8a16d9c-a6c5-4d64-8ce4-006e557abe6d"
      },
      "source": [
        "x = np.zeros((3, 5, 2), dtype=np.complex128)\r\n",
        "x.size"
      ],
      "execution_count": 3,
      "outputs": [
        {
          "output_type": "execute_result",
          "data": {
            "text/plain": [
              "30"
            ]
          },
          "metadata": {
            "tags": []
          },
          "execution_count": 3
        }
      ]
    },
    {
      "cell_type": "markdown",
      "metadata": {
        "id": "R74owqB-eeJf"
      },
      "source": [
        "numpy.ndarray.size() function return the number of elements in the array. it equal to np.prod(a.shape), i.e., the product of the array’s dimensions."
      ]
    },
    {
      "cell_type": "code",
      "metadata": {
        "colab": {
          "base_uri": "https://localhost:8080/"
        },
        "id": "_GdBoSmge0RB",
        "outputId": "02bfe5ef-7a60-4300-855c-c38c20be568f"
      },
      "source": [
        "x = np.array([1, 2, 3, 4])\r\n",
        "x.shape"
      ],
      "execution_count": 4,
      "outputs": [
        {
          "output_type": "execute_result",
          "data": {
            "text/plain": [
              "(4,)"
            ]
          },
          "metadata": {
            "tags": []
          },
          "execution_count": 4
        }
      ]
    },
    {
      "cell_type": "markdown",
      "metadata": {
        "id": "YkXfMFtffDC6"
      },
      "source": [
        "The shape property is usually used to get the current shape of an array, but may also be used to reshape the array in-place by assigning a tuple of array dimensions to it."
      ]
    },
    {
      "cell_type": "code",
      "metadata": {
        "colab": {
          "base_uri": "https://localhost:8080/"
        },
        "id": "e2g1_4qPfLfd",
        "outputId": "07703356-5dbb-4dcd-e40f-40ab0422f4e8"
      },
      "source": [
        "a = np.random.randint(0,10,size=(3,3))\r\n",
        "a"
      ],
      "execution_count": 6,
      "outputs": [
        {
          "output_type": "execute_result",
          "data": {
            "text/plain": [
              "array([[9, 0, 2],\n",
              "       [0, 1, 2],\n",
              "       [6, 7, 3]])"
            ]
          },
          "metadata": {
            "tags": []
          },
          "execution_count": 6
        }
      ]
    },
    {
      "cell_type": "code",
      "metadata": {
        "colab": {
          "base_uri": "https://localhost:8080/"
        },
        "id": "NeQ2zH7QfsX9",
        "outputId": "092ac6c5-9ae8-4649-c582-cc03cdd21ea8"
      },
      "source": [
        "a[a>4]"
      ],
      "execution_count": 7,
      "outputs": [
        {
          "output_type": "execute_result",
          "data": {
            "text/plain": [
              "array([9, 6, 7])"
            ]
          },
          "metadata": {
            "tags": []
          },
          "execution_count": 7
        }
      ]
    },
    {
      "cell_type": "code",
      "metadata": {
        "colab": {
          "base_uri": "https://localhost:8080/"
        },
        "id": "9q-oszpEfzly",
        "outputId": "ec473d37-ebe0-4e36-88cc-700a9bf93094"
      },
      "source": [
        "a>5"
      ],
      "execution_count": 8,
      "outputs": [
        {
          "output_type": "execute_result",
          "data": {
            "text/plain": [
              "array([[ True, False, False],\n",
              "       [False, False, False],\n",
              "       [ True,  True, False]])"
            ]
          },
          "metadata": {
            "tags": []
          },
          "execution_count": 8
        }
      ]
    },
    {
      "cell_type": "code",
      "metadata": {
        "colab": {
          "base_uri": "https://localhost:8080/"
        },
        "id": "2c-LoF6Cf6PV",
        "outputId": "d66f5ed8-d611-4d16-cbbd-d9069ba19544"
      },
      "source": [
        "a[(a>4) & (a%2==0)]"
      ],
      "execution_count": 9,
      "outputs": [
        {
          "output_type": "execute_result",
          "data": {
            "text/plain": [
              "array([6])"
            ]
          },
          "metadata": {
            "tags": []
          },
          "execution_count": 9
        }
      ]
    },
    {
      "cell_type": "code",
      "metadata": {
        "colab": {
          "base_uri": "https://localhost:8080/"
        },
        "id": "mFFZwr7-gBVe",
        "outputId": "da6fecef-2a78-4271-a3b5-089993219fb0"
      },
      "source": [
        "a[(a<4) | (a%2==0)]"
      ],
      "execution_count": 10,
      "outputs": [
        {
          "output_type": "execute_result",
          "data": {
            "text/plain": [
              "array([0, 2, 0, 1, 2, 6, 3])"
            ]
          },
          "metadata": {
            "tags": []
          },
          "execution_count": 10
        }
      ]
    },
    {
      "cell_type": "code",
      "metadata": {
        "colab": {
          "base_uri": "https://localhost:8080/"
        },
        "id": "YmkE6PDagHTH",
        "outputId": "20920881-0003-401a-ede7-61bb6c985a08"
      },
      "source": [
        "a = np.arange(1,13)\r\n",
        "a = a.reshape(3,4)\r\n",
        "a"
      ],
      "execution_count": 11,
      "outputs": [
        {
          "output_type": "execute_result",
          "data": {
            "text/plain": [
              "array([[ 1,  2,  3,  4],\n",
              "       [ 5,  6,  7,  8],\n",
              "       [ 9, 10, 11, 12]])"
            ]
          },
          "metadata": {
            "tags": []
          },
          "execution_count": 11
        }
      ]
    },
    {
      "cell_type": "code",
      "metadata": {
        "colab": {
          "base_uri": "https://localhost:8080/"
        },
        "id": "x7M_Uk_LgbTA",
        "outputId": "434a46a7-18d8-4445-af90-2673def650d2"
      },
      "source": [
        "b = np.nonzero(a<5)\r\n",
        "b"
      ],
      "execution_count": 13,
      "outputs": [
        {
          "output_type": "execute_result",
          "data": {
            "text/plain": [
              "(array([0, 0, 0, 0]), array([0, 1, 2, 3]))"
            ]
          },
          "metadata": {
            "tags": []
          },
          "execution_count": 13
        }
      ]
    },
    {
      "cell_type": "code",
      "metadata": {
        "colab": {
          "base_uri": "https://localhost:8080/"
        },
        "id": "iArbLcm2gv-L",
        "outputId": "690b2433-fcdf-4e6a-dbe8-da44dfa4e2b6"
      },
      "source": [
        "list(zip(b[0],b[1])) #list of co-ordinates"
      ],
      "execution_count": 14,
      "outputs": [
        {
          "output_type": "execute_result",
          "data": {
            "text/plain": [
              "[(0, 0), (0, 1), (0, 2), (0, 3)]"
            ]
          },
          "metadata": {
            "tags": []
          },
          "execution_count": 14
        }
      ]
    },
    {
      "cell_type": "code",
      "metadata": {
        "colab": {
          "base_uri": "https://localhost:8080/"
        },
        "id": "xzW9IXWehEHC",
        "outputId": "bf924dbc-4c87-4f5c-89be-25ccda5ab3ff"
      },
      "source": [
        "arr = np.array([1, 2, 3, 4, 5, 6, 7])\r\n",
        "\r\n",
        "print(arr[1:5])"
      ],
      "execution_count": 15,
      "outputs": [
        {
          "output_type": "stream",
          "text": [
            "[2 3 4 5]\n"
          ],
          "name": "stdout"
        }
      ]
    },
    {
      "cell_type": "markdown",
      "metadata": {
        "id": "HoEg8V0_jK8b"
      },
      "source": [
        "In order to ‘slice’ in numpy, you will use the colon (:) operator and specify the starting and ending value of the index."
      ]
    },
    {
      "cell_type": "code",
      "metadata": {
        "colab": {
          "base_uri": "https://localhost:8080/"
        },
        "id": "Mp1H_EZEjVvV",
        "outputId": "6b06ca52-619f-4ca5-fa41-b791124e178c"
      },
      "source": [
        "arr = np.array([1, 2, 3, 4])\r\n",
        "\r\n",
        "print(arr[0])"
      ],
      "execution_count": 16,
      "outputs": [
        {
          "output_type": "stream",
          "text": [
            "1\n"
          ],
          "name": "stdout"
        }
      ]
    },
    {
      "cell_type": "markdown",
      "metadata": {
        "id": "0StfJhqvjsh_"
      },
      "source": [
        "You can access an array element by referring to its index number.\r\n",
        "\r\n",
        "The indexes in NumPy arrays start with 0, meaning that the first element has index 0, and the second has index 1 etc."
      ]
    },
    {
      "cell_type": "code",
      "metadata": {
        "colab": {
          "base_uri": "https://localhost:8080/"
        },
        "id": "MKRfAlgRj0ul",
        "outputId": "6b5b6258-bb3b-4bfd-a1cf-370c0db11c84"
      },
      "source": [
        "a = np.array([[1], [2], [3]])\r\n",
        "b = np.array([[2], [3], [4]])\r\n",
        "np.vstack((a,b))"
      ],
      "execution_count": 18,
      "outputs": [
        {
          "output_type": "execute_result",
          "data": {
            "text/plain": [
              "array([[1],\n",
              "       [2],\n",
              "       [3],\n",
              "       [2],\n",
              "       [3],\n",
              "       [4]])"
            ]
          },
          "metadata": {
            "tags": []
          },
          "execution_count": 18
        }
      ]
    },
    {
      "cell_type": "markdown",
      "metadata": {
        "id": "oXIAIcjVkkQt"
      },
      "source": [
        "numpy.vstack(tup)\r\n",
        "Stack arrays in sequence vertically (row wise)."
      ]
    },
    {
      "cell_type": "code",
      "metadata": {
        "colab": {
          "base_uri": "https://localhost:8080/"
        },
        "id": "zQffFAv0k2vf",
        "outputId": "5573ce8e-02b9-4d50-b250-e4ef80f9df98"
      },
      "source": [
        "a = np.array((1,2,3))\r\n",
        "b = np.array((2,3,4))\r\n",
        "np.hstack((a,b))"
      ],
      "execution_count": 20,
      "outputs": [
        {
          "output_type": "execute_result",
          "data": {
            "text/plain": [
              "array([1, 2, 3, 2, 3, 4])"
            ]
          },
          "metadata": {
            "tags": []
          },
          "execution_count": 20
        }
      ]
    },
    {
      "cell_type": "markdown",
      "metadata": {
        "id": "44gegFH8lU5f"
      },
      "source": [
        "numpy.hstack(tup)\r\n",
        "Stack arrays in sequence horizontally (column wise)."
      ]
    },
    {
      "cell_type": "code",
      "metadata": {
        "colab": {
          "base_uri": "https://localhost:8080/"
        },
        "id": "7-aEPDjxlbyO",
        "outputId": "181c1bf5-e6c1-46c5-ad7f-f313baca5434"
      },
      "source": [
        "x = np.arange(16.0).reshape(4, 4)\r\n",
        "x"
      ],
      "execution_count": 21,
      "outputs": [
        {
          "output_type": "execute_result",
          "data": {
            "text/plain": [
              "array([[ 0.,  1.,  2.,  3.],\n",
              "       [ 4.,  5.,  6.,  7.],\n",
              "       [ 8.,  9., 10., 11.],\n",
              "       [12., 13., 14., 15.]])"
            ]
          },
          "metadata": {
            "tags": []
          },
          "execution_count": 21
        }
      ]
    },
    {
      "cell_type": "markdown",
      "metadata": {
        "id": "L6V0cKGRlzMP"
      },
      "source": [
        "numpy.hsplit(ary, indices_or_sections)\r\n",
        "Split an array into multiple sub-arrays horizontally (column-wise)"
      ]
    },
    {
      "cell_type": "code",
      "metadata": {
        "colab": {
          "base_uri": "https://localhost:8080/"
        },
        "id": "NfR8N89_l5gY",
        "outputId": "8aceafe2-3294-4044-d076-c87334e88cbc"
      },
      "source": [
        "arr = np.array([1, 2, 3, 4, 5])\r\n",
        "x = arr.view()\r\n",
        "arr[0] = 42\r\n",
        "\r\n",
        "print(arr)\r\n",
        "print(x)"
      ],
      "execution_count": 22,
      "outputs": [
        {
          "output_type": "stream",
          "text": [
            "[42  2  3  4  5]\n",
            "[42  2  3  4  5]\n"
          ],
          "name": "stdout"
        }
      ]
    },
    {
      "cell_type": "markdown",
      "metadata": {
        "id": "bRn6uaFmnuDl"
      },
      "source": [
        " the view is just a view of the original array.The view does not own the data and any changes made to the view will affect the original array, and any changes made to the original array will affect the view."
      ]
    },
    {
      "cell_type": "code",
      "metadata": {
        "colab": {
          "base_uri": "https://localhost:8080/"
        },
        "id": "Sv8WzGTboGD7",
        "outputId": "20906934-f536-4518-f508-835a2eeb04f3"
      },
      "source": [
        "arr = np.array([1, 2, 3, 4, 5])\r\n",
        "x = arr.copy()\r\n",
        "arr[0] = 42\r\n",
        "\r\n",
        "print(arr)\r\n",
        "print(x)"
      ],
      "execution_count": 23,
      "outputs": [
        {
          "output_type": "stream",
          "text": [
            "[42  2  3  4  5]\n",
            "[1 2 3 4 5]\n"
          ],
          "name": "stdout"
        }
      ]
    },
    {
      "cell_type": "markdown",
      "metadata": {
        "id": "yQxIE6FmoUyg"
      },
      "source": [
        "The copy owns the data and any changes made to the copy will not affect original array, and any changes made to the original array will not affect the copy."
      ]
    },
    {
      "cell_type": "code",
      "metadata": {
        "colab": {
          "base_uri": "https://localhost:8080/"
        },
        "id": "JS9OFQG2ofW3",
        "outputId": "a57f1888-a3ad-4fd3-aee1-992f3d5a7cdd"
      },
      "source": [
        "arr = np.array([[2, 2], [2, 2]])\r\n",
        "arr"
      ],
      "execution_count": 24,
      "outputs": [
        {
          "output_type": "execute_result",
          "data": {
            "text/plain": [
              "array([[2, 2],\n",
              "       [2, 2]])"
            ]
          },
          "metadata": {
            "tags": []
          },
          "execution_count": 24
        }
      ]
    },
    {
      "cell_type": "code",
      "metadata": {
        "colab": {
          "base_uri": "https://localhost:8080/"
        },
        "id": "KHawHoCCowfc",
        "outputId": "b65d5bcd-7352-4b34-9d08-126d04172f96"
      },
      "source": [
        "arr.sum()"
      ],
      "execution_count": 25,
      "outputs": [
        {
          "output_type": "execute_result",
          "data": {
            "text/plain": [
              "8"
            ]
          },
          "metadata": {
            "tags": []
          },
          "execution_count": 25
        }
      ]
    },
    {
      "cell_type": "code",
      "metadata": {
        "colab": {
          "base_uri": "https://localhost:8080/"
        },
        "id": "bUkIw9wGo1gw",
        "outputId": "16ccbe24-273c-4b87-d321-b475beac0d06"
      },
      "source": [
        "arr.sum(axis=0)"
      ],
      "execution_count": 26,
      "outputs": [
        {
          "output_type": "execute_result",
          "data": {
            "text/plain": [
              "array([4, 4])"
            ]
          },
          "metadata": {
            "tags": []
          },
          "execution_count": 26
        }
      ]
    },
    {
      "cell_type": "code",
      "metadata": {
        "colab": {
          "base_uri": "https://localhost:8080/"
        },
        "id": "ub3FDa9Mo8Oe",
        "outputId": "08dc54d0-0e5e-4496-de3e-80ed03cb4b8d"
      },
      "source": [
        "arr.sum(axis=1)"
      ],
      "execution_count": 27,
      "outputs": [
        {
          "output_type": "execute_result",
          "data": {
            "text/plain": [
              "array([4, 4])"
            ]
          },
          "metadata": {
            "tags": []
          },
          "execution_count": 27
        }
      ]
    },
    {
      "cell_type": "code",
      "metadata": {
        "colab": {
          "base_uri": "https://localhost:8080/"
        },
        "id": "CMX7052opB8n",
        "outputId": "88d0c6aa-8a4c-4ebe-a9ef-a181a67b676f"
      },
      "source": [
        "np.unique([1, 1, 2, 2, 3, 3])"
      ],
      "execution_count": 29,
      "outputs": [
        {
          "output_type": "execute_result",
          "data": {
            "text/plain": [
              "array([1, 2, 3])"
            ]
          },
          "metadata": {
            "tags": []
          },
          "execution_count": 29
        }
      ]
    },
    {
      "cell_type": "markdown",
      "metadata": {
        "id": "-uOdWGUKpi38"
      },
      "source": [
        "numpy.unique(ar, return_index=False, return_inverse=False, return_counts=False, axis=None)\r\n",
        "Find the unique elements of an array."
      ]
    },
    {
      "cell_type": "code",
      "metadata": {
        "colab": {
          "base_uri": "https://localhost:8080/"
        },
        "id": "pfj-XO73ppdY",
        "outputId": "95056622-5c64-4a04-b507-5ced127a11d0"
      },
      "source": [
        "a = np.array(['a', 'b', 'b', 'c', 'a'])\r\n",
        "u, indices = np.unique(a, return_index=True)\r\n",
        "u"
      ],
      "execution_count": 30,
      "outputs": [
        {
          "output_type": "execute_result",
          "data": {
            "text/plain": [
              "array(['a', 'b', 'c'], dtype='<U1')"
            ]
          },
          "metadata": {
            "tags": []
          },
          "execution_count": 30
        }
      ]
    },
    {
      "cell_type": "code",
      "metadata": {
        "colab": {
          "base_uri": "https://localhost:8080/"
        },
        "id": "-jdIEjLcra7G",
        "outputId": "25e49607-8eae-4a5b-c963-bb2f6f1b0961"
      },
      "source": [
        "a_2d = np.array([[1, 2, 3, 4], [5, 6, 7, 8], [9, 10, 11, 12], [1, 2, 3, 4]])\r\n",
        "np.unique(a_2d, axis=0)"
      ],
      "execution_count": 31,
      "outputs": [
        {
          "output_type": "execute_result",
          "data": {
            "text/plain": [
              "array([[ 1,  2,  3,  4],\n",
              "       [ 5,  6,  7,  8],\n",
              "       [ 9, 10, 11, 12]])"
            ]
          },
          "metadata": {
            "tags": []
          },
          "execution_count": 31
        }
      ]
    },
    {
      "cell_type": "markdown",
      "metadata": {
        "id": "T583ww-jrodc"
      },
      "source": [
        "Find the unique elements of an array"
      ]
    },
    {
      "cell_type": "code",
      "metadata": {
        "colab": {
          "base_uri": "https://localhost:8080/"
        },
        "id": "e5RmY_UOrwfO",
        "outputId": "47bf1338-c29a-45a0-c832-035edc2a20e2"
      },
      "source": [
        "a_2d = np.array([[1, 2, 3, 1], [5, 6, 7, 5], [9, 10, 11, 9], [1, 2, 3, 1]])\r\n",
        "a_2d = np.unique(a_2d, axis=0) \r\n",
        "a_2d"
      ],
      "execution_count": 32,
      "outputs": [
        {
          "output_type": "execute_result",
          "data": {
            "text/plain": [
              "array([[ 1,  2,  3,  1],\n",
              "       [ 5,  6,  7,  5],\n",
              "       [ 9, 10, 11,  9]])"
            ]
          },
          "metadata": {
            "tags": []
          },
          "execution_count": 32
        }
      ]
    },
    {
      "cell_type": "markdown",
      "metadata": {
        "id": "8WNk2HPnr6kt"
      },
      "source": [
        "Removes duplicate rows"
      ]
    },
    {
      "cell_type": "code",
      "metadata": {
        "colab": {
          "base_uri": "https://localhost:8080/"
        },
        "id": "KwY8mN6DsAgc",
        "outputId": "11a5bf92-097d-4c06-f73f-140d8f1a9930"
      },
      "source": [
        "a_2d = np.unique(a_2d, axis=1)\r\n",
        "a_2d"
      ],
      "execution_count": 33,
      "outputs": [
        {
          "output_type": "execute_result",
          "data": {
            "text/plain": [
              "array([[ 1,  2,  3],\n",
              "       [ 5,  6,  7],\n",
              "       [ 9, 10, 11]])"
            ]
          },
          "metadata": {
            "tags": []
          },
          "execution_count": 33
        }
      ]
    },
    {
      "cell_type": "markdown",
      "metadata": {
        "id": "_1kU1OR2sIK5"
      },
      "source": [
        "Removes duplicate columns"
      ]
    },
    {
      "cell_type": "code",
      "metadata": {
        "colab": {
          "base_uri": "https://localhost:8080/"
        },
        "id": "zz3x3A9gsOJr",
        "outputId": "8957a578-9948-4050-fdee-2808b6e23fce"
      },
      "source": [
        "a_2d = np.array([[1, 2, 3, 4], [5, 6, 7, 8], [9, 10, 11, 12], [1, 2, 3, 4]])\r\n",
        "unique_rows, indices, occurrence_count = np.unique(a_2d, axis=0, return_counts=True, return_index=True)\r\n",
        "print(unique_rows)\r\n",
        "\r\n",
        "print(indices)\r\n",
        "print(occurrence_count)"
      ],
      "execution_count": 34,
      "outputs": [
        {
          "output_type": "stream",
          "text": [
            "[[ 1  2  3  4]\n",
            " [ 5  6  7  8]\n",
            " [ 9 10 11 12]]\n",
            "[0 1 2]\n",
            "[2 1 1]\n"
          ],
          "name": "stdout"
        }
      ]
    },
    {
      "cell_type": "markdown",
      "metadata": {
        "id": "ZLX7RgIqsgb4"
      },
      "source": [
        " its returns indices and count of unique rows"
      ]
    },
    {
      "cell_type": "code",
      "metadata": {
        "colab": {
          "base_uri": "https://localhost:8080/"
        },
        "id": "FeTnVKv2tODY",
        "outputId": "bdb2d5f0-94be-40e7-dd8a-7e332e580cff"
      },
      "source": [
        "A = np.arange(8).reshape((2,2,2))\r\n",
        "A"
      ],
      "execution_count": 36,
      "outputs": [
        {
          "output_type": "execute_result",
          "data": {
            "text/plain": [
              "array([[[0, 1],\n",
              "        [2, 3]],\n",
              "\n",
              "       [[4, 5],\n",
              "        [6, 7]]])"
            ]
          },
          "metadata": {
            "tags": []
          },
          "execution_count": 36
        }
      ]
    },
    {
      "cell_type": "code",
      "metadata": {
        "colab": {
          "base_uri": "https://localhost:8080/"
        },
        "id": "9s7rNVQEtYqV",
        "outputId": "bc95b8b4-c087-4bdc-8846-c62ef2e172b8"
      },
      "source": [
        "np.flip(A, 0)"
      ],
      "execution_count": 37,
      "outputs": [
        {
          "output_type": "execute_result",
          "data": {
            "text/plain": [
              "array([[[4, 5],\n",
              "        [6, 7]],\n",
              "\n",
              "       [[0, 1],\n",
              "        [2, 3]]])"
            ]
          },
          "metadata": {
            "tags": []
          },
          "execution_count": 37
        }
      ]
    },
    {
      "cell_type": "markdown",
      "metadata": {
        "id": "BJ6PaO2CtCby"
      },
      "source": [
        "it is use to reverse an array"
      ]
    },
    {
      "cell_type": "code",
      "metadata": {
        "colab": {
          "base_uri": "https://localhost:8080/"
        },
        "id": "7B1BMAkxtgXX",
        "outputId": "9ce286e0-09bf-4666-c81c-85ddc9eef620"
      },
      "source": [
        " y = np.array([[2,3], [4,5]])\r\n",
        " y.flatten()"
      ],
      "execution_count": 38,
      "outputs": [
        {
          "output_type": "execute_result",
          "data": {
            "text/plain": [
              "array([2, 3, 4, 5])"
            ]
          },
          "metadata": {
            "tags": []
          },
          "execution_count": 38
        }
      ]
    },
    {
      "cell_type": "markdown",
      "metadata": {
        "id": "9dhqMazhuTxR"
      },
      "source": [
        "The flatten() function is used to get a copy of an given array collapsed into one dimension."
      ]
    },
    {
      "cell_type": "code",
      "metadata": {
        "id": "jD-G6LSuubL_"
      },
      "source": [
        "x = np.array([[1, 2, 3], [4, 5, 6]])\r\n",
        "np.ravel(x)"
      ],
      "execution_count": null,
      "outputs": []
    },
    {
      "cell_type": "markdown",
      "metadata": {
        "id": "8SPof0Houu6n"
      },
      "source": [
        "numpy.ravel(a, order='C')\r\n",
        "Return a contiguous flattened array."
      ]
    },
    {
      "cell_type": "code",
      "metadata": {
        "colab": {
          "base_uri": "https://localhost:8080/"
        },
        "id": "GSAJmVZVL5No",
        "outputId": "d4ad60d9-608e-43dc-acc2-440b7b5c2875"
      },
      "source": [
        "np.all([[True,False],[True,True]], axis=0)"
      ],
      "execution_count": 3,
      "outputs": [
        {
          "output_type": "execute_result",
          "data": {
            "text/plain": [
              "array([ True, False])"
            ]
          },
          "metadata": {
            "tags": []
          },
          "execution_count": 3
        }
      ]
    },
    {
      "cell_type": "markdown",
      "metadata": {
        "id": "FpESpdIUMu-W"
      },
      "source": [
        "numpy.all(a, axis=None, out=None, keepdims=<no value>, *, where=<no value>)\r\n",
        "Test whether all array elements along a given axis evaluate to True."
      ]
    },
    {
      "cell_type": "code",
      "metadata": {
        "colab": {
          "base_uri": "https://localhost:8080/"
        },
        "id": "TIYnrAS8M1ab",
        "outputId": "17ffde13-4532-43ba-d132-bc161f4c7dc4"
      },
      "source": [
        "np.any([[True, False], [True, True]])"
      ],
      "execution_count": 4,
      "outputs": [
        {
          "output_type": "execute_result",
          "data": {
            "text/plain": [
              "True"
            ]
          },
          "metadata": {
            "tags": []
          },
          "execution_count": 4
        }
      ]
    },
    {
      "cell_type": "markdown",
      "metadata": {
        "id": "zyeuID06NnlO"
      },
      "source": [
        "The numpy.any() function tests whether any array elements along the mentioned axis evaluate to True."
      ]
    },
    {
      "cell_type": "code",
      "metadata": {
        "id": "d1IwruCPNt6B"
      },
      "source": [
        "b = np.array([[8,1,7], [4,3,9], [5,2,6]])\r\n",
        "np.apply_along_axis(sorted, 1, b)"
      ],
      "execution_count": null,
      "outputs": []
    },
    {
      "cell_type": "markdown",
      "metadata": {
        "id": "FNbYr65yOFI_"
      },
      "source": [
        "The numpy.apply_along_axis() function helps us to apply a required function to 1D slices of the given array."
      ]
    },
    {
      "cell_type": "code",
      "metadata": {
        "colab": {
          "base_uri": "https://localhost:8080/"
        },
        "id": "DuB--E9qOT5c",
        "outputId": "f638b917-013c-4f65-bce1-a6d067065628"
      },
      "source": [
        "my_1d_array = np.array([1,2,3,100,5])\r\n",
        "np.argmax(a = my_1d_array)"
      ],
      "execution_count": 5,
      "outputs": [
        {
          "output_type": "execute_result",
          "data": {
            "text/plain": [
              "3"
            ]
          },
          "metadata": {
            "tags": []
          },
          "execution_count": 5
        }
      ]
    },
    {
      "cell_type": "markdown",
      "metadata": {
        "id": "bmvvVVqePomJ"
      },
      "source": [
        " the argmax function returns the index of the maximum value of a Numpy array."
      ]
    },
    {
      "cell_type": "code",
      "metadata": {
        "colab": {
          "base_uri": "https://localhost:8080/"
        },
        "id": "BKqGu7xvRJZ2",
        "outputId": "a3612313-7608-4cb1-943c-bf78cd3efc9a"
      },
      "source": [
        "my_1d_array = np.array([10,2,3,100,5])\r\n",
        "np.argmin(a = my_1d_array)"
      ],
      "execution_count": 14,
      "outputs": [
        {
          "output_type": "execute_result",
          "data": {
            "text/plain": [
              "1"
            ]
          },
          "metadata": {
            "tags": []
          },
          "execution_count": 14
        }
      ]
    },
    {
      "cell_type": "markdown",
      "metadata": {
        "id": "hbbTvj_zQqVC"
      },
      "source": [
        "numpy.argmin(a, axis=None, out=None)\r\n",
        "Returns the indices of the minimum values along an axis."
      ]
    },
    {
      "cell_type": "code",
      "metadata": {
        "colab": {
          "base_uri": "https://localhost:8080/"
        },
        "id": "Vq8RhOYhRabR",
        "outputId": "e9303385-aa25-4819-e62e-27c7e10fb41f"
      },
      "source": [
        "x = np.array([3, 1, 2])\r\n",
        "np.argsort(x)"
      ],
      "execution_count": 15,
      "outputs": [
        {
          "output_type": "execute_result",
          "data": {
            "text/plain": [
              "array([1, 2, 0])"
            ]
          },
          "metadata": {
            "tags": []
          },
          "execution_count": 15
        }
      ]
    },
    {
      "cell_type": "markdown",
      "metadata": {
        "id": "VhCHuMBARqBs"
      },
      "source": [
        "numpy.argsort(a, axis=-1, kind=None, order=None)\r\n",
        "Returns the indices that would sort an array."
      ]
    },
    {
      "cell_type": "code",
      "metadata": {
        "colab": {
          "base_uri": "https://localhost:8080/"
        },
        "id": "FrWKzdRqR951",
        "outputId": "f1624c42-cf19-4a19-ae9c-e9be37fef193"
      },
      "source": [
        "data = np.arange(1, 5)\r\n",
        "data"
      ],
      "execution_count": 16,
      "outputs": [
        {
          "output_type": "execute_result",
          "data": {
            "text/plain": [
              "array([1, 2, 3, 4])"
            ]
          },
          "metadata": {
            "tags": []
          },
          "execution_count": 16
        }
      ]
    },
    {
      "cell_type": "code",
      "metadata": {
        "colab": {
          "base_uri": "https://localhost:8080/"
        },
        "id": "6K02N1XXSAzw",
        "outputId": "262a61d1-d77f-45e0-8e5c-1dca5dedc130"
      },
      "source": [
        "np.average(data)"
      ],
      "execution_count": 17,
      "outputs": [
        {
          "output_type": "execute_result",
          "data": {
            "text/plain": [
              "2.5"
            ]
          },
          "metadata": {
            "tags": []
          },
          "execution_count": 17
        }
      ]
    },
    {
      "cell_type": "markdown",
      "metadata": {
        "id": "yah619O0SFJa"
      },
      "source": [
        "numpy.average(a, axis=None, weights=None, returned=False)\r\n",
        "Compute the weighted average along the specified axis."
      ]
    },
    {
      "cell_type": "code",
      "metadata": {
        "colab": {
          "base_uri": "https://localhost:8080/"
        },
        "id": "wMZjZMTpSJo2",
        "outputId": "6011befb-605e-49e6-8a14-69424f4f91c0"
      },
      "source": [
        "np.bincount(np.array([0, 1, 1, 3, 2, 1, 7]))"
      ],
      "execution_count": 18,
      "outputs": [
        {
          "output_type": "execute_result",
          "data": {
            "text/plain": [
              "array([1, 3, 1, 1, 0, 0, 0, 1])"
            ]
          },
          "metadata": {
            "tags": []
          },
          "execution_count": 18
        }
      ]
    },
    {
      "cell_type": "markdown",
      "metadata": {
        "id": "APEbsALRSeOq"
      },
      "source": [
        "numpy.bincount(x, weights=None, minlength=0)\r\n",
        "Count number of occurrences of each value in array of non-negative ints"
      ]
    },
    {
      "cell_type": "code",
      "metadata": {
        "colab": {
          "base_uri": "https://localhost:8080/"
        },
        "id": "NWhN3R-jSvXi",
        "outputId": "625a6fe3-cca7-4088-a434-640f65f48cdf"
      },
      "source": [
        "a = np.array([-1.7, -1.5, -0.2, 0.2, 1.5, 1.7, 2.0])\r\n",
        "np.ceil(a)"
      ],
      "execution_count": 19,
      "outputs": [
        {
          "output_type": "execute_result",
          "data": {
            "text/plain": [
              "array([-1., -1., -0.,  1.,  2.,  2.,  2.])"
            ]
          },
          "metadata": {
            "tags": []
          },
          "execution_count": 19
        }
      ]
    },
    {
      "cell_type": "markdown",
      "metadata": {
        "id": "qq8_0SBNSw9o"
      },
      "source": [
        "numpy.ceil(x, /, out=None, *, where=True, casting='same_kind', order='K', dtype=None, subok=True[, signature, extobj]) = <ufunc 'ceil'>\r\n",
        "Return the ceiling of the input, element-wise."
      ]
    },
    {
      "cell_type": "code",
      "metadata": {
        "colab": {
          "base_uri": "https://localhost:8080/"
        },
        "id": "d4MGd9aeS3xf",
        "outputId": "5e4792b4-c3e0-478f-b0d5-68833c8ec343"
      },
      "source": [
        "a = np.arange(10)\r\n",
        "np.clip(a, 1, 8)"
      ],
      "execution_count": 20,
      "outputs": [
        {
          "output_type": "execute_result",
          "data": {
            "text/plain": [
              "array([1, 1, 2, 3, 4, 5, 6, 7, 8, 8])"
            ]
          },
          "metadata": {
            "tags": []
          },
          "execution_count": 20
        }
      ]
    },
    {
      "cell_type": "markdown",
      "metadata": {
        "id": "IJNn6fqITFL2"
      },
      "source": [
        "numpy.clip(a, a_min, a_max, out=None, **kwargs)\r\n",
        "Clip (limit) the values in an array"
      ]
    },
    {
      "cell_type": "code",
      "metadata": {
        "colab": {
          "base_uri": "https://localhost:8080/"
        },
        "id": "Yfc1uik3TY8n",
        "outputId": "ab7e0399-3eab-4e58-9bb8-b91801bafd57"
      },
      "source": [
        "x = np.eye(2) + 1j * np.eye(2)\r\n",
        "np.conjugate(x)"
      ],
      "execution_count": 21,
      "outputs": [
        {
          "output_type": "execute_result",
          "data": {
            "text/plain": [
              "array([[1.-1.j, 0.-0.j],\n",
              "       [0.-0.j, 1.-1.j]])"
            ]
          },
          "metadata": {
            "tags": []
          },
          "execution_count": 21
        }
      ]
    },
    {
      "cell_type": "markdown",
      "metadata": {
        "id": "-ZD4PfHmUkyH"
      },
      "source": [
        "The numpy.conj() function helps the user to conjugate any complex number."
      ]
    },
    {
      "cell_type": "code",
      "metadata": {
        "colab": {
          "base_uri": "https://localhost:8080/"
        },
        "id": "rmJBowhlISkN",
        "outputId": "771b2832-51a9-4d26-ed8e-efa4a2cd7e84"
      },
      "source": [
        "rng = np.random.default_rng(seed=42)\r\n",
        "xarr = rng.random((3, 3))\r\n",
        "xarr"
      ],
      "execution_count": 5,
      "outputs": [
        {
          "output_type": "execute_result",
          "data": {
            "text/plain": [
              "array([[0.77395605, 0.43887844, 0.85859792],\n",
              "       [0.69736803, 0.09417735, 0.97562235],\n",
              "       [0.7611397 , 0.78606431, 0.12811363]])"
            ]
          },
          "metadata": {
            "tags": []
          },
          "execution_count": 5
        }
      ]
    },
    {
      "cell_type": "code",
      "metadata": {
        "colab": {
          "base_uri": "https://localhost:8080/"
        },
        "id": "dYpOodQxI0Te",
        "outputId": "557e72b1-8d3d-4ad7-950c-6c83dcb8be0d"
      },
      "source": [
        "R1 = np.corrcoef(xarr)\r\n",
        "R1"
      ],
      "execution_count": 6,
      "outputs": [
        {
          "output_type": "execute_result",
          "data": {
            "text/plain": [
              "array([[ 1.        ,  0.99256089, -0.68080986],\n",
              "       [ 0.99256089,  1.        , -0.76492172],\n",
              "       [-0.68080986, -0.76492172,  1.        ]])"
            ]
          },
          "metadata": {
            "tags": []
          },
          "execution_count": 6
        }
      ]
    },
    {
      "cell_type": "markdown",
      "metadata": {
        "id": "oOhadfVmI5nd"
      },
      "source": [
        "numpy.corrcoef(x, y=None, rowvar=True, bias=<no value>, ddof=<no value>, *, dtype=None)\r\n",
        "Return Pearson product-moment correlation coefficients."
      ]
    },
    {
      "cell_type": "code",
      "metadata": {
        "colab": {
          "base_uri": "https://localhost:8080/"
        },
        "id": "6wIT2i42JjU3",
        "outputId": "0400af35-a0ab-4a50-ded0-56531eb9d3ec"
      },
      "source": [
        "x = np.array([[0, 2], [1, 1], [2, 0]]).T\r\n",
        "x"
      ],
      "execution_count": 7,
      "outputs": [
        {
          "output_type": "execute_result",
          "data": {
            "text/plain": [
              "array([[0, 1, 2],\n",
              "       [2, 1, 0]])"
            ]
          },
          "metadata": {
            "tags": []
          },
          "execution_count": 7
        }
      ]
    },
    {
      "cell_type": "code",
      "metadata": {
        "colab": {
          "base_uri": "https://localhost:8080/"
        },
        "id": "z2GFc-Y9KLuu",
        "outputId": "cb995ce5-716a-4bfb-e611-02f05e9f7a99"
      },
      "source": [
        "np.cov(x)"
      ],
      "execution_count": 8,
      "outputs": [
        {
          "output_type": "execute_result",
          "data": {
            "text/plain": [
              "array([[ 1., -1.],\n",
              "       [-1.,  1.]])"
            ]
          },
          "metadata": {
            "tags": []
          },
          "execution_count": 8
        }
      ]
    },
    {
      "cell_type": "markdown",
      "metadata": {
        "id": "rCgYd4llKP12"
      },
      "source": [
        "Covariance provides the a measure of strength of correlation between two variable or more set of variables. The covariance matrix element Cij is the covariance of xi and xj. The element Cii is the variance of xi."
      ]
    },
    {
      "cell_type": "code",
      "metadata": {
        "colab": {
          "base_uri": "https://localhost:8080/"
        },
        "id": "dHJzRnbQLa8u",
        "outputId": "dee19571-77f6-46c9-bee2-786118f66298"
      },
      "source": [
        "x = [1, 2, 3]\r\n",
        "y = [4, 5, 6]\r\n",
        "np.cross(x, y)"
      ],
      "execution_count": 9,
      "outputs": [
        {
          "output_type": "execute_result",
          "data": {
            "text/plain": [
              "array([-3,  6, -3])"
            ]
          },
          "metadata": {
            "tags": []
          },
          "execution_count": 9
        }
      ]
    },
    {
      "cell_type": "markdown",
      "metadata": {
        "id": "IB_pvI6kLmjn"
      },
      "source": [
        "numpy.cross(a, b, axisa=-1, axisb=-1, axisc=-1, axis=None)\r\n",
        "Return the cross product of two (arrays of) vectors."
      ]
    },
    {
      "cell_type": "code",
      "metadata": {
        "colab": {
          "base_uri": "https://localhost:8080/"
        },
        "id": "ZTQe0toiLp2e",
        "outputId": "fd561c86-3b37-4bb8-f811-62a78ca1743f"
      },
      "source": [
        "a = np.array([[1, 2, 3], [4, 5, 6]])\r\n",
        "np.cumprod(a, dtype=float)"
      ],
      "execution_count": 10,
      "outputs": [
        {
          "output_type": "execute_result",
          "data": {
            "text/plain": [
              "array([  1.,   2.,   6.,  24., 120., 720.])"
            ]
          },
          "metadata": {
            "tags": []
          },
          "execution_count": 10
        }
      ]
    },
    {
      "cell_type": "markdown",
      "metadata": {
        "id": "Ht4Jg3-oMKZx"
      },
      "source": [
        "numpy.cumprod(a, axis=None, dtype=None, out=None)\r\n",
        "Return the cumulative product of elements along a given axis."
      ]
    },
    {
      "cell_type": "code",
      "metadata": {
        "colab": {
          "base_uri": "https://localhost:8080/"
        },
        "id": "tclXmvrmMPs8",
        "outputId": "78664fe9-573f-460e-d86d-6a595cf8cf99"
      },
      "source": [
        "np.cumsum(a)"
      ],
      "execution_count": 11,
      "outputs": [
        {
          "output_type": "execute_result",
          "data": {
            "text/plain": [
              "array([ 1,  3,  6, 10, 15, 21])"
            ]
          },
          "metadata": {
            "tags": []
          },
          "execution_count": 11
        }
      ]
    },
    {
      "cell_type": "markdown",
      "metadata": {
        "id": "yvngQQ_tMhG0"
      },
      "source": [
        "numpy.cumsum(a, axis=None, dtype=None, out=None)\r\n",
        "Return the cumulative sum of the elements along a given axis."
      ]
    },
    {
      "cell_type": "code",
      "metadata": {
        "colab": {
          "base_uri": "https://localhost:8080/"
        },
        "id": "lNwIcjC5Mqao",
        "outputId": "00b1d45f-cc09-472f-ee3b-3c24dfc23efe"
      },
      "source": [
        "x = np.array([1, 2, 4, 7, 0])\r\n",
        "np.diff(x)"
      ],
      "execution_count": 12,
      "outputs": [
        {
          "output_type": "execute_result",
          "data": {
            "text/plain": [
              "array([ 1,  2,  3, -7])"
            ]
          },
          "metadata": {
            "tags": []
          },
          "execution_count": 12
        }
      ]
    },
    {
      "cell_type": "markdown",
      "metadata": {
        "id": "FI6RG6z6NoAZ"
      },
      "source": [
        "Calculate the n-th discrete difference along the given axis."
      ]
    },
    {
      "cell_type": "code",
      "metadata": {
        "colab": {
          "base_uri": "https://localhost:8080/"
        },
        "id": "NkSp19hTNrnK",
        "outputId": "1fe7ee75-b133-47be-a4f0-d39c809a20d3"
      },
      "source": [
        "np.dot(3, 4)"
      ],
      "execution_count": 13,
      "outputs": [
        {
          "output_type": "execute_result",
          "data": {
            "text/plain": [
              "12"
            ]
          },
          "metadata": {
            "tags": []
          },
          "execution_count": 13
        }
      ]
    },
    {
      "cell_type": "markdown",
      "metadata": {
        "id": "AdluWKwXO7Jr"
      },
      "source": [
        "Dot product of two arrays"
      ]
    },
    {
      "cell_type": "code",
      "metadata": {
        "colab": {
          "base_uri": "https://localhost:8080/"
        },
        "id": "RorTAONhPBO-",
        "outputId": "e0f20bbf-269a-4359-ed58-0b88213fe510"
      },
      "source": [
        "a = np.array([-1.7, -1.5, -0.2, 0.2, 1.5, 1.7, 2.0])\r\n",
        "np.floor(a)"
      ],
      "execution_count": 14,
      "outputs": [
        {
          "output_type": "execute_result",
          "data": {
            "text/plain": [
              "array([-2., -2., -1.,  0.,  1.,  1.,  2.])"
            ]
          },
          "metadata": {
            "tags": []
          },
          "execution_count": 14
        }
      ]
    },
    {
      "cell_type": "markdown",
      "metadata": {
        "id": "hb7DrucoPmML"
      },
      "source": [
        "The numpy.floor) is a mathematical function that returns the floor of the elements of array. The floor of the scalar x is the largest integer i, such that i <= x."
      ]
    },
    {
      "cell_type": "code",
      "metadata": {
        "colab": {
          "base_uri": "https://localhost:8080/"
        },
        "id": "teQp6eyIP5OK",
        "outputId": "2066a4db-6ce7-424c-9211-fb374407dbfe"
      },
      "source": [
        "a = np.array([1,2,3])\r\n",
        "b = np.array([0,1,0])\r\n",
        "np.inner(a, b)"
      ],
      "execution_count": 15,
      "outputs": [
        {
          "output_type": "execute_result",
          "data": {
            "text/plain": [
              "2"
            ]
          },
          "metadata": {
            "tags": []
          },
          "execution_count": 15
        }
      ]
    },
    {
      "cell_type": "markdown",
      "metadata": {
        "id": "j_T7xH_thXQN"
      },
      "source": [
        "Numpy inner() method function returns the inner product of vectors for 1D arrays. For higher dimensions, it returns the sum-product over the last axes."
      ]
    },
    {
      "cell_type": "code",
      "metadata": {
        "colab": {
          "base_uri": "https://localhost:8080/"
        },
        "id": "oNm98ddkiAhW",
        "outputId": "b7aa5b2f-63b3-43d8-de9c-b5d752751f51"
      },
      "source": [
        "x = np.invert(np.array(13, dtype=np.uint8))\r\n",
        "x"
      ],
      "execution_count": 16,
      "outputs": [
        {
          "output_type": "execute_result",
          "data": {
            "text/plain": [
              "242"
            ]
          },
          "metadata": {
            "tags": []
          },
          "execution_count": 16
        }
      ]
    },
    {
      "cell_type": "code",
      "metadata": {
        "colab": {
          "base_uri": "https://localhost:8080/",
          "height": 35
        },
        "id": "VB8Tuxspi6-8",
        "outputId": "aa8353eb-783c-4805-bac9-3b4a235e5554"
      },
      "source": [
        "np.binary_repr(x, width=8)"
      ],
      "execution_count": 17,
      "outputs": [
        {
          "output_type": "execute_result",
          "data": {
            "application/vnd.google.colaboratory.intrinsic+json": {
              "type": "string"
            },
            "text/plain": [
              "'11110010'"
            ]
          },
          "metadata": {
            "tags": []
          },
          "execution_count": 17
        }
      ]
    },
    {
      "cell_type": "markdown",
      "metadata": {
        "id": "PdnC3oDgjEW8"
      },
      "source": [
        "numpy.invert() function is used to Compute the bit-wise Inversion of an array element-wise. It computes the bit-wise NOT of the underlying binary representation of the integers in the input arrays."
      ]
    },
    {
      "cell_type": "code",
      "metadata": {
        "colab": {
          "base_uri": "https://localhost:8080/"
        },
        "id": "AXBKjkIXjJkv",
        "outputId": "e79be298-ece4-4b5b-f90e-310cbab7f645"
      },
      "source": [
        " a = np.array([[1, 2], [3, 4]])\r\n",
        "np.mean(a)"
      ],
      "execution_count": 18,
      "outputs": [
        {
          "output_type": "execute_result",
          "data": {
            "text/plain": [
              "2.5"
            ]
          },
          "metadata": {
            "tags": []
          },
          "execution_count": 18
        }
      ]
    },
    {
      "cell_type": "code",
      "metadata": {
        "colab": {
          "base_uri": "https://localhost:8080/"
        },
        "id": "eutsOpsFkEn0",
        "outputId": "68b8c145-83ce-481e-e43b-975a533c3378"
      },
      "source": [
        "np.maximum([2, 3, 4], [1, 5, 2])"
      ],
      "execution_count": 19,
      "outputs": [
        {
          "output_type": "execute_result",
          "data": {
            "text/plain": [
              "array([2, 5, 4])"
            ]
          },
          "metadata": {
            "tags": []
          },
          "execution_count": 19
        }
      ]
    },
    {
      "cell_type": "code",
      "metadata": {
        "colab": {
          "base_uri": "https://localhost:8080/"
        },
        "id": "D-1KZf7IkG55",
        "outputId": "79b836b6-f93e-42dc-93aa-c9d985ea83f9"
      },
      "source": [
        "np.median(a)"
      ],
      "execution_count": 20,
      "outputs": [
        {
          "output_type": "execute_result",
          "data": {
            "text/plain": [
              "2.5"
            ]
          },
          "metadata": {
            "tags": []
          },
          "execution_count": 20
        }
      ]
    },
    {
      "cell_type": "code",
      "metadata": {
        "colab": {
          "base_uri": "https://localhost:8080/"
        },
        "id": "VOkkFn1Jkvd-",
        "outputId": "4959ded1-f5ab-4d02-f80c-cbd27257ed82"
      },
      "source": [
        "np.minimum([2, 3, 4], [1, 5, 2])"
      ],
      "execution_count": 21,
      "outputs": [
        {
          "output_type": "execute_result",
          "data": {
            "text/plain": [
              "array([1, 3, 2])"
            ]
          },
          "metadata": {
            "tags": []
          },
          "execution_count": 21
        }
      ]
    },
    {
      "cell_type": "code",
      "metadata": {
        "colab": {
          "base_uri": "https://localhost:8080/"
        },
        "id": "FVExcIdWkz7G",
        "outputId": "c008ede6-4239-499d-a54c-4486ee51019b"
      },
      "source": [
        "x = np.array([[3, 0, 0], [0, 4, 0], [5, 6, 0]])\r\n",
        "x"
      ],
      "execution_count": 22,
      "outputs": [
        {
          "output_type": "execute_result",
          "data": {
            "text/plain": [
              "array([[3, 0, 0],\n",
              "       [0, 4, 0],\n",
              "       [5, 6, 0]])"
            ]
          },
          "metadata": {
            "tags": []
          },
          "execution_count": 22
        }
      ]
    },
    {
      "cell_type": "code",
      "metadata": {
        "colab": {
          "base_uri": "https://localhost:8080/"
        },
        "id": "g5ab9S6flR0G",
        "outputId": "a380135a-2272-478b-9d26-541f34dd4003"
      },
      "source": [
        "np.nonzero(x)"
      ],
      "execution_count": 23,
      "outputs": [
        {
          "output_type": "execute_result",
          "data": {
            "text/plain": [
              "(array([0, 1, 2, 2]), array([0, 1, 0, 1]))"
            ]
          },
          "metadata": {
            "tags": []
          },
          "execution_count": 23
        }
      ]
    },
    {
      "cell_type": "markdown",
      "metadata": {
        "id": "lOB0wtlllVW2"
      },
      "source": [
        "Return the indices of the elements that are non-zero."
      ]
    },
    {
      "cell_type": "code",
      "metadata": {
        "colab": {
          "base_uri": "https://localhost:8080/"
        },
        "id": "4YvHCFprla70",
        "outputId": "06642641-cdb8-49c1-bc17-bba65b7e7258"
      },
      "source": [
        "rl = np.outer(np.ones((5,)), np.linspace(-2, 2, 5))\r\n",
        "rl"
      ],
      "execution_count": 24,
      "outputs": [
        {
          "output_type": "execute_result",
          "data": {
            "text/plain": [
              "array([[-2., -1.,  0.,  1.,  2.],\n",
              "       [-2., -1.,  0.,  1.,  2.],\n",
              "       [-2., -1.,  0.,  1.,  2.],\n",
              "       [-2., -1.,  0.,  1.,  2.],\n",
              "       [-2., -1.,  0.,  1.,  2.]])"
            ]
          },
          "metadata": {
            "tags": []
          },
          "execution_count": 24
        }
      ]
    },
    {
      "cell_type": "markdown",
      "metadata": {
        "id": "BSvx-2Xqlo__"
      },
      "source": [
        "Compute the outer product of two vectors."
      ]
    },
    {
      "cell_type": "code",
      "metadata": {
        "colab": {
          "base_uri": "https://localhost:8080/"
        },
        "id": "MkMJRTlwlr8w",
        "outputId": "329cae19-d2cf-42cc-ba5c-3d932ac39c50"
      },
      "source": [
        "np.prod([1.,2.])"
      ],
      "execution_count": 25,
      "outputs": [
        {
          "output_type": "execute_result",
          "data": {
            "text/plain": [
              "2.0"
            ]
          },
          "metadata": {
            "tags": []
          },
          "execution_count": 25
        }
      ]
    },
    {
      "cell_type": "markdown",
      "metadata": {
        "id": "RADgtXZ1l-Wu"
      },
      "source": [
        "Return the product of array elements over a given axis."
      ]
    },
    {
      "cell_type": "code",
      "metadata": {
        "colab": {
          "base_uri": "https://localhost:8080/"
        },
        "id": "knDqw79hmCtS",
        "outputId": "dccfe7e8-c478-46fc-8808-901e0af9c44c"
      },
      "source": [
        "np.round(1.5)"
      ],
      "execution_count": 26,
      "outputs": [
        {
          "output_type": "execute_result",
          "data": {
            "text/plain": [
              "2.0"
            ]
          },
          "metadata": {
            "tags": []
          },
          "execution_count": 26
        }
      ]
    },
    {
      "cell_type": "markdown",
      "metadata": {
        "id": "h8MXCtfunHG9"
      },
      "source": [
        "Round an array to the given number of decimals."
      ]
    },
    {
      "cell_type": "code",
      "metadata": {
        "colab": {
          "base_uri": "https://localhost:8080/"
        },
        "id": "DYWXBn5Nn7GG",
        "outputId": "655f57ae-2d44-45b7-ed71-d9ac709e7871"
      },
      "source": [
        "a = np.arange(8).reshape((2,2,2))\r\n",
        "np.trace(a)"
      ],
      "execution_count": 27,
      "outputs": [
        {
          "output_type": "execute_result",
          "data": {
            "text/plain": [
              "array([6, 8])"
            ]
          },
          "metadata": {
            "tags": []
          },
          "execution_count": 27
        }
      ]
    },
    {
      "cell_type": "markdown",
      "metadata": {
        "id": "ypwmkNH2oL9E"
      },
      "source": [
        "Return the sum along diagonals of the array."
      ]
    },
    {
      "cell_type": "code",
      "metadata": {
        "colab": {
          "base_uri": "https://localhost:8080/"
        },
        "id": "twaD-bhtoR3J",
        "outputId": "4cc553ec-85a1-4025-c83c-640247931052"
      },
      "source": [
        "x = np.arange(4).reshape((2,2))\r\n",
        "x"
      ],
      "execution_count": 28,
      "outputs": [
        {
          "output_type": "execute_result",
          "data": {
            "text/plain": [
              "array([[0, 1],\n",
              "       [2, 3]])"
            ]
          },
          "metadata": {
            "tags": []
          },
          "execution_count": 28
        }
      ]
    },
    {
      "cell_type": "code",
      "metadata": {
        "colab": {
          "base_uri": "https://localhost:8080/"
        },
        "id": "TyociWtQoglm",
        "outputId": "056702df-5537-42b6-9371-e04092c13eca"
      },
      "source": [
        "np.transpose(x)"
      ],
      "execution_count": 29,
      "outputs": [
        {
          "output_type": "execute_result",
          "data": {
            "text/plain": [
              "array([[0, 2],\n",
              "       [1, 3]])"
            ]
          },
          "metadata": {
            "tags": []
          },
          "execution_count": 29
        }
      ]
    },
    {
      "cell_type": "markdown",
      "metadata": {
        "id": "M-Ie3ANrok-F"
      },
      "source": [
        "numpy.transpose(a, axes=None)\r\n",
        "Reverse or permute the axes of an array; returns the modified array."
      ]
    },
    {
      "cell_type": "code",
      "metadata": {
        "colab": {
          "base_uri": "https://localhost:8080/"
        },
        "id": "GOYScYn3osmW",
        "outputId": "3ed6419a-11db-48c8-fe82-ea04065c2181"
      },
      "source": [
        "a = np.array([[1, 2], [3, 4]])\r\n",
        "np.var(a)"
      ],
      "execution_count": 30,
      "outputs": [
        {
          "output_type": "execute_result",
          "data": {
            "text/plain": [
              "1.25"
            ]
          },
          "metadata": {
            "tags": []
          },
          "execution_count": 30
        }
      ]
    },
    {
      "cell_type": "markdown",
      "metadata": {
        "id": "d-xsHShbo6V9"
      },
      "source": [
        "Compute the variance along the specified axis."
      ]
    },
    {
      "cell_type": "code",
      "metadata": {
        "colab": {
          "base_uri": "https://localhost:8080/"
        },
        "id": "WjqcV1-lo-X7",
        "outputId": "f8263765-41e3-41d2-96a3-882a65b3ea81"
      },
      "source": [
        "a = np.array([1+2j,3+4j])\r\n",
        "b = np.array([5+6j,7+8j])\r\n",
        "np.vdot(a, b)"
      ],
      "execution_count": 31,
      "outputs": [
        {
          "output_type": "execute_result",
          "data": {
            "text/plain": [
              "(70-8j)"
            ]
          },
          "metadata": {
            "tags": []
          },
          "execution_count": 31
        }
      ]
    },
    {
      "cell_type": "markdown",
      "metadata": {
        "id": "9zr9-U14pMkO"
      },
      "source": [
        "Return the dot product of two vectors."
      ]
    },
    {
      "cell_type": "markdown",
      "metadata": {
        "id": "BxXKAgWDpz8T"
      },
      "source": [
        "vectorize : The excluded argument can be used to prevent vectorizing over certain arguments. This can be useful for array-like arguments of a fixed length such as the coefficients for a polynomial as in polyval:"
      ]
    },
    {
      "cell_type": "code",
      "metadata": {
        "colab": {
          "base_uri": "https://localhost:8080/"
        },
        "id": "UFWJkAFzpPpf",
        "outputId": "bc906268-bf63-44a7-b871-a8a6cbc1e9ab"
      },
      "source": [
        "def mypolyval(p, x):\r\n",
        "    _p = list(p)\r\n",
        "    res = _p.pop(0)\r\n",
        "    while _p:\r\n",
        "        res = res*x + _p.pop(0)\r\n",
        "    return res\r\n",
        "vpolyval = np.vectorize(mypolyval, excluded=['p'])\r\n",
        "vpolyval(p=[1, 2, 3], x=[0, 1])"
      ],
      "execution_count": 32,
      "outputs": [
        {
          "output_type": "execute_result",
          "data": {
            "text/plain": [
              "array([3, 6])"
            ]
          },
          "metadata": {
            "tags": []
          },
          "execution_count": 32
        }
      ]
    },
    {
      "cell_type": "code",
      "metadata": {
        "colab": {
          "base_uri": "https://localhost:8080/"
        },
        "id": "FTVocdhkqPja",
        "outputId": "3783915d-8836-441b-96a8-e00890df2d08"
      },
      "source": [
        "a = np.arange(10)\r\n",
        "a"
      ],
      "execution_count": 33,
      "outputs": [
        {
          "output_type": "execute_result",
          "data": {
            "text/plain": [
              "array([0, 1, 2, 3, 4, 5, 6, 7, 8, 9])"
            ]
          },
          "metadata": {
            "tags": []
          },
          "execution_count": 33
        }
      ]
    },
    {
      "cell_type": "code",
      "metadata": {
        "colab": {
          "base_uri": "https://localhost:8080/"
        },
        "id": "Y2eJMAN3qpQV",
        "outputId": "2a566c13-0e01-4ea6-f063-5ae2fbeb0a88"
      },
      "source": [
        "np.where(a < 5, a, 10*a)"
      ],
      "execution_count": 34,
      "outputs": [
        {
          "output_type": "execute_result",
          "data": {
            "text/plain": [
              "array([ 0,  1,  2,  3,  4, 50, 60, 70, 80, 90])"
            ]
          },
          "metadata": {
            "tags": []
          },
          "execution_count": 34
        }
      ]
    },
    {
      "cell_type": "code",
      "metadata": {
        "colab": {
          "base_uri": "https://localhost:8080/"
        },
        "id": "ADZc1hLtqvKy",
        "outputId": "647ed508-42f4-4551-e2d7-b4506217a16a"
      },
      "source": [
        "x = np.array([1, 2, 2.5])\r\n",
        "x"
      ],
      "execution_count": 35,
      "outputs": [
        {
          "output_type": "execute_result",
          "data": {
            "text/plain": [
              "array([1. , 2. , 2.5])"
            ]
          },
          "metadata": {
            "tags": []
          },
          "execution_count": 35
        }
      ]
    },
    {
      "cell_type": "code",
      "metadata": {
        "colab": {
          "base_uri": "https://localhost:8080/"
        },
        "id": "xMzeKlT1rTXN",
        "outputId": "26f45062-b526-4eab-a22b-c5e1408491c6"
      },
      "source": [
        "x.astype(int)"
      ],
      "execution_count": 36,
      "outputs": [
        {
          "output_type": "execute_result",
          "data": {
            "text/plain": [
              "array([1, 2, 2])"
            ]
          },
          "metadata": {
            "tags": []
          },
          "execution_count": 36
        }
      ]
    },
    {
      "cell_type": "markdown",
      "metadata": {
        "id": "L3sz0aB1rYfq"
      },
      "source": [
        "Copy of the array, cast to a specified type."
      ]
    },
    {
      "cell_type": "code",
      "metadata": {
        "colab": {
          "base_uri": "https://localhost:8080/"
        },
        "id": "zd6F9zAKrcnW",
        "outputId": "9baa39b9-3f2e-4d7f-f871-3947414a4974"
      },
      "source": [
        "x = np.arange(9.0).reshape(3,3)\r\n",
        "np.atleast_1d(x)"
      ],
      "execution_count": 37,
      "outputs": [
        {
          "output_type": "execute_result",
          "data": {
            "text/plain": [
              "array([[0., 1., 2.],\n",
              "       [3., 4., 5.],\n",
              "       [6., 7., 8.]])"
            ]
          },
          "metadata": {
            "tags": []
          },
          "execution_count": 37
        }
      ]
    },
    {
      "cell_type": "markdown",
      "metadata": {
        "id": "5LH6RbJyr3AX"
      },
      "source": [
        "Convert inputs to arrays with at least one dimension."
      ]
    },
    {
      "cell_type": "code",
      "metadata": {
        "colab": {
          "base_uri": "https://localhost:8080/"
        },
        "id": "h_10mDy9sA_m",
        "outputId": "d2c5966d-9a8e-4978-f44d-4f150b49ed3f"
      },
      "source": [
        "x = np.arange(3.0)\r\n",
        "np.atleast_2d(x)"
      ],
      "execution_count": 38,
      "outputs": [
        {
          "output_type": "execute_result",
          "data": {
            "text/plain": [
              "array([[0., 1., 2.]])"
            ]
          },
          "metadata": {
            "tags": []
          },
          "execution_count": 38
        }
      ]
    },
    {
      "cell_type": "markdown",
      "metadata": {
        "id": "rCMwKoQ8sRgV"
      },
      "source": [
        "View inputs as arrays with at least two dimensions."
      ]
    },
    {
      "cell_type": "code",
      "metadata": {
        "colab": {
          "base_uri": "https://localhost:8080/"
        },
        "id": "LQFa3eH0sXbk",
        "outputId": "a264e096-edfa-4f5a-dc83-ef7aef9835e5"
      },
      "source": [
        "np.atleast_3d(3.0)"
      ],
      "execution_count": 39,
      "outputs": [
        {
          "output_type": "execute_result",
          "data": {
            "text/plain": [
              "array([[[3.]]])"
            ]
          },
          "metadata": {
            "tags": []
          },
          "execution_count": 39
        }
      ]
    },
    {
      "cell_type": "markdown",
      "metadata": {
        "id": "DH5-X-KWsyAd"
      },
      "source": [
        "View inputs as arrays with at least three dimensions."
      ]
    },
    {
      "cell_type": "code",
      "metadata": {
        "colab": {
          "base_uri": "https://localhost:8080/"
        },
        "id": "iwnbxCystOm0",
        "outputId": "ab9e39b8-1571-40a9-c4cb-f08c0690f949"
      },
      "source": [
        "x = np.arange(8.0)\r\n",
        "np.array_split(x, 3)"
      ],
      "execution_count": 40,
      "outputs": [
        {
          "output_type": "execute_result",
          "data": {
            "text/plain": [
              "[array([0., 1., 2.]), array([3., 4., 5.]), array([6., 7.])]"
            ]
          },
          "metadata": {
            "tags": []
          },
          "execution_count": 40
        }
      ]
    },
    {
      "cell_type": "markdown",
      "metadata": {
        "id": "SicEYb8BtRlb"
      },
      "source": [
        "Split an array into multiple sub-arrays."
      ]
    },
    {
      "cell_type": "code",
      "metadata": {
        "colab": {
          "base_uri": "https://localhost:8080/"
        },
        "id": "l514E8zAteU5",
        "outputId": "00df29e4-2ee8-4419-ba00-a69587f9c81c"
      },
      "source": [
        "a = np.arange(4).reshape(2,2)\r\n",
        "a"
      ],
      "execution_count": 41,
      "outputs": [
        {
          "output_type": "execute_result",
          "data": {
            "text/plain": [
              "array([[0, 1],\n",
              "       [2, 3]])"
            ]
          },
          "metadata": {
            "tags": []
          },
          "execution_count": 41
        }
      ]
    },
    {
      "cell_type": "code",
      "metadata": {
        "colab": {
          "base_uri": "https://localhost:8080/"
        },
        "id": "Ab4M32kwt1u7",
        "outputId": "f3e2bf93-c246-4998-f90a-8c51b749033d"
      },
      "source": [
        "a.diagonal()"
      ],
      "execution_count": 42,
      "outputs": [
        {
          "output_type": "execute_result",
          "data": {
            "text/plain": [
              "array([0, 3])"
            ]
          },
          "metadata": {
            "tags": []
          },
          "execution_count": 42
        }
      ]
    },
    {
      "cell_type": "markdown",
      "metadata": {
        "id": "9s-wbXWqt8Mt"
      },
      "source": [
        "Return specified diagonals."
      ]
    },
    {
      "cell_type": "code",
      "metadata": {
        "colab": {
          "base_uri": "https://localhost:8080/"
        },
        "id": "5olkQJC-uDDw",
        "outputId": "00a4ec1e-a58a-43a1-ac02-80d0e423d3f7"
      },
      "source": [
        "x = np.arange(16.0).reshape(2, 2, 4)\r\n",
        "x"
      ],
      "execution_count": 43,
      "outputs": [
        {
          "output_type": "execute_result",
          "data": {
            "text/plain": [
              "array([[[ 0.,  1.,  2.,  3.],\n",
              "        [ 4.,  5.,  6.,  7.]],\n",
              "\n",
              "       [[ 8.,  9., 10., 11.],\n",
              "        [12., 13., 14., 15.]]])"
            ]
          },
          "metadata": {
            "tags": []
          },
          "execution_count": 43
        }
      ]
    },
    {
      "cell_type": "code",
      "metadata": {
        "colab": {
          "base_uri": "https://localhost:8080/"
        },
        "id": "M3mIxCuBuUH9",
        "outputId": "2906896c-35a2-428b-c73c-6f1dfb29d5de"
      },
      "source": [
        "np.dsplit(x, 2)"
      ],
      "execution_count": 44,
      "outputs": [
        {
          "output_type": "execute_result",
          "data": {
            "text/plain": [
              "[array([[[ 0.,  1.],\n",
              "         [ 4.,  5.]],\n",
              " \n",
              "        [[ 8.,  9.],\n",
              "         [12., 13.]]]), array([[[ 2.,  3.],\n",
              "         [ 6.,  7.]],\n",
              " \n",
              "        [[10., 11.],\n",
              "         [14., 15.]]])]"
            ]
          },
          "metadata": {
            "tags": []
          },
          "execution_count": 44
        }
      ]
    },
    {
      "cell_type": "markdown",
      "metadata": {
        "id": "Y90CMS2vuWgc"
      },
      "source": [
        "Split array into multiple sub-arrays along the 3rd axis (depth)."
      ]
    },
    {
      "cell_type": "code",
      "metadata": {
        "colab": {
          "base_uri": "https://localhost:8080/"
        },
        "id": "RAn3WtApud3L",
        "outputId": "c6075ba7-ff10-439e-c423-f31bcd08641f"
      },
      "source": [
        "a = np.array((1,2,3))\r\n",
        "b = np.array((2,3,4))\r\n",
        "np.dstack((a,b))"
      ],
      "execution_count": 45,
      "outputs": [
        {
          "output_type": "execute_result",
          "data": {
            "text/plain": [
              "array([[[1, 2],\n",
              "        [2, 3],\n",
              "        [3, 4]]])"
            ]
          },
          "metadata": {
            "tags": []
          },
          "execution_count": 45
        }
      ]
    },
    {
      "cell_type": "markdown",
      "metadata": {
        "id": "CZQx1r-sut-L"
      },
      "source": [
        "Stack arrays in sequence depth wise (along third axis)."
      ]
    },
    {
      "cell_type": "code",
      "metadata": {
        "colab": {
          "base_uri": "https://localhost:8080/"
        },
        "id": "XFgiXYk3uyR7",
        "outputId": "ac95a399-a36c-4030-e295-209eb9245229"
      },
      "source": [
        "x = np.random.randint(9, size=(3, 3))\r\n",
        "x"
      ],
      "execution_count": 46,
      "outputs": [
        {
          "output_type": "execute_result",
          "data": {
            "text/plain": [
              "array([[3, 6, 5],\n",
              "       [1, 0, 4],\n",
              "       [3, 2, 8]])"
            ]
          },
          "metadata": {
            "tags": []
          },
          "execution_count": 46
        }
      ]
    },
    {
      "cell_type": "code",
      "metadata": {
        "colab": {
          "base_uri": "https://localhost:8080/"
        },
        "id": "qYR4Vl9Ivzoe",
        "outputId": "5062a042-7035-4092-ab5e-847bd6aa200b"
      },
      "source": [
        "x.item((0, 1))"
      ],
      "execution_count": 48,
      "outputs": [
        {
          "output_type": "execute_result",
          "data": {
            "text/plain": [
              "6"
            ]
          },
          "metadata": {
            "tags": []
          },
          "execution_count": 48
        }
      ]
    },
    {
      "cell_type": "markdown",
      "metadata": {
        "id": "ByNRPw-ivhEY"
      },
      "source": [
        "With the help of numpy.ndarray.item() method, we can fetch the data elements that is found at the given index on numpy array. Remember we can give index as one dimensional parameter or can be two dimensional."
      ]
    }
  ]
}