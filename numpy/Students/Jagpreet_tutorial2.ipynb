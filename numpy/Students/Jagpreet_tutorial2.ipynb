{
  "nbformat": 4,
  "nbformat_minor": 0,
  "metadata": {
    "colab": {
      "name": "numpy_tutorial2.ipynb",
      "provenance": []
    },
    "kernelspec": {
      "name": "python3",
      "display_name": "Python 3"
    }
  },
  "cells": [
    {
      "cell_type": "markdown",
      "metadata": {
        "id": "yQOk5gfZT3VX"
      },
      "source": [
        "**logspace** numpy :\r\n",
        "\r\n",
        "np.logspace(start, stop, num=50, endpoint=True, base=10.0, dtype=None, axis=0)"
      ]
    },
    {
      "cell_type": "code",
      "metadata": {
        "id": "kl_77e2fUGRQ"
      },
      "source": [
        "import numpy as np"
      ],
      "execution_count": 3,
      "outputs": []
    },
    {
      "cell_type": "markdown",
      "metadata": {
        "id": "iQndHLBfUlyX"
      },
      "source": [
        "Return numbers spaced evenly on a log scale."
      ]
    },
    {
      "cell_type": "code",
      "metadata": {
        "colab": {
          "base_uri": "https://localhost:8080/"
        },
        "id": "NU6LTZHqT7-L",
        "outputId": "5aa6c652-0ebb-419b-fb6c-6110c3b22db3"
      },
      "source": [
        "np.logspace(12.0, 30.0, num=5)"
      ],
      "execution_count": 6,
      "outputs": [
        {
          "output_type": "execute_result",
          "data": {
            "text/plain": [
              "array([1.00000000e+12, 3.16227766e+16, 1.00000000e+21, 3.16227766e+25,\n",
              "       1.00000000e+30])"
            ]
          },
          "metadata": {
            "tags": []
          },
          "execution_count": 6
        }
      ]
    },
    {
      "cell_type": "markdown",
      "metadata": {
        "id": "xH8fb4MiUds-"
      },
      "source": [
        "mgrid :  "
      ]
    },
    {
      "cell_type": "code",
      "metadata": {
        "colab": {
          "base_uri": "https://localhost:8080/"
        },
        "id": "5UYod2UAWfjk",
        "outputId": "0af70142-5659-4c48-8047-0aa34ddbf668"
      },
      "source": [
        "np.mgrid[1:5,0:5] \r\n"
      ],
      "execution_count": 26,
      "outputs": [
        {
          "output_type": "execute_result",
          "data": {
            "text/plain": [
              "array([[[1, 1, 1, 1, 1],\n",
              "        [2, 2, 2, 2, 2],\n",
              "        [3, 3, 3, 3, 3],\n",
              "        [4, 4, 4, 4, 4]],\n",
              "\n",
              "       [[0, 1, 2, 3, 4],\n",
              "        [0, 1, 2, 3, 4],\n",
              "        [0, 1, 2, 3, 4],\n",
              "        [0, 1, 2, 3, 4]]])"
            ]
          },
          "metadata": {
            "tags": []
          },
          "execution_count": 26
        }
      ]
    },
    {
      "cell_type": "markdown",
      "metadata": {
        "id": "X4zmR152X7XU"
      },
      "source": [
        "1:5 => range 1 to 5 for the first array , it works on the basis of row . here , 5 indicates number of rows.\r\n",
        "\r\n",
        "0:5 = > range of values from 0 to 5 , it works on the basis of column .Here 5 indicates number of columns."
      ]
    },
    {
      "cell_type": "code",
      "metadata": {
        "colab": {
          "base_uri": "https://localhost:8080/"
        },
        "id": "K1X52QbtZDsz",
        "outputId": "52842421-a901-4f90-9089-0eaf9feaa0d2"
      },
      "source": [
        "np.mgrid[-1:1:5j]"
      ],
      "execution_count": 27,
      "outputs": [
        {
          "output_type": "execute_result",
          "data": {
            "text/plain": [
              "array([-1. , -0.5,  0. ,  0.5,  1. ])"
            ]
          },
          "metadata": {
            "tags": []
          },
          "execution_count": 27
        }
      ]
    },
    {
      "cell_type": "markdown",
      "metadata": {
        "id": "F42juwpsY1O5"
      },
      "source": [
        "**ogrid**: "
      ]
    },
    {
      "cell_type": "code",
      "metadata": {
        "colab": {
          "base_uri": "https://localhost:8080/"
        },
        "id": "Ccjh0JaGZOjU",
        "outputId": "8e857334-2d35-46fa-cdc5-6b6fe79b28c3"
      },
      "source": [
        "np.ogrid[1:5,2:5]"
      ],
      "execution_count": 36,
      "outputs": [
        {
          "output_type": "execute_result",
          "data": {
            "text/plain": [
              "[array([[1],\n",
              "        [2],\n",
              "        [3],\n",
              "        [4]]), array([[2, 3, 4]])]"
            ]
          },
          "metadata": {
            "tags": []
          },
          "execution_count": 36
        }
      ]
    },
    {
      "cell_type": "markdown",
      "metadata": {
        "id": "0UILMIX7cQbb"
      },
      "source": [
        "1:5 => values ranging from 1 to 5 ,1 dimensional arr in 5 rows \r\n",
        "\r\n",
        "2:5 => values ranging from 2 to 5 , \r\n",
        "number of values 5-2 = 3"
      ]
    },
    {
      "cell_type": "markdown",
      "metadata": {
        "id": "rqieu0_9dNHr"
      },
      "source": [
        "numpy.**ones_like**(a, dtype=None, order='K', subok=True, shape=None)\r\n",
        "\r\n",
        "Return an array of ones with the same shape and type as a given array."
      ]
    },
    {
      "cell_type": "code",
      "metadata": {
        "colab": {
          "base_uri": "https://localhost:8080/"
        },
        "id": "3cQBrqLBeRFm",
        "outputId": "43b1c249-afb4-4009-928d-c844e55061a0"
      },
      "source": [
        "x = np.arange(8)\r\n",
        "x = x.reshape((2, 4))\r\n",
        "x"
      ],
      "execution_count": 37,
      "outputs": [
        {
          "output_type": "execute_result",
          "data": {
            "text/plain": [
              "array([[0, 1, 2, 3],\n",
              "       [4, 5, 6, 7]])"
            ]
          },
          "metadata": {
            "tags": []
          },
          "execution_count": 37
        }
      ]
    },
    {
      "cell_type": "code",
      "metadata": {
        "colab": {
          "base_uri": "https://localhost:8080/"
        },
        "id": "1aZpRfxUfX2o",
        "outputId": "e8ca835d-e079-4815-e19c-2392251d2dec"
      },
      "source": [
        "np.ones_like(x)"
      ],
      "execution_count": 38,
      "outputs": [
        {
          "output_type": "execute_result",
          "data": {
            "text/plain": [
              "array([[1, 1, 1, 1],\n",
              "       [1, 1, 1, 1]])"
            ]
          },
          "metadata": {
            "tags": []
          },
          "execution_count": 38
        }
      ]
    },
    {
      "cell_type": "markdown",
      "metadata": {
        "id": "LNLKGvfWflgZ"
      },
      "source": [
        "numpy.**zeros_like**(a, dtype=None, order='K', subok=True, shape=None)\r\n",
        "\r\n",
        "Return an array of ones with the same shape and type as a given array."
      ]
    },
    {
      "cell_type": "code",
      "metadata": {
        "colab": {
          "base_uri": "https://localhost:8080/"
        },
        "id": "LPkD9EL1fxWm",
        "outputId": "2835fd2e-4448-4bc6-b7ca-c1d3a2d571d9"
      },
      "source": [
        "x = np.arange(6)\r\n",
        "x = x.reshape((2, 3))\r\n",
        "x"
      ],
      "execution_count": 39,
      "outputs": [
        {
          "output_type": "execute_result",
          "data": {
            "text/plain": [
              "array([[0, 1, 2],\n",
              "       [3, 4, 5]])"
            ]
          },
          "metadata": {
            "tags": []
          },
          "execution_count": 39
        }
      ]
    },
    {
      "cell_type": "code",
      "metadata": {
        "colab": {
          "base_uri": "https://localhost:8080/"
        },
        "id": "YKbFXhCRf3QE",
        "outputId": "27202035-b8cf-42b7-fe5d-0cc3939d2315"
      },
      "source": [
        "np.ones_like(x)"
      ],
      "execution_count": 40,
      "outputs": [
        {
          "output_type": "execute_result",
          "data": {
            "text/plain": [
              "array([[1, 1, 1],\n",
              "       [1, 1, 1]])"
            ]
          },
          "metadata": {
            "tags": []
          },
          "execution_count": 40
        }
      ]
    }
  ]
}