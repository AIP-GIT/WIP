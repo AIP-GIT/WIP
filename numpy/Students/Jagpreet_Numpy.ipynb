{
  "nbformat": 4,
  "nbformat_minor": 0,
  "metadata": {
    "colab": {
      "name": "numpy_tutorial1.ipynb",
      "provenance": [],
      "collapsed_sections": []
    },
    "kernelspec": {
      "display_name": "Python 3",
      "name": "python3"
    }
  },
  "cells": [
    {
      "cell_type": "code",
      "metadata": {
        "colab": {
          "base_uri": "https://localhost:8080/"
        },
        "id": "MzQ_f26-GWPG",
        "outputId": "64eed0ae-cd35-4b72-b9cb-476bb0db5b59"
      },
      "source": [
        "%config Completer.use_jedi = False"
      ],
      "execution_count": null,
      "outputs": [
        {
          "output_type": "stream",
          "text": [
            "/usr/local/lib/python3.7/dist-packages/ipykernel_launcher.py:1: UserWarning: Config option `use_jedi` not recognized by `IPCompleter`.\n",
            "  \"\"\"Entry point for launching an IPython kernel.\n"
          ],
          "name": "stderr"
        }
      ]
    },
    {
      "cell_type": "code",
      "metadata": {
        "id": "jXmZTRtTGmJn"
      },
      "source": [
        "import numpy as np"
      ],
      "execution_count": 42,
      "outputs": []
    },
    {
      "cell_type": "code",
      "metadata": {
        "colab": {
          "base_uri": "https://localhost:8080/"
        },
        "id": "k3Q6gmwaiaHd",
        "outputId": "3e5c427a-139a-46b6-e3b4-63f74bbc236e"
      },
      "source": [
        "a=np.arange(12,24,2)\r\n",
        "print(a)"
      ],
      "execution_count": null,
      "outputs": [
        {
          "output_type": "stream",
          "text": [
            "[12 14 16 18 20 22]\n"
          ],
          "name": "stdout"
        }
      ]
    },
    {
      "cell_type": "markdown",
      "metadata": {
        "id": "nBihJyyMityU"
      },
      "source": [
        "arange = arange([start,] stop[, step,], dtype=None)"
      ]
    },
    {
      "cell_type": "code",
      "metadata": {
        "colab": {
          "base_uri": "https://localhost:8080/"
        },
        "id": "X47fy_8-j4yA",
        "outputId": "49010cc3-6b2d-4183-8454-1701a5528f0c"
      },
      "source": [
        "np.argsort(a, axis=-1, kind= None, order=None)"
      ],
      "execution_count": null,
      "outputs": [
        {
          "output_type": "execute_result",
          "data": {
            "text/plain": [
              "array([0, 1, 2, 3, 4, 5])"
            ]
          },
          "metadata": {
            "tags": []
          },
          "execution_count": 21
        }
      ]
    },
    {
      "cell_type": "markdown",
      "metadata": {
        "id": "isWKun2bj9b9"
      },
      "source": [
        "kind : {'quicksort', 'mergesort', 'heapsort', 'stable'}"
      ]
    },
    {
      "cell_type": "code",
      "metadata": {
        "colab": {
          "base_uri": "https://localhost:8080/"
        },
        "id": "fpWnW0GviC1d",
        "outputId": "ba33e478-980e-4d81-f4c9-42fe6505f2d7"
      },
      "source": [
        "np.argsort(a, axis=-1, kind= 'mergesort', order=None)"
      ],
      "execution_count": null,
      "outputs": [
        {
          "output_type": "execute_result",
          "data": {
            "text/plain": [
              "array([0, 1, 2, 3, 4, 5])"
            ]
          },
          "metadata": {
            "tags": []
          },
          "execution_count": 20
        }
      ]
    },
    {
      "cell_type": "markdown",
      "metadata": {
        "id": "S4P-iktHpHQL"
      },
      "source": [
        "The numpy.all() function tests whether all array elements along the mentioned axis evaluate to True.\r\n",
        "numpy.all() returns True only if all elements in a NumPy array evaluate to True."
      ]
    },
    {
      "cell_type": "code",
      "metadata": {
        "colab": {
          "base_uri": "https://localhost:8080/"
        },
        "id": "tYmRc61dmweJ",
        "outputId": "cdaf19f9-33c6-4f93-dc89-7ed93654d1f4"
      },
      "source": [
        "c = [[True, False], [True, True]]\r\n",
        "arr = np.all(c)\r\n",
        "arr"
      ],
      "execution_count": null,
      "outputs": [
        {
          "output_type": "execute_result",
          "data": {
            "text/plain": [
              "False"
            ]
          },
          "metadata": {
            "tags": []
          },
          "execution_count": 7
        }
      ]
    },
    {
      "cell_type": "code",
      "metadata": {
        "colab": {
          "base_uri": "https://localhost:8080/"
        },
        "id": "JDVy1Dimu9Ch",
        "outputId": "9c5be48c-6d34-4395-dcb0-29aef9c896f5"
      },
      "source": [
        "c = [[True, True], [True, True]]\r\n",
        "arr = np.all(c)\r\n",
        "arr"
      ],
      "execution_count": null,
      "outputs": [
        {
          "output_type": "execute_result",
          "data": {
            "text/plain": [
              "True"
            ]
          },
          "metadata": {
            "tags": []
          },
          "execution_count": 8
        }
      ]
    },
    {
      "cell_type": "markdown",
      "metadata": {
        "id": "KXLJimmavR2p"
      },
      "source": [
        "np.any(a) to return True if at least one element in array a evaluates to True and False otherwise."
      ]
    },
    {
      "cell_type": "code",
      "metadata": {
        "colab": {
          "base_uri": "https://localhost:8080/"
        },
        "id": "Jg3hrcHrvTFU",
        "outputId": "4f808660-f4e7-4c7a-9d1d-84b410154f86"
      },
      "source": [
        "c = [[True, False], [True, True]]\r\n",
        "arr = np.any(c)\r\n",
        "print(arr)"
      ],
      "execution_count": null,
      "outputs": [
        {
          "output_type": "stream",
          "text": [
            "True\n"
          ],
          "name": "stdout"
        }
      ]
    },
    {
      "cell_type": "code",
      "metadata": {
        "colab": {
          "base_uri": "https://localhost:8080/"
        },
        "id": "_yZ6hhdpv7wh",
        "outputId": "cc25de47-66fd-4727-9b42-a2691b64a72c"
      },
      "source": [
        "c = [[False, False], [False, False]]\r\n",
        "arr = np.any(c)\r\n",
        "print(c)"
      ],
      "execution_count": null,
      "outputs": [
        {
          "output_type": "stream",
          "text": [
            "[[False, False], [False, False]]\n"
          ],
          "name": "stdout"
        }
      ]
    },
    {
      "cell_type": "markdown",
      "metadata": {
        "id": "EzsH9nLKxC93"
      },
      "source": [
        "np.apply_along_axis(func1d, axis, arr, *args, **kwargs).\r\n",
        "\r\n",
        "Addition of  first and last element of particular column of the array"
      ]
    },
    {
      "cell_type": "code",
      "metadata": {
        "colab": {
          "base_uri": "https://localhost:8080/"
        },
        "id": "oynHSq6jp-nb",
        "outputId": "dc909781-4c46-42fc-8aa2-807bf58da749"
      },
      "source": [
        "def func(a):\r\n",
        "  return (a[0]+ a[-1])  # \r\n",
        "b = np.array([[2,4,6],     # 2+9\r\n",
        "              [1,3,5],     # 4+7\r\n",
        "              [9,7,8]])    # 6+8\r\n",
        "np.apply_along_axis(func,0,b)\r\n"
      ],
      "execution_count": null,
      "outputs": [
        {
          "output_type": "execute_result",
          "data": {
            "text/plain": [
              "array([11, 11, 14])"
            ]
          },
          "metadata": {
            "tags": []
          },
          "execution_count": 25
        }
      ]
    },
    {
      "cell_type": "markdown",
      "metadata": {
        "id": "lQDyW8n2tFuC"
      },
      "source": [
        "Addition of  first and last element of particular row of the array"
      ]
    },
    {
      "cell_type": "code",
      "metadata": {
        "colab": {
          "base_uri": "https://localhost:8080/"
        },
        "id": "ysneChFCsQGg",
        "outputId": "86e22849-314f-4f3c-ef62-9a87d5b60ee9"
      },
      "source": [
        "def func(a):\r\n",
        "  return (a[0]+ a[-1])  # \r\n",
        "b = np.array([[2,4,6],   #2+6\r\n",
        "              [1,3,5],   #1+5\r\n",
        "              [9,7,8]])  #9+8\r\n",
        "np.apply_along_axis(func,1,b)\r\n"
      ],
      "execution_count": null,
      "outputs": [
        {
          "output_type": "execute_result",
          "data": {
            "text/plain": [
              "array([ 8,  6, 17])"
            ]
          },
          "metadata": {
            "tags": []
          },
          "execution_count": 26
        }
      ]
    },
    {
      "cell_type": "markdown",
      "metadata": {
        "id": "NV0OxzvGtV9d"
      },
      "source": [
        "np.argmax(a, axis=None, out=None)  \r\n",
        "\r\n",
        "Return indices of the maximum values along the given axis."
      ]
    },
    {
      "cell_type": "code",
      "metadata": {
        "colab": {
          "base_uri": "https://localhost:8080/"
        },
        "id": "KQSzJ5LgtKi2",
        "outputId": "297f2a65-b76f-4c44-eef0-4b2423c7184d"
      },
      "source": [
        "a = np.arange(6).reshape(2,3) + 10\r\n",
        "a"
      ],
      "execution_count": null,
      "outputs": [
        {
          "output_type": "execute_result",
          "data": {
            "text/plain": [
              "array([[10, 11, 12],\n",
              "       [13, 14, 15]])"
            ]
          },
          "metadata": {
            "tags": []
          },
          "execution_count": 3
        }
      ]
    },
    {
      "cell_type": "code",
      "metadata": {
        "colab": {
          "base_uri": "https://localhost:8080/"
        },
        "id": "BsO1O8fhdz4D",
        "outputId": "1b123e4d-bb8b-403c-ac5a-e56050be0cbe"
      },
      "source": [
        "np.argmax(a)"
      ],
      "execution_count": null,
      "outputs": [
        {
          "output_type": "execute_result",
          "data": {
            "text/plain": [
              "5"
            ]
          },
          "metadata": {
            "tags": []
          },
          "execution_count": 4
        }
      ]
    },
    {
      "cell_type": "code",
      "metadata": {
        "colab": {
          "base_uri": "https://localhost:8080/"
        },
        "id": "wnS4tyewd31u",
        "outputId": "4c8a1d4f-583f-4df0-8a58-a27986845145"
      },
      "source": [
        "np.argmax(a, axis=0)"
      ],
      "execution_count": null,
      "outputs": [
        {
          "output_type": "execute_result",
          "data": {
            "text/plain": [
              "array([1, 1, 1])"
            ]
          },
          "metadata": {
            "tags": []
          },
          "execution_count": 5
        }
      ]
    },
    {
      "cell_type": "code",
      "metadata": {
        "colab": {
          "base_uri": "https://localhost:8080/"
        },
        "id": "UNxDJ2fUd7CP",
        "outputId": "0e180bfb-571c-4a2f-ab52-284bd473f2de"
      },
      "source": [
        "np.argmax(a, axis=1)"
      ],
      "execution_count": null,
      "outputs": [
        {
          "output_type": "execute_result",
          "data": {
            "text/plain": [
              "array([2, 2])"
            ]
          },
          "metadata": {
            "tags": []
          },
          "execution_count": 6
        }
      ]
    },
    {
      "cell_type": "markdown",
      "metadata": {
        "id": "M5kcaJ2ieAG7"
      },
      "source": [
        "np.argmin(a, axis=None, out=None)\r\n",
        "\r\n",
        "Returns the indices of the minimum values along an axis.\r\n",
        "\r\n"
      ]
    },
    {
      "cell_type": "code",
      "metadata": {
        "colab": {
          "base_uri": "https://localhost:8080/"
        },
        "id": "Lvv-nxi9eHvt",
        "outputId": "80889e9f-bd90-430d-854b-994e1016fdd3"
      },
      "source": [
        "np.argmin(a)"
      ],
      "execution_count": null,
      "outputs": [
        {
          "output_type": "execute_result",
          "data": {
            "text/plain": [
              "0"
            ]
          },
          "metadata": {
            "tags": []
          },
          "execution_count": 8
        }
      ]
    },
    {
      "cell_type": "code",
      "metadata": {
        "colab": {
          "base_uri": "https://localhost:8080/"
        },
        "id": "1Ol844WVeU6Z",
        "outputId": "2c26d130-efe3-4bdd-9afc-c5ae9214b3ce"
      },
      "source": [
        "np.argmin(a, axis=0)"
      ],
      "execution_count": null,
      "outputs": [
        {
          "output_type": "execute_result",
          "data": {
            "text/plain": [
              "array([0, 0, 0])"
            ]
          },
          "metadata": {
            "tags": []
          },
          "execution_count": 9
        }
      ]
    },
    {
      "cell_type": "code",
      "metadata": {
        "colab": {
          "base_uri": "https://localhost:8080/"
        },
        "id": "kZCv2r4heX25",
        "outputId": "b5c89255-fe22-4715-ab89-563ea7eb1894"
      },
      "source": [
        "np.argmin(a, axis=1)"
      ],
      "execution_count": null,
      "outputs": [
        {
          "output_type": "execute_result",
          "data": {
            "text/plain": [
              "array([0, 0])"
            ]
          },
          "metadata": {
            "tags": []
          },
          "execution_count": 10
        }
      ]
    },
    {
      "cell_type": "markdown",
      "metadata": {
        "id": "MAKNMLjcee4O"
      },
      "source": [
        "np.argsort(a, axis=-1, kind=None, order=None)\r\n",
        "\r\n",
        "Returns the indices that would sort an array."
      ]
    },
    {
      "cell_type": "code",
      "metadata": {
        "colab": {
          "base_uri": "https://localhost:8080/"
        },
        "id": "A2dRTCWMenhm",
        "outputId": "de1c3ae1-288c-481b-8d38-5eafa9949119"
      },
      "source": [
        "x = np.array([2, 1, 3])\r\n",
        "np.argsort(x)"
      ],
      "execution_count": null,
      "outputs": [
        {
          "output_type": "execute_result",
          "data": {
            "text/plain": [
              "array([1, 0, 2])"
            ]
          },
          "metadata": {
            "tags": []
          },
          "execution_count": 14
        }
      ]
    },
    {
      "cell_type": "code",
      "metadata": {
        "colab": {
          "base_uri": "https://localhost:8080/"
        },
        "id": "CmUxKT-WfGVE",
        "outputId": "73e54d15-915a-41c2-c4cd-1a409338ac2f"
      },
      "source": [
        "x = np.array([[0, 3], [2, 2]])\r\n",
        "x"
      ],
      "execution_count": null,
      "outputs": [
        {
          "output_type": "execute_result",
          "data": {
            "text/plain": [
              "array([[0, 3],\n",
              "       [2, 2]])"
            ]
          },
          "metadata": {
            "tags": []
          },
          "execution_count": 15
        }
      ]
    },
    {
      "cell_type": "code",
      "metadata": {
        "colab": {
          "base_uri": "https://localhost:8080/"
        },
        "id": "_mmdpenBfLns",
        "outputId": "5e1ac1eb-e91c-48ab-a4b2-4cddafb796d4"
      },
      "source": [
        "ind = np.argsort(x, axis=0)\r\n",
        "ind"
      ],
      "execution_count": null,
      "outputs": [
        {
          "output_type": "execute_result",
          "data": {
            "text/plain": [
              "array([[0, 1],\n",
              "       [1, 0]])"
            ]
          },
          "metadata": {
            "tags": []
          },
          "execution_count": 17
        }
      ]
    },
    {
      "cell_type": "code",
      "metadata": {
        "colab": {
          "base_uri": "https://localhost:8080/"
        },
        "id": "7JbDAOjhfSqW",
        "outputId": "fd3923da-cb60-4542-c704-a9efd5d7c216"
      },
      "source": [
        "ind = np.argsort(x, axis=1)\r\n",
        "ind"
      ],
      "execution_count": null,
      "outputs": [
        {
          "output_type": "execute_result",
          "data": {
            "text/plain": [
              "array([[0, 1],\n",
              "       [0, 1]])"
            ]
          },
          "metadata": {
            "tags": []
          },
          "execution_count": 19
        }
      ]
    },
    {
      "cell_type": "markdown",
      "metadata": {
        "id": "vCg_bvfUfcBQ"
      },
      "source": [
        "bincount(x, weights=None, minlength=0)\r\n",
        "\r\n",
        "Count number of occurrences of each value in array of non-negative ints.\r\n",
        "\r\n",
        "sizeof(bin) = max(array) +1"
      ]
    },
    {
      "cell_type": "code",
      "metadata": {
        "colab": {
          "base_uri": "https://localhost:8080/"
        },
        "id": "Xy9QS3wVfktT",
        "outputId": "d4aaa67d-a72a-48e4-ae61-623f0974b1a6"
      },
      "source": [
        "y = np.bincount([4,6,7,4,2,4])\r\n",
        "y"
      ],
      "execution_count": null,
      "outputs": [
        {
          "output_type": "execute_result",
          "data": {
            "text/plain": [
              "array([0, 0, 1, 0, 3, 0, 1, 1])"
            ]
          },
          "metadata": {
            "tags": []
          },
          "execution_count": 25
        }
      ]
    },
    {
      "cell_type": "markdown",
      "metadata": {
        "id": "cX_ysu2OhUGi"
      },
      "source": [
        "numpy.ceil(x, /, out=None, *, where=True, casting='same_kind', order='K', dtype=None, subok=True[, signature, extobj]) = <ufunc 'ceil'>¶\r\n",
        "\r\n",
        "Return the ceiling of the input, element-wise.\r\n",
        "\r\n",
        "The ceil of the scalar x is the smallest integer i, such that i >= x."
      ]
    },
    {
      "cell_type": "code",
      "metadata": {
        "colab": {
          "base_uri": "https://localhost:8080/"
        },
        "id": "k9SsXBvShcnO",
        "outputId": "1fd2e02e-3941-4e27-aa65-615623193461"
      },
      "source": [
        "a = np.array([-1.4, -1.5, -0.2, 0.2, 1.5, 1.7, 2.0])\r\n",
        "np.ceil(a)"
      ],
      "execution_count": null,
      "outputs": [
        {
          "output_type": "execute_result",
          "data": {
            "text/plain": [
              "array([-1., -1., -0.,  1.,  2.,  2.,  2.])"
            ]
          },
          "metadata": {
            "tags": []
          },
          "execution_count": 27
        }
      ]
    },
    {
      "cell_type": "markdown",
      "metadata": {
        "id": "ZFnUO6hPh6FX"
      },
      "source": [
        "np.clip(a, a_min, a_max, out=None, **kwargs)\r\n",
        "\r\n",
        "Clip (limit) the values in an array."
      ]
    },
    {
      "cell_type": "code",
      "metadata": {
        "colab": {
          "base_uri": "https://localhost:8080/"
        },
        "id": "S1vOt9YDh0Uy",
        "outputId": "5289d80f-bec7-4f1e-a295-7e5e3cb92362"
      },
      "source": [
        "a = np.arange(10)\r\n",
        "a"
      ],
      "execution_count": null,
      "outputs": [
        {
          "output_type": "execute_result",
          "data": {
            "text/plain": [
              "array([0, 1, 2, 3, 4, 5, 6, 7, 8, 9])"
            ]
          },
          "metadata": {
            "tags": []
          },
          "execution_count": 30
        }
      ]
    },
    {
      "cell_type": "code",
      "metadata": {
        "colab": {
          "base_uri": "https://localhost:8080/"
        },
        "id": "TwF1x58iiYSh",
        "outputId": "5523302c-9f0b-4df5-dc2a-b365940da3d4"
      },
      "source": [
        "np.clip(a, 1, 8)"
      ],
      "execution_count": null,
      "outputs": [
        {
          "output_type": "execute_result",
          "data": {
            "text/plain": [
              "array([1, 1, 2, 3, 4, 5, 6, 7, 8, 8])"
            ]
          },
          "metadata": {
            "tags": []
          },
          "execution_count": 31
        }
      ]
    },
    {
      "cell_type": "code",
      "metadata": {
        "colab": {
          "base_uri": "https://localhost:8080/"
        },
        "id": "-DYfLplmiaHc",
        "outputId": "58685e20-e1b6-4562-e176-f236b0c1218f"
      },
      "source": [
        "np.clip(a, [3, 4, 1, 1, 1, 4, 4, 4, 4, 4], 8)"
      ],
      "execution_count": null,
      "outputs": [
        {
          "output_type": "execute_result",
          "data": {
            "text/plain": [
              "array([3, 4, 2, 3, 4, 5, 6, 7, 8, 8])"
            ]
          },
          "metadata": {
            "tags": []
          },
          "execution_count": 32
        }
      ]
    },
    {
      "cell_type": "markdown",
      "metadata": {
        "id": "F8NoNYsBinz-"
      },
      "source": [
        "conjugate(x, /, out=None, *, where=True, casting='same_kind', order='K', dtype=None, subok=True[, signature, extobj])\r\n",
        "\r\n",
        "\r\n",
        "Return the complex conjugate, element-wise.\r\n",
        "\r\n",
        "The complex conjugate of a complex number is obtained by changing the sign of its imaginary part."
      ]
    },
    {
      "cell_type": "code",
      "metadata": {
        "id": "89g9x6-2i09d",
        "colab": {
          "base_uri": "https://localhost:8080/"
        },
        "outputId": "884bf55c-9dd5-43b3-e207-b15b18287652"
      },
      "source": [
        "np.conj is np.conjugate"
      ],
      "execution_count": 38,
      "outputs": [
        {
          "output_type": "execute_result",
          "data": {
            "text/plain": [
              "True"
            ]
          },
          "metadata": {
            "tags": []
          },
          "execution_count": 38
        }
      ]
    },
    {
      "cell_type": "code",
      "metadata": {
        "colab": {
          "base_uri": "https://localhost:8080/"
        },
        "id": "dCyybjJ3jflZ",
        "outputId": "b74f42b5-8883-422d-d8e9-2d242f2e6a57"
      },
      "source": [
        "np.conjugate(1+2j)"
      ],
      "execution_count": 39,
      "outputs": [
        {
          "output_type": "execute_result",
          "data": {
            "text/plain": [
              "(1-2j)"
            ]
          },
          "metadata": {
            "tags": []
          },
          "execution_count": 39
        }
      ]
    },
    {
      "cell_type": "code",
      "metadata": {
        "colab": {
          "base_uri": "https://localhost:8080/"
        },
        "id": "3U1davK1jjQv",
        "outputId": "79e1e9ac-fa47-4684-b43a-18bad0dc3179"
      },
      "source": [
        "x = np.eye(2) + 1j * np.eye(2)\r\n",
        "np.conjugate(x)"
      ],
      "execution_count": 40,
      "outputs": [
        {
          "output_type": "execute_result",
          "data": {
            "text/plain": [
              "array([[1.-1.j, 0.-0.j],\n",
              "       [0.-0.j, 1.-1.j]])"
            ]
          },
          "metadata": {
            "tags": []
          },
          "execution_count": 40
        }
      ]
    },
    {
      "cell_type": "markdown",
      "metadata": {
        "id": "HkmuiQlvjt_n"
      },
      "source": [
        "**np.corrcoef**(x, y=None, rowvar=True, bias=<no value>, ddof=<no value>, *, dtype=None)\r\n",
        "\r\n",
        "\r\n",
        "Return Pearson product-moment correlation coefficients.\r\n",
        "\r\n",
        "Please refer to the documentation for cov for more detail. The relationship between the correlation coefficient matrix, R, and the covariance matrix, C, is\r\n",
        "\r\n",
        "R_{ij} = \\frac{ C_{ij} } { \\sqrt{ C_{ii} * C_{jj} } }\r\n",
        "\r\n",
        "The values of R are between -1 and 1, inclusive.\r\n",
        "\r\n"
      ]
    },
    {
      "cell_type": "markdown",
      "metadata": {
        "id": "zc94cBnvlgN8"
      },
      "source": [
        "Consider two variables, x_0 and x_1, which correlate perfectly, but in opposite directions:"
      ]
    },
    {
      "cell_type": "code",
      "metadata": {
        "colab": {
          "base_uri": "https://localhost:8080/"
        },
        "id": "n05Y1NQplg_D",
        "outputId": "8146fa2a-d72a-4df9-f58b-93dde05a5418"
      },
      "source": [
        "x = np.array([[0, 2], [1, 1], [2, 0]]).T\r\n",
        "x"
      ],
      "execution_count": 44,
      "outputs": [
        {
          "output_type": "execute_result",
          "data": {
            "text/plain": [
              "array([[0, 1, 2],\n",
              "       [2, 1, 0]])"
            ]
          },
          "metadata": {
            "tags": []
          },
          "execution_count": 44
        }
      ]
    },
    {
      "cell_type": "markdown",
      "metadata": {
        "id": "IsPQ3Bsxltsk"
      },
      "source": [
        "Note how x_0 increases while x_1 decreases. The covariance matrix shows this clearly:"
      ]
    },
    {
      "cell_type": "code",
      "metadata": {
        "colab": {
          "base_uri": "https://localhost:8080/"
        },
        "id": "WCgFTlgbj2M5",
        "outputId": "abc2593c-c300-488c-d51e-cbcb2ce06551"
      },
      "source": [
        "np.cov(x)"
      ],
      "execution_count": 45,
      "outputs": [
        {
          "output_type": "execute_result",
          "data": {
            "text/plain": [
              "array([[ 1., -1.],\n",
              "       [-1.,  1.]])"
            ]
          },
          "metadata": {
            "tags": []
          },
          "execution_count": 45
        }
      ]
    },
    {
      "cell_type": "markdown",
      "metadata": {
        "id": "B_Zn3Y15lylU"
      },
      "source": [
        "np.cross(a, b, axisa=-1, axisb=-1, axisc=-1, axis=None)\r\n",
        "\r\n",
        "Return the cross product of two (arrays of) vectors."
      ]
    },
    {
      "cell_type": "code",
      "metadata": {
        "colab": {
          "base_uri": "https://localhost:8080/"
        },
        "id": "qLDCHhPIluge",
        "outputId": "6814a167-06ba-453f-a794-530309457fe3"
      },
      "source": [
        "x = [1, 2, 3]\r\n",
        "y = [4, 5, 6]\r\n",
        "np.cross(x, y)"
      ],
      "execution_count": 46,
      "outputs": [
        {
          "output_type": "execute_result",
          "data": {
            "text/plain": [
              "array([-3,  6, -3])"
            ]
          },
          "metadata": {
            "tags": []
          },
          "execution_count": 46
        }
      ]
    },
    {
      "cell_type": "markdown",
      "metadata": {
        "id": "eQitYg63mJj2"
      },
      "source": [
        "The orientation of c can be changed using the axisc keyword."
      ]
    },
    {
      "cell_type": "code",
      "metadata": {
        "colab": {
          "base_uri": "https://localhost:8080/"
        },
        "id": "qMxc5IZomKHH",
        "outputId": "e4744997-52f1-4468-c5dd-c41513341e76"
      },
      "source": [
        "np.cross(x, y, axisc=0)"
      ],
      "execution_count": 47,
      "outputs": [
        {
          "output_type": "execute_result",
          "data": {
            "text/plain": [
              "array([-3,  6, -3])"
            ]
          },
          "metadata": {
            "tags": []
          },
          "execution_count": 47
        }
      ]
    },
    {
      "cell_type": "markdown",
      "metadata": {
        "id": "j8U6LJ4NmcIl"
      },
      "source": [
        "np.cumprod(a, axis=None, dtype=None, out=None)\r\n",
        "\r\n",
        "Return the cumulative product of elements along a given axis."
      ]
    },
    {
      "cell_type": "code",
      "metadata": {
        "colab": {
          "base_uri": "https://localhost:8080/"
        },
        "id": "sdx7L7_MmSPi",
        "outputId": "53ca2d30-e7c3-46a6-e153-563066184ac4"
      },
      "source": [
        "a = np.array([1,2,3])\r\n",
        "np.cumprod(a)"
      ],
      "execution_count": 49,
      "outputs": [
        {
          "output_type": "execute_result",
          "data": {
            "text/plain": [
              "array([1, 2, 6])"
            ]
          },
          "metadata": {
            "tags": []
          },
          "execution_count": 49
        }
      ]
    },
    {
      "cell_type": "code",
      "metadata": {
        "id": "gpEiT-URmzHu"
      },
      "source": [
        "d = np.array([[1, 2, 3], [4, 5, 6]])"
      ],
      "execution_count": 58,
      "outputs": []
    },
    {
      "cell_type": "code",
      "metadata": {
        "colab": {
          "base_uri": "https://localhost:8080/"
        },
        "id": "PKOgynImmrb_",
        "outputId": "b5234c42-4343-40fe-900c-f236f4347d63"
      },
      "source": [
        "np.cumprod(d, axis=0)"
      ],
      "execution_count": 59,
      "outputs": [
        {
          "output_type": "execute_result",
          "data": {
            "text/plain": [
              "array([[ 1,  2,  3],\n",
              "       [ 4, 10, 18]])"
            ]
          },
          "metadata": {
            "tags": []
          },
          "execution_count": 59
        }
      ]
    },
    {
      "cell_type": "code",
      "metadata": {
        "colab": {
          "base_uri": "https://localhost:8080/"
        },
        "id": "wQCh4URQmu_k",
        "outputId": "b924b441-c26c-4e67-f707-3cbe769ede03"
      },
      "source": [
        "np.cumprod(d,axis=1)"
      ],
      "execution_count": 60,
      "outputs": [
        {
          "output_type": "execute_result",
          "data": {
            "text/plain": [
              "array([[  1,   2,   6],\n",
              "       [  4,  20, 120]])"
            ]
          },
          "metadata": {
            "tags": []
          },
          "execution_count": 60
        }
      ]
    },
    {
      "cell_type": "markdown",
      "metadata": {
        "id": "FSANeZy6nPWo"
      },
      "source": [
        "np.cumsum(a, axis=None, dtype=None, out=None)\r\n",
        "\r\n",
        "Return the cumulative sum of the elements along a given axis.\r\n",
        "\r\n"
      ]
    },
    {
      "cell_type": "code",
      "metadata": {
        "colab": {
          "base_uri": "https://localhost:8080/"
        },
        "id": "D2xrl7gOnR-1",
        "outputId": "354d11ba-cc40-43d2-fdf6-5a3fe989c5c5"
      },
      "source": [
        "a"
      ],
      "execution_count": 62,
      "outputs": [
        {
          "output_type": "execute_result",
          "data": {
            "text/plain": [
              "array([[1, 2, 3],\n",
              "       [4, 5, 6]])"
            ]
          },
          "metadata": {
            "tags": []
          },
          "execution_count": 62
        }
      ]
    },
    {
      "cell_type": "code",
      "metadata": {
        "colab": {
          "base_uri": "https://localhost:8080/"
        },
        "id": "_4f4U4irniYR",
        "outputId": "5cffd260-99b0-4d2c-da9c-cc24cd72eefe"
      },
      "source": [
        "np.cumsum(a)"
      ],
      "execution_count": 63,
      "outputs": [
        {
          "output_type": "execute_result",
          "data": {
            "text/plain": [
              "array([ 1,  3,  6, 10, 15, 21])"
            ]
          },
          "metadata": {
            "tags": []
          },
          "execution_count": 63
        }
      ]
    },
    {
      "cell_type": "markdown",
      "metadata": {
        "id": "en3kJDtinqnX"
      },
      "source": [
        "np.diff(a, n=1, axis=-1, prepend=numpy._globals._NoValueType instance, append=numpy._globals._NoValueType instance)\r\n",
        "\r\n",
        "Calculate the n-th discrete difference along the given axis.\r\n",
        "\r\n",
        "The first difference is given by out[i] = a[i+1] - a[i] along the given axis, higher differences are calculated by using diff recursively."
      ]
    },
    {
      "cell_type": "code",
      "metadata": {
        "colab": {
          "base_uri": "https://localhost:8080/"
        },
        "id": "viCLqcL1oCuW",
        "outputId": "3337a117-698a-4169-a8d9-5b1e3a048bbf"
      },
      "source": [
        "x = np.array([1, 2, 4, 7, 0])\r\n",
        "np.diff(x)"
      ],
      "execution_count": 67,
      "outputs": [
        {
          "output_type": "execute_result",
          "data": {
            "text/plain": [
              "array([ 1,  2,  3, -7])"
            ]
          },
          "metadata": {
            "tags": []
          },
          "execution_count": 67
        }
      ]
    },
    {
      "cell_type": "code",
      "metadata": {
        "colab": {
          "base_uri": "https://localhost:8080/"
        },
        "id": "aKYQxQHTnqB1",
        "outputId": "17dec236-1557-42c9-8a82-7e9f8abb430e"
      },
      "source": [
        "np.diff(x, n=2)"
      ],
      "execution_count": 68,
      "outputs": [
        {
          "output_type": "execute_result",
          "data": {
            "text/plain": [
              "array([  1,   1, -10])"
            ]
          },
          "metadata": {
            "tags": []
          },
          "execution_count": 68
        }
      ]
    },
    {
      "cell_type": "markdown",
      "metadata": {
        "id": "MpJcvHnaotFm"
      },
      "source": [
        "numpy.dot(a, b, out=None)\r\n",
        "\r\n",
        "Gives Dot product of two arrays"
      ]
    },
    {
      "cell_type": "code",
      "metadata": {
        "colab": {
          "base_uri": "https://localhost:8080/"
        },
        "id": "aZSk7u_Xo7Mc",
        "outputId": "c8bb8cab-6a7b-4c16-f745-1c73fceca6a9"
      },
      "source": [
        "np.dot(3, 4)"
      ],
      "execution_count": 69,
      "outputs": [
        {
          "output_type": "execute_result",
          "data": {
            "text/plain": [
              "12"
            ]
          },
          "metadata": {
            "tags": []
          },
          "execution_count": 69
        }
      ]
    },
    {
      "cell_type": "code",
      "metadata": {
        "colab": {
          "base_uri": "https://localhost:8080/"
        },
        "id": "Dj2H-r8Ko9zu",
        "outputId": "a56bd3bc-c96f-44bf-ec05-f27600ebf5d6"
      },
      "source": [
        "np.dot([2j, 3j], [2j, 3j])"
      ],
      "execution_count": 70,
      "outputs": [
        {
          "output_type": "execute_result",
          "data": {
            "text/plain": [
              "(-13+0j)"
            ]
          },
          "metadata": {
            "tags": []
          },
          "execution_count": 70
        }
      ]
    },
    {
      "cell_type": "code",
      "metadata": {
        "colab": {
          "base_uri": "https://localhost:8080/"
        },
        "id": "FKaqUn1BpBlE",
        "outputId": "e8c56ce8-e646-43bb-f765-16449c02576e"
      },
      "source": [
        "a = [[1, 0], [0, 1]]\r\n",
        "b = [[4, 1], [2, 2]]\r\n",
        "np.dot(a, b)"
      ],
      "execution_count": 71,
      "outputs": [
        {
          "output_type": "execute_result",
          "data": {
            "text/plain": [
              "array([[4, 1],\n",
              "       [2, 2]])"
            ]
          },
          "metadata": {
            "tags": []
          },
          "execution_count": 71
        }
      ]
    },
    {
      "cell_type": "markdown",
      "metadata": {
        "id": "AcHOIYNIpKoT"
      },
      "source": [
        "numpy.floor(x, /, out=None, *, where=True, casting='same_kind', order='K', dtype=None, subok=True[, signature, extobj]) = <ufunc 'floor'>\r\n",
        "\r\n",
        "Return the floor of the input, element-wise.\r\n",
        "\r\n",
        "The floor of the scalar x is the largest integer i, such that i <= x. It is often denoted as \\lfloor x \\rfloor."
      ]
    },
    {
      "cell_type": "code",
      "metadata": {
        "colab": {
          "base_uri": "https://localhost:8080/"
        },
        "id": "UBpdBdYwpQw1",
        "outputId": "402ffc56-42c5-4073-d2db-9c83d92b4a5a"
      },
      "source": [
        "a = np.array([-1.7, -1.5, -0.2, 0.2, 1.5, 1.7, 2.0])\r\n",
        "np.floor(a)"
      ],
      "execution_count": 72,
      "outputs": [
        {
          "output_type": "execute_result",
          "data": {
            "text/plain": [
              "array([-2., -2., -1.,  0.,  1.,  1.,  2.])"
            ]
          },
          "metadata": {
            "tags": []
          },
          "execution_count": 72
        }
      ]
    },
    {
      "cell_type": "markdown",
      "metadata": {
        "id": "qfpnLtlXpedc"
      },
      "source": [
        "numpy.inner(a, b)\r\n",
        "\r\n",
        "Inner product of two arrays.\r\n",
        "\r\n",
        "np.inner(a, b) = sum(a[:]*b[:])"
      ]
    },
    {
      "cell_type": "code",
      "metadata": {
        "colab": {
          "base_uri": "https://localhost:8080/"
        },
        "id": "uUt4PM6ppuC_",
        "outputId": "fca5fbd1-70c6-4a7c-b63f-94ee1d613282"
      },
      "source": [
        "a = np.array([1,2,3])\r\n",
        "b = np.array([0,1,0])\r\n",
        "np.inner(a, b)"
      ],
      "execution_count": 73,
      "outputs": [
        {
          "output_type": "execute_result",
          "data": {
            "text/plain": [
              "2"
            ]
          },
          "metadata": {
            "tags": []
          },
          "execution_count": 73
        }
      ]
    },
    {
      "cell_type": "code",
      "metadata": {
        "colab": {
          "base_uri": "https://localhost:8080/",
          "height": 129
        },
        "id": "nKYjqF0Ep4e8",
        "outputId": "4e4caf9e-bc1b-485d-887a-0b28acae8f13"
      },
      "source": [
        "a = np.arange(12).reshape((6,2))\r\n",
        "b = np.arange(4)\r\n",
        "a"
      ],
      "execution_count": 82,
      "outputs": [
        {
          "output_type": "error",
          "ename": "SyntaxError",
          "evalue": "ignored",
          "traceback": [
            "\u001b[0;36m  File \u001b[0;32m\"<ipython-input-82-ee6d4b6af74b>\"\u001b[0;36m, line \u001b[0;32m1\u001b[0m\n\u001b[0;31m    a = np.arange(12).reshape((3,2,:))\u001b[0m\n\u001b[0m                                   ^\u001b[0m\n\u001b[0;31mSyntaxError\u001b[0m\u001b[0;31m:\u001b[0m invalid syntax\n"
          ]
        }
      ]
    },
    {
      "cell_type": "code",
      "metadata": {
        "colab": {
          "base_uri": "https://localhost:8080/"
        },
        "id": "qbtqslaVqC_W",
        "outputId": "959e64e0-d058-4823-f3b4-e28cde0b7fa3"
      },
      "source": [
        "b"
      ],
      "execution_count": 77,
      "outputs": [
        {
          "output_type": "execute_result",
          "data": {
            "text/plain": [
              "array([0, 1, 2, 3])"
            ]
          },
          "metadata": {
            "tags": []
          },
          "execution_count": 77
        }
      ]
    },
    {
      "cell_type": "code",
      "metadata": {
        "colab": {
          "base_uri": "https://localhost:8080/"
        },
        "id": "toTuErb3qG1b",
        "outputId": "8ab0048b-9dc8-4705-c2cd-9c7716d1735c"
      },
      "source": [
        "np.inner(a, b)"
      ],
      "execution_count": 78,
      "outputs": [
        {
          "output_type": "execute_result",
          "data": {
            "text/plain": [
              "array([[ 14,  38,  62],\n",
              "       [ 86, 110, 134]])"
            ]
          },
          "metadata": {
            "tags": []
          },
          "execution_count": 78
        }
      ]
    }
  ]
}