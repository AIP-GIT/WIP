{
  "nbformat": 4,
  "nbformat_minor": 0,
  "metadata": {
    "colab": {
      "name": "numpy.ipynb",
      "provenance": [],
      "collapsed_sections": []
    },
    "kernelspec": {
      "name": "python3",
      "display_name": "Python 3"
    }
  },
  "cells": [
    {
      "cell_type": "code",
      "metadata": {
        "id": "eUbZAKgTAWz9"
      },
      "source": [
        "import numpy as np"
      ],
      "execution_count": null,
      "outputs": []
    },
    {
      "cell_type": "markdown",
      "metadata": {
        "id": "-0nLopjcAgA5"
      },
      "source": [
        "NumPy as np: \r\n",
        "NumPy is usually imported under the np alias. alias: In Python alias are an alternate name for referring to the same thing."
      ]
    },
    {
      "cell_type": "code",
      "metadata": {
        "id": "FKQb9w6ZAive",
        "colab": {
          "base_uri": "https://localhost:8080/"
        },
        "outputId": "997f5ab1-dc82-4f64-87fb-9cdccbc44be8"
      },
      "source": [
        "arr = np.arange(0,12,2)\r\n",
        "print(arr)"
      ],
      "execution_count": null,
      "outputs": [
        {
          "output_type": "stream",
          "text": [
            "[ 0  2  4  6  8 10]\n"
          ],
          "name": "stdout"
        }
      ]
    },
    {
      "cell_type": "markdown",
      "metadata": {
        "id": "MdV-YVKeA1mV"
      },
      "source": [
        " It creates an instance of ndarray with evenly spaced values and returns the reference to it.\r\n",
        "\r\n",
        "You can define the interval of the values contained in an array, space between them, and their type with four parameters of arange():\r\n",
        "\r\n",
        "**syntax:numpy.arange([start, ]stop, [step, ], dtype=None) -> numpy.ndarray**"
      ]
    },
    {
      "cell_type": "code",
      "metadata": {
        "colab": {
          "base_uri": "https://localhost:8080/"
        },
        "id": "tOzR0A8WOdbP",
        "outputId": "2a30dd46-0b02-464a-a9d1-b3fdfe835618"
      },
      "source": [
        "arr.shape"
      ],
      "execution_count": null,
      "outputs": [
        {
          "output_type": "execute_result",
          "data": {
            "text/plain": [
              "(6,)"
            ]
          },
          "metadata": {
            "tags": []
          },
          "execution_count": 21
        }
      ]
    },
    {
      "cell_type": "markdown",
      "metadata": {
        "id": "ySstoWLSPj9T"
      },
      "source": [
        "NumPy arrays have an attribute called shape that returns a tuple with each index having the number of corresponding elements."
      ]
    },
    {
      "cell_type": "markdown",
      "metadata": {
        "id": "9HqRdprdSD7F"
      },
      "source": [
        "**Adding a new axis**\r\n"
      ]
    },
    {
      "cell_type": "code",
      "metadata": {
        "colab": {
          "base_uri": "https://localhost:8080/"
        },
        "id": "NRz9Rbk_R7DY",
        "outputId": "8662dc47-1247-413a-a7f0-9f36e998ba9b"
      },
      "source": [
        "arr[np.newaxis,:].shape"
      ],
      "execution_count": null,
      "outputs": [
        {
          "output_type": "execute_result",
          "data": {
            "text/plain": [
              "(1, 6)"
            ]
          },
          "metadata": {
            "tags": []
          },
          "execution_count": 22
        }
      ]
    },
    {
      "cell_type": "markdown",
      "metadata": {
        "id": "EBoPdddNUxdX"
      },
      "source": [
        "np.newaxis is used to increase the dimension of the existing array by one more."
      ]
    },
    {
      "cell_type": "code",
      "metadata": {
        "colab": {
          "base_uri": "https://localhost:8080/"
        },
        "id": "5kKQtHCZVcD_",
        "outputId": "b60eefbb-ceda-4f36-b38b-7fe494f759f4"
      },
      "source": [
        "arr.reshape(1,-1).shape"
      ],
      "execution_count": null,
      "outputs": [
        {
          "output_type": "execute_result",
          "data": {
            "text/plain": [
              "(1, 6)"
            ]
          },
          "metadata": {
            "tags": []
          },
          "execution_count": 23
        }
      ]
    },
    {
      "cell_type": "markdown",
      "metadata": {
        "id": "n6kqh_1hV5Cp"
      },
      "source": [
        "-1 work same as '**:**' and 1 representing the one dimension adding in row"
      ]
    },
    {
      "cell_type": "code",
      "metadata": {
        "colab": {
          "base_uri": "https://localhost:8080/"
        },
        "id": "mB33X2JFV_-o",
        "outputId": "87f41b1b-d2b2-4671-cdda-623fce9baed2"
      },
      "source": [
        "arr[:,np.newaxis].shape"
      ],
      "execution_count": null,
      "outputs": [
        {
          "output_type": "execute_result",
          "data": {
            "text/plain": [
              "(6, 1)"
            ]
          },
          "metadata": {
            "tags": []
          },
          "execution_count": 24
        }
      ]
    },
    {
      "cell_type": "markdown",
      "metadata": {
        "id": "IKPkTO6JWhXd"
      },
      "source": [
        "It add one  dimension at the coloumn."
      ]
    },
    {
      "cell_type": "code",
      "metadata": {
        "colab": {
          "base_uri": "https://localhost:8080/"
        },
        "id": "sniNrV_8W7YQ",
        "outputId": "13ba7fe8-2a46-49e2-a293-c9b0f6103a33"
      },
      "source": [
        "arr.reshape(-1,1).shape"
      ],
      "execution_count": null,
      "outputs": [
        {
          "output_type": "execute_result",
          "data": {
            "text/plain": [
              "(6, 1)"
            ]
          },
          "metadata": {
            "tags": []
          },
          "execution_count": 25
        }
      ]
    },
    {
      "cell_type": "markdown",
      "metadata": {
        "id": "6eo5BJEUX5-j"
      },
      "source": [
        "**np.newaxis vs reshape**\r\n"
      ]
    },
    {
      "cell_type": "markdown",
      "metadata": {
        "id": "lcs49wsdYfrl"
      },
      "source": [
        "**np.newaxis**:\r\n",
        "It uses the slicing operator to recreate the array.\r\n",
        "The dimension is temporarily added at the position of np.newaxis in the array. ‘None’ can also be used in place of np.newaxis.\r\n"
      ]
    },
    {
      "cell_type": "markdown",
      "metadata": {
        "id": "3JyApnnEZLPq"
      },
      "source": [
        "**np.reshape:**\r\n",
        "It is used to reshape the array to the desired layout.\r\n"
      ]
    },
    {
      "cell_type": "code",
      "metadata": {
        "colab": {
          "base_uri": "https://localhost:8080/"
        },
        "id": "rg6uCWjEZYL4",
        "outputId": "afece0f5-edce-4ed9-b6b3-54400bf61f71"
      },
      "source": [
        "np.expand_dims(arr,axis=1).shape"
      ],
      "execution_count": null,
      "outputs": [
        {
          "output_type": "execute_result",
          "data": {
            "text/plain": [
              "(6, 1)"
            ]
          },
          "metadata": {
            "tags": []
          },
          "execution_count": 27
        }
      ]
    },
    {
      "cell_type": "code",
      "metadata": {
        "colab": {
          "base_uri": "https://localhost:8080/"
        },
        "id": "nqFjpeT0aZKG",
        "outputId": "5adb7ae4-1a70-492f-9a94-feda3bc2fe39"
      },
      "source": [
        "np.expand_dims(arr,axis=0).shape"
      ],
      "execution_count": null,
      "outputs": [
        {
          "output_type": "execute_result",
          "data": {
            "text/plain": [
              "(1, 6)"
            ]
          },
          "metadata": {
            "tags": []
          },
          "execution_count": 29
        }
      ]
    },
    {
      "cell_type": "markdown",
      "metadata": {
        "id": "eJH-xu_TaCNb"
      },
      "source": [
        "This function expands the array by inserting a new axis at the specified position. Two parameters are required by this function.\r\n",
        "\r\n",
        "**np.expand_dims(arr, axis)**\r\n",
        "\r\n",
        "axis=1 means it add new axis at col position.\r\n",
        "\r\n",
        "axis=0 means it add new axis at row position."
      ]
    },
    {
      "cell_type": "markdown",
      "metadata": {
        "id": "J1T8ezeSbYZn"
      },
      "source": [
        "**np functions to create arrays¶**"
      ]
    },
    {
      "cell_type": "code",
      "metadata": {
        "id": "eHrYZT9scNCO",
        "colab": {
          "base_uri": "https://localhost:8080/"
        },
        "outputId": "a64d7124-7be2-4031-9547-bf7382110bfc"
      },
      "source": [
        "np.zeros(2)"
      ],
      "execution_count": 33,
      "outputs": [
        {
          "output_type": "execute_result",
          "data": {
            "text/plain": [
              "array([0., 0.])"
            ]
          },
          "metadata": {
            "tags": []
          },
          "execution_count": 33
        }
      ]
    },
    {
      "cell_type": "markdown",
      "metadata": {
        "id": "Ar6VMxO4dSnE"
      },
      "source": [
        "Return a new array of given shape and type, filled with zeros.\r\n"
      ]
    },
    {
      "cell_type": "code",
      "metadata": {
        "colab": {
          "base_uri": "https://localhost:8080/"
        },
        "id": "MrvehitacsvY",
        "outputId": "be65aea1-cb8b-4dcf-93b7-4fbb1bbbbd38"
      },
      "source": [
        "np.zeros((2, 3))"
      ],
      "execution_count": null,
      "outputs": [
        {
          "output_type": "execute_result",
          "data": {
            "text/plain": [
              "array([[0., 0., 0.],\n",
              "       [0., 0., 0.]])"
            ]
          },
          "metadata": {
            "tags": []
          },
          "execution_count": 32
        }
      ]
    },
    {
      "cell_type": "code",
      "metadata": {
        "colab": {
          "base_uri": "https://localhost:8080/"
        },
        "id": "s3rOftNudfjZ",
        "outputId": "6ef2f4ff-28b4-4552-c6f2-5537a3a285cb"
      },
      "source": [
        "np.ones(shape=(4,2))"
      ],
      "execution_count": null,
      "outputs": [
        {
          "output_type": "execute_result",
          "data": {
            "text/plain": [
              "array([[1., 1.],\n",
              "       [1., 1.],\n",
              "       [1., 1.],\n",
              "       [1., 1.]])"
            ]
          },
          "metadata": {
            "tags": []
          },
          "execution_count": 33
        }
      ]
    },
    {
      "cell_type": "markdown",
      "metadata": {
        "id": "WuSOA0FHdoQU"
      },
      "source": [
        "Return a new array of given shape and type, filled with ones."
      ]
    },
    {
      "cell_type": "code",
      "metadata": {
        "id": "2dfM_nZmd21Y",
        "colab": {
          "base_uri": "https://localhost:8080/"
        },
        "outputId": "429f72a7-fd05-48c9-d1b8-00343f9bb1fc"
      },
      "source": [
        "np.empty(shape=(2,3,4))"
      ],
      "execution_count": 34,
      "outputs": [
        {
          "output_type": "execute_result",
          "data": {
            "text/plain": [
              "array([[[0., 0., 0., 0.],\n",
              "        [0., 0., 0., 0.],\n",
              "        [0., 0., 0., 0.]],\n",
              "\n",
              "       [[0., 0., 0., 0.],\n",
              "        [0., 0., 0., 0.],\n",
              "        [0., 0., 0., 0.]]])"
            ]
          },
          "metadata": {
            "tags": []
          },
          "execution_count": 34
        }
      ]
    },
    {
      "cell_type": "markdown",
      "metadata": {
        "id": "9IWp3jlPeIVX"
      },
      "source": [
        "Return a new array of given shape and type, without initializing entries.\r\n",
        "\r\n",
        "This is faster than np.zeros"
      ]
    },
    {
      "cell_type": "markdown",
      "metadata": {
        "id": "fxq5F2dXecRe"
      },
      "source": [
        "**Creating arrays**"
      ]
    },
    {
      "cell_type": "code",
      "metadata": {
        "id": "jqRmIz1SeKI8",
        "colab": {
          "base_uri": "https://localhost:8080/"
        },
        "outputId": "1fc7bbfa-7376-4781-dcee-b5ea7eedbc19"
      },
      "source": [
        "np.linspace(1,100,20)"
      ],
      "execution_count": 35,
      "outputs": [
        {
          "output_type": "execute_result",
          "data": {
            "text/plain": [
              "array([  1.        ,   6.21052632,  11.42105263,  16.63157895,\n",
              "        21.84210526,  27.05263158,  32.26315789,  37.47368421,\n",
              "        42.68421053,  47.89473684,  53.10526316,  58.31578947,\n",
              "        63.52631579,  68.73684211,  73.94736842,  79.15789474,\n",
              "        84.36842105,  89.57894737,  94.78947368, 100.        ])"
            ]
          },
          "metadata": {
            "tags": []
          },
          "execution_count": 35
        }
      ]
    },
    {
      "cell_type": "markdown",
      "metadata": {
        "id": "DSb39Cl5fwgi"
      },
      "source": [
        "The output array in this instance contains 20 equally spaced values between 1 and 100, which is just the numbers from 1 to 100."
      ]
    },
    {
      "cell_type": "code",
      "metadata": {
        "id": "Mx8Pmvm4gNk4",
        "colab": {
          "base_uri": "https://localhost:8080/"
        },
        "outputId": "28e38eab-e8bd-41c1-a07b-5aa4ba74323f"
      },
      "source": [
        "np.random.rand(3,2,1)"
      ],
      "execution_count": 36,
      "outputs": [
        {
          "output_type": "execute_result",
          "data": {
            "text/plain": [
              "array([[[0.27340974],\n",
              "        [0.54235298]],\n",
              "\n",
              "       [[0.58582038],\n",
              "        [0.93775209]],\n",
              "\n",
              "       [[0.84406744],\n",
              "        [0.20603078]]])"
            ]
          },
          "metadata": {
            "tags": []
          },
          "execution_count": 36
        }
      ]
    },
    {
      "cell_type": "markdown",
      "metadata": {
        "id": "B0wOlsm7gQaX"
      },
      "source": [
        "The nprandom.rand() function creates an array of specified shape (3,2,1) and fills it with random values.\r\n"
      ]
    },
    {
      "cell_type": "code",
      "metadata": {
        "colab": {
          "base_uri": "https://localhost:8080/"
        },
        "id": "MHg8uZWLheG6",
        "outputId": "73f47eaa-f476-4569-a04d-f560dffbd8fd"
      },
      "source": [
        "np.random.randint(0,5,size=(3,2))"
      ],
      "execution_count": null,
      "outputs": [
        {
          "output_type": "execute_result",
          "data": {
            "text/plain": [
              "array([[2, 1],\n",
              "       [4, 4],\n",
              "       [3, 1]])"
            ]
          },
          "metadata": {
            "tags": []
          },
          "execution_count": 40
        }
      ]
    },
    {
      "cell_type": "markdown",
      "metadata": {
        "id": "2bjQUZtVh_vX"
      },
      "source": [
        "It returns an array of specified shape and fills it with random integers from low (inclusive) to high (exclusive), i.e. in the interval [low, high)."
      ]
    },
    {
      "cell_type": "code",
      "metadata": {
        "id": "Z7XY5nW3iF-l",
        "colab": {
          "base_uri": "https://localhost:8080/"
        },
        "outputId": "8ae8d082-6fd7-4a80-946f-d97838cfd820"
      },
      "source": [
        "np.random.randn(3,2,2)"
      ],
      "execution_count": 37,
      "outputs": [
        {
          "output_type": "execute_result",
          "data": {
            "text/plain": [
              "array([[[-2.82914162, -0.68842487],\n",
              "        [ 2.69115826, -0.90192501]],\n",
              "\n",
              "       [[-0.7345995 , -0.35318109],\n",
              "        [-0.39395213,  2.38284555]],\n",
              "\n",
              "       [[ 0.29623487,  0.271525  ],\n",
              "        [ 0.13445072, -0.33222419]]])"
            ]
          },
          "metadata": {
            "tags": []
          },
          "execution_count": 37
        }
      ]
    },
    {
      "cell_type": "markdown",
      "metadata": {
        "id": "hoxS42vtimRP"
      },
      "source": [
        "The np.random.randn() function creates an array of specified shape (3,2,2) and fills it with random values as per standard normal distribution."
      ]
    },
    {
      "cell_type": "code",
      "metadata": {
        "colab": {
          "base_uri": "https://localhost:8080/"
        },
        "id": "rkHilh1oi2Pm",
        "outputId": "600acd84-f3f7-4bd7-9e71-ed569dcb5e6e"
      },
      "source": [
        "arr = np.random.randint(0,5,size=(5,))\r\n",
        "arr"
      ],
      "execution_count": 38,
      "outputs": [
        {
          "output_type": "execute_result",
          "data": {
            "text/plain": [
              "array([0, 0, 2, 2, 0])"
            ]
          },
          "metadata": {
            "tags": []
          },
          "execution_count": 38
        }
      ]
    },
    {
      "cell_type": "code",
      "metadata": {
        "colab": {
          "base_uri": "https://localhost:8080/"
        },
        "id": "FJ8a0tyDjOXU",
        "outputId": "d9957ddf-24cb-4cd6-8a39-4618d16d35e3"
      },
      "source": [
        "np.sort(arr)"
      ],
      "execution_count": 39,
      "outputs": [
        {
          "output_type": "execute_result",
          "data": {
            "text/plain": [
              "array([0, 0, 0, 2, 2])"
            ]
          },
          "metadata": {
            "tags": []
          },
          "execution_count": 39
        }
      ]
    },
    {
      "cell_type": "markdown",
      "metadata": {
        "id": "d3gIWrwYkCjZ"
      },
      "source": [
        "\r\n",
        "Method to sort an array not in-place."
      ]
    },
    {
      "cell_type": "code",
      "metadata": {
        "colab": {
          "base_uri": "https://localhost:8080/"
        },
        "id": "wgVPWZ3mkI_D",
        "outputId": "9487b589-8a51-4258-f2ea-35927ad5b542"
      },
      "source": [
        "arr"
      ],
      "execution_count": 40,
      "outputs": [
        {
          "output_type": "execute_result",
          "data": {
            "text/plain": [
              "array([0, 0, 2, 2, 0])"
            ]
          },
          "metadata": {
            "tags": []
          },
          "execution_count": 40
        }
      ]
    },
    {
      "cell_type": "code",
      "metadata": {
        "id": "5D31TsLRkyRq"
      },
      "source": [
        "arr.sort()"
      ],
      "execution_count": 41,
      "outputs": []
    },
    {
      "cell_type": "code",
      "metadata": {
        "colab": {
          "base_uri": "https://localhost:8080/"
        },
        "id": "50IcpxTllcyF",
        "outputId": "bfbe4a5f-b452-435b-8a8e-2c9b6c61194e"
      },
      "source": [
        "arr"
      ],
      "execution_count": 42,
      "outputs": [
        {
          "output_type": "execute_result",
          "data": {
            "text/plain": [
              "array([0, 0, 0, 2, 2])"
            ]
          },
          "metadata": {
            "tags": []
          },
          "execution_count": 42
        }
      ]
    },
    {
      "cell_type": "markdown",
      "metadata": {
        "id": "TcudQM5fmOhc"
      },
      "source": [
        "Return a sorted copy of an array.\r\n",
        "\r\n",
        "Method to sort an array in-place."
      ]
    },
    {
      "cell_type": "markdown",
      "metadata": {
        "id": "vTuc5LLW_naG"
      },
      "source": [
        "**argsort**"
      ]
    },
    {
      "cell_type": "code",
      "metadata": {
        "colab": {
          "base_uri": "https://localhost:8080/"
        },
        "id": "srHSOqT5-nI5",
        "outputId": "11f00c4f-7ac3-4553-9648-35fd3766ab9b"
      },
      "source": [
        "import numpy as np\r\n",
        "arr= np.argsort([456,11,63])  \r\n",
        "arr"
      ],
      "execution_count": 43,
      "outputs": [
        {
          "output_type": "execute_result",
          "data": {
            "text/plain": [
              "array([1, 2, 0])"
            ]
          },
          "metadata": {
            "tags": []
          },
          "execution_count": 43
        }
      ]
    },
    {
      "cell_type": "markdown",
      "metadata": {
        "id": "W98aEBJP_wMC"
      },
      "source": [
        "The NumPy module provides a function for performing an indirect sort along with the given axis with the help of the algorithm specified by the keyword. This function returns an array of indices of the same shape as 'arr', which would sort the array."
      ]
    },
    {
      "cell_type": "code",
      "metadata": {
        "colab": {
          "base_uri": "https://localhost:8080/"
        },
        "id": "M75fQyKfAe0Z",
        "outputId": "9ef27096-fdec-4802-aa3d-64a4677878ff"
      },
      "source": [
        "arr = np.array([[0, 5], [3, 2]])  #sort along first axis(down).\r\n",
        "a = np.argsort(arr, axis=0)    \r\n",
        "a   "
      ],
      "execution_count": 44,
      "outputs": [
        {
          "output_type": "execute_result",
          "data": {
            "text/plain": [
              "array([[0, 1],\n",
              "       [1, 0]])"
            ]
          },
          "metadata": {
            "tags": []
          },
          "execution_count": 44
        }
      ]
    },
    {
      "cell_type": "code",
      "metadata": {
        "colab": {
          "base_uri": "https://localhost:8080/"
        },
        "id": "wPincGB-BGId",
        "outputId": "278f7ee8-b160-484b-8e45-37794fc243a7"
      },
      "source": [
        "np.take_along_axis(arr, a, axis=0)   # same as np.sort(x, axis=0)\r\n"
      ],
      "execution_count": 26,
      "outputs": [
        {
          "output_type": "execute_result",
          "data": {
            "text/plain": [
              "array([[0, 2],\n",
              "       [3, 5]])"
            ]
          },
          "metadata": {
            "tags": []
          },
          "execution_count": 26
        }
      ]
    },
    {
      "cell_type": "code",
      "metadata": {
        "colab": {
          "base_uri": "https://localhost:8080/"
        },
        "id": "bZZOzb5ECnGG",
        "outputId": "17e5d5f1-7e66-4c86-a315-02c85426bae2"
      },
      "source": [
        "np.argsort(arr, axis=1)  # sorts along last axis (across)"
      ],
      "execution_count": 28,
      "outputs": [
        {
          "output_type": "execute_result",
          "data": {
            "text/plain": [
              "array([[0, 1],\n",
              "       [1, 0]])"
            ]
          },
          "metadata": {
            "tags": []
          },
          "execution_count": 28
        }
      ]
    },
    {
      "cell_type": "code",
      "metadata": {
        "colab": {
          "base_uri": "https://localhost:8080/"
        },
        "id": "p5ZR6hCmK07Q",
        "outputId": "bca3dc0d-c472-4ea4-b3a5-c3358eb75d63"
      },
      "source": [
        "a = np.unravel_index(np.argsort(arr, axis=None), arr.shape) \r\n",
        "a\r\n"
      ],
      "execution_count": 45,
      "outputs": [
        {
          "output_type": "execute_result",
          "data": {
            "text/plain": [
              "(array([0, 1, 1, 0]), array([0, 1, 0, 1]))"
            ]
          },
          "metadata": {
            "tags": []
          },
          "execution_count": 45
        }
      ]
    },
    {
      "cell_type": "markdown",
      "metadata": {
        "id": "kTbRtLgcLZ_Y"
      },
      "source": [
        "Indices of the sorted elements of a N-dimensional array."
      ]
    },
    {
      "cell_type": "code",
      "metadata": {
        "id": "A4b56FPdLhvs"
      },
      "source": [
        ""
      ],
      "execution_count": null,
      "outputs": []
    }
  ]
}