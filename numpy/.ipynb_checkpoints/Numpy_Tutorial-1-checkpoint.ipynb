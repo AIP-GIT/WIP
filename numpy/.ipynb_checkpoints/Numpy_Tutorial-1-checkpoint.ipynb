{
 "cells": [
  {
   "cell_type": "code",
   "execution_count": 1,
   "id": "severe-separate",
   "metadata": {},
   "outputs": [],
   "source": [
    "%config Completer.use_jedi = False"
   ]
  },
  {
   "cell_type": "code",
   "execution_count": 2,
   "id": "confirmed-crack",
   "metadata": {},
   "outputs": [],
   "source": [
    "import numpy as np"
   ]
  },
  {
   "cell_type": "code",
   "execution_count": 3,
   "id": "lonely-finish",
   "metadata": {},
   "outputs": [
    {
     "name": "stdout",
     "output_type": "stream",
     "text": [
      "[ 0  2  4  6  8 10]\n"
     ]
    }
   ],
   "source": [
    "a = np.arange(0,12,2) # similar to range\n",
    "print(a)"
   ]
  },
  {
   "cell_type": "code",
   "execution_count": 4,
   "id": "sustained-diesel",
   "metadata": {},
   "outputs": [
    {
     "data": {
      "text/plain": [
       "(6,)"
      ]
     },
     "execution_count": 4,
     "metadata": {},
     "output_type": "execute_result"
    }
   ],
   "source": [
    "a.shape"
   ]
  },
  {
   "cell_type": "markdown",
   "id": "green-church",
   "metadata": {},
   "source": [
    "### Adding a new axis"
   ]
  },
  {
   "cell_type": "code",
   "execution_count": 5,
   "id": "genetic-executive",
   "metadata": {},
   "outputs": [
    {
     "data": {
      "text/plain": [
       "(1, 6)"
      ]
     },
     "execution_count": 5,
     "metadata": {},
     "output_type": "execute_result"
    }
   ],
   "source": [
    "a[np.newaxis,:].shape"
   ]
  },
  {
   "cell_type": "code",
   "execution_count": 6,
   "id": "incoming-constraint",
   "metadata": {},
   "outputs": [
    {
     "data": {
      "text/plain": [
       "(1, 6)"
      ]
     },
     "execution_count": 6,
     "metadata": {},
     "output_type": "execute_result"
    }
   ],
   "source": [
    "a.reshape(1,-1).shape"
   ]
  },
  {
   "cell_type": "code",
   "execution_count": 7,
   "id": "loving-night",
   "metadata": {},
   "outputs": [
    {
     "data": {
      "text/plain": [
       "(6, 1)"
      ]
     },
     "execution_count": 7,
     "metadata": {},
     "output_type": "execute_result"
    }
   ],
   "source": [
    "a[:,np.newaxis].shape"
   ]
  },
  {
   "cell_type": "code",
   "execution_count": 8,
   "id": "typical-occupation",
   "metadata": {},
   "outputs": [
    {
     "data": {
      "text/plain": [
       "(6, 1)"
      ]
     },
     "execution_count": 8,
     "metadata": {},
     "output_type": "execute_result"
    }
   ],
   "source": [
    "a.reshape(-1,1).shape"
   ]
  },
  {
   "cell_type": "code",
   "execution_count": 51,
   "id": "quarterly-consultation",
   "metadata": {},
   "outputs": [
    {
     "data": {
      "text/plain": [
       "(6, 1)"
      ]
     },
     "execution_count": 51,
     "metadata": {},
     "output_type": "execute_result"
    }
   ],
   "source": [
    "np.expand_dims(a,axis=1).shape"
   ]
  },
  {
   "cell_type": "code",
   "execution_count": 52,
   "id": "joined-vegetation",
   "metadata": {},
   "outputs": [
    {
     "data": {
      "text/plain": [
       "(1, 6)"
      ]
     },
     "execution_count": 52,
     "metadata": {},
     "output_type": "execute_result"
    }
   ],
   "source": [
    "np.expand_dims(a,axis=0).shape"
   ]
  },
  {
   "cell_type": "markdown",
   "id": "european-mechanism",
   "metadata": {},
   "source": [
    "### numpy functions to create arrays"
   ]
  },
  {
   "cell_type": "code",
   "execution_count": 9,
   "id": "abandoned-fruit",
   "metadata": {},
   "outputs": [
    {
     "data": {
      "text/plain": [
       "array([0., 0.])"
      ]
     },
     "execution_count": 9,
     "metadata": {},
     "output_type": "execute_result"
    }
   ],
   "source": [
    "np.zeros(2)"
   ]
  },
  {
   "cell_type": "code",
   "execution_count": 10,
   "id": "balanced-dressing",
   "metadata": {},
   "outputs": [
    {
     "data": {
      "text/plain": [
       "array([[1., 1.],\n",
       "       [1., 1.],\n",
       "       [1., 1.],\n",
       "       [1., 1.]])"
      ]
     },
     "execution_count": 10,
     "metadata": {},
     "output_type": "execute_result"
    }
   ],
   "source": [
    "np.ones(shape=(4,2))"
   ]
  },
  {
   "cell_type": "code",
   "execution_count": 11,
   "id": "mature-despite",
   "metadata": {},
   "outputs": [
    {
     "data": {
      "text/plain": [
       "array([[[ 2.41440681e-310,  2.34140334e-258,  2.21649092e-313,\n",
       "          6.18196790e-309],\n",
       "        [-2.08005242e-046,  5.20374872e-259,  1.53229019e-231,\n",
       "          1.53543648e-231],\n",
       "        [ 1.73315714e-260,  2.18354929e-289,  2.18254133e-289,\n",
       "          5.38726887e-299]],\n",
       "\n",
       "       [[ 9.41267931e-280,  3.19271975e-241,  7.43703987e-251,\n",
       "          4.67044207e-193],\n",
       "        [ 2.97742215e-212,  5.88411975e-222,  7.44044338e-251,\n",
       "          7.44044312e-251],\n",
       "        [ 4.67258231e-193,  1.37251949e-231,  4.67472275e-193,\n",
       "          4.67686319e-193]]])"
      ]
     },
     "execution_count": 11,
     "metadata": {},
     "output_type": "execute_result"
    }
   ],
   "source": [
    "np.empty(shape=(2,3,4)) #This isfaster than np.zeros"
   ]
  },
  {
   "cell_type": "markdown",
   "id": "foster-cambodia",
   "metadata": {},
   "source": [
    "### Creating arrays"
   ]
  },
  {
   "cell_type": "code",
   "execution_count": 18,
   "id": "optional-barcelona",
   "metadata": {},
   "outputs": [
    {
     "data": {
      "text/plain": [
       "array([  1.        ,   6.21052632,  11.42105263,  16.63157895,\n",
       "        21.84210526,  27.05263158,  32.26315789,  37.47368421,\n",
       "        42.68421053,  47.89473684,  53.10526316,  58.31578947,\n",
       "        63.52631579,  68.73684211,  73.94736842,  79.15789474,\n",
       "        84.36842105,  89.57894737,  94.78947368, 100.        ])"
      ]
     },
     "execution_count": 18,
     "metadata": {},
     "output_type": "execute_result"
    }
   ],
   "source": [
    "np.linspace(1,100,20)"
   ]
  },
  {
   "cell_type": "code",
   "execution_count": 22,
   "id": "sexual-fireplace",
   "metadata": {},
   "outputs": [
    {
     "data": {
      "text/plain": [
       "array([[[0.42597685],\n",
       "        [0.37818109]],\n",
       "\n",
       "       [[0.90820233],\n",
       "        [0.63159878]],\n",
       "\n",
       "       [[0.04142703],\n",
       "        [0.3885689 ]]])"
      ]
     },
     "execution_count": 22,
     "metadata": {},
     "output_type": "execute_result"
    }
   ],
   "source": [
    "np.random.rand(3,2,1) # random array with shape (3,2,1)"
   ]
  },
  {
   "cell_type": "code",
   "execution_count": 32,
   "id": "rental-circuit",
   "metadata": {},
   "outputs": [
    {
     "data": {
      "text/plain": [
       "array([[3, 3],\n",
       "       [0, 1],\n",
       "       [0, 4]])"
      ]
     },
     "execution_count": 32,
     "metadata": {},
     "output_type": "execute_result"
    }
   ],
   "source": [
    "np.random.randint(0,5,size=(3,2))"
   ]
  },
  {
   "cell_type": "code",
   "execution_count": 35,
   "id": "hydraulic-series",
   "metadata": {},
   "outputs": [
    {
     "data": {
      "text/plain": [
       "array([[[ 0.07158827,  0.00594014],\n",
       "        [-0.4593867 ,  0.52635941]],\n",
       "\n",
       "       [[ 0.32097379,  1.02098771],\n",
       "        [ 0.85041277, -0.33071488]],\n",
       "\n",
       "       [[-0.06820504,  1.0533379 ],\n",
       "        [-1.36162735,  0.1811919 ]]])"
      ]
     },
     "execution_count": 35,
     "metadata": {},
     "output_type": "execute_result"
    }
   ],
   "source": [
    "np.random.randn(3,2,2) #random normal distribution"
   ]
  },
  {
   "cell_type": "code",
   "execution_count": 45,
   "id": "premier-prisoner",
   "metadata": {},
   "outputs": [
    {
     "data": {
      "text/plain": [
       "array([4, 4, 2, 3, 1])"
      ]
     },
     "execution_count": 45,
     "metadata": {},
     "output_type": "execute_result"
    }
   ],
   "source": [
    "arr = np.random.randint(0,5,size=(5,))\n",
    "arr"
   ]
  },
  {
   "cell_type": "code",
   "execution_count": 44,
   "id": "unique-constant",
   "metadata": {},
   "outputs": [
    {
     "data": {
      "text/plain": [
       "array([1, 2, 3, 3, 4])"
      ]
     },
     "execution_count": 44,
     "metadata": {},
     "output_type": "execute_result"
    }
   ],
   "source": [
    "np.sort(arr) # not inplace sorting"
   ]
  },
  {
   "cell_type": "code",
   "execution_count": 46,
   "id": "published-jesus",
   "metadata": {},
   "outputs": [
    {
     "data": {
      "text/plain": [
       "array([4, 4, 2, 3, 1])"
      ]
     },
     "execution_count": 46,
     "metadata": {},
     "output_type": "execute_result"
    }
   ],
   "source": [
    "arr"
   ]
  },
  {
   "cell_type": "code",
   "execution_count": 47,
   "id": "medium-kingdom",
   "metadata": {},
   "outputs": [],
   "source": [
    "arr.sort() # inplace sorting"
   ]
  },
  {
   "cell_type": "code",
   "execution_count": 48,
   "id": "quality-edinburgh",
   "metadata": {},
   "outputs": [
    {
     "data": {
      "text/plain": [
       "array([1, 2, 3, 4, 4])"
      ]
     },
     "execution_count": 48,
     "metadata": {},
     "output_type": "execute_result"
    }
   ],
   "source": [
    "arr"
   ]
  },
  {
   "cell_type": "code",
   "execution_count": 49,
   "id": "irish-carolina",
   "metadata": {},
   "outputs": [],
   "source": [
    "# #\n",
    "\n",
    "#     argsort, which is an indirect sort along a specified axis,\n",
    "\n",
    "#     lexsort, which is an indirect stable sort on multiple keys,\n",
    "\n",
    "#     searchsorted, which will find elements in a sorted array, and\n",
    "\n",
    "#     partition, which is a partial sort.\n"
   ]
  },
  {
   "cell_type": "code",
   "execution_count": 50,
   "id": "closed-english",
   "metadata": {},
   "outputs": [],
   "source": [
    "# np.concatenate"
   ]
  },
  {
   "cell_type": "code",
   "execution_count": 53,
   "id": "automotive-broadcasting",
   "metadata": {},
   "outputs": [],
   "source": [
    "# np.ndarray.ndim\n",
    "# np.ndarray.size\n",
    "# np.ndarray.shape"
   ]
  },
  {
   "cell_type": "code",
   "execution_count": 56,
   "id": "boolean-jewel",
   "metadata": {},
   "outputs": [
    {
     "data": {
      "text/plain": [
       "array([[9, 1],\n",
       "       [2, 3],\n",
       "       [8, 9]])"
      ]
     },
     "execution_count": 56,
     "metadata": {},
     "output_type": "execute_result"
    }
   ],
   "source": [
    "a = np.random.randint(0,10,size=(3,2))\n",
    "a"
   ]
  },
  {
   "cell_type": "code",
   "execution_count": 57,
   "id": "cooperative-laser",
   "metadata": {},
   "outputs": [
    {
     "data": {
      "text/plain": [
       "array([9, 8, 9])"
      ]
     },
     "execution_count": 57,
     "metadata": {},
     "output_type": "execute_result"
    }
   ],
   "source": [
    "a[a>5]"
   ]
  },
  {
   "cell_type": "code",
   "execution_count": 60,
   "id": "empty-litigation",
   "metadata": {},
   "outputs": [
    {
     "data": {
      "text/plain": [
       "array([[ True, False],\n",
       "       [False, False],\n",
       "       [ True,  True]])"
      ]
     },
     "execution_count": 60,
     "metadata": {},
     "output_type": "execute_result"
    }
   ],
   "source": [
    "a>5"
   ]
  },
  {
   "cell_type": "code",
   "execution_count": 58,
   "id": "laden-allocation",
   "metadata": {},
   "outputs": [
    {
     "data": {
      "text/plain": [
       "array([8])"
      ]
     },
     "execution_count": 58,
     "metadata": {},
     "output_type": "execute_result"
    }
   ],
   "source": [
    "a[(a>5) & (a%2==0)]"
   ]
  },
  {
   "cell_type": "code",
   "execution_count": 59,
   "id": "champion-tomato",
   "metadata": {},
   "outputs": [
    {
     "data": {
      "text/plain": [
       "array([1, 2, 3, 8])"
      ]
     },
     "execution_count": 59,
     "metadata": {},
     "output_type": "execute_result"
    }
   ],
   "source": [
    "a[(a<5) | (a%2==0)]"
   ]
  },
  {
   "cell_type": "code",
   "execution_count": 66,
   "id": "viral-peripheral",
   "metadata": {},
   "outputs": [
    {
     "data": {
      "text/plain": [
       "array([[ 1,  2,  3,  4],\n",
       "       [ 5,  6,  7,  8],\n",
       "       [ 9, 10, 11, 12]])"
      ]
     },
     "execution_count": 66,
     "metadata": {},
     "output_type": "execute_result"
    }
   ],
   "source": [
    "arr = np.arange(1,13)\n",
    "arr = arr.reshape(3,4)\n",
    "arr"
   ]
  },
  {
   "cell_type": "code",
   "execution_count": 68,
   "id": "dressed-kitty",
   "metadata": {},
   "outputs": [
    {
     "data": {
      "text/plain": [
       "(array([0, 1, 1], dtype=int64), array([1, 0, 1], dtype=int64))"
      ]
     },
     "execution_count": 68,
     "metadata": {},
     "output_type": "execute_result"
    }
   ],
   "source": [
    "b = np.nonzero(a<5) #this gives row index and column index\n",
    "b"
   ]
  },
  {
   "cell_type": "code",
   "execution_count": 71,
   "id": "offshore-difference",
   "metadata": {},
   "outputs": [
    {
     "data": {
      "text/plain": [
       "[(0, 1), (1, 0), (1, 1)]"
      ]
     },
     "execution_count": 71,
     "metadata": {},
     "output_type": "execute_result"
    }
   ],
   "source": [
    "list(zip(b[0],b[1])) #list of co-ordinates"
   ]
  },
  {
   "cell_type": "code",
   "execution_count": 72,
   "id": "addressed-mitchell",
   "metadata": {},
   "outputs": [
    {
     "data": {
      "text/plain": [
       "array([1, 2, 3])"
      ]
     },
     "execution_count": 72,
     "metadata": {},
     "output_type": "execute_result"
    }
   ],
   "source": [
    "a[b] #nonzero can be also used to directly fetch the elements"
   ]
  },
  {
   "cell_type": "code",
   "execution_count": 73,
   "id": "recent-afternoon",
   "metadata": {},
   "outputs": [],
   "source": [
    "# slicing \n",
    "# indexing\n",
    "# np.vstack()\n",
    "# np.hstack()\n",
    "# np.hsplit()\n",
    "# .view()\n",
    "# copy()"
   ]
  },
  {
   "cell_type": "code",
   "execution_count": 74,
   "id": "entertaining-jesus",
   "metadata": {},
   "outputs": [
    {
     "data": {
      "text/plain": [
       "array([[1, 1],\n",
       "       [2, 2]])"
      ]
     },
     "execution_count": 74,
     "metadata": {},
     "output_type": "execute_result"
    }
   ],
   "source": [
    "arr = np.array([[1, 1], [2, 2]])\n",
    "arr"
   ]
  },
  {
   "cell_type": "code",
   "execution_count": 75,
   "id": "skilled-graphics",
   "metadata": {},
   "outputs": [
    {
     "data": {
      "text/plain": [
       "6"
      ]
     },
     "execution_count": 75,
     "metadata": {},
     "output_type": "execute_result"
    }
   ],
   "source": [
    "arr.sum()"
   ]
  },
  {
   "cell_type": "code",
   "execution_count": 76,
   "id": "verified-career",
   "metadata": {},
   "outputs": [
    {
     "data": {
      "text/plain": [
       "array([3, 3])"
      ]
     },
     "execution_count": 76,
     "metadata": {},
     "output_type": "execute_result"
    }
   ],
   "source": [
    "arr.sum(axis=0)"
   ]
  },
  {
   "cell_type": "code",
   "execution_count": 77,
   "id": "valued-oakland",
   "metadata": {},
   "outputs": [
    {
     "data": {
      "text/plain": [
       "array([2, 4])"
      ]
     },
     "execution_count": 77,
     "metadata": {},
     "output_type": "execute_result"
    }
   ],
   "source": [
    "arr.sum(axis=1)"
   ]
  },
  {
   "cell_type": "code",
   "execution_count": 78,
   "id": "viral-terrorism",
   "metadata": {},
   "outputs": [],
   "source": [
    "# np.unique\n",
    "# unique_values, indices_list = np.unique(a, return_index=True)\n",
    "# unique_values, occurrence_count = np.unique(a, return_counts=True)\n"
   ]
  },
  {
   "cell_type": "code",
   "execution_count": 81,
   "id": "impressed-grill",
   "metadata": {},
   "outputs": [
    {
     "data": {
      "text/plain": [
       "array([[ 1,  2,  3,  4],\n",
       "       [ 5,  6,  7,  8],\n",
       "       [ 9, 10, 11, 12]])"
      ]
     },
     "execution_count": 81,
     "metadata": {},
     "output_type": "execute_result"
    }
   ],
   "source": [
    "a_2d = np.array([[1, 2, 3, 4], [5, 6, 7, 8], [9, 10, 11, 12], [1, 2, 3, 4]])\n",
    "np.unique(a_2d, axis=0)\n",
    "    "
   ]
  },
  {
   "cell_type": "code",
   "execution_count": 84,
   "id": "pleased-duration",
   "metadata": {},
   "outputs": [
    {
     "data": {
      "text/plain": [
       "array([[ 1,  2,  3,  1],\n",
       "       [ 5,  6,  7,  5],\n",
       "       [ 9, 10, 11,  9]])"
      ]
     },
     "execution_count": 84,
     "metadata": {},
     "output_type": "execute_result"
    }
   ],
   "source": [
    "a_2d = np.array([[1, 2, 3, 1], [5, 6, 7, 5], [9, 10, 11, 9], [1, 2, 3, 1]])\n",
    "a_2d = np.unique(a_2d, axis=0) # Removes duplicate rows\n",
    "a_2d"
   ]
  },
  {
   "cell_type": "code",
   "execution_count": 85,
   "id": "compound-swaziland",
   "metadata": {},
   "outputs": [
    {
     "data": {
      "text/plain": [
       "array([[ 1,  2,  3],\n",
       "       [ 5,  6,  7],\n",
       "       [ 9, 10, 11]])"
      ]
     },
     "execution_count": 85,
     "metadata": {},
     "output_type": "execute_result"
    }
   ],
   "source": [
    "a_2d = np.unique(a_2d, axis=1) # Removes duplicate columns\n",
    "a_2d"
   ]
  },
  {
   "cell_type": "code",
   "execution_count": 88,
   "id": "listed-mentor",
   "metadata": {},
   "outputs": [
    {
     "name": "stdout",
     "output_type": "stream",
     "text": [
      "[[ 1  2  3  4]\n",
      " [ 5  6  7  8]\n",
      " [ 9 10 11 12]]\n",
      "[0 1 2]\n",
      "[2 1 1]\n"
     ]
    }
   ],
   "source": [
    "a_2d = np.array([[1, 2, 3, 4], [5, 6, 7, 8], [9, 10, 11, 12], [1, 2, 3, 4]])\n",
    "unique_rows, indices, occurrence_count = np.unique(\n",
    "                                            a_2d, axis=0, return_counts=True, return_index=True)\n",
    "print(unique_rows)\n",
    "\n",
    "print(indices) # returns indices of unique rows\n",
    "print(occurrence_count) # returns count of rows"
   ]
  },
  {
   "cell_type": "code",
   "execution_count": 89,
   "id": "lightweight-thomas",
   "metadata": {},
   "outputs": [],
   "source": [
    "# np.flip #reverse an array"
   ]
  },
  {
   "cell_type": "code",
   "execution_count": 91,
   "id": "south-syndicate",
   "metadata": {},
   "outputs": [],
   "source": [
    "# flatten() # data is copied\n",
    "# ravel() # This is view of the original"
   ]
  },
  {
   "cell_type": "code",
   "execution_count": null,
   "id": "filled-wisconsin",
   "metadata": {},
   "outputs": [],
   "source": [
    "# all, any, apply_along_axis, argmax, argmin, argsort, average, bincount, ceil, clip, conj, \n",
    "# corrcoef, cov, cross, cumprod, cumsum, diff, dot, floor, inner, invert, lexsort, max, \n",
    "# maximum, mean, median, min, minimum, nonzero, outer, prod, re, round, sort, std, sum, trace, \n",
    "# transpose, var, vdot, vectorize, where"
   ]
  },
  {
   "cell_type": "code",
   "execution_count": 94,
   "id": "governmental-allen",
   "metadata": {},
   "outputs": [
    {
     "data": {
      "text/plain": [
       "array([[0, 1, 2, 3],\n",
       "       [1, 2, 3, 4],\n",
       "       [2, 3, 4, 5],\n",
       "       [3, 4, 5, 6],\n",
       "       [4, 5, 6, 7]])"
      ]
     },
     "execution_count": 94,
     "metadata": {},
     "output_type": "execute_result"
    }
   ],
   "source": [
    "def func(row,col):\n",
    "    return (row+col)\n",
    "\n",
    "np.fromfunction(func,(5,4),dtype=int)"
   ]
  },
  {
   "cell_type": "code",
   "execution_count": 95,
   "id": "numeric-bookmark",
   "metadata": {},
   "outputs": [],
   "source": [
    "# The dots (...) represent as many colons as needed to produce a complete indexing tuple. For example, if x is an array with 5 axes, then\n",
    "\n",
    "#     x[1,2,...] is equivalent to x[1,2,:,:,:],\n",
    "\n",
    "#     x[...,3] to x[:,:,:,:,3] and\n",
    "\n",
    "#     x[4,...,5,:] to x[4,:,:,5,:].\n"
   ]
  },
  {
   "cell_type": "code",
   "execution_count": 96,
   "id": "permanent-pollution",
   "metadata": {},
   "outputs": [],
   "source": [
    "# Indexing, Indexing (reference), newaxis, ndenumerate, indices\n"
   ]
  },
  {
   "cell_type": "code",
   "execution_count": 99,
   "id": "noticed-tuesday",
   "metadata": {},
   "outputs": [
    {
     "data": {
      "text/plain": [
       "array([[0.55874008, 0.67293368],\n",
       "       [0.9141838 , 0.62341736],\n",
       "       [0.21266514, 0.5824323 ]])"
      ]
     },
     "execution_count": 99,
     "metadata": {},
     "output_type": "execute_result"
    }
   ],
   "source": [
    "a = np.random.rand(2,3)\n",
    "a.reshape(3,2) #not inplace"
   ]
  },
  {
   "cell_type": "code",
   "execution_count": 102,
   "id": "accurate-custom",
   "metadata": {},
   "outputs": [
    {
     "data": {
      "text/plain": [
       "array([[0.46739584, 0.88212774],\n",
       "       [0.58113407, 0.53649547],\n",
       "       [0.50867788, 0.32805752]])"
      ]
     },
     "execution_count": 102,
     "metadata": {},
     "output_type": "execute_result"
    }
   ],
   "source": [
    "a = np.random.rand(2,3)\n",
    "a.resize(3,2) # inplace operation\n",
    "a"
   ]
  },
  {
   "cell_type": "code",
   "execution_count": 103,
   "id": "frank-pitch",
   "metadata": {},
   "outputs": [],
   "source": [
    "# column_stack, row_stack, concatenate, c_, r_\n"
   ]
  },
  {
   "cell_type": "code",
   "execution_count": null,
   "id": "breeding-event",
   "metadata": {},
   "outputs": [],
   "source": [
    "# Array Creation\n",
    "\n",
    "#     arange, array, copy, empty, empty_like, eye, fromfile, fromfunction, identity, linspace, logspace, mgrid, ogrid, ones, ones_like, r_, zeros, zeros_like\n",
    "# Conversions\n",
    "\n",
    "#     ndarray.astype, atleast_1d, atleast_2d, atleast_3d, mat\n",
    "# Manipulations\n",
    "\n",
    "#     array_split, column_stack, concatenate, diagonal, dsplit, dstack, hsplit, hstack, ndarray.item, newaxis, ravel, repeat, reshape, resize, squeeze, swapaxes, take, transpose, vsplit, vstack\n",
    "# Questions\n",
    "\n",
    "#     all, any, nonzero, where\n",
    "# Ordering\n",
    "\n",
    "#     argmax, argmin, argsort, max, min, ptp, searchsorted, sort\n",
    "# Operations\n",
    "\n",
    "#     choose, compress, cumprod, cumsum, inner, ndarray.fill, imag, prod, put, putmask, real, sum\n",
    "    \n",
    "# Basic Statistics\n",
    "\n",
    "#     cov, mean, std, var\n",
    "# Basic Linear Algebra\n",
    "\n",
    "#     cross, dot, outer, linalg.svd, vdot\n"
   ]
  },
  {
   "cell_type": "code",
   "execution_count": null,
   "id": "interesting-delaware",
   "metadata": {},
   "outputs": [],
   "source": [
    "# np.ix_()"
   ]
  },
  {
   "cell_type": "code",
   "execution_count": 104,
   "id": "phantom-convert",
   "metadata": {},
   "outputs": [],
   "source": [
    "# numpy ufunc"
   ]
  },
  {
   "cell_type": "code",
   "execution_count": null,
   "id": "final-diagnosis",
   "metadata": {},
   "outputs": [],
   "source": []
  }
 ],
 "metadata": {
  "kernelspec": {
   "display_name": "Python 3",
   "language": "python",
   "name": "python3"
  },
  "language_info": {
   "codemirror_mode": {
    "name": "ipython",
    "version": 3
   },
   "file_extension": ".py",
   "mimetype": "text/x-python",
   "name": "python",
   "nbconvert_exporter": "python",
   "pygments_lexer": "ipython3",
   "version": "3.7.0"
  }
 },
 "nbformat": 4,
 "nbformat_minor": 5
}
