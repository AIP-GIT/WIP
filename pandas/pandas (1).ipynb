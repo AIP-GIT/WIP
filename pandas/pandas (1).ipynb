{
  "nbformat": 4,
  "nbformat_minor": 0,
  "metadata": {
    "colab": {
      "name": "pandas.ipynb",
      "provenance": [],
      "collapsed_sections": []
    },
    "kernelspec": {
      "name": "python3",
      "display_name": "Python 3"
    },
    "language_info": {
      "name": "python"
    }
  },
  "cells": [
    {
      "cell_type": "code",
      "metadata": {
        "id": "rKIS7UIXNst3"
      },
      "source": [
        "import pandas as pd\n",
        "import numpy as np"
      ],
      "execution_count": null,
      "outputs": []
    },
    {
      "cell_type": "markdown",
      "metadata": {
        "id": "9anq8gZtPoHP"
      },
      "source": [
        "**NumPy arrays have one dtype for the entire array, while pandas DataFrames have one dtype per column**"
      ]
    },
    {
      "cell_type": "markdown",
      "metadata": {
        "id": "w852v_tEPgdu"
      },
      "source": [
        "**series:** The object supports both integer- and label-based indexing and provides a host of methods for performing operations involving the index. "
      ]
    },
    {
      "cell_type": "code",
      "metadata": {
        "colab": {
          "base_uri": "https://localhost:8080/"
        },
        "id": "hOtpHCBDOCcF",
        "outputId": "f76e14d5-dc67-4a41-eb72-f324e56bfd7b"
      },
      "source": [
        "pd.Series((np.arange(1,12)))"
      ],
      "execution_count": null,
      "outputs": [
        {
          "output_type": "execute_result",
          "data": {
            "text/plain": [
              "0      1\n",
              "1      2\n",
              "2      3\n",
              "3      4\n",
              "4      5\n",
              "5      6\n",
              "6      7\n",
              "7      8\n",
              "8      9\n",
              "9     10\n",
              "10    11\n",
              "dtype: int64"
            ]
          },
          "metadata": {
            "tags": []
          },
          "execution_count": 4
        }
      ]
    },
    {
      "cell_type": "markdown",
      "metadata": {
        "id": "5H0QSam6QCp2"
      },
      "source": [
        "**DataFrame:**Two-dimensional, size-mutable, potentially heterogeneous tabular data.\n",
        "\n",
        "Data structure also contains labeled axes (rows and columns). "
      ]
    },
    {
      "cell_type": "code",
      "metadata": {
        "colab": {
          "base_uri": "https://localhost:8080/",
          "height": 142
        },
        "id": "YVXpD4f6OpTf",
        "outputId": "9ca62445-467b-4f4b-ae71-e8087a24ce31"
      },
      "source": [
        "pd.DataFrame(np.arange(12).reshape(3,4))"
      ],
      "execution_count": null,
      "outputs": [
        {
          "output_type": "execute_result",
          "data": {
            "text/html": [
              "<div>\n",
              "<style scoped>\n",
              "    .dataframe tbody tr th:only-of-type {\n",
              "        vertical-align: middle;\n",
              "    }\n",
              "\n",
              "    .dataframe tbody tr th {\n",
              "        vertical-align: top;\n",
              "    }\n",
              "\n",
              "    .dataframe thead th {\n",
              "        text-align: right;\n",
              "    }\n",
              "</style>\n",
              "<table border=\"1\" class=\"dataframe\">\n",
              "  <thead>\n",
              "    <tr style=\"text-align: right;\">\n",
              "      <th></th>\n",
              "      <th>0</th>\n",
              "      <th>1</th>\n",
              "      <th>2</th>\n",
              "      <th>3</th>\n",
              "    </tr>\n",
              "  </thead>\n",
              "  <tbody>\n",
              "    <tr>\n",
              "      <th>0</th>\n",
              "      <td>0</td>\n",
              "      <td>1</td>\n",
              "      <td>2</td>\n",
              "      <td>3</td>\n",
              "    </tr>\n",
              "    <tr>\n",
              "      <th>1</th>\n",
              "      <td>4</td>\n",
              "      <td>5</td>\n",
              "      <td>6</td>\n",
              "      <td>7</td>\n",
              "    </tr>\n",
              "    <tr>\n",
              "      <th>2</th>\n",
              "      <td>8</td>\n",
              "      <td>9</td>\n",
              "      <td>10</td>\n",
              "      <td>11</td>\n",
              "    </tr>\n",
              "  </tbody>\n",
              "</table>\n",
              "</div>"
            ],
            "text/plain": [
              "   0  1   2   3\n",
              "0  0  1   2   3\n",
              "1  4  5   6   7\n",
              "2  8  9  10  11"
            ]
          },
          "metadata": {
            "tags": []
          },
          "execution_count": 5
        }
      ]
    },
    {
      "cell_type": "code",
      "metadata": {
        "colab": {
          "base_uri": "https://localhost:8080/",
          "height": 173
        },
        "id": "hhnkcc0IQQls",
        "outputId": "78dd015e-af54-4c12-ea3c-90c1b88815de"
      },
      "source": [
        "pd.DataFrame(np.arange(12).reshape(4,3),columns= list('ABC')) #gives ABC as columns name"
      ],
      "execution_count": null,
      "outputs": [
        {
          "output_type": "execute_result",
          "data": {
            "text/html": [
              "<div>\n",
              "<style scoped>\n",
              "    .dataframe tbody tr th:only-of-type {\n",
              "        vertical-align: middle;\n",
              "    }\n",
              "\n",
              "    .dataframe tbody tr th {\n",
              "        vertical-align: top;\n",
              "    }\n",
              "\n",
              "    .dataframe thead th {\n",
              "        text-align: right;\n",
              "    }\n",
              "</style>\n",
              "<table border=\"1\" class=\"dataframe\">\n",
              "  <thead>\n",
              "    <tr style=\"text-align: right;\">\n",
              "      <th></th>\n",
              "      <th>A</th>\n",
              "      <th>B</th>\n",
              "      <th>C</th>\n",
              "    </tr>\n",
              "  </thead>\n",
              "  <tbody>\n",
              "    <tr>\n",
              "      <th>0</th>\n",
              "      <td>0</td>\n",
              "      <td>1</td>\n",
              "      <td>2</td>\n",
              "    </tr>\n",
              "    <tr>\n",
              "      <th>1</th>\n",
              "      <td>3</td>\n",
              "      <td>4</td>\n",
              "      <td>5</td>\n",
              "    </tr>\n",
              "    <tr>\n",
              "      <th>2</th>\n",
              "      <td>6</td>\n",
              "      <td>7</td>\n",
              "      <td>8</td>\n",
              "    </tr>\n",
              "    <tr>\n",
              "      <th>3</th>\n",
              "      <td>9</td>\n",
              "      <td>10</td>\n",
              "      <td>11</td>\n",
              "    </tr>\n",
              "  </tbody>\n",
              "</table>\n",
              "</div>"
            ],
            "text/plain": [
              "   A   B   C\n",
              "0  0   1   2\n",
              "1  3   4   5\n",
              "2  6   7   8\n",
              "3  9  10  11"
            ]
          },
          "metadata": {
            "tags": []
          },
          "execution_count": 6
        }
      ]
    },
    {
      "cell_type": "code",
      "metadata": {
        "colab": {
          "base_uri": "https://localhost:8080/",
          "height": 173
        },
        "id": "QO4_Y7fNRpEP",
        "outputId": "ada09746-7915-4ae4-fccc-84a3b3d68466"
      },
      "source": [
        "pd.DataFrame(np.arange(12).reshape(4,3),columns=list('ABC'),index=list('efgh'))# index gives name to the rows."
      ],
      "execution_count": null,
      "outputs": [
        {
          "output_type": "execute_result",
          "data": {
            "text/html": [
              "<div>\n",
              "<style scoped>\n",
              "    .dataframe tbody tr th:only-of-type {\n",
              "        vertical-align: middle;\n",
              "    }\n",
              "\n",
              "    .dataframe tbody tr th {\n",
              "        vertical-align: top;\n",
              "    }\n",
              "\n",
              "    .dataframe thead th {\n",
              "        text-align: right;\n",
              "    }\n",
              "</style>\n",
              "<table border=\"1\" class=\"dataframe\">\n",
              "  <thead>\n",
              "    <tr style=\"text-align: right;\">\n",
              "      <th></th>\n",
              "      <th>A</th>\n",
              "      <th>B</th>\n",
              "      <th>C</th>\n",
              "    </tr>\n",
              "  </thead>\n",
              "  <tbody>\n",
              "    <tr>\n",
              "      <th>e</th>\n",
              "      <td>0</td>\n",
              "      <td>1</td>\n",
              "      <td>2</td>\n",
              "    </tr>\n",
              "    <tr>\n",
              "      <th>f</th>\n",
              "      <td>3</td>\n",
              "      <td>4</td>\n",
              "      <td>5</td>\n",
              "    </tr>\n",
              "    <tr>\n",
              "      <th>g</th>\n",
              "      <td>6</td>\n",
              "      <td>7</td>\n",
              "      <td>8</td>\n",
              "    </tr>\n",
              "    <tr>\n",
              "      <th>h</th>\n",
              "      <td>9</td>\n",
              "      <td>10</td>\n",
              "      <td>11</td>\n",
              "    </tr>\n",
              "  </tbody>\n",
              "</table>\n",
              "</div>"
            ],
            "text/plain": [
              "   A   B   C\n",
              "e  0   1   2\n",
              "f  3   4   5\n",
              "g  6   7   8\n",
              "h  9  10  11"
            ]
          },
          "metadata": {
            "tags": []
          },
          "execution_count": 7
        }
      ]
    },
    {
      "cell_type": "markdown",
      "metadata": {
        "id": "_lj8YNOJTnWP"
      },
      "source": [
        "**date_range**:Return a fixed frequency DatetimeIndex."
      ]
    },
    {
      "cell_type": "code",
      "metadata": {
        "colab": {
          "base_uri": "https://localhost:8080/"
        },
        "id": "JUoYFoLITUAI",
        "outputId": "4f3f44fc-37e1-4909-cf7b-1489a674fda3"
      },
      "source": [
        "pd.date_range(\"20130101\", periods=6) # DatetimeIndex an immutable container for datetimes"
      ],
      "execution_count": null,
      "outputs": [
        {
          "output_type": "execute_result",
          "data": {
            "text/plain": [
              "DatetimeIndex(['2013-01-01', '2013-01-02', '2013-01-03', '2013-01-04',\n",
              "               '2013-01-05', '2013-01-06'],\n",
              "              dtype='datetime64[ns]', freq='D')"
            ]
          },
          "metadata": {
            "tags": []
          },
          "execution_count": 8
        }
      ]
    },
    {
      "cell_type": "markdown",
      "metadata": {
        "id": "LPhiuU0TUe0_"
      },
      "source": [
        "**pd.stamp:**Pandas replacement for python datetime.datetime object.\n",
        "\n",
        "**pd.categorical:**oriCategoricals are a pandas data type that corresponds to the categorical variables in statistics. Such variables take on a fixed and limited number of possible values. For examples – grades, gender, blood group type etc.\n",
        "\n",
        "**foo:** is used as a place-holder name, usually in example code to signify that the object being named, or the choice of name,"
      ]
    },
    {
      "cell_type": "code",
      "metadata": {
        "colab": {
          "base_uri": "https://localhost:8080/",
          "height": 173
        },
        "id": "IHTVZ--6TpXQ",
        "outputId": "ba69fe8a-7240-4963-a804-b09a3e7754d7"
      },
      "source": [
        "df2 = pd.DataFrame(  #df2 is an dataframe obj\n",
        "    {\n",
        "        \"A\": 1.0,\n",
        "        \"B\": pd.Timestamp(\"20130102\"),\n",
        "        \"C\": pd.Series(1, index=list(range(4)), dtype=\"float32\"),\n",
        "        \"D\": np.array([3] * 4, dtype=\"int32\"),\n",
        "        \"E\": pd.Categorical([\"test\", \"train\", \"test\", \"train\"]),\n",
        "        \"F\": \"foo\",\n",
        "        \"G\": pd.Series(np.arange(4))\n",
        "    }\n",
        ")\n",
        "df2"
      ],
      "execution_count": null,
      "outputs": [
        {
          "output_type": "execute_result",
          "data": {
            "text/html": [
              "<div>\n",
              "<style scoped>\n",
              "    .dataframe tbody tr th:only-of-type {\n",
              "        vertical-align: middle;\n",
              "    }\n",
              "\n",
              "    .dataframe tbody tr th {\n",
              "        vertical-align: top;\n",
              "    }\n",
              "\n",
              "    .dataframe thead th {\n",
              "        text-align: right;\n",
              "    }\n",
              "</style>\n",
              "<table border=\"1\" class=\"dataframe\">\n",
              "  <thead>\n",
              "    <tr style=\"text-align: right;\">\n",
              "      <th></th>\n",
              "      <th>A</th>\n",
              "      <th>B</th>\n",
              "      <th>C</th>\n",
              "      <th>D</th>\n",
              "      <th>E</th>\n",
              "      <th>F</th>\n",
              "      <th>G</th>\n",
              "    </tr>\n",
              "  </thead>\n",
              "  <tbody>\n",
              "    <tr>\n",
              "      <th>0</th>\n",
              "      <td>1.0</td>\n",
              "      <td>2013-01-02</td>\n",
              "      <td>1.0</td>\n",
              "      <td>3</td>\n",
              "      <td>test</td>\n",
              "      <td>foo</td>\n",
              "      <td>0</td>\n",
              "    </tr>\n",
              "    <tr>\n",
              "      <th>1</th>\n",
              "      <td>1.0</td>\n",
              "      <td>2013-01-02</td>\n",
              "      <td>1.0</td>\n",
              "      <td>3</td>\n",
              "      <td>train</td>\n",
              "      <td>foo</td>\n",
              "      <td>1</td>\n",
              "    </tr>\n",
              "    <tr>\n",
              "      <th>2</th>\n",
              "      <td>1.0</td>\n",
              "      <td>2013-01-02</td>\n",
              "      <td>1.0</td>\n",
              "      <td>3</td>\n",
              "      <td>test</td>\n",
              "      <td>foo</td>\n",
              "      <td>2</td>\n",
              "    </tr>\n",
              "    <tr>\n",
              "      <th>3</th>\n",
              "      <td>1.0</td>\n",
              "      <td>2013-01-02</td>\n",
              "      <td>1.0</td>\n",
              "      <td>3</td>\n",
              "      <td>train</td>\n",
              "      <td>foo</td>\n",
              "      <td>3</td>\n",
              "    </tr>\n",
              "  </tbody>\n",
              "</table>\n",
              "</div>"
            ],
            "text/plain": [
              "     A          B    C  D      E    F  G\n",
              "0  1.0 2013-01-02  1.0  3   test  foo  0\n",
              "1  1.0 2013-01-02  1.0  3  train  foo  1\n",
              "2  1.0 2013-01-02  1.0  3   test  foo  2\n",
              "3  1.0 2013-01-02  1.0  3  train  foo  3"
            ]
          },
          "metadata": {
            "tags": []
          },
          "execution_count": 9
        }
      ]
    },
    {
      "cell_type": "code",
      "metadata": {
        "colab": {
          "base_uri": "https://localhost:8080/"
        },
        "id": "IEccpZnpXQP2",
        "outputId": "f2b4cc09-2036-4d02-b39f-56520489b3b3"
      },
      "source": [
        "df2.dtypes"
      ],
      "execution_count": null,
      "outputs": [
        {
          "output_type": "execute_result",
          "data": {
            "text/plain": [
              "A           float64\n",
              "B    datetime64[ns]\n",
              "C           float32\n",
              "D             int32\n",
              "E          category\n",
              "F            object\n",
              "G             int64\n",
              "dtype: object"
            ]
          },
          "metadata": {
            "tags": []
          },
          "execution_count": 10
        }
      ]
    },
    {
      "cell_type": "code",
      "metadata": {
        "colab": {
          "base_uri": "https://localhost:8080/",
          "height": 111
        },
        "id": "hovPtBMpXgLz",
        "outputId": "cfa40724-28ee-4237-a1d6-c355ecdd4092"
      },
      "source": [
        "df2.head(2) #Return the first n rows."
      ],
      "execution_count": null,
      "outputs": [
        {
          "output_type": "execute_result",
          "data": {
            "text/html": [
              "<div>\n",
              "<style scoped>\n",
              "    .dataframe tbody tr th:only-of-type {\n",
              "        vertical-align: middle;\n",
              "    }\n",
              "\n",
              "    .dataframe tbody tr th {\n",
              "        vertical-align: top;\n",
              "    }\n",
              "\n",
              "    .dataframe thead th {\n",
              "        text-align: right;\n",
              "    }\n",
              "</style>\n",
              "<table border=\"1\" class=\"dataframe\">\n",
              "  <thead>\n",
              "    <tr style=\"text-align: right;\">\n",
              "      <th></th>\n",
              "      <th>A</th>\n",
              "      <th>B</th>\n",
              "      <th>C</th>\n",
              "      <th>D</th>\n",
              "      <th>E</th>\n",
              "      <th>F</th>\n",
              "      <th>G</th>\n",
              "    </tr>\n",
              "  </thead>\n",
              "  <tbody>\n",
              "    <tr>\n",
              "      <th>0</th>\n",
              "      <td>1.0</td>\n",
              "      <td>2013-01-02</td>\n",
              "      <td>1.0</td>\n",
              "      <td>3</td>\n",
              "      <td>test</td>\n",
              "      <td>foo</td>\n",
              "      <td>0</td>\n",
              "    </tr>\n",
              "    <tr>\n",
              "      <th>1</th>\n",
              "      <td>1.0</td>\n",
              "      <td>2013-01-02</td>\n",
              "      <td>1.0</td>\n",
              "      <td>3</td>\n",
              "      <td>train</td>\n",
              "      <td>foo</td>\n",
              "      <td>1</td>\n",
              "    </tr>\n",
              "  </tbody>\n",
              "</table>\n",
              "</div>"
            ],
            "text/plain": [
              "     A          B    C  D      E    F  G\n",
              "0  1.0 2013-01-02  1.0  3   test  foo  0\n",
              "1  1.0 2013-01-02  1.0  3  train  foo  1"
            ]
          },
          "metadata": {
            "tags": []
          },
          "execution_count": 11
        }
      ]
    },
    {
      "cell_type": "code",
      "metadata": {
        "colab": {
          "base_uri": "https://localhost:8080/",
          "height": 111
        },
        "id": "8z_fddfjXjc9",
        "outputId": "328beb57-b62d-45b7-c285-7ed409ffda0a"
      },
      "source": [
        "df2.tail(2) # Return the last n rows."
      ],
      "execution_count": null,
      "outputs": [
        {
          "output_type": "execute_result",
          "data": {
            "text/html": [
              "<div>\n",
              "<style scoped>\n",
              "    .dataframe tbody tr th:only-of-type {\n",
              "        vertical-align: middle;\n",
              "    }\n",
              "\n",
              "    .dataframe tbody tr th {\n",
              "        vertical-align: top;\n",
              "    }\n",
              "\n",
              "    .dataframe thead th {\n",
              "        text-align: right;\n",
              "    }\n",
              "</style>\n",
              "<table border=\"1\" class=\"dataframe\">\n",
              "  <thead>\n",
              "    <tr style=\"text-align: right;\">\n",
              "      <th></th>\n",
              "      <th>A</th>\n",
              "      <th>B</th>\n",
              "      <th>C</th>\n",
              "      <th>D</th>\n",
              "      <th>E</th>\n",
              "      <th>F</th>\n",
              "      <th>G</th>\n",
              "    </tr>\n",
              "  </thead>\n",
              "  <tbody>\n",
              "    <tr>\n",
              "      <th>2</th>\n",
              "      <td>1.0</td>\n",
              "      <td>2013-01-02</td>\n",
              "      <td>1.0</td>\n",
              "      <td>3</td>\n",
              "      <td>test</td>\n",
              "      <td>foo</td>\n",
              "      <td>2</td>\n",
              "    </tr>\n",
              "    <tr>\n",
              "      <th>3</th>\n",
              "      <td>1.0</td>\n",
              "      <td>2013-01-02</td>\n",
              "      <td>1.0</td>\n",
              "      <td>3</td>\n",
              "      <td>train</td>\n",
              "      <td>foo</td>\n",
              "      <td>3</td>\n",
              "    </tr>\n",
              "  </tbody>\n",
              "</table>\n",
              "</div>"
            ],
            "text/plain": [
              "     A          B    C  D      E    F  G\n",
              "2  1.0 2013-01-02  1.0  3   test  foo  2\n",
              "3  1.0 2013-01-02  1.0  3  train  foo  3"
            ]
          },
          "metadata": {
            "tags": []
          },
          "execution_count": 12
        }
      ]
    },
    {
      "cell_type": "code",
      "metadata": {
        "colab": {
          "base_uri": "https://localhost:8080/"
        },
        "id": "fmqZp7ZUYqcG",
        "outputId": "a54d2648-0c57-410c-ce0c-107f27fa89c5"
      },
      "source": [
        "df2.index #The row labels of the DataFrame."
      ],
      "execution_count": null,
      "outputs": [
        {
          "output_type": "execute_result",
          "data": {
            "text/plain": [
              "Int64Index([0, 1, 2, 3], dtype='int64')"
            ]
          },
          "metadata": {
            "tags": []
          },
          "execution_count": 13
        }
      ]
    },
    {
      "cell_type": "code",
      "metadata": {
        "colab": {
          "base_uri": "https://localhost:8080/"
        },
        "id": "oqUMkxo1Yql0",
        "outputId": "897df88b-8497-402b-b37f-ecceaaa1c027"
      },
      "source": [
        "df2.columns #The column labels of the DataFrame."
      ],
      "execution_count": null,
      "outputs": [
        {
          "output_type": "execute_result",
          "data": {
            "text/plain": [
              "Index(['A', 'B', 'C', 'D', 'E', 'F', 'G'], dtype='object')"
            ]
          },
          "metadata": {
            "tags": []
          },
          "execution_count": 14
        }
      ]
    },
    {
      "cell_type": "code",
      "metadata": {
        "colab": {
          "base_uri": "https://localhost:8080/"
        },
        "id": "6KtCqdhokFYn",
        "outputId": "92a8e44a-5b3a-4876-a375-80e7a54c789c"
      },
      "source": [
        "'''\n",
        "This is expensive\n",
        "'''\n",
        "df2.to_numpy()"
      ],
      "execution_count": null,
      "outputs": [
        {
          "output_type": "execute_result",
          "data": {
            "text/plain": [
              "array([[1.0, Timestamp('2013-01-02 00:00:00'), 1.0, 3, 'test', 'foo', 0],\n",
              "       [1.0, Timestamp('2013-01-02 00:00:00'), 1.0, 3, 'train', 'foo', 1],\n",
              "       [1.0, Timestamp('2013-01-02 00:00:00'), 1.0, 3, 'test', 'foo', 2],\n",
              "       [1.0, Timestamp('2013-01-02 00:00:00'), 1.0, 3, 'train', 'foo', 3]],\n",
              "      dtype=object)"
            ]
          },
          "metadata": {
            "tags": []
          },
          "execution_count": 15
        }
      ]
    },
    {
      "cell_type": "code",
      "metadata": {
        "id": "64XTyqsjkdmA",
        "colab": {
          "base_uri": "https://localhost:8080/",
          "height": 297
        },
        "outputId": "1b9fff67-0461-4087-def7-bde954b1cc96"
      },
      "source": [
        "df2.describe()"
      ],
      "execution_count": null,
      "outputs": [
        {
          "output_type": "execute_result",
          "data": {
            "text/html": [
              "<div>\n",
              "<style scoped>\n",
              "    .dataframe tbody tr th:only-of-type {\n",
              "        vertical-align: middle;\n",
              "    }\n",
              "\n",
              "    .dataframe tbody tr th {\n",
              "        vertical-align: top;\n",
              "    }\n",
              "\n",
              "    .dataframe thead th {\n",
              "        text-align: right;\n",
              "    }\n",
              "</style>\n",
              "<table border=\"1\" class=\"dataframe\">\n",
              "  <thead>\n",
              "    <tr style=\"text-align: right;\">\n",
              "      <th></th>\n",
              "      <th>A</th>\n",
              "      <th>C</th>\n",
              "      <th>D</th>\n",
              "      <th>G</th>\n",
              "    </tr>\n",
              "  </thead>\n",
              "  <tbody>\n",
              "    <tr>\n",
              "      <th>count</th>\n",
              "      <td>4.0</td>\n",
              "      <td>4.0</td>\n",
              "      <td>4.0</td>\n",
              "      <td>4.000000</td>\n",
              "    </tr>\n",
              "    <tr>\n",
              "      <th>mean</th>\n",
              "      <td>1.0</td>\n",
              "      <td>1.0</td>\n",
              "      <td>3.0</td>\n",
              "      <td>1.500000</td>\n",
              "    </tr>\n",
              "    <tr>\n",
              "      <th>std</th>\n",
              "      <td>0.0</td>\n",
              "      <td>0.0</td>\n",
              "      <td>0.0</td>\n",
              "      <td>1.290994</td>\n",
              "    </tr>\n",
              "    <tr>\n",
              "      <th>min</th>\n",
              "      <td>1.0</td>\n",
              "      <td>1.0</td>\n",
              "      <td>3.0</td>\n",
              "      <td>0.000000</td>\n",
              "    </tr>\n",
              "    <tr>\n",
              "      <th>25%</th>\n",
              "      <td>1.0</td>\n",
              "      <td>1.0</td>\n",
              "      <td>3.0</td>\n",
              "      <td>0.750000</td>\n",
              "    </tr>\n",
              "    <tr>\n",
              "      <th>50%</th>\n",
              "      <td>1.0</td>\n",
              "      <td>1.0</td>\n",
              "      <td>3.0</td>\n",
              "      <td>1.500000</td>\n",
              "    </tr>\n",
              "    <tr>\n",
              "      <th>75%</th>\n",
              "      <td>1.0</td>\n",
              "      <td>1.0</td>\n",
              "      <td>3.0</td>\n",
              "      <td>2.250000</td>\n",
              "    </tr>\n",
              "    <tr>\n",
              "      <th>max</th>\n",
              "      <td>1.0</td>\n",
              "      <td>1.0</td>\n",
              "      <td>3.0</td>\n",
              "      <td>3.000000</td>\n",
              "    </tr>\n",
              "  </tbody>\n",
              "</table>\n",
              "</div>"
            ],
            "text/plain": [
              "         A    C    D         G\n",
              "count  4.0  4.0  4.0  4.000000\n",
              "mean   1.0  1.0  3.0  1.500000\n",
              "std    0.0  0.0  0.0  1.290994\n",
              "min    1.0  1.0  3.0  0.000000\n",
              "25%    1.0  1.0  3.0  0.750000\n",
              "50%    1.0  1.0  3.0  1.500000\n",
              "75%    1.0  1.0  3.0  2.250000\n",
              "max    1.0  1.0  3.0  3.000000"
            ]
          },
          "metadata": {
            "tags": []
          },
          "execution_count": 16
        }
      ]
    },
    {
      "cell_type": "code",
      "metadata": {
        "colab": {
          "base_uri": "https://localhost:8080/"
        },
        "id": "IEZq--S9iCxL",
        "outputId": "5d0902de-4fd4-44b2-fa02-ea9016ddcd2b"
      },
      "source": [
        "\n",
        "\n",
        "df2.to_numpy"
      ],
      "execution_count": null,
      "outputs": [
        {
          "output_type": "execute_result",
          "data": {
            "text/plain": [
              "<bound method DataFrame.to_numpy of      A          B    C  D      E    F  G\n",
              "0  1.0 2013-01-02  1.0  3   test  foo  0\n",
              "1  1.0 2013-01-02  1.0  3  train  foo  1\n",
              "2  1.0 2013-01-02  1.0  3   test  foo  2\n",
              "3  1.0 2013-01-02  1.0  3  train  foo  3>"
            ]
          },
          "metadata": {
            "tags": []
          },
          "execution_count": 17
        }
      ]
    },
    {
      "cell_type": "code",
      "metadata": {
        "colab": {
          "base_uri": "https://localhost:8080/",
          "height": 173
        },
        "id": "cGojXV_1s33q",
        "outputId": "c085b805-5611-46df-b626-54029a3f74df"
      },
      "source": [
        "df2.sort_index(axis=0, ascending=False) #Index are sorted with axis=0"
      ],
      "execution_count": null,
      "outputs": [
        {
          "output_type": "execute_result",
          "data": {
            "text/html": [
              "<div>\n",
              "<style scoped>\n",
              "    .dataframe tbody tr th:only-of-type {\n",
              "        vertical-align: middle;\n",
              "    }\n",
              "\n",
              "    .dataframe tbody tr th {\n",
              "        vertical-align: top;\n",
              "    }\n",
              "\n",
              "    .dataframe thead th {\n",
              "        text-align: right;\n",
              "    }\n",
              "</style>\n",
              "<table border=\"1\" class=\"dataframe\">\n",
              "  <thead>\n",
              "    <tr style=\"text-align: right;\">\n",
              "      <th></th>\n",
              "      <th>A</th>\n",
              "      <th>B</th>\n",
              "      <th>C</th>\n",
              "      <th>D</th>\n",
              "      <th>E</th>\n",
              "      <th>F</th>\n",
              "      <th>G</th>\n",
              "    </tr>\n",
              "  </thead>\n",
              "  <tbody>\n",
              "    <tr>\n",
              "      <th>3</th>\n",
              "      <td>1.0</td>\n",
              "      <td>2013-01-02</td>\n",
              "      <td>1.0</td>\n",
              "      <td>3</td>\n",
              "      <td>train</td>\n",
              "      <td>foo</td>\n",
              "      <td>3</td>\n",
              "    </tr>\n",
              "    <tr>\n",
              "      <th>2</th>\n",
              "      <td>1.0</td>\n",
              "      <td>2013-01-02</td>\n",
              "      <td>1.0</td>\n",
              "      <td>3</td>\n",
              "      <td>test</td>\n",
              "      <td>foo</td>\n",
              "      <td>2</td>\n",
              "    </tr>\n",
              "    <tr>\n",
              "      <th>1</th>\n",
              "      <td>1.0</td>\n",
              "      <td>2013-01-02</td>\n",
              "      <td>1.0</td>\n",
              "      <td>3</td>\n",
              "      <td>train</td>\n",
              "      <td>foo</td>\n",
              "      <td>1</td>\n",
              "    </tr>\n",
              "    <tr>\n",
              "      <th>0</th>\n",
              "      <td>1.0</td>\n",
              "      <td>2013-01-02</td>\n",
              "      <td>1.0</td>\n",
              "      <td>3</td>\n",
              "      <td>test</td>\n",
              "      <td>foo</td>\n",
              "      <td>0</td>\n",
              "    </tr>\n",
              "  </tbody>\n",
              "</table>\n",
              "</div>"
            ],
            "text/plain": [
              "     A          B    C  D      E    F  G\n",
              "3  1.0 2013-01-02  1.0  3  train  foo  3\n",
              "2  1.0 2013-01-02  1.0  3   test  foo  2\n",
              "1  1.0 2013-01-02  1.0  3  train  foo  1\n",
              "0  1.0 2013-01-02  1.0  3   test  foo  0"
            ]
          },
          "metadata": {
            "tags": []
          },
          "execution_count": 18
        }
      ]
    },
    {
      "cell_type": "code",
      "metadata": {
        "colab": {
          "base_uri": "https://localhost:8080/",
          "height": 173
        },
        "id": "8j983KqZty77",
        "outputId": "7219175c-5625-4e7d-fb86-364e76504b53"
      },
      "source": [
        "df2.sort_index(axis=1,ascending=False) #columns are sorted with axis=1"
      ],
      "execution_count": null,
      "outputs": [
        {
          "output_type": "execute_result",
          "data": {
            "text/html": [
              "<div>\n",
              "<style scoped>\n",
              "    .dataframe tbody tr th:only-of-type {\n",
              "        vertical-align: middle;\n",
              "    }\n",
              "\n",
              "    .dataframe tbody tr th {\n",
              "        vertical-align: top;\n",
              "    }\n",
              "\n",
              "    .dataframe thead th {\n",
              "        text-align: right;\n",
              "    }\n",
              "</style>\n",
              "<table border=\"1\" class=\"dataframe\">\n",
              "  <thead>\n",
              "    <tr style=\"text-align: right;\">\n",
              "      <th></th>\n",
              "      <th>G</th>\n",
              "      <th>F</th>\n",
              "      <th>E</th>\n",
              "      <th>D</th>\n",
              "      <th>C</th>\n",
              "      <th>B</th>\n",
              "      <th>A</th>\n",
              "    </tr>\n",
              "  </thead>\n",
              "  <tbody>\n",
              "    <tr>\n",
              "      <th>0</th>\n",
              "      <td>0</td>\n",
              "      <td>foo</td>\n",
              "      <td>test</td>\n",
              "      <td>3</td>\n",
              "      <td>1.0</td>\n",
              "      <td>2013-01-02</td>\n",
              "      <td>1.0</td>\n",
              "    </tr>\n",
              "    <tr>\n",
              "      <th>1</th>\n",
              "      <td>1</td>\n",
              "      <td>foo</td>\n",
              "      <td>train</td>\n",
              "      <td>3</td>\n",
              "      <td>1.0</td>\n",
              "      <td>2013-01-02</td>\n",
              "      <td>1.0</td>\n",
              "    </tr>\n",
              "    <tr>\n",
              "      <th>2</th>\n",
              "      <td>2</td>\n",
              "      <td>foo</td>\n",
              "      <td>test</td>\n",
              "      <td>3</td>\n",
              "      <td>1.0</td>\n",
              "      <td>2013-01-02</td>\n",
              "      <td>1.0</td>\n",
              "    </tr>\n",
              "    <tr>\n",
              "      <th>3</th>\n",
              "      <td>3</td>\n",
              "      <td>foo</td>\n",
              "      <td>train</td>\n",
              "      <td>3</td>\n",
              "      <td>1.0</td>\n",
              "      <td>2013-01-02</td>\n",
              "      <td>1.0</td>\n",
              "    </tr>\n",
              "  </tbody>\n",
              "</table>\n",
              "</div>"
            ],
            "text/plain": [
              "   G    F      E  D    C          B    A\n",
              "0  0  foo   test  3  1.0 2013-01-02  1.0\n",
              "1  1  foo  train  3  1.0 2013-01-02  1.0\n",
              "2  2  foo   test  3  1.0 2013-01-02  1.0\n",
              "3  3  foo  train  3  1.0 2013-01-02  1.0"
            ]
          },
          "metadata": {
            "tags": []
          },
          "execution_count": 21
        }
      ]
    },
    {
      "cell_type": "markdown",
      "metadata": {
        "id": "UiGyOao4uWO0"
      },
      "source": [
        "**Selection**"
      ]
    },
    {
      "cell_type": "markdown",
      "metadata": {
        "id": "aQjTZlJdujjh"
      },
      "source": [
        "optimized pandas data access methods, .at, .iat, .loc and .iloc"
      ]
    },
    {
      "cell_type": "code",
      "metadata": {
        "colab": {
          "base_uri": "https://localhost:8080/",
          "height": 111
        },
        "id": "oN3x321HtYvZ",
        "outputId": "487c5913-ffb4-41a5-cae8-1e83f55e0a69"
      },
      "source": [
        "df2[1:3]"
      ],
      "execution_count": null,
      "outputs": [
        {
          "output_type": "execute_result",
          "data": {
            "text/html": [
              "<div>\n",
              "<style scoped>\n",
              "    .dataframe tbody tr th:only-of-type {\n",
              "        vertical-align: middle;\n",
              "    }\n",
              "\n",
              "    .dataframe tbody tr th {\n",
              "        vertical-align: top;\n",
              "    }\n",
              "\n",
              "    .dataframe thead th {\n",
              "        text-align: right;\n",
              "    }\n",
              "</style>\n",
              "<table border=\"1\" class=\"dataframe\">\n",
              "  <thead>\n",
              "    <tr style=\"text-align: right;\">\n",
              "      <th></th>\n",
              "      <th>A</th>\n",
              "      <th>B</th>\n",
              "      <th>C</th>\n",
              "      <th>D</th>\n",
              "      <th>E</th>\n",
              "      <th>F</th>\n",
              "      <th>G</th>\n",
              "    </tr>\n",
              "  </thead>\n",
              "  <tbody>\n",
              "    <tr>\n",
              "      <th>1</th>\n",
              "      <td>1.0</td>\n",
              "      <td>2013-01-02</td>\n",
              "      <td>1.0</td>\n",
              "      <td>3</td>\n",
              "      <td>train</td>\n",
              "      <td>foo</td>\n",
              "      <td>1</td>\n",
              "    </tr>\n",
              "    <tr>\n",
              "      <th>2</th>\n",
              "      <td>1.0</td>\n",
              "      <td>2013-01-02</td>\n",
              "      <td>1.0</td>\n",
              "      <td>3</td>\n",
              "      <td>test</td>\n",
              "      <td>foo</td>\n",
              "      <td>2</td>\n",
              "    </tr>\n",
              "  </tbody>\n",
              "</table>\n",
              "</div>"
            ],
            "text/plain": [
              "     A          B    C  D      E    F  G\n",
              "1  1.0 2013-01-02  1.0  3  train  foo  1\n",
              "2  1.0 2013-01-02  1.0  3   test  foo  2"
            ]
          },
          "metadata": {
            "tags": []
          },
          "execution_count": 22
        }
      ]
    },
    {
      "cell_type": "markdown",
      "metadata": {
        "id": "QuRxz88Evt8g"
      },
      "source": [
        "**.loc** is primarily label based, but may also be used with a boolean array."
      ]
    },
    {
      "cell_type": "code",
      "metadata": {
        "colab": {
          "base_uri": "https://localhost:8080/",
          "height": 142
        },
        "id": "Vr6dSwH3u6TF",
        "outputId": "c47d961c-807d-40f4-e71d-b517895c42ef"
      },
      "source": [
        "df2.loc[[2,0,3]]  #fetching rows via indexes"
      ],
      "execution_count": null,
      "outputs": [
        {
          "output_type": "execute_result",
          "data": {
            "text/html": [
              "<div>\n",
              "<style scoped>\n",
              "    .dataframe tbody tr th:only-of-type {\n",
              "        vertical-align: middle;\n",
              "    }\n",
              "\n",
              "    .dataframe tbody tr th {\n",
              "        vertical-align: top;\n",
              "    }\n",
              "\n",
              "    .dataframe thead th {\n",
              "        text-align: right;\n",
              "    }\n",
              "</style>\n",
              "<table border=\"1\" class=\"dataframe\">\n",
              "  <thead>\n",
              "    <tr style=\"text-align: right;\">\n",
              "      <th></th>\n",
              "      <th>A</th>\n",
              "      <th>B</th>\n",
              "      <th>C</th>\n",
              "      <th>D</th>\n",
              "      <th>E</th>\n",
              "      <th>F</th>\n",
              "      <th>G</th>\n",
              "    </tr>\n",
              "  </thead>\n",
              "  <tbody>\n",
              "    <tr>\n",
              "      <th>2</th>\n",
              "      <td>1.0</td>\n",
              "      <td>2013-01-02</td>\n",
              "      <td>1.0</td>\n",
              "      <td>3</td>\n",
              "      <td>test</td>\n",
              "      <td>foo</td>\n",
              "      <td>2</td>\n",
              "    </tr>\n",
              "    <tr>\n",
              "      <th>0</th>\n",
              "      <td>1.0</td>\n",
              "      <td>2013-01-02</td>\n",
              "      <td>1.0</td>\n",
              "      <td>3</td>\n",
              "      <td>test</td>\n",
              "      <td>foo</td>\n",
              "      <td>0</td>\n",
              "    </tr>\n",
              "    <tr>\n",
              "      <th>3</th>\n",
              "      <td>1.0</td>\n",
              "      <td>2013-01-02</td>\n",
              "      <td>1.0</td>\n",
              "      <td>3</td>\n",
              "      <td>train</td>\n",
              "      <td>foo</td>\n",
              "      <td>3</td>\n",
              "    </tr>\n",
              "  </tbody>\n",
              "</table>\n",
              "</div>"
            ],
            "text/plain": [
              "     A          B    C  D      E    F  G\n",
              "2  1.0 2013-01-02  1.0  3   test  foo  2\n",
              "0  1.0 2013-01-02  1.0  3   test  foo  0\n",
              "3  1.0 2013-01-02  1.0  3  train  foo  3"
            ]
          },
          "metadata": {
            "tags": []
          },
          "execution_count": 23
        }
      ]
    },
    {
      "cell_type": "code",
      "metadata": {
        "colab": {
          "base_uri": "https://localhost:8080/",
          "height": 142
        },
        "id": "EHqjRD1Jv6Sp",
        "outputId": "378e94ae-2650-4e27-c360-d5a1e18e37e8"
      },
      "source": [
        "df2.loc[1:3,[\"C\",\"D\"]]  # fetching rows via index slice and column labels"
      ],
      "execution_count": null,
      "outputs": [
        {
          "output_type": "execute_result",
          "data": {
            "text/html": [
              "<div>\n",
              "<style scoped>\n",
              "    .dataframe tbody tr th:only-of-type {\n",
              "        vertical-align: middle;\n",
              "    }\n",
              "\n",
              "    .dataframe tbody tr th {\n",
              "        vertical-align: top;\n",
              "    }\n",
              "\n",
              "    .dataframe thead th {\n",
              "        text-align: right;\n",
              "    }\n",
              "</style>\n",
              "<table border=\"1\" class=\"dataframe\">\n",
              "  <thead>\n",
              "    <tr style=\"text-align: right;\">\n",
              "      <th></th>\n",
              "      <th>C</th>\n",
              "      <th>D</th>\n",
              "    </tr>\n",
              "  </thead>\n",
              "  <tbody>\n",
              "    <tr>\n",
              "      <th>1</th>\n",
              "      <td>1.0</td>\n",
              "      <td>3</td>\n",
              "    </tr>\n",
              "    <tr>\n",
              "      <th>2</th>\n",
              "      <td>1.0</td>\n",
              "      <td>3</td>\n",
              "    </tr>\n",
              "    <tr>\n",
              "      <th>3</th>\n",
              "      <td>1.0</td>\n",
              "      <td>3</td>\n",
              "    </tr>\n",
              "  </tbody>\n",
              "</table>\n",
              "</div>"
            ],
            "text/plain": [
              "     C  D\n",
              "1  1.0  3\n",
              "2  1.0  3\n",
              "3  1.0  3"
            ]
          },
          "metadata": {
            "tags": []
          },
          "execution_count": 24
        }
      ]
    },
    {
      "cell_type": "markdown",
      "metadata": {
        "id": "hNAC6w1nwqzs"
      },
      "source": [
        "**.iloc** is primarily integer position based (from 0 to length-1 of the axis), but may also be used with a boolean array. "
      ]
    },
    {
      "cell_type": "code",
      "metadata": {
        "colab": {
          "base_uri": "https://localhost:8080/",
          "height": 111
        },
        "id": "Bdn1LNVZwFfu",
        "outputId": "71e9deb9-3b82-4d2f-fe3c-b5e6ecf94cb5"
      },
      "source": [
        "df2.iloc[1:3, 2:5] # fetching rows via index slice and column position slice"
      ],
      "execution_count": null,
      "outputs": [
        {
          "output_type": "execute_result",
          "data": {
            "text/html": [
              "<div>\n",
              "<style scoped>\n",
              "    .dataframe tbody tr th:only-of-type {\n",
              "        vertical-align: middle;\n",
              "    }\n",
              "\n",
              "    .dataframe tbody tr th {\n",
              "        vertical-align: top;\n",
              "    }\n",
              "\n",
              "    .dataframe thead th {\n",
              "        text-align: right;\n",
              "    }\n",
              "</style>\n",
              "<table border=\"1\" class=\"dataframe\">\n",
              "  <thead>\n",
              "    <tr style=\"text-align: right;\">\n",
              "      <th></th>\n",
              "      <th>C</th>\n",
              "      <th>D</th>\n",
              "      <th>E</th>\n",
              "    </tr>\n",
              "  </thead>\n",
              "  <tbody>\n",
              "    <tr>\n",
              "      <th>1</th>\n",
              "      <td>1.0</td>\n",
              "      <td>3</td>\n",
              "      <td>train</td>\n",
              "    </tr>\n",
              "    <tr>\n",
              "      <th>2</th>\n",
              "      <td>1.0</td>\n",
              "      <td>3</td>\n",
              "      <td>test</td>\n",
              "    </tr>\n",
              "  </tbody>\n",
              "</table>\n",
              "</div>"
            ],
            "text/plain": [
              "     C  D      E\n",
              "1  1.0  3  train\n",
              "2  1.0  3   test"
            ]
          },
          "metadata": {
            "tags": []
          },
          "execution_count": 29
        }
      ]
    },
    {
      "cell_type": "code",
      "metadata": {
        "id": "QWDE4TU6w51e"
      },
      "source": [
        ""
      ],
      "execution_count": null,
      "outputs": []
    },
    {
      "cell_type": "code",
      "metadata": {
        "colab": {
          "base_uri": "https://localhost:8080/",
          "height": 142
        },
        "id": "IwG8okWmw6A8",
        "outputId": "fdc6c31e-8eef-4bf7-8e64-2707618ae805"
      },
      "source": [
        "df2.iloc[[1, 2, 3], [0, 2]]"
      ],
      "execution_count": null,
      "outputs": [
        {
          "output_type": "execute_result",
          "data": {
            "text/html": [
              "<div>\n",
              "<style scoped>\n",
              "    .dataframe tbody tr th:only-of-type {\n",
              "        vertical-align: middle;\n",
              "    }\n",
              "\n",
              "    .dataframe tbody tr th {\n",
              "        vertical-align: top;\n",
              "    }\n",
              "\n",
              "    .dataframe thead th {\n",
              "        text-align: right;\n",
              "    }\n",
              "</style>\n",
              "<table border=\"1\" class=\"dataframe\">\n",
              "  <thead>\n",
              "    <tr style=\"text-align: right;\">\n",
              "      <th></th>\n",
              "      <th>A</th>\n",
              "      <th>C</th>\n",
              "    </tr>\n",
              "  </thead>\n",
              "  <tbody>\n",
              "    <tr>\n",
              "      <th>1</th>\n",
              "      <td>1.0</td>\n",
              "      <td>1.0</td>\n",
              "    </tr>\n",
              "    <tr>\n",
              "      <th>2</th>\n",
              "      <td>1.0</td>\n",
              "      <td>1.0</td>\n",
              "    </tr>\n",
              "    <tr>\n",
              "      <th>3</th>\n",
              "      <td>1.0</td>\n",
              "      <td>1.0</td>\n",
              "    </tr>\n",
              "  </tbody>\n",
              "</table>\n",
              "</div>"
            ],
            "text/plain": [
              "     A    C\n",
              "1  1.0  1.0\n",
              "2  1.0  1.0\n",
              "3  1.0  1.0"
            ]
          },
          "metadata": {
            "tags": []
          },
          "execution_count": 30
        }
      ]
    },
    {
      "cell_type": "code",
      "metadata": {
        "colab": {
          "base_uri": "https://localhost:8080/"
        },
        "id": "l0W9ONo6xJ_A",
        "outputId": "5d9ed7dc-28cf-4be4-b1d5-6f1c125adc5b"
      },
      "source": [
        "df2.iloc[1,1]     # for getting values explicitly"
      ],
      "execution_count": null,
      "outputs": [
        {
          "output_type": "execute_result",
          "data": {
            "text/plain": [
              "Timestamp('2013-01-02 00:00:00')"
            ]
          },
          "metadata": {
            "tags": []
          },
          "execution_count": 31
        }
      ]
    },
    {
      "cell_type": "markdown",
      "metadata": {
        "id": "TEnbL5aVxomv"
      },
      "source": [
        "**.iat** method is used to return data in a dataframe at the passed location."
      ]
    },
    {
      "cell_type": "code",
      "metadata": {
        "colab": {
          "base_uri": "https://localhost:8080/"
        },
        "id": "K-UDdKiPxKDI",
        "outputId": "1566b110-8700-4e2f-bbdf-4e0ccb6cd144"
      },
      "source": [
        "df2.iat[1, 1]"
      ],
      "execution_count": null,
      "outputs": [
        {
          "output_type": "execute_result",
          "data": {
            "text/plain": [
              "Timestamp('2013-01-02 00:00:00')"
            ]
          },
          "metadata": {
            "tags": []
          },
          "execution_count": 32
        }
      ]
    },
    {
      "cell_type": "markdown",
      "metadata": {
        "id": "LIwquBalyNzm"
      },
      "source": [
        "**.at**\n",
        "Access a single value for a row/column label pair."
      ]
    },
    {
      "cell_type": "code",
      "metadata": {
        "colab": {
          "base_uri": "https://localhost:8080/"
        },
        "id": "naw3lLd8ySqM",
        "outputId": "7ba027d1-1777-43f5-faf0-2a0aad09251c"
      },
      "source": [
        "df2.at[2, \"C\"]"
      ],
      "execution_count": null,
      "outputs": [
        {
          "output_type": "execute_result",
          "data": {
            "text/plain": [
              "1.0"
            ]
          },
          "metadata": {
            "tags": []
          },
          "execution_count": 33
        }
      ]
    },
    {
      "cell_type": "markdown",
      "metadata": {
        "id": "zt43oXs6yrmD"
      },
      "source": [
        "**Boolean Indexing**"
      ]
    },
    {
      "cell_type": "code",
      "metadata": {
        "colab": {
          "base_uri": "https://localhost:8080/",
          "height": 173
        },
        "id": "Eh6PlqS5ywL8",
        "outputId": "8aad69b0-3cfb-4b05-c3a3-7bce312c1bc8"
      },
      "source": [
        "df2[df2[\"A\"]>0]"
      ],
      "execution_count": null,
      "outputs": [
        {
          "output_type": "execute_result",
          "data": {
            "text/html": [
              "<div>\n",
              "<style scoped>\n",
              "    .dataframe tbody tr th:only-of-type {\n",
              "        vertical-align: middle;\n",
              "    }\n",
              "\n",
              "    .dataframe tbody tr th {\n",
              "        vertical-align: top;\n",
              "    }\n",
              "\n",
              "    .dataframe thead th {\n",
              "        text-align: right;\n",
              "    }\n",
              "</style>\n",
              "<table border=\"1\" class=\"dataframe\">\n",
              "  <thead>\n",
              "    <tr style=\"text-align: right;\">\n",
              "      <th></th>\n",
              "      <th>A</th>\n",
              "      <th>B</th>\n",
              "      <th>C</th>\n",
              "      <th>D</th>\n",
              "      <th>E</th>\n",
              "      <th>F</th>\n",
              "      <th>G</th>\n",
              "    </tr>\n",
              "  </thead>\n",
              "  <tbody>\n",
              "    <tr>\n",
              "      <th>0</th>\n",
              "      <td>1.0</td>\n",
              "      <td>2013-01-02</td>\n",
              "      <td>1.0</td>\n",
              "      <td>3</td>\n",
              "      <td>test</td>\n",
              "      <td>foo</td>\n",
              "      <td>0</td>\n",
              "    </tr>\n",
              "    <tr>\n",
              "      <th>1</th>\n",
              "      <td>1.0</td>\n",
              "      <td>2013-01-02</td>\n",
              "      <td>1.0</td>\n",
              "      <td>3</td>\n",
              "      <td>train</td>\n",
              "      <td>foo</td>\n",
              "      <td>1</td>\n",
              "    </tr>\n",
              "    <tr>\n",
              "      <th>2</th>\n",
              "      <td>1.0</td>\n",
              "      <td>2013-01-02</td>\n",
              "      <td>1.0</td>\n",
              "      <td>3</td>\n",
              "      <td>test</td>\n",
              "      <td>foo</td>\n",
              "      <td>2</td>\n",
              "    </tr>\n",
              "    <tr>\n",
              "      <th>3</th>\n",
              "      <td>1.0</td>\n",
              "      <td>2013-01-02</td>\n",
              "      <td>1.0</td>\n",
              "      <td>3</td>\n",
              "      <td>train</td>\n",
              "      <td>foo</td>\n",
              "      <td>3</td>\n",
              "    </tr>\n",
              "  </tbody>\n",
              "</table>\n",
              "</div>"
            ],
            "text/plain": [
              "     A          B    C  D      E    F  G\n",
              "0  1.0 2013-01-02  1.0  3   test  foo  0\n",
              "1  1.0 2013-01-02  1.0  3  train  foo  1\n",
              "2  1.0 2013-01-02  1.0  3   test  foo  2\n",
              "3  1.0 2013-01-02  1.0  3  train  foo  3"
            ]
          },
          "metadata": {
            "tags": []
          },
          "execution_count": 35
        }
      ]
    },
    {
      "cell_type": "code",
      "metadata": {
        "colab": {
          "base_uri": "https://localhost:8080/",
          "height": 173
        },
        "id": "LbLWsj44zHMi",
        "outputId": "8643b81d-facd-4a68-dd04-2d75299a5c02"
      },
      "source": [
        "df2[df2[[\"A\",\"C\"]]>0.0]     # Selecting values from a DF where a boolean condition is met"
      ],
      "execution_count": null,
      "outputs": [
        {
          "output_type": "execute_result",
          "data": {
            "text/html": [
              "<div>\n",
              "<style scoped>\n",
              "    .dataframe tbody tr th:only-of-type {\n",
              "        vertical-align: middle;\n",
              "    }\n",
              "\n",
              "    .dataframe tbody tr th {\n",
              "        vertical-align: top;\n",
              "    }\n",
              "\n",
              "    .dataframe thead th {\n",
              "        text-align: right;\n",
              "    }\n",
              "</style>\n",
              "<table border=\"1\" class=\"dataframe\">\n",
              "  <thead>\n",
              "    <tr style=\"text-align: right;\">\n",
              "      <th></th>\n",
              "      <th>A</th>\n",
              "      <th>B</th>\n",
              "      <th>C</th>\n",
              "      <th>D</th>\n",
              "      <th>E</th>\n",
              "      <th>F</th>\n",
              "      <th>G</th>\n",
              "    </tr>\n",
              "  </thead>\n",
              "  <tbody>\n",
              "    <tr>\n",
              "      <th>0</th>\n",
              "      <td>1.0</td>\n",
              "      <td>NaT</td>\n",
              "      <td>1.0</td>\n",
              "      <td>NaN</td>\n",
              "      <td>NaN</td>\n",
              "      <td>NaN</td>\n",
              "      <td>NaN</td>\n",
              "    </tr>\n",
              "    <tr>\n",
              "      <th>1</th>\n",
              "      <td>1.0</td>\n",
              "      <td>NaT</td>\n",
              "      <td>1.0</td>\n",
              "      <td>NaN</td>\n",
              "      <td>NaN</td>\n",
              "      <td>NaN</td>\n",
              "      <td>NaN</td>\n",
              "    </tr>\n",
              "    <tr>\n",
              "      <th>2</th>\n",
              "      <td>1.0</td>\n",
              "      <td>NaT</td>\n",
              "      <td>1.0</td>\n",
              "      <td>NaN</td>\n",
              "      <td>NaN</td>\n",
              "      <td>NaN</td>\n",
              "      <td>NaN</td>\n",
              "    </tr>\n",
              "    <tr>\n",
              "      <th>3</th>\n",
              "      <td>1.0</td>\n",
              "      <td>NaT</td>\n",
              "      <td>1.0</td>\n",
              "      <td>NaN</td>\n",
              "      <td>NaN</td>\n",
              "      <td>NaN</td>\n",
              "      <td>NaN</td>\n",
              "    </tr>\n",
              "  </tbody>\n",
              "</table>\n",
              "</div>"
            ],
            "text/plain": [
              "     A   B    C   D    E    F   G\n",
              "0  1.0 NaT  1.0 NaN  NaN  NaN NaN\n",
              "1  1.0 NaT  1.0 NaN  NaN  NaN NaN\n",
              "2  1.0 NaT  1.0 NaN  NaN  NaN NaN\n",
              "3  1.0 NaT  1.0 NaN  NaN  NaN NaN"
            ]
          },
          "metadata": {
            "tags": []
          },
          "execution_count": 36
        }
      ]
    },
    {
      "cell_type": "code",
      "metadata": {
        "colab": {
          "base_uri": "https://localhost:8080/",
          "height": 220
        },
        "id": "Cgw-9xZO1DSS",
        "outputId": "e3eb3275-0382-4aa3-8e88-1fcdbce0a03e"
      },
      "source": [
        "df = pd.DataFrame(np.random.randn(6,4),columns=list(\"ABCD\"))\n",
        "df[\"E\"] = list(\"ABABCB\")\n",
        "df"
      ],
      "execution_count": null,
      "outputs": [
        {
          "output_type": "execute_result",
          "data": {
            "text/html": [
              "<div>\n",
              "<style scoped>\n",
              "    .dataframe tbody tr th:only-of-type {\n",
              "        vertical-align: middle;\n",
              "    }\n",
              "\n",
              "    .dataframe tbody tr th {\n",
              "        vertical-align: top;\n",
              "    }\n",
              "\n",
              "    .dataframe thead th {\n",
              "        text-align: right;\n",
              "    }\n",
              "</style>\n",
              "<table border=\"1\" class=\"dataframe\">\n",
              "  <thead>\n",
              "    <tr style=\"text-align: right;\">\n",
              "      <th></th>\n",
              "      <th>A</th>\n",
              "      <th>B</th>\n",
              "      <th>C</th>\n",
              "      <th>D</th>\n",
              "      <th>E</th>\n",
              "    </tr>\n",
              "  </thead>\n",
              "  <tbody>\n",
              "    <tr>\n",
              "      <th>0</th>\n",
              "      <td>0.175241</td>\n",
              "      <td>-1.495411</td>\n",
              "      <td>-0.529236</td>\n",
              "      <td>0.366047</td>\n",
              "      <td>A</td>\n",
              "    </tr>\n",
              "    <tr>\n",
              "      <th>1</th>\n",
              "      <td>0.420534</td>\n",
              "      <td>1.497993</td>\n",
              "      <td>-2.057450</td>\n",
              "      <td>-0.901799</td>\n",
              "      <td>B</td>\n",
              "    </tr>\n",
              "    <tr>\n",
              "      <th>2</th>\n",
              "      <td>-0.116838</td>\n",
              "      <td>0.288017</td>\n",
              "      <td>0.361347</td>\n",
              "      <td>-1.459866</td>\n",
              "      <td>A</td>\n",
              "    </tr>\n",
              "    <tr>\n",
              "      <th>3</th>\n",
              "      <td>0.054767</td>\n",
              "      <td>-0.661701</td>\n",
              "      <td>0.755080</td>\n",
              "      <td>1.063681</td>\n",
              "      <td>B</td>\n",
              "    </tr>\n",
              "    <tr>\n",
              "      <th>4</th>\n",
              "      <td>0.546828</td>\n",
              "      <td>-0.131664</td>\n",
              "      <td>0.231393</td>\n",
              "      <td>0.585213</td>\n",
              "      <td>C</td>\n",
              "    </tr>\n",
              "    <tr>\n",
              "      <th>5</th>\n",
              "      <td>0.811476</td>\n",
              "      <td>-1.406404</td>\n",
              "      <td>0.753434</td>\n",
              "      <td>0.992653</td>\n",
              "      <td>B</td>\n",
              "    </tr>\n",
              "  </tbody>\n",
              "</table>\n",
              "</div>"
            ],
            "text/plain": [
              "          A         B         C         D  E\n",
              "0  0.175241 -1.495411 -0.529236  0.366047  A\n",
              "1  0.420534  1.497993 -2.057450 -0.901799  B\n",
              "2 -0.116838  0.288017  0.361347 -1.459866  A\n",
              "3  0.054767 -0.661701  0.755080  1.063681  B\n",
              "4  0.546828 -0.131664  0.231393  0.585213  C\n",
              "5  0.811476 -1.406404  0.753434  0.992653  B"
            ]
          },
          "metadata": {
            "tags": []
          },
          "execution_count": 38
        }
      ]
    },
    {
      "cell_type": "markdown",
      "metadata": {
        "id": "-kBDnOIe1l2d"
      },
      "source": [
        "**.isin** Whether each element in the DataFrame is contained in values."
      ]
    },
    {
      "cell_type": "code",
      "metadata": {
        "colab": {
          "base_uri": "https://localhost:8080/",
          "height": 133
        },
        "id": "EitdQbGi1h7r",
        "outputId": "5f517c98-4c4a-477f-c732-7fa60aaf98ad"
      },
      "source": [
        "df[df[\"E\"].isin([\"A\",\"C\"])]        # isin for filtering in pandas"
      ],
      "execution_count": null,
      "outputs": [
        {
          "output_type": "execute_result",
          "data": {
            "text/html": [
              "<div>\n",
              "<style scoped>\n",
              "    .dataframe tbody tr th:only-of-type {\n",
              "        vertical-align: middle;\n",
              "    }\n",
              "\n",
              "    .dataframe tbody tr th {\n",
              "        vertical-align: top;\n",
              "    }\n",
              "\n",
              "    .dataframe thead th {\n",
              "        text-align: right;\n",
              "    }\n",
              "</style>\n",
              "<table border=\"1\" class=\"dataframe\">\n",
              "  <thead>\n",
              "    <tr style=\"text-align: right;\">\n",
              "      <th></th>\n",
              "      <th>A</th>\n",
              "      <th>B</th>\n",
              "      <th>C</th>\n",
              "      <th>D</th>\n",
              "      <th>E</th>\n",
              "    </tr>\n",
              "  </thead>\n",
              "  <tbody>\n",
              "    <tr>\n",
              "      <th>0</th>\n",
              "      <td>0.175241</td>\n",
              "      <td>-1.495411</td>\n",
              "      <td>-0.529236</td>\n",
              "      <td>0.366047</td>\n",
              "      <td>A</td>\n",
              "    </tr>\n",
              "    <tr>\n",
              "      <th>2</th>\n",
              "      <td>-0.116838</td>\n",
              "      <td>0.288017</td>\n",
              "      <td>0.361347</td>\n",
              "      <td>-1.459866</td>\n",
              "      <td>A</td>\n",
              "    </tr>\n",
              "    <tr>\n",
              "      <th>4</th>\n",
              "      <td>0.546828</td>\n",
              "      <td>-0.131664</td>\n",
              "      <td>0.231393</td>\n",
              "      <td>0.585213</td>\n",
              "      <td>C</td>\n",
              "    </tr>\n",
              "  </tbody>\n",
              "</table>\n",
              "</div>"
            ],
            "text/plain": [
              "          A         B         C         D  E\n",
              "0  0.175241 -1.495411 -0.529236  0.366047  A\n",
              "2 -0.116838  0.288017  0.361347 -1.459866  A\n",
              "4  0.546828 -0.131664  0.231393  0.585213  C"
            ]
          },
          "metadata": {
            "tags": []
          },
          "execution_count": 39
        }
      ]
    },
    {
      "cell_type": "markdown",
      "metadata": {
        "id": "SjDb4QbJ2ntR"
      },
      "source": [
        "**Setting data**"
      ]
    },
    {
      "cell_type": "code",
      "metadata": {
        "id": "FnUIO_pj2x1_"
      },
      "source": [
        "dates = pd.date_range(\"20130101\", periods=6)\n",
        "df = pd.DataFrame(np.random.randn(6, 4), index=dates, columns=list(\"ABCD\"))\n",
        "\n",
        "df2 = pd.DataFrame(\n",
        "    {\n",
        "        \"A\": 1.0,\n",
        "        \"B\": pd.Timestamp(\"20130102\"),\n",
        "        \"C\": pd.Series(1, index=list(range(4)), dtype=\"float32\"),\n",
        "        \"D\": np.array([3] * 4, dtype=\"int32\"),\n",
        "        \"E\": pd.Categorical([\"test\", \"train\", \"test\", \"train\"]),\n",
        "        \"F\": \"foo\",\n",
        "    }\n",
        ")"
      ],
      "execution_count": null,
      "outputs": []
    },
    {
      "cell_type": "code",
      "metadata": {
        "colab": {
          "base_uri": "https://localhost:8080/",
          "height": 167
        },
        "id": "Cg9Q17vZ2_Tf",
        "outputId": "9b5ca986-29cb-44ea-bffb-f22beaa9a2b4"
      },
      "source": [
        "df1 = df.reindex(index=dates[0:4], columns=list(df.columns) + [\"E\"])\n",
        "df1"
      ],
      "execution_count": null,
      "outputs": [
        {
          "output_type": "execute_result",
          "data": {
            "text/html": [
              "<div>\n",
              "<style scoped>\n",
              "    .dataframe tbody tr th:only-of-type {\n",
              "        vertical-align: middle;\n",
              "    }\n",
              "\n",
              "    .dataframe tbody tr th {\n",
              "        vertical-align: top;\n",
              "    }\n",
              "\n",
              "    .dataframe thead th {\n",
              "        text-align: right;\n",
              "    }\n",
              "</style>\n",
              "<table border=\"1\" class=\"dataframe\">\n",
              "  <thead>\n",
              "    <tr style=\"text-align: right;\">\n",
              "      <th></th>\n",
              "      <th>A</th>\n",
              "      <th>B</th>\n",
              "      <th>C</th>\n",
              "      <th>D</th>\n",
              "      <th>E</th>\n",
              "    </tr>\n",
              "  </thead>\n",
              "  <tbody>\n",
              "    <tr>\n",
              "      <th>2013-01-01</th>\n",
              "      <td>-0.549379</td>\n",
              "      <td>-0.259074</td>\n",
              "      <td>0.229716</td>\n",
              "      <td>-1.493230</td>\n",
              "      <td>NaN</td>\n",
              "    </tr>\n",
              "    <tr>\n",
              "      <th>2013-01-02</th>\n",
              "      <td>-1.895075</td>\n",
              "      <td>-1.319006</td>\n",
              "      <td>-1.285316</td>\n",
              "      <td>1.086855</td>\n",
              "      <td>NaN</td>\n",
              "    </tr>\n",
              "    <tr>\n",
              "      <th>2013-01-03</th>\n",
              "      <td>-0.863804</td>\n",
              "      <td>1.115733</td>\n",
              "      <td>-0.583203</td>\n",
              "      <td>0.681543</td>\n",
              "      <td>NaN</td>\n",
              "    </tr>\n",
              "    <tr>\n",
              "      <th>2013-01-04</th>\n",
              "      <td>1.633227</td>\n",
              "      <td>0.973444</td>\n",
              "      <td>0.183210</td>\n",
              "      <td>0.831522</td>\n",
              "      <td>NaN</td>\n",
              "    </tr>\n",
              "  </tbody>\n",
              "</table>\n",
              "</div>"
            ],
            "text/plain": [
              "                   A         B         C         D   E\n",
              "2013-01-01 -0.549379 -0.259074  0.229716 -1.493230 NaN\n",
              "2013-01-02 -1.895075 -1.319006 -1.285316  1.086855 NaN\n",
              "2013-01-03 -0.863804  1.115733 -0.583203  0.681543 NaN\n",
              "2013-01-04  1.633227  0.973444  0.183210  0.831522 NaN"
            ]
          },
          "metadata": {
            "tags": []
          },
          "execution_count": 42
        }
      ]
    },
    {
      "cell_type": "code",
      "metadata": {
        "colab": {
          "base_uri": "https://localhost:8080/",
          "height": 167
        },
        "id": "aDjAYCZX3bnw",
        "outputId": "fa4c51b8-d8d1-4159-dd97-4afc5cf04466"
      },
      "source": [
        "df1.loc[dates[0] : dates[1], \"E\"] = 1\n",
        "df1"
      ],
      "execution_count": null,
      "outputs": [
        {
          "output_type": "execute_result",
          "data": {
            "text/html": [
              "<div>\n",
              "<style scoped>\n",
              "    .dataframe tbody tr th:only-of-type {\n",
              "        vertical-align: middle;\n",
              "    }\n",
              "\n",
              "    .dataframe tbody tr th {\n",
              "        vertical-align: top;\n",
              "    }\n",
              "\n",
              "    .dataframe thead th {\n",
              "        text-align: right;\n",
              "    }\n",
              "</style>\n",
              "<table border=\"1\" class=\"dataframe\">\n",
              "  <thead>\n",
              "    <tr style=\"text-align: right;\">\n",
              "      <th></th>\n",
              "      <th>A</th>\n",
              "      <th>B</th>\n",
              "      <th>C</th>\n",
              "      <th>D</th>\n",
              "      <th>E</th>\n",
              "    </tr>\n",
              "  </thead>\n",
              "  <tbody>\n",
              "    <tr>\n",
              "      <th>2013-01-01</th>\n",
              "      <td>-0.549379</td>\n",
              "      <td>-0.259074</td>\n",
              "      <td>0.229716</td>\n",
              "      <td>-1.493230</td>\n",
              "      <td>1.0</td>\n",
              "    </tr>\n",
              "    <tr>\n",
              "      <th>2013-01-02</th>\n",
              "      <td>-1.895075</td>\n",
              "      <td>-1.319006</td>\n",
              "      <td>-1.285316</td>\n",
              "      <td>1.086855</td>\n",
              "      <td>1.0</td>\n",
              "    </tr>\n",
              "    <tr>\n",
              "      <th>2013-01-03</th>\n",
              "      <td>-0.863804</td>\n",
              "      <td>1.115733</td>\n",
              "      <td>-0.583203</td>\n",
              "      <td>0.681543</td>\n",
              "      <td>NaN</td>\n",
              "    </tr>\n",
              "    <tr>\n",
              "      <th>2013-01-04</th>\n",
              "      <td>1.633227</td>\n",
              "      <td>0.973444</td>\n",
              "      <td>0.183210</td>\n",
              "      <td>0.831522</td>\n",
              "      <td>NaN</td>\n",
              "    </tr>\n",
              "  </tbody>\n",
              "</table>\n",
              "</div>"
            ],
            "text/plain": [
              "                   A         B         C         D    E\n",
              "2013-01-01 -0.549379 -0.259074  0.229716 -1.493230  1.0\n",
              "2013-01-02 -1.895075 -1.319006 -1.285316  1.086855  1.0\n",
              "2013-01-03 -0.863804  1.115733 -0.583203  0.681543  NaN\n",
              "2013-01-04  1.633227  0.973444  0.183210  0.831522  NaN"
            ]
          },
          "metadata": {
            "tags": []
          },
          "execution_count": 43
        }
      ]
    },
    {
      "cell_type": "markdown",
      "metadata": {
        "id": "QzRVBhW24_r5"
      },
      "source": [
        "**.dropna** Remove missing values."
      ]
    },
    {
      "cell_type": "code",
      "metadata": {
        "colab": {
          "base_uri": "https://localhost:8080/",
          "height": 107
        },
        "id": "7Qa11fSW4US3",
        "outputId": "9a174304-96b7-473e-c88a-729ec25e061a"
      },
      "source": [
        "df1.dropna(how=\"any\")"
      ],
      "execution_count": null,
      "outputs": [
        {
          "output_type": "execute_result",
          "data": {
            "text/html": [
              "<div>\n",
              "<style scoped>\n",
              "    .dataframe tbody tr th:only-of-type {\n",
              "        vertical-align: middle;\n",
              "    }\n",
              "\n",
              "    .dataframe tbody tr th {\n",
              "        vertical-align: top;\n",
              "    }\n",
              "\n",
              "    .dataframe thead th {\n",
              "        text-align: right;\n",
              "    }\n",
              "</style>\n",
              "<table border=\"1\" class=\"dataframe\">\n",
              "  <thead>\n",
              "    <tr style=\"text-align: right;\">\n",
              "      <th></th>\n",
              "      <th>A</th>\n",
              "      <th>B</th>\n",
              "      <th>C</th>\n",
              "      <th>D</th>\n",
              "      <th>E</th>\n",
              "    </tr>\n",
              "  </thead>\n",
              "  <tbody>\n",
              "    <tr>\n",
              "      <th>2013-01-01</th>\n",
              "      <td>-0.549379</td>\n",
              "      <td>-0.259074</td>\n",
              "      <td>0.229716</td>\n",
              "      <td>-1.493230</td>\n",
              "      <td>1.0</td>\n",
              "    </tr>\n",
              "    <tr>\n",
              "      <th>2013-01-02</th>\n",
              "      <td>-1.895075</td>\n",
              "      <td>-1.319006</td>\n",
              "      <td>-1.285316</td>\n",
              "      <td>1.086855</td>\n",
              "      <td>1.0</td>\n",
              "    </tr>\n",
              "  </tbody>\n",
              "</table>\n",
              "</div>"
            ],
            "text/plain": [
              "                   A         B         C         D    E\n",
              "2013-01-01 -0.549379 -0.259074  0.229716 -1.493230  1.0\n",
              "2013-01-02 -1.895075 -1.319006 -1.285316  1.086855  1.0"
            ]
          },
          "metadata": {
            "tags": []
          },
          "execution_count": 44
        }
      ]
    },
    {
      "cell_type": "markdown",
      "metadata": {
        "id": "1cttELnu5tj_"
      },
      "source": [
        "**.fillna** Fill NA/NaN values using the specified method."
      ]
    },
    {
      "cell_type": "code",
      "metadata": {
        "colab": {
          "base_uri": "https://localhost:8080/",
          "height": 167
        },
        "id": "cC7eFGpr4mk9",
        "outputId": "bc985df1-8915-4dfd-aa91-da3562469434"
      },
      "source": [
        "df1.fillna(value=5)"
      ],
      "execution_count": null,
      "outputs": [
        {
          "output_type": "execute_result",
          "data": {
            "text/html": [
              "<div>\n",
              "<style scoped>\n",
              "    .dataframe tbody tr th:only-of-type {\n",
              "        vertical-align: middle;\n",
              "    }\n",
              "\n",
              "    .dataframe tbody tr th {\n",
              "        vertical-align: top;\n",
              "    }\n",
              "\n",
              "    .dataframe thead th {\n",
              "        text-align: right;\n",
              "    }\n",
              "</style>\n",
              "<table border=\"1\" class=\"dataframe\">\n",
              "  <thead>\n",
              "    <tr style=\"text-align: right;\">\n",
              "      <th></th>\n",
              "      <th>A</th>\n",
              "      <th>B</th>\n",
              "      <th>C</th>\n",
              "      <th>D</th>\n",
              "      <th>E</th>\n",
              "    </tr>\n",
              "  </thead>\n",
              "  <tbody>\n",
              "    <tr>\n",
              "      <th>2013-01-01</th>\n",
              "      <td>-0.549379</td>\n",
              "      <td>-0.259074</td>\n",
              "      <td>0.229716</td>\n",
              "      <td>-1.493230</td>\n",
              "      <td>1.0</td>\n",
              "    </tr>\n",
              "    <tr>\n",
              "      <th>2013-01-02</th>\n",
              "      <td>-1.895075</td>\n",
              "      <td>-1.319006</td>\n",
              "      <td>-1.285316</td>\n",
              "      <td>1.086855</td>\n",
              "      <td>1.0</td>\n",
              "    </tr>\n",
              "    <tr>\n",
              "      <th>2013-01-03</th>\n",
              "      <td>-0.863804</td>\n",
              "      <td>1.115733</td>\n",
              "      <td>-0.583203</td>\n",
              "      <td>0.681543</td>\n",
              "      <td>5.0</td>\n",
              "    </tr>\n",
              "    <tr>\n",
              "      <th>2013-01-04</th>\n",
              "      <td>1.633227</td>\n",
              "      <td>0.973444</td>\n",
              "      <td>0.183210</td>\n",
              "      <td>0.831522</td>\n",
              "      <td>5.0</td>\n",
              "    </tr>\n",
              "  </tbody>\n",
              "</table>\n",
              "</div>"
            ],
            "text/plain": [
              "                   A         B         C         D    E\n",
              "2013-01-01 -0.549379 -0.259074  0.229716 -1.493230  1.0\n",
              "2013-01-02 -1.895075 -1.319006 -1.285316  1.086855  1.0\n",
              "2013-01-03 -0.863804  1.115733 -0.583203  0.681543  5.0\n",
              "2013-01-04  1.633227  0.973444  0.183210  0.831522  5.0"
            ]
          },
          "metadata": {
            "tags": []
          },
          "execution_count": 45
        }
      ]
    },
    {
      "cell_type": "markdown",
      "metadata": {
        "id": "zxIXfhfJ55KB"
      },
      "source": [
        "**.isna** Detect missing values for an array-like object"
      ]
    },
    {
      "cell_type": "code",
      "metadata": {
        "colab": {
          "base_uri": "https://localhost:8080/",
          "height": 167
        },
        "id": "XOeDK9yA45VR",
        "outputId": "2bb4df2e-aec8-4207-875b-6d472c8f8742"
      },
      "source": [
        "pd.isna(df1)"
      ],
      "execution_count": null,
      "outputs": [
        {
          "output_type": "execute_result",
          "data": {
            "text/html": [
              "<div>\n",
              "<style scoped>\n",
              "    .dataframe tbody tr th:only-of-type {\n",
              "        vertical-align: middle;\n",
              "    }\n",
              "\n",
              "    .dataframe tbody tr th {\n",
              "        vertical-align: top;\n",
              "    }\n",
              "\n",
              "    .dataframe thead th {\n",
              "        text-align: right;\n",
              "    }\n",
              "</style>\n",
              "<table border=\"1\" class=\"dataframe\">\n",
              "  <thead>\n",
              "    <tr style=\"text-align: right;\">\n",
              "      <th></th>\n",
              "      <th>A</th>\n",
              "      <th>B</th>\n",
              "      <th>C</th>\n",
              "      <th>D</th>\n",
              "      <th>E</th>\n",
              "    </tr>\n",
              "  </thead>\n",
              "  <tbody>\n",
              "    <tr>\n",
              "      <th>2013-01-01</th>\n",
              "      <td>False</td>\n",
              "      <td>False</td>\n",
              "      <td>False</td>\n",
              "      <td>False</td>\n",
              "      <td>False</td>\n",
              "    </tr>\n",
              "    <tr>\n",
              "      <th>2013-01-02</th>\n",
              "      <td>False</td>\n",
              "      <td>False</td>\n",
              "      <td>False</td>\n",
              "      <td>False</td>\n",
              "      <td>False</td>\n",
              "    </tr>\n",
              "    <tr>\n",
              "      <th>2013-01-03</th>\n",
              "      <td>False</td>\n",
              "      <td>False</td>\n",
              "      <td>False</td>\n",
              "      <td>False</td>\n",
              "      <td>True</td>\n",
              "    </tr>\n",
              "    <tr>\n",
              "      <th>2013-01-04</th>\n",
              "      <td>False</td>\n",
              "      <td>False</td>\n",
              "      <td>False</td>\n",
              "      <td>False</td>\n",
              "      <td>True</td>\n",
              "    </tr>\n",
              "  </tbody>\n",
              "</table>\n",
              "</div>"
            ],
            "text/plain": [
              "                A      B      C      D      E\n",
              "2013-01-01  False  False  False  False  False\n",
              "2013-01-02  False  False  False  False  False\n",
              "2013-01-03  False  False  False  False   True\n",
              "2013-01-04  False  False  False  False   True"
            ]
          },
          "metadata": {
            "tags": []
          },
          "execution_count": 46
        }
      ]
    },
    {
      "cell_type": "markdown",
      "metadata": {
        "id": "sReghlCi3-MB"
      },
      "source": [
        "**Operations**"
      ]
    },
    {
      "cell_type": "code",
      "metadata": {
        "colab": {
          "base_uri": "https://localhost:8080/",
          "height": 173
        },
        "id": "2ToC6HOd4BVa",
        "outputId": "1986311a-1082-4dc3-8f29-fa0263762522"
      },
      "source": [
        "df = pd.DataFrame(np.random.randint(low=1, high=10, size=(4,6)),columns=list(\"ABCDEF\"))\n",
        "df"
      ],
      "execution_count": null,
      "outputs": [
        {
          "output_type": "execute_result",
          "data": {
            "text/html": [
              "<div>\n",
              "<style scoped>\n",
              "    .dataframe tbody tr th:only-of-type {\n",
              "        vertical-align: middle;\n",
              "    }\n",
              "\n",
              "    .dataframe tbody tr th {\n",
              "        vertical-align: top;\n",
              "    }\n",
              "\n",
              "    .dataframe thead th {\n",
              "        text-align: right;\n",
              "    }\n",
              "</style>\n",
              "<table border=\"1\" class=\"dataframe\">\n",
              "  <thead>\n",
              "    <tr style=\"text-align: right;\">\n",
              "      <th></th>\n",
              "      <th>A</th>\n",
              "      <th>B</th>\n",
              "      <th>C</th>\n",
              "      <th>D</th>\n",
              "      <th>E</th>\n",
              "      <th>F</th>\n",
              "    </tr>\n",
              "  </thead>\n",
              "  <tbody>\n",
              "    <tr>\n",
              "      <th>0</th>\n",
              "      <td>3</td>\n",
              "      <td>4</td>\n",
              "      <td>7</td>\n",
              "      <td>1</td>\n",
              "      <td>3</td>\n",
              "      <td>5</td>\n",
              "    </tr>\n",
              "    <tr>\n",
              "      <th>1</th>\n",
              "      <td>8</td>\n",
              "      <td>8</td>\n",
              "      <td>2</td>\n",
              "      <td>1</td>\n",
              "      <td>3</td>\n",
              "      <td>8</td>\n",
              "    </tr>\n",
              "    <tr>\n",
              "      <th>2</th>\n",
              "      <td>9</td>\n",
              "      <td>1</td>\n",
              "      <td>1</td>\n",
              "      <td>6</td>\n",
              "      <td>8</td>\n",
              "      <td>1</td>\n",
              "    </tr>\n",
              "    <tr>\n",
              "      <th>3</th>\n",
              "      <td>7</td>\n",
              "      <td>5</td>\n",
              "      <td>3</td>\n",
              "      <td>7</td>\n",
              "      <td>9</td>\n",
              "      <td>5</td>\n",
              "    </tr>\n",
              "  </tbody>\n",
              "</table>\n",
              "</div>"
            ],
            "text/plain": [
              "   A  B  C  D  E  F\n",
              "0  3  4  7  1  3  5\n",
              "1  8  8  2  1  3  8\n",
              "2  9  1  1  6  8  1\n",
              "3  7  5  3  7  9  5"
            ]
          },
          "metadata": {
            "tags": []
          },
          "execution_count": 2
        }
      ]
    },
    {
      "cell_type": "code",
      "metadata": {
        "colab": {
          "base_uri": "https://localhost:8080/"
        },
        "id": "hX4wC6By4Plg",
        "outputId": "bd019cba-9b75-4ba1-9517-e5063791e50e"
      },
      "source": [
        "df.mean()   #mean of columns"
      ],
      "execution_count": null,
      "outputs": [
        {
          "output_type": "execute_result",
          "data": {
            "text/plain": [
              "A    6.75\n",
              "B    4.50\n",
              "C    3.25\n",
              "D    3.75\n",
              "E    5.75\n",
              "F    4.75\n",
              "dtype: float64"
            ]
          },
          "metadata": {
            "tags": []
          },
          "execution_count": 3
        }
      ]
    },
    {
      "cell_type": "code",
      "metadata": {
        "id": "RY5-LfeI4YpF"
      },
      "source": [
        "df.mean(1)    # mean of rows, axis=1"
      ],
      "execution_count": null,
      "outputs": []
    },
    {
      "cell_type": "code",
      "metadata": {
        "colab": {
          "base_uri": "https://localhost:8080/",
          "height": 359
        },
        "id": "Rye36HWi4fWz",
        "outputId": "6a8b5383-fed8-4799-8c84-6d0da5668db8"
      },
      "source": [
        "import random\n",
        "emp = pd.DataFrame()\n",
        "emp[\"id\"]=np.arange(100,110)\n",
        "emp[\"dept\"] = np.random.choice([\"HR\",\"FIN\",\"MKT\",\"IT\"],size=(10,)) #The choice() method returns a list with the randomly selected element from the specified sequence.\n",
        "emp[\"sal\"] = np.random.randint(low=1000, high=10000, size=(10,))\n",
        "emp"
      ],
      "execution_count": null,
      "outputs": [
        {
          "output_type": "execute_result",
          "data": {
            "text/html": [
              "<div>\n",
              "<style scoped>\n",
              "    .dataframe tbody tr th:only-of-type {\n",
              "        vertical-align: middle;\n",
              "    }\n",
              "\n",
              "    .dataframe tbody tr th {\n",
              "        vertical-align: top;\n",
              "    }\n",
              "\n",
              "    .dataframe thead th {\n",
              "        text-align: right;\n",
              "    }\n",
              "</style>\n",
              "<table border=\"1\" class=\"dataframe\">\n",
              "  <thead>\n",
              "    <tr style=\"text-align: right;\">\n",
              "      <th></th>\n",
              "      <th>id</th>\n",
              "      <th>dept</th>\n",
              "      <th>sal</th>\n",
              "    </tr>\n",
              "  </thead>\n",
              "  <tbody>\n",
              "    <tr>\n",
              "      <th>0</th>\n",
              "      <td>100</td>\n",
              "      <td>IT</td>\n",
              "      <td>2430</td>\n",
              "    </tr>\n",
              "    <tr>\n",
              "      <th>1</th>\n",
              "      <td>101</td>\n",
              "      <td>IT</td>\n",
              "      <td>2678</td>\n",
              "    </tr>\n",
              "    <tr>\n",
              "      <th>2</th>\n",
              "      <td>102</td>\n",
              "      <td>FIN</td>\n",
              "      <td>6132</td>\n",
              "    </tr>\n",
              "    <tr>\n",
              "      <th>3</th>\n",
              "      <td>103</td>\n",
              "      <td>MKT</td>\n",
              "      <td>9981</td>\n",
              "    </tr>\n",
              "    <tr>\n",
              "      <th>4</th>\n",
              "      <td>104</td>\n",
              "      <td>IT</td>\n",
              "      <td>9981</td>\n",
              "    </tr>\n",
              "    <tr>\n",
              "      <th>5</th>\n",
              "      <td>105</td>\n",
              "      <td>MKT</td>\n",
              "      <td>7488</td>\n",
              "    </tr>\n",
              "    <tr>\n",
              "      <th>6</th>\n",
              "      <td>106</td>\n",
              "      <td>HR</td>\n",
              "      <td>2179</td>\n",
              "    </tr>\n",
              "    <tr>\n",
              "      <th>7</th>\n",
              "      <td>107</td>\n",
              "      <td>IT</td>\n",
              "      <td>9322</td>\n",
              "    </tr>\n",
              "    <tr>\n",
              "      <th>8</th>\n",
              "      <td>108</td>\n",
              "      <td>HR</td>\n",
              "      <td>5385</td>\n",
              "    </tr>\n",
              "    <tr>\n",
              "      <th>9</th>\n",
              "      <td>109</td>\n",
              "      <td>MKT</td>\n",
              "      <td>1487</td>\n",
              "    </tr>\n",
              "  </tbody>\n",
              "</table>\n",
              "</div>"
            ],
            "text/plain": [
              "    id dept   sal\n",
              "0  100   IT  2430\n",
              "1  101   IT  2678\n",
              "2  102  FIN  6132\n",
              "3  103  MKT  9981\n",
              "4  104   IT  9981\n",
              "5  105  MKT  7488\n",
              "6  106   HR  2179\n",
              "7  107   IT  9322\n",
              "8  108   HR  5385\n",
              "9  109  MKT  1487"
            ]
          },
          "metadata": {
            "tags": []
          },
          "execution_count": 4
        }
      ]
    }
  ]
}