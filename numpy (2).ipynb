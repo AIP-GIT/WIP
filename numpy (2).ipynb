{
  "nbformat": 4,
  "nbformat_minor": 0,
  "metadata": {
    "colab": {
      "name": "numpy.ipynb",
      "provenance": [],
      "collapsed_sections": []
    },
    "kernelspec": {
      "name": "python3",
      "display_name": "Python 3"
    }
  },
  "cells": [
    {
      "cell_type": "markdown",
      "metadata": {
        "id": "6pqnw_biWO5m"
      },
      "source": [
        "Basic of numpy"
      ]
    },
    {
      "cell_type": "code",
      "metadata": {
        "colab": {
          "base_uri": "https://localhost:8080/"
        },
        "id": "7LfXi2YxWlgs",
        "outputId": "12fb331b-829f-404d-b623-dba5fdb0312b"
      },
      "source": [
        "import numpy as np\r\n",
        "a = np.arange(6)#specify range of number\r\n",
        "print(a)"
      ],
      "execution_count": null,
      "outputs": [
        {
          "output_type": "stream",
          "text": [
            "[0 1 2 3 4 5]\n"
          ],
          "name": "stdout"
        }
      ]
    },
    {
      "cell_type": "code",
      "metadata": {
        "colab": {
          "base_uri": "https://localhost:8080/"
        },
        "id": "C-IRe9Q_yr4o",
        "outputId": "9c4f8ccf-a4ef-4c74-d9c7-4a103d2b2c32"
      },
      "source": [
        "a.shape #gives the shape of array"
      ],
      "execution_count": null,
      "outputs": [
        {
          "output_type": "execute_result",
          "data": {
            "text/plain": [
              "(6,)"
            ]
          },
          "metadata": {
            "tags": []
          },
          "execution_count": 4
        }
      ]
    },
    {
      "cell_type": "code",
      "metadata": {
        "colab": {
          "base_uri": "https://localhost:8080/"
        },
        "id": "-w2o6Op_yZYS",
        "outputId": "e0ea3cce-238b-4767-c588-89b71328e4e5"
      },
      "source": [
        "a2 = a[np.newaxis, :]# np.newaxis to add a new axis:\r\n",
        "print(a2)\r\n"
      ],
      "execution_count": null,
      "outputs": [
        {
          "output_type": "stream",
          "text": [
            "[[0 1 2 3 4 5]]\n"
          ],
          "name": "stdout"
        }
      ]
    },
    {
      "cell_type": "code",
      "metadata": {
        "colab": {
          "base_uri": "https://localhost:8080/"
        },
        "id": "kIpBY3Ceyn7F",
        "outputId": "6a976ff7-4dcd-4ab4-d564-22bd3956d771"
      },
      "source": [
        "print(a2.shape)#define shape of array"
      ],
      "execution_count": null,
      "outputs": [
        {
          "output_type": "stream",
          "text": [
            "(1, 6)\n"
          ],
          "name": "stdout"
        }
      ]
    },
    {
      "cell_type": "code",
      "metadata": {
        "colab": {
          "base_uri": "https://localhost:8080/"
        },
        "id": "COBGIRsey9JS",
        "outputId": "36f83548-a5fa-4b18-e50e-aece3ef9c92f"
      },
      "source": [
        "a = np.array([1, 2, 3, 4, 5, 6])#simply print number present in arary\r\n",
        "print(a)"
      ],
      "execution_count": null,
      "outputs": [
        {
          "output_type": "stream",
          "text": [
            "[1 2 3 4 5 6]\n"
          ],
          "name": "stdout"
        }
      ]
    },
    {
      "cell_type": "code",
      "metadata": {
        "colab": {
          "base_uri": "https://localhost:8080/"
        },
        "id": "kSZ4lnK70P1m",
        "outputId": "37d1119c-5b80-4c5a-8d31-da01e72c99ed"
      },
      "source": [
        "a = np.array([[1, 2, 3, 4], [5, 6, 7, 8], [9, 10, 11, 12]])#convert into matrix\r\n",
        "print(a)"
      ],
      "execution_count": null,
      "outputs": [
        {
          "output_type": "stream",
          "text": [
            "[[ 1  2  3  4]\n",
            " [ 5  6  7  8]\n",
            " [ 9 10 11 12]]\n"
          ],
          "name": "stdout"
        }
      ]
    },
    {
      "cell_type": "code",
      "metadata": {
        "colab": {
          "base_uri": "https://localhost:8080/"
        },
        "id": "mUtsduUWz1zX",
        "outputId": "de7b6d1c-89a5-4681-dd3b-9fcd097a177e"
      },
      "source": [
        "a=[1, 2 , 3, 4]#define index value\r\n",
        "print(a[0])\r\n"
      ],
      "execution_count": null,
      "outputs": [
        {
          "output_type": "stream",
          "text": [
            "1\n"
          ],
          "name": "stdout"
        }
      ]
    },
    {
      "cell_type": "markdown",
      "metadata": {
        "id": "p7HvkQaX1NRv"
      },
      "source": [
        "This section covers 1D array, 2D array, ndarray, vector, matrix"
      ]
    },
    {
      "cell_type": "code",
      "metadata": {
        "id": "w1Psvne_0r-a"
      },
      "source": [
        " #two dimensional\r\n",
        " [[0., 0., 0.],\r\n",
        " [1., 1., 1.]] #n NumPy, dimensions are called axes. This means that if you have a 2D array that looks like this"
      ],
      "execution_count": null,
      "outputs": []
    },
    {
      "cell_type": "code",
      "metadata": {
        "id": "Z6ejagEN2gsA"
      },
      "source": [
        "import numpy as np\r\n",
        " a = np.array([1, 2, 3]) #To create a NumPy array, you can use the function np.array()."
      ],
      "execution_count": null,
      "outputs": []
    },
    {
      "cell_type": "code",
      "metadata": {
        "colab": {
          "base_uri": "https://localhost:8080/"
        },
        "id": "QgS55sxX38s-",
        "outputId": "989dbba3-8ee9-4a28-91c9-9fd38a8b869d"
      },
      "source": [
        "a=np.zeros(2)#print 0\r\n",
        "print(a)"
      ],
      "execution_count": null,
      "outputs": [
        {
          "output_type": "stream",
          "text": [
            "[0. 0.]\n"
          ],
          "name": "stdout"
        }
      ]
    },
    {
      "cell_type": "code",
      "metadata": {
        "colab": {
          "base_uri": "https://localhost:8080/"
        },
        "id": "JRxTW1rb3-RR",
        "outputId": "90613480-ed03-4eae-c054-0d7e4f45c336"
      },
      "source": [
        "a=np.ones(2)\r\n",
        "print(a)"
      ],
      "execution_count": null,
      "outputs": [
        {
          "output_type": "stream",
          "text": [
            "[1. 1.]\n"
          ],
          "name": "stdout"
        }
      ]
    },
    {
      "cell_type": "code",
      "metadata": {
        "colab": {
          "base_uri": "https://localhost:8080/"
        },
        "id": "RWaMepN54X-S",
        "outputId": "063ee258-d158-4edf-e58a-e2ec9b4411ef"
      },
      "source": [
        "a=np.empty(6) # crete an empty ndarray with  some random data\r\n",
        "print(a)\r\n"
      ],
      "execution_count": null,
      "outputs": [
        {
          "output_type": "stream",
          "text": [
            "[4.9e-324 9.9e-324 1.5e-323 2.0e-323 2.5e-323 3.0e-323]\n"
          ],
          "name": "stdout"
        }
      ]
    },
    {
      "cell_type": "code",
      "metadata": {
        "colab": {
          "base_uri": "https://localhost:8080/"
        },
        "id": "puRdEAKY4rSf",
        "outputId": "10d50db7-24ce-432f-a423-6eac5257f189"
      },
      "source": [
        "np.arange(2, 9, 2) # specify the number within 9 and with difference of 2"
      ],
      "execution_count": null,
      "outputs": [
        {
          "output_type": "execute_result",
          "data": {
            "text/plain": [
              "array([2, 4, 6, 8])"
            ]
          },
          "metadata": {
            "tags": []
          },
          "execution_count": 25
        }
      ]
    },
    {
      "cell_type": "code",
      "metadata": {
        "colab": {
          "base_uri": "https://localhost:8080/"
        },
        "id": "O-kduTeM59fu",
        "outputId": "b0b3b18d-4fd2-42fc-99c7-2ddcf352cfc1"
      },
      "source": [
        "np.empty(2)#daut"
      ],
      "execution_count": null,
      "outputs": [
        {
          "output_type": "execute_result",
          "data": {
            "text/plain": [
              "array([1., 1.])"
            ]
          },
          "metadata": {
            "tags": []
          },
          "execution_count": 27
        }
      ]
    },
    {
      "cell_type": "code",
      "metadata": {
        "colab": {
          "base_uri": "https://localhost:8080/"
        },
        "id": "l4xc4iby6IUi",
        "outputId": "f6660506-a856-4174-fe0a-151ec991de5a"
      },
      "source": [
        "np.linspace(0, 10, num=5) #create an array with values that are spaced linearly in a specified interval:"
      ],
      "execution_count": null,
      "outputs": [
        {
          "output_type": "execute_result",
          "data": {
            "text/plain": [
              "array([ 0. ,  2.5,  5. ,  7.5, 10. ])"
            ]
          },
          "metadata": {
            "tags": []
          },
          "execution_count": 28
        }
      ]
    },
    {
      "cell_type": "code",
      "metadata": {
        "colab": {
          "base_uri": "https://localhost:8080/"
        },
        "id": "WTVb4ZX67H3b",
        "outputId": "d67d3b56-91f4-4bbd-f85a-8f9bdb045436"
      },
      "source": [
        "x = np.ones(2, dtype=np.int64) #you can explicitly specify which data type you want using the dtype keyword.\r\n",
        "print(x)"
      ],
      "execution_count": null,
      "outputs": [
        {
          "output_type": "stream",
          "text": [
            "[1 1]\n"
          ],
          "name": "stdout"
        }
      ]
    },
    {
      "cell_type": "markdown",
      "metadata": {
        "id": "d6TCBI-2721i"
      },
      "source": [
        "Adding, removing, and sorting elements"
      ]
    },
    {
      "cell_type": "code",
      "metadata": {
        "id": "igU0pDtH6rSj"
      },
      "source": [
        "arr = np.array([2, 1, 5, 3, 7, 4, 6, 8])"
      ],
      "execution_count": null,
      "outputs": []
    },
    {
      "cell_type": "code",
      "metadata": {
        "colab": {
          "base_uri": "https://localhost:8080/"
        },
        "id": "s61ed2_i9K5s",
        "outputId": "f55399a7-2630-4b55-abb7-f7904c545f16"
      },
      "source": [
        "np.sort(arr) #sort the numbers in ascending order "
      ],
      "execution_count": null,
      "outputs": [
        {
          "output_type": "execute_result",
          "data": {
            "text/plain": [
              "array([1, 2, 3, 4, 5, 6, 7, 8])"
            ]
          },
          "metadata": {
            "tags": []
          },
          "execution_count": 32
        }
      ]
    },
    {
      "cell_type": "code",
      "metadata": {
        "id": "t0Di_7VR97I0"
      },
      "source": [
        ""
      ],
      "execution_count": null,
      "outputs": []
    },
    {
      "cell_type": "markdown",
      "metadata": {
        "id": "aGkXOI6U9r9e"
      },
      "source": [
        "\r\n",
        "#argsort - works with real/complex arrays containing nan values"
      ]
    },
    {
      "cell_type": "code",
      "metadata": {
        "colab": {
          "base_uri": "https://localhost:8080/"
        },
        "id": "544yd0ZT9pkf",
        "outputId": "9dd1b0d8-29c7-4fa3-9552-282f9e79bbee"
      },
      "source": [
        "#one dimension\r\n",
        "import numpy as np\r\n",
        "x = np.array([3, 1, 2]) #numpy.argsort(a, axis=-1, kind=None, order=None)\r\n",
        "np.argsort(x)\r\n"
      ],
      "execution_count": null,
      "outputs": [
        {
          "output_type": "execute_result",
          "data": {
            "text/plain": [
              "array([1, 2, 0])"
            ]
          },
          "metadata": {
            "tags": []
          },
          "execution_count": 2
        }
      ]
    },
    {
      "cell_type": "code",
      "metadata": {
        "colab": {
          "base_uri": "https://localhost:8080/"
        },
        "id": "lx2p9f6cCAMO",
        "outputId": "cf5d9157-8776-4e35-cef4-1a1ffd1440c9"
      },
      "source": [
        "#twodimension\r\n",
        "\r\n",
        "x = np.array([[0, 3], [2, 2]])\r\n",
        "x"
      ],
      "execution_count": null,
      "outputs": [
        {
          "output_type": "execute_result",
          "data": {
            "text/plain": [
              "array([[0, 3],\n",
              "       [2, 2]])"
            ]
          },
          "metadata": {
            "tags": []
          },
          "execution_count": 3
        }
      ]
    },
    {
      "cell_type": "code",
      "metadata": {
        "colab": {
          "base_uri": "https://localhost:8080/"
        },
        "id": "f5H-gOW7CvvL",
        "outputId": "23f6e837-2ddb-4758-b2f1-d964746f51e7"
      },
      "source": [
        "ind = np.argsort(x, axis=0)  # sorts along first axis (down)\r\n",
        "ind"
      ],
      "execution_count": null,
      "outputs": [
        {
          "output_type": "execute_result",
          "data": {
            "text/plain": [
              "array([[0, 1],\n",
              "       [1, 0]])"
            ]
          },
          "metadata": {
            "tags": []
          },
          "execution_count": 4
        }
      ]
    },
    {
      "cell_type": "code",
      "metadata": {
        "colab": {
          "base_uri": "https://localhost:8080/"
        },
        "id": "L-XKbphwC3nR",
        "outputId": "c48dfc43-2cf1-4e19-ef64-885c99bb0d8a"
      },
      "source": [
        "np.take_along_axis(x, ind, axis=0)  # same as np.sort(x, axis=0)#daut"
      ],
      "execution_count": null,
      "outputs": [
        {
          "output_type": "execute_result",
          "data": {
            "text/plain": [
              "array([[0, 2],\n",
              "       [2, 3]])"
            ]
          },
          "metadata": {
            "tags": []
          },
          "execution_count": 5
        }
      ]
    },
    {
      "cell_type": "code",
      "metadata": {
        "colab": {
          "base_uri": "https://localhost:8080/"
        },
        "id": "wUSwtBJpDONM",
        "outputId": "52f0e0e8-02b7-4647-9e9d-d6fe6fae7d95"
      },
      "source": [
        "ind = np.argsort(x, axis=1)  # sorts along last axis (across)\r\n",
        "ind"
      ],
      "execution_count": null,
      "outputs": [
        {
          "output_type": "execute_result",
          "data": {
            "text/plain": [
              "array([[0, 1],\n",
              "       [0, 1]])"
            ]
          },
          "metadata": {
            "tags": []
          },
          "execution_count": 6
        }
      ]
    },
    {
      "cell_type": "code",
      "metadata": {
        "colab": {
          "base_uri": "https://localhost:8080/"
        },
        "id": "yS-NHCANDXnF",
        "outputId": "6ae1ad55-55c0-4171-a7fa-744b116abe6e"
      },
      "source": [
        "np.take_along_axis(x, ind, axis=1)  # same as np.sort(x, axis=1)"
      ],
      "execution_count": null,
      "outputs": [
        {
          "output_type": "execute_result",
          "data": {
            "text/plain": [
              "array([[0, 3],\n",
              "       [2, 2]])"
            ]
          },
          "metadata": {
            "tags": []
          },
          "execution_count": 7
        }
      ]
    },
    {
      "cell_type": "code",
      "metadata": {
        "colab": {
          "base_uri": "https://localhost:8080/"
        },
        "id": "sn12-X7UDnCs",
        "outputId": "ece4b18e-1745-491f-d632-d3bbaa1cfc51"
      },
      "source": [
        "ind = np.unravel_index(np.argsort(x, axis=None), x.shape)#daut\r\n",
        "ind"
      ],
      "execution_count": null,
      "outputs": [
        {
          "output_type": "execute_result",
          "data": {
            "text/plain": [
              "(array([0, 1, 1, 0]), array([0, 0, 1, 1]))"
            ]
          },
          "metadata": {
            "tags": []
          },
          "execution_count": 8
        }
      ]
    },
    {
      "cell_type": "code",
      "metadata": {
        "colab": {
          "base_uri": "https://localhost:8080/"
        },
        "id": "Fy5PK3hzDxXr",
        "outputId": "842808be-0089-4079-c93b-f4be846bf61a"
      },
      "source": [
        "x[ind]  # same as np.sort(x, axis=None)\r\n"
      ],
      "execution_count": null,
      "outputs": [
        {
          "output_type": "execute_result",
          "data": {
            "text/plain": [
              "array([0, 2, 2, 3])"
            ]
          },
          "metadata": {
            "tags": []
          },
          "execution_count": 10
        }
      ]
    },
    {
      "cell_type": "code",
      "metadata": {
        "colab": {
          "base_uri": "https://localhost:8080/"
        },
        "id": "zKmJ9G7JD-Yr",
        "outputId": "d7ee5ef0-9e97-4ee1-862d-786f8e8b73a4"
      },
      "source": [
        "#Sorting with keys:\r\n",
        "\r\n",
        "x = np.array([(1, 0), (0, 1)], dtype=[('x', '<i4'), ('y', '<i4')])\r\n",
        "x"
      ],
      "execution_count": null,
      "outputs": [
        {
          "output_type": "execute_result",
          "data": {
            "text/plain": [
              "array([(1, 0), (0, 1)], dtype=[('x', '<i4'), ('y', '<i4')])"
            ]
          },
          "metadata": {
            "tags": []
          },
          "execution_count": 11
        }
      ]
    },
    {
      "cell_type": "code",
      "metadata": {
        "colab": {
          "base_uri": "https://localhost:8080/"
        },
        "id": "HEpWb-v6EUO0",
        "outputId": "26233d9a-b3c9-472c-d346-c17c07d2abf7"
      },
      "source": [
        "np.argsort(x, order=('x','y'))"
      ],
      "execution_count": null,
      "outputs": [
        {
          "output_type": "execute_result",
          "data": {
            "text/plain": [
              "array([1, 0])"
            ]
          },
          "metadata": {
            "tags": []
          },
          "execution_count": 12
        }
      ]
    },
    {
      "cell_type": "markdown",
      "metadata": {
        "id": "U2sg60HYHFVv"
      },
      "source": [
        "#lexsort"
      ]
    },
    {
      "cell_type": "code",
      "metadata": {
        "colab": {
          "base_uri": "https://localhost:8080/"
        },
        "id": "RT_M8RhhCuVw",
        "outputId": "2499d41c-c9b4-4de8-9c98-8851ba909f32"
      },
      "source": [
        "surnames =    ('Hertz',    'Galilei', 'Hertz')#daut\r\n",
        "first_names = ('Heinrich', 'Galileo', 'Gustav')\r\n",
        "ind = np.lexsort((first_names, surnames))\r\n",
        "ind\r\n"
      ],
      "execution_count": null,
      "outputs": [
        {
          "output_type": "execute_result",
          "data": {
            "text/plain": [
              "array([1, 2, 0])"
            ]
          },
          "metadata": {
            "tags": []
          },
          "execution_count": 15
        }
      ]
    },
    {
      "cell_type": "code",
      "metadata": {
        "id": "P-6-Rlpv92Yg",
        "colab": {
          "base_uri": "https://localhost:8080/"
        },
        "outputId": "a0d414a4-1235-47c9-cc9e-1f7f6f88e987"
      },
      "source": [
        "[surnames[i] + \", \" + first_names[i] for i in ind]#daut"
      ],
      "execution_count": null,
      "outputs": [
        {
          "output_type": "execute_result",
          "data": {
            "text/plain": [
              "['Galilei, Galileo', 'Hertz, Gustav', 'Hertz, Heinrich']"
            ]
          },
          "metadata": {
            "tags": []
          },
          "execution_count": 16
        }
      ]
    },
    {
      "cell_type": "code",
      "metadata": {
        "colab": {
          "base_uri": "https://localhost:8080/"
        },
        "id": "O_1zkseZHrw-",
        "outputId": "a79b8982-26ba-49d6-a820-d0423348a004"
      },
      "source": [
        "#Sort two columns of numbers:\r\n",
        "\r\n",
        "\r\n",
        "a = [1,5,1,4,3,4,4] # First column\r\n",
        "b = [9,4,0,4,0,2,1] # Second column\r\n",
        "ind = np.lexsort((b,a)) # Sort by a, then by b\r\n",
        "ind"
      ],
      "execution_count": null,
      "outputs": [
        {
          "output_type": "execute_result",
          "data": {
            "text/plain": [
              "array([2, 0, 4, 6, 5, 3, 1])"
            ]
          },
          "metadata": {
            "tags": []
          },
          "execution_count": 17
        }
      ]
    },
    {
      "cell_type": "code",
      "metadata": {
        "colab": {
          "base_uri": "https://localhost:8080/"
        },
        "id": "Px3dlm8oH0F8",
        "outputId": "c37e917f-09ba-4c74-8519-28576ec099a6"
      },
      "source": [
        "[(a[i],b[i]) for i in ind]#daut"
      ],
      "execution_count": null,
      "outputs": [
        {
          "output_type": "execute_result",
          "data": {
            "text/plain": [
              "[(1, 0), (1, 9), (3, 0), (4, 1), (4, 2), (4, 4), (5, 4)]"
            ]
          },
          "metadata": {
            "tags": []
          },
          "execution_count": 18
        }
      ]
    },
    {
      "cell_type": "markdown",
      "metadata": {
        "id": "f1z765JdpCEt"
      },
      "source": [
        "numpy.searchsorted"
      ]
    },
    {
      "cell_type": "code",
      "metadata": {
        "id": "Y1XAaGQvIOvX",
        "colab": {
          "base_uri": "https://localhost:8080/"
        },
        "outputId": "b825660e-03cd-47da-c2f2-50e599047936"
      },
      "source": [
        "import numpy as np#daut\r\n",
        "\r\n",
        "np.searchsorted([1,2,3,4,5], 3)"
      ],
      "execution_count": null,
      "outputs": [
        {
          "output_type": "execute_result",
          "data": {
            "text/plain": [
              "2"
            ]
          },
          "metadata": {
            "tags": []
          },
          "execution_count": 2
        }
      ]
    },
    {
      "cell_type": "code",
      "metadata": {
        "colab": {
          "base_uri": "https://localhost:8080/"
        },
        "id": "XYEXgb9vpE6I",
        "outputId": "95cab570-237e-476c-d4df-5c9c21994889"
      },
      "source": [
        "np.searchsorted([1,2,3,4,5], 3, side='right')#daut"
      ],
      "execution_count": null,
      "outputs": [
        {
          "output_type": "execute_result",
          "data": {
            "text/plain": [
              "2"
            ]
          },
          "metadata": {
            "tags": []
          },
          "execution_count": 15
        }
      ]
    },
    {
      "cell_type": "code",
      "metadata": {
        "colab": {
          "base_uri": "https://localhost:8080/"
        },
        "id": "c9RaJ8G6po2k",
        "outputId": "3fc52a19-15b4-4875-b970-af4150012fea"
      },
      "source": [
        "np.searchsorted([1,2,3,4,5], [-10, 10, 2, 3])#daut"
      ],
      "execution_count": null,
      "outputs": [
        {
          "output_type": "execute_result",
          "data": {
            "text/plain": [
              "array([0, 5, 1, 2])"
            ]
          },
          "metadata": {
            "tags": []
          },
          "execution_count": 4
        }
      ]
    },
    {
      "cell_type": "markdown",
      "metadata": {
        "id": "kt2fSX8aq9sr"
      },
      "source": [
        "#Numpy partition"
      ]
    },
    {
      "cell_type": "code",
      "metadata": {
        "colab": {
          "base_uri": "https://localhost:8080/"
        },
        "id": "UVjfx30xpvPT",
        "outputId": "9be00195-4cf1-4557-82ce-da563f6eabc2"
      },
      "source": [
        "a = np.array([3, 4, 2, 1])#daut\r\n",
        "np.partition(a, 3)"
      ],
      "execution_count": null,
      "outputs": [
        {
          "output_type": "execute_result",
          "data": {
            "text/plain": [
              "array([2, 1, 3, 4])"
            ]
          },
          "metadata": {
            "tags": []
          },
          "execution_count": 5
        }
      ]
    },
    {
      "cell_type": "code",
      "metadata": {
        "colab": {
          "base_uri": "https://localhost:8080/"
        },
        "id": "Nb1lhROZq8RO",
        "outputId": "159e1d3b-d5ac-4209-c49d-2541326a5b8a"
      },
      "source": [
        "np.partition(a, (1, 3))#daut"
      ],
      "execution_count": null,
      "outputs": [
        {
          "output_type": "execute_result",
          "data": {
            "text/plain": [
              "array([1, 2, 3, 4])"
            ]
          },
          "metadata": {
            "tags": []
          },
          "execution_count": 6
        }
      ]
    },
    {
      "cell_type": "markdown",
      "metadata": {
        "id": "79M3w5JWsBYA"
      },
      "source": [
        "#numpy argpartition"
      ]
    },
    {
      "cell_type": "code",
      "metadata": {
        "colab": {
          "base_uri": "https://localhost:8080/"
        },
        "id": "grXDXjfkrI1a",
        "outputId": "8c3bee89-0d11-44ee-8ded-dbc2644363cf"
      },
      "source": [
        "#one dimensional\r\n",
        "x = np.array([3, 4, 2, 1])#daut\r\n",
        "x[np.argpartition(x, 3)]"
      ],
      "execution_count": null,
      "outputs": [
        {
          "output_type": "execute_result",
          "data": {
            "text/plain": [
              "array([2, 1, 3, 4])"
            ]
          },
          "metadata": {
            "tags": []
          },
          "execution_count": 7
        }
      ]
    },
    {
      "cell_type": "code",
      "metadata": {
        "colab": {
          "base_uri": "https://localhost:8080/"
        },
        "id": "0AllVF00sY9Z",
        "outputId": "053669e4-d63f-42df-e927-b6fa7146f54b"
      },
      "source": [
        "#multi-dimentional\r\n",
        "x = np.array([[3, 4, 2], [1, 3, 1]])#daut\r\n",
        "index_array = np.argpartition(x, kth=1, axis=-1)\r\n",
        "np.take_along_axis(x, index_array, axis=-1)  # same as np.partition(x, kth=1)"
      ],
      "execution_count": null,
      "outputs": [
        {
          "output_type": "execute_result",
          "data": {
            "text/plain": [
              "array([[2, 3, 4],\n",
              "       [1, 1, 3]])"
            ]
          },
          "metadata": {
            "tags": []
          },
          "execution_count": 8
        }
      ]
    },
    {
      "cell_type": "markdown",
      "metadata": {
        "id": "fZQTeLNZWCWr"
      },
      "source": [
        "#numpy partition"
      ]
    },
    {
      "cell_type": "code",
      "metadata": {
        "id": "NAvVX0J8sJqn",
        "colab": {
          "base_uri": "https://localhost:8080/"
        },
        "outputId": "69b740c4-cc0e-4b1e-f82d-e7d96fdc40cb"
      },
      "source": [
        "import numpy as np\r\n",
        "a = np.array([3, 4, 2, 1])\r\n",
        "np.partition(a, 3)"
      ],
      "execution_count": null,
      "outputs": [
        {
          "output_type": "execute_result",
          "data": {
            "text/plain": [
              "array([2, 1, 3, 4])"
            ]
          },
          "metadata": {
            "tags": []
          },
          "execution_count": 4
        }
      ]
    },
    {
      "cell_type": "code",
      "metadata": {
        "colab": {
          "base_uri": "https://localhost:8080/"
        },
        "id": "ZPsnP6uiVoah",
        "outputId": "d4afa0ed-0fe0-4b44-d3fe-5344dff92c7b"
      },
      "source": [
        "import numpy as np \r\n",
        "np.partition(a, (1, 3))"
      ],
      "execution_count": null,
      "outputs": [
        {
          "output_type": "execute_result",
          "data": {
            "text/plain": [
              "array([1, 2, 3, 4])"
            ]
          },
          "metadata": {
            "tags": []
          },
          "execution_count": 6
        }
      ]
    },
    {
      "cell_type": "code",
      "metadata": {
        "id": "HRa5S4ORVgMo"
      },
      "source": [
        "a = np.array([1, 2, 3, 4])\r\n",
        "b = np.array([5, 6, 7, 8])"
      ],
      "execution_count": null,
      "outputs": []
    },
    {
      "cell_type": "code",
      "metadata": {
        "colab": {
          "base_uri": "https://localhost:8080/"
        },
        "id": "VkhC3IRVXKig",
        "outputId": "fadf736f-2d94-4d79-b818-c30670faefa1"
      },
      "source": [
        "np.concatenate((a, b))#concatenate two array\r\n"
      ],
      "execution_count": null,
      "outputs": [
        {
          "output_type": "execute_result",
          "data": {
            "text/plain": [
              "array([1, 2, 3, 4, 5, 6, 7, 8])"
            ]
          },
          "metadata": {
            "tags": []
          },
          "execution_count": 10
        }
      ]
    },
    {
      "cell_type": "code",
      "metadata": {
        "id": "VLtM4DLBXStz"
      },
      "source": [
        ""
      ],
      "execution_count": null,
      "outputs": []
    }
  ]
}